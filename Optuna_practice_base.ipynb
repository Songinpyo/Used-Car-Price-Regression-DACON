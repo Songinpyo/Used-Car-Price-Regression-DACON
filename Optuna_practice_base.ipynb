{
 "cells": [
  {
   "cell_type": "code",
   "execution_count": 1,
   "outputs": [],
   "source": [
    "# This is file for train, prediction\n",
    "\n",
    "import pandas as pd\n",
    "\n",
    "dirpath = 'C:/Users/rihot/Desktop/Deep_learning/DACON_used_car_price/'\n",
    "\n",
    "train = pd.read_csv('data/preprocessed_train.csv')\n",
    "test = pd.read_csv('data/preprocessed_test.csv')"
   ],
   "metadata": {
    "collapsed": false,
    "pycharm": {
     "name": "#%%\n"
    }
   }
  },
  {
   "cell_type": "code",
   "execution_count": 2,
   "outputs": [],
   "source": [
    "Y = train[ ['target'] ].values\n",
    "X = train[ ['title', 'odometer', 'location', 'isimported', 'engine', 'transmission', 'fuel', 'paint', 'year', 'brand' ] ].values\n",
    "\n",
    "X_test = test[ ['title', 'odometer', 'location', 'isimported', 'engine', 'transmission', 'fuel', 'paint', 'year', 'brand' ] ].values"
   ],
   "metadata": {
    "collapsed": false,
    "pycharm": {
     "name": "#%%\n"
    }
   }
  },
  {
   "cell_type": "code",
   "execution_count": 3,
   "outputs": [],
   "source": [
    "from sklearn.preprocessing import MinMaxScaler\n",
    "\n",
    "scalerX = MinMaxScaler()\n",
    "scalerX.fit(X)\n",
    "X = scalerX.transform(X)\n",
    "X_test = scalerX.transform(X_test)\n",
    "\n",
    "scalerY = MinMaxScaler()\n",
    "scalerY.fit(Y)\n",
    "Y = scalerY.transform(Y)"
   ],
   "metadata": {
    "collapsed": false,
    "pycharm": {
     "name": "#%%\n"
    }
   }
  },
  {
   "cell_type": "code",
   "execution_count": 6,
   "outputs": [],
   "source": [
    "from sklearn.metrics import mean_squared_error\n",
    "from sklearn.model_selection import train_test_split\n",
    "import optuna\n",
    "from optuna import Trial\n",
    "import xgboost as xgb\n",
    "\n",
    "def objectiveXGB(trial : Trial, X, Y, test):\n",
    "    param = {\n",
    "        \"n_estimators\" : trial.suggest_int('n_estimators', 200, 2000),  # 생성할 의사 결정 나무 개수 보통 다다익선\n",
    "        'max_depth':trial.suggest_int('max_depth', 8, 16),  # 트리의 최대 깊이, 커질수록 모델은 복잡해지고 과적합 가능성\n",
    "        'min_child_weight':trial.suggest_int('min_child_weight', 1, 100),   # sum of instance weight (hessian)의 최솟값을 정의한다. 만약 leaf node의 sum of instance weight 가 이보다 작다면, 분기를 멈춘다. 클수록 보수적인 알고리즘\n",
    "        'gamma':trial.suggest_int('gamma', 1, 5),   # leaf node의 다음 분기를 만들기 위한 최소 loss reduction. 클수록 보수적\n",
    "        'learning_rate': trial.suggest_float('learning_rate', 0.0001, 0.01),\n",
    "        'colsample_bytree':trial.suggest_discrete_uniform('colsample_bytree',0.5, 1, 0.1),  # ratio of the training instance. 과적합 방지\n",
    "        'nthread' : -1, # thread 수, -1은 core 전부 활성화\n",
    "        'tree_method': 'hist',\n",
    "        'predictor': 'cpu_predictor',\n",
    "        'lambda': trial.suggest_loguniform('lambda', 1e-3, 10.0),   # L2 regularization\n",
    "        'alpha': trial.suggest_loguniform('alpha', 1e-3, 10.0), # L1 regulization\n",
    "        'subsample': trial.suggest_categorical('subsample', [0.6,0.7,0.8,1.0] ),\n",
    "        'random_state': 42\n",
    "    }\n",
    "    X_train, X_test, y_train, y_test = train_test_split(X, Y, test_size=0.2)\n",
    "\n",
    "    y_train = y_train.reshape(-1, 1)\n",
    "    y_test  = y_test.reshape(-1, 1)\n",
    "\n",
    "    model = xgb.XGBRegressor(**param)\n",
    "    xgb_model = model.fit(X_train, y_train, verbose=False, eval_set=[(X_test, y_test)])\n",
    "    score = mean_squared_error(xgb_model.predict(X_test), y_test, squared=False)\n",
    "\n",
    "    return score"
   ],
   "metadata": {
    "collapsed": false,
    "pycharm": {
     "name": "#%%\n"
    }
   }
  },
  {
   "cell_type": "code",
   "execution_count": 7,
   "outputs": [
    {
     "name": "stderr",
     "output_type": "stream",
     "text": [
      "\u001B[32m[I 2022-06-02 17:17:47,570]\u001B[0m A new study created in memory with name: no-name-9e68e1e7-19b7-43e3-bf17-2e5422e2e38a\u001B[0m\n",
      "\u001B[32m[I 2022-06-02 17:17:48,773]\u001B[0m Trial 0 finished with value: 0.06908933392982373 and parameters: {'n_estimators': 584, 'max_depth': 12, 'min_child_weight': 77, 'gamma': 1, 'learning_rate': 0.00913793118775631, 'colsample_bytree': 0.5, 'lambda': 2.6611472648665178, 'alpha': 0.0021738101767669903, 'subsample': 0.8}. Best is trial 0 with value: 0.06908933392982373.\u001B[0m\n",
      "\u001B[32m[I 2022-06-02 17:17:49,601]\u001B[0m Trial 1 finished with value: 0.2165073751821988 and parameters: {'n_estimators': 445, 'max_depth': 13, 'min_child_weight': 20, 'gamma': 4, 'learning_rate': 0.0017468228372165655, 'colsample_bytree': 0.9, 'lambda': 0.041786583136904386, 'alpha': 0.3357441273827223, 'subsample': 1.0}. Best is trial 0 with value: 0.06908933392982373.\u001B[0m\n",
      "\u001B[32m[I 2022-06-02 17:17:51,758]\u001B[0m Trial 2 finished with value: 0.10148546579991967 and parameters: {'n_estimators': 1168, 'max_depth': 8, 'min_child_weight': 53, 'gamma': 5, 'learning_rate': 0.004223988092563681, 'colsample_bytree': 0.9, 'lambda': 0.00419587019010295, 'alpha': 0.1024868964779102, 'subsample': 0.6}. Best is trial 0 with value: 0.06908933392982373.\u001B[0m\n",
      "\u001B[32m[I 2022-06-02 17:17:52,961]\u001B[0m Trial 3 finished with value: 0.13228052091192483 and parameters: {'n_estimators': 689, 'max_depth': 15, 'min_child_weight': 32, 'gamma': 5, 'learning_rate': 0.0020727545782176183, 'colsample_bytree': 0.9, 'lambda': 0.031619499294978856, 'alpha': 0.797088857479875, 'subsample': 1.0}. Best is trial 0 with value: 0.06908933392982373.\u001B[0m\n",
      "\u001B[32m[I 2022-06-02 17:17:55,476]\u001B[0m Trial 4 finished with value: 0.156520883998443 and parameters: {'n_estimators': 1409, 'max_depth': 8, 'min_child_weight': 50, 'gamma': 5, 'learning_rate': 0.0008681805433084689, 'colsample_bytree': 0.8, 'lambda': 0.09040692563187618, 'alpha': 0.9013749609335587, 'subsample': 0.7}. Best is trial 0 with value: 0.06908933392982373.\u001B[0m\n",
      "\u001B[32m[I 2022-06-02 17:17:56,320]\u001B[0m Trial 5 finished with value: 0.06981491049233415 and parameters: {'n_estimators': 457, 'max_depth': 11, 'min_child_weight': 57, 'gamma': 3, 'learning_rate': 0.008703943477856175, 'colsample_bytree': 0.5, 'lambda': 0.07103066165993899, 'alpha': 0.11853850146642278, 'subsample': 1.0}. Best is trial 0 with value: 0.06908933392982373.\u001B[0m\n",
      "\u001B[32m[I 2022-06-02 17:17:58,102]\u001B[0m Trial 6 finished with value: 0.10907354628558234 and parameters: {'n_estimators': 970, 'max_depth': 14, 'min_child_weight': 62, 'gamma': 5, 'learning_rate': 0.0020052675531244094, 'colsample_bytree': 0.5, 'lambda': 3.046332442512512, 'alpha': 0.07399000520233524, 'subsample': 0.6}. Best is trial 0 with value: 0.06908933392982373.\u001B[0m\n",
      "\u001B[32m[I 2022-06-02 17:18:00,383]\u001B[0m Trial 7 finished with value: 0.0866539608669195 and parameters: {'n_estimators': 1192, 'max_depth': 16, 'min_child_weight': 87, 'gamma': 5, 'learning_rate': 0.0050441363966612935, 'colsample_bytree': 1.0, 'lambda': 0.04339471450065345, 'alpha': 5.18066027349307, 'subsample': 0.6}. Best is trial 0 with value: 0.06908933392982373.\u001B[0m\n",
      "\u001B[32m[I 2022-06-02 17:18:01,821]\u001B[0m Trial 8 finished with value: 0.1381375661420031 and parameters: {'n_estimators': 604, 'max_depth': 15, 'min_child_weight': 39, 'gamma': 4, 'learning_rate': 0.002216747180539928, 'colsample_bytree': 0.8, 'lambda': 0.16977098580856323, 'alpha': 0.09585010671922217, 'subsample': 0.8}. Best is trial 0 with value: 0.06908933392982373.\u001B[0m\n",
      "\u001B[32m[I 2022-06-02 17:18:04,289]\u001B[0m Trial 9 finished with value: 0.08860316824061772 and parameters: {'n_estimators': 1052, 'max_depth': 8, 'min_child_weight': 25, 'gamma': 3, 'learning_rate': 0.004759911852961357, 'colsample_bytree': 0.5, 'lambda': 0.02524353382009353, 'alpha': 0.4996021072221243, 'subsample': 0.8}. Best is trial 0 with value: 0.06908933392982373.\u001B[0m\n",
      "\u001B[32m[I 2022-06-02 17:18:08,852]\u001B[0m Trial 10 finished with value: 0.09340082301837775 and parameters: {'n_estimators': 1715, 'max_depth': 11, 'min_child_weight': 100, 'gamma': 1, 'learning_rate': 0.009954547997952989, 'colsample_bytree': 0.6, 'lambda': 6.317244643450136, 'alpha': 0.0013642656185247717, 'subsample': 0.8}. Best is trial 0 with value: 0.06908933392982373.\u001B[0m\n",
      "\u001B[32m[I 2022-06-02 17:18:09,414]\u001B[0m Trial 11 finished with value: 0.09654207249780465 and parameters: {'n_estimators': 204, 'max_depth': 11, 'min_child_weight': 77, 'gamma': 1, 'learning_rate': 0.009237191380082579, 'colsample_bytree': 0.6, 'lambda': 0.6437828740916967, 'alpha': 0.004280899882253531, 'subsample': 1.0}. Best is trial 0 with value: 0.06908933392982373.\u001B[0m\n",
      "\u001B[32m[I 2022-06-02 17:18:10,118]\u001B[0m Trial 12 finished with value: 0.08756092587712444 and parameters: {'n_estimators': 256, 'max_depth': 11, 'min_child_weight': 69, 'gamma': 2, 'learning_rate': 0.007845657326488733, 'colsample_bytree': 0.6, 'lambda': 0.7491377590332869, 'alpha': 0.011593870251595096, 'subsample': 0.7}. Best is trial 0 with value: 0.06908933392982373.\u001B[0m\n",
      "\u001B[32m[I 2022-06-02 17:18:11,992]\u001B[0m Trial 13 finished with value: 0.0905423133265811 and parameters: {'n_estimators': 758, 'max_depth': 10, 'min_child_weight': 85, 'gamma': 2, 'learning_rate': 0.00822230972242199, 'colsample_bytree': 0.5, 'lambda': 0.004260559745326343, 'alpha': 0.015204070667990717, 'subsample': 1.0}. Best is trial 0 with value: 0.06908933392982373.\u001B[0m\n",
      "\u001B[32m[I 2022-06-02 17:18:13,336]\u001B[0m Trial 14 finished with value: 0.06974347777625475 and parameters: {'n_estimators': 474, 'max_depth': 13, 'min_child_weight': 8, 'gamma': 2, 'learning_rate': 0.007288800115663649, 'colsample_bytree': 0.7, 'lambda': 0.4780353655106804, 'alpha': 0.02553592057113146, 'subsample': 0.8}. Best is trial 0 with value: 0.06908933392982373.\u001B[0m\n",
      "\u001B[32m[I 2022-06-02 17:18:16,327]\u001B[0m Trial 15 finished with value: 0.09019885498546315 and parameters: {'n_estimators': 834, 'max_depth': 13, 'min_child_weight': 2, 'gamma': 2, 'learning_rate': 0.006786119709277073, 'colsample_bytree': 0.7, 'lambda': 1.214702627478859, 'alpha': 0.0010626972915747704, 'subsample': 0.8}. Best is trial 0 with value: 0.06908933392982373.\u001B[0m\n",
      "\u001B[32m[I 2022-06-02 17:18:17,632]\u001B[0m Trial 16 finished with value: 0.09623340461904886 and parameters: {'n_estimators': 466, 'max_depth': 13, 'min_child_weight': 2, 'gamma': 1, 'learning_rate': 0.006489631554235487, 'colsample_bytree': 0.7, 'lambda': 0.28942201705362236, 'alpha': 0.013873453914375769, 'subsample': 0.8}. Best is trial 0 with value: 0.06908933392982373.\u001B[0m\n",
      "\u001B[32m[I 2022-06-02 17:18:22,443]\u001B[0m Trial 17 finished with value: 0.08226155235104744 and parameters: {'n_estimators': 1872, 'max_depth': 12, 'min_child_weight': 14, 'gamma': 2, 'learning_rate': 0.006796782235306716, 'colsample_bytree': 0.7, 'lambda': 9.721184620905852, 'alpha': 0.004185078946176489, 'subsample': 0.8}. Best is trial 0 with value: 0.06908933392982373.\u001B[0m\n",
      "\u001B[32m[I 2022-06-02 17:18:25,852]\u001B[0m Trial 18 finished with value: 0.10802001020910051 and parameters: {'n_estimators': 1341, 'max_depth': 10, 'min_child_weight': 42, 'gamma': 1, 'learning_rate': 0.0061289516622777115, 'colsample_bytree': 0.6, 'lambda': 2.2830684374690953, 'alpha': 0.029899239863936874, 'subsample': 0.8}. Best is trial 0 with value: 0.06908933392982373.\u001B[0m\n",
      "\u001B[32m[I 2022-06-02 17:18:28,016]\u001B[0m Trial 19 finished with value: 0.07726380318105078 and parameters: {'n_estimators': 878, 'max_depth': 14, 'min_child_weight': 71, 'gamma': 3, 'learning_rate': 0.0037183388015031215, 'colsample_bytree': 0.8, 'lambda': 0.32150189226123427, 'alpha': 0.0035075429892631165, 'subsample': 0.8}. Best is trial 0 with value: 0.06908933392982373.\u001B[0m\n",
      "\u001B[32m[I 2022-06-02 17:18:29,587]\u001B[0m Trial 20 finished with value: 0.06567067986301257 and parameters: {'n_estimators': 602, 'max_depth': 12, 'min_child_weight': 89, 'gamma': 2, 'learning_rate': 0.007638365912582908, 'colsample_bytree': 0.7, 'lambda': 2.7523074303541497, 'alpha': 9.986597720869941, 'subsample': 0.7}. Best is trial 20 with value: 0.06567067986301257.\u001B[0m\n",
      "\u001B[32m[I 2022-06-02 17:18:31,141]\u001B[0m Trial 21 finished with value: 0.10594281260621755 and parameters: {'n_estimators': 577, 'max_depth': 12, 'min_child_weight': 95, 'gamma': 2, 'learning_rate': 0.0077389889136507475, 'colsample_bytree': 0.7, 'lambda': 2.8728212233689483, 'alpha': 5.328977881586649, 'subsample': 0.7}. Best is trial 20 with value: 0.06567067986301257.\u001B[0m\n",
      "\u001B[32m[I 2022-06-02 17:18:32,084]\u001B[0m Trial 22 finished with value: 0.07475582016326247 and parameters: {'n_estimators': 353, 'max_depth': 12, 'min_child_weight': 83, 'gamma': 1, 'learning_rate': 0.009640714344172704, 'colsample_bytree': 0.6, 'lambda': 1.716228751135912, 'alpha': 8.757798632330944, 'subsample': 0.7}. Best is trial 20 with value: 0.06567067986301257.\u001B[0m\n",
      "\u001B[32m[I 2022-06-02 17:18:33,632]\u001B[0m Trial 23 finished with value: 0.08583478956564596 and parameters: {'n_estimators': 626, 'max_depth': 14, 'min_child_weight': 91, 'gamma': 2, 'learning_rate': 0.007438384965294842, 'colsample_bytree': 0.7, 'lambda': 0.5997939826106693, 'alpha': 1.8342755886763655, 'subsample': 0.7}. Best is trial 20 with value: 0.06567067986301257.\u001B[0m\n",
      "\u001B[32m[I 2022-06-02 17:18:35,591]\u001B[0m Trial 24 finished with value: 0.10459939916744392 and parameters: {'n_estimators': 788, 'max_depth': 10, 'min_child_weight': 75, 'gamma': 3, 'learning_rate': 0.008794895466017912, 'colsample_bytree': 0.8, 'lambda': 4.588309069360015, 'alpha': 0.037796631084764276, 'subsample': 0.7}. Best is trial 20 with value: 0.06567067986301257.\u001B[0m\n",
      "\u001B[32m[I 2022-06-02 17:18:36,451]\u001B[0m Trial 25 finished with value: 0.11193407225717969 and parameters: {'n_estimators': 316, 'max_depth': 13, 'min_child_weight': 65, 'gamma': 1, 'learning_rate': 0.0058175870621912365, 'colsample_bytree': 1.0, 'lambda': 1.2841740237708712, 'alpha': 0.2361958444069074, 'subsample': 0.8}. Best is trial 20 with value: 0.06567067986301257.\u001B[0m\n",
      "\u001B[32m[I 2022-06-02 17:18:37,814]\u001B[0m Trial 26 finished with value: 0.07083369033789666 and parameters: {'n_estimators': 517, 'max_depth': 9, 'min_child_weight': 78, 'gamma': 2, 'learning_rate': 0.007281999982555673, 'colsample_bytree': 0.6, 'lambda': 0.22755855876407824, 'alpha': 0.002365615523883754, 'subsample': 0.8}. Best is trial 20 with value: 0.06567067986301257.\u001B[0m\n",
      "\u001B[32m[I 2022-06-02 17:18:38,811]\u001B[0m Trial 27 finished with value: 0.07414693516347211 and parameters: {'n_estimators': 385, 'max_depth': 12, 'min_child_weight': 100, 'gamma': 1, 'learning_rate': 0.008609155077233144, 'colsample_bytree': 0.7, 'lambda': 0.0013491271660873213, 'alpha': 0.027404522271757513, 'subsample': 0.7}. Best is trial 20 with value: 0.06567067986301257.\u001B[0m\n",
      "\u001B[32m[I 2022-06-02 17:18:41,599]\u001B[0m Trial 28 finished with value: 0.08854755631207908 and parameters: {'n_estimators': 970, 'max_depth': 12, 'min_child_weight': 11, 'gamma': 2, 'learning_rate': 0.005495747917624683, 'colsample_bytree': 0.5, 'lambda': 5.344259426113851, 'alpha': 0.007779188181997412, 'subsample': 0.6}. Best is trial 20 with value: 0.06567067986301257.\u001B[0m\n",
      "\u001B[32m[I 2022-06-02 17:18:43,453]\u001B[0m Trial 29 finished with value: 0.05931115787404527 and parameters: {'n_estimators': 711, 'max_depth': 13, 'min_child_weight': 46, 'gamma': 4, 'learning_rate': 0.009125757614171719, 'colsample_bytree': 0.9, 'lambda': 0.5350096505144432, 'alpha': 0.19867695067955093, 'subsample': 0.8}. Best is trial 29 with value: 0.05931115787404527.\u001B[0m\n",
      "\u001B[32m[I 2022-06-02 17:18:45,363]\u001B[0m Trial 30 finished with value: 0.06306169216153662 and parameters: {'n_estimators': 733, 'max_depth': 13, 'min_child_weight': 42, 'gamma': 4, 'learning_rate': 0.009330224598895976, 'colsample_bytree': 0.9, 'lambda': 1.0669541707849473, 'alpha': 1.91902840806823, 'subsample': 0.7}. Best is trial 29 with value: 0.05931115787404527.\u001B[0m\n",
      "\u001B[32m[I 2022-06-02 17:18:47,293]\u001B[0m Trial 31 finished with value: 0.07060550957072344 and parameters: {'n_estimators': 733, 'max_depth': 13, 'min_child_weight': 44, 'gamma': 4, 'learning_rate': 0.009305577850190351, 'colsample_bytree': 0.9, 'lambda': 1.0583522401354486, 'alpha': 3.2817476915280555, 'subsample': 0.7}. Best is trial 29 with value: 0.05931115787404527.\u001B[0m\n",
      "\u001B[32m[I 2022-06-02 17:18:49,768]\u001B[0m Trial 32 finished with value: 0.07637762627165925 and parameters: {'n_estimators': 903, 'max_depth': 14, 'min_child_weight': 31, 'gamma': 4, 'learning_rate': 0.009082920886930034, 'colsample_bytree': 1.0, 'lambda': 3.064377477063353, 'alpha': 1.7026695281909663, 'subsample': 0.7}. Best is trial 29 with value: 0.05931115787404527.\u001B[0m\n",
      "\u001B[32m[I 2022-06-02 17:18:51,444]\u001B[0m Trial 33 finished with value: 0.0738503622059696 and parameters: {'n_estimators': 630, 'max_depth': 15, 'min_child_weight': 50, 'gamma': 4, 'learning_rate': 0.008238652620699227, 'colsample_bytree': 0.9, 'lambda': 9.983948279013001, 'alpha': 0.19958443060212663, 'subsample': 0.7}. Best is trial 29 with value: 0.05931115787404527.\u001B[0m\n",
      "\u001B[32m[I 2022-06-02 17:18:53,171]\u001B[0m Trial 34 finished with value: 0.06541342875767321 and parameters: {'n_estimators': 695, 'max_depth': 12, 'min_child_weight': 57, 'gamma': 3, 'learning_rate': 0.009628461246782422, 'colsample_bytree': 0.9, 'lambda': 0.15111565568761717, 'alpha': 1.4058172372474036, 'subsample': 0.7}. Best is trial 29 with value: 0.05931115787404527.\u001B[0m\n",
      "\u001B[32m[I 2022-06-02 17:18:55,701]\u001B[0m Trial 35 finished with value: 0.08037928696353998 and parameters: {'n_estimators': 700, 'max_depth': 13, 'min_child_weight': 32, 'gamma': 4, 'learning_rate': 0.009878863718749497, 'colsample_bytree': 0.9, 'lambda': 0.14980912741806465, 'alpha': 2.0932146310301807, 'subsample': 0.7}. Best is trial 29 with value: 0.05931115787404527.\u001B[0m\n",
      "\u001B[32m[I 2022-06-02 17:18:59,073]\u001B[0m Trial 36 finished with value: 0.09055238501215998 and parameters: {'n_estimators': 1052, 'max_depth': 11, 'min_child_weight': 57, 'gamma': 3, 'learning_rate': 0.008306661885132743, 'colsample_bytree': 0.9, 'lambda': 0.014510994661265727, 'alpha': 0.7965320304769364, 'subsample': 0.7}. Best is trial 29 with value: 0.05931115787404527.\u001B[0m\n",
      "\u001B[32m[I 2022-06-02 17:19:02,541]\u001B[0m Trial 37 finished with value: 0.09341876653582346 and parameters: {'n_estimators': 1191, 'max_depth': 12, 'min_child_weight': 38, 'gamma': 3, 'learning_rate': 0.009498381230404267, 'colsample_bytree': 0.8, 'lambda': 0.4021008899459774, 'alpha': 8.6575409414132, 'subsample': 0.7}. Best is trial 29 with value: 0.05931115787404527.\u001B[0m\n",
      "\u001B[32m[I 2022-06-02 17:19:05,198]\u001B[0m Trial 38 finished with value: 0.10264966302851462 and parameters: {'n_estimators': 960, 'max_depth': 14, 'min_child_weight': 47, 'gamma': 4, 'learning_rate': 0.0033144051865048344, 'colsample_bytree': 1.0, 'lambda': 0.11529213949597075, 'alpha': 1.0304016110328493, 'subsample': 0.7}. Best is trial 29 with value: 0.05931115787404527.\u001B[0m\n",
      "\u001B[32m[I 2022-06-02 17:19:06,737]\u001B[0m Trial 39 finished with value: 0.08934446577858625 and parameters: {'n_estimators': 569, 'max_depth': 16, 'min_child_weight': 58, 'gamma': 5, 'learning_rate': 0.008837994926078532, 'colsample_bytree': 0.9, 'lambda': 0.07852473756925332, 'alpha': 4.336656184966042, 'subsample': 0.6}. Best is trial 29 with value: 0.05931115787404527.\u001B[0m\n",
      "\u001B[32m[I 2022-06-02 17:19:08,620]\u001B[0m Trial 40 finished with value: 0.4147124294731399 and parameters: {'n_estimators': 696, 'max_depth': 12, 'min_child_weight': 36, 'gamma': 3, 'learning_rate': 0.00013189213665274792, 'colsample_bytree': 0.8, 'lambda': 1.7840154396936705, 'alpha': 0.46094862802695014, 'subsample': 1.0}. Best is trial 29 with value: 0.05931115787404527.\u001B[0m\n",
      "\u001B[32m[I 2022-06-02 17:19:09,656]\u001B[0m Trial 41 finished with value: 0.06875904519250658 and parameters: {'n_estimators': 406, 'max_depth': 13, 'min_child_weight': 53, 'gamma': 5, 'learning_rate': 0.009946584467660328, 'colsample_bytree': 1.0, 'lambda': 0.8168133913689114, 'alpha': 0.06242523052134894, 'subsample': 0.7}. Best is trial 29 with value: 0.05931115787404527.\u001B[0m\n",
      "\u001B[32m[I 2022-06-02 17:19:10,645]\u001B[0m Trial 42 finished with value: 0.09318514123831698 and parameters: {'n_estimators': 388, 'max_depth': 13, 'min_child_weight': 54, 'gamma': 5, 'learning_rate': 0.00981230565687404, 'colsample_bytree': 1.0, 'lambda': 0.8672102373868228, 'alpha': 0.05580899883260482, 'subsample': 0.7}. Best is trial 29 with value: 0.05931115787404527.\u001B[0m\n",
      "\u001B[32m[I 2022-06-02 17:19:11,916]\u001B[0m Trial 43 finished with value: 0.08029516202470326 and parameters: {'n_estimators': 513, 'max_depth': 14, 'min_child_weight': 24, 'gamma': 5, 'learning_rate': 0.009154711221650657, 'colsample_bytree': 1.0, 'lambda': 0.44537273821706747, 'alpha': 0.2041714754620919, 'subsample': 0.7}. Best is trial 29 with value: 0.05931115787404527.\u001B[0m\n",
      "\u001B[32m[I 2022-06-02 17:19:13,877]\u001B[0m Trial 44 finished with value: 0.07568440350548405 and parameters: {'n_estimators': 804, 'max_depth': 13, 'min_child_weight': 62, 'gamma': 4, 'learning_rate': 0.009962807668371666, 'colsample_bytree': 0.9, 'lambda': 0.2714896827863339, 'alpha': 0.12960799340825538, 'subsample': 0.7}. Best is trial 29 with value: 0.05931115787404527.\u001B[0m\n",
      "\u001B[32m[I 2022-06-02 17:19:14,656]\u001B[0m Trial 45 finished with value: 0.09461890574588101 and parameters: {'n_estimators': 280, 'max_depth': 11, 'min_child_weight': 47, 'gamma': 5, 'learning_rate': 0.008482435650251564, 'colsample_bytree': 0.9, 'lambda': 0.04730034872993496, 'alpha': 2.944097617397682, 'subsample': 0.7}. Best is trial 29 with value: 0.05931115787404527.\u001B[0m\n",
      "\u001B[32m[I 2022-06-02 17:19:16,277]\u001B[0m Trial 46 finished with value: 0.05602744204773561 and parameters: {'n_estimators': 649, 'max_depth': 11, 'min_child_weight': 51, 'gamma': 4, 'learning_rate': 0.009230311901897815, 'colsample_bytree': 1.0, 'lambda': 0.19513942663206896, 'alpha': 1.0303265037384561, 'subsample': 0.7}. Best is trial 46 with value: 0.05602744204773561.\u001B[0m\n",
      "\u001B[32m[I 2022-06-02 17:19:20,169]\u001B[0m Trial 47 finished with value: 0.10334274695025672 and parameters: {'n_estimators': 1546, 'max_depth': 11, 'min_child_weight': 44, 'gamma': 4, 'learning_rate': 0.007743139009253074, 'colsample_bytree': 0.9, 'lambda': 0.011345776873152524, 'alpha': 0.9474487738018207, 'subsample': 0.6}. Best is trial 46 with value: 0.05602744204773561.\u001B[0m\n",
      "\u001B[32m[I 2022-06-02 17:19:22,029]\u001B[0m Trial 48 finished with value: 0.09840140168650104 and parameters: {'n_estimators': 667, 'max_depth': 10, 'min_child_weight': 64, 'gamma': 4, 'learning_rate': 0.00899128511194756, 'colsample_bytree': 0.8, 'lambda': 0.19479006670866936, 'alpha': 0.5673973940076931, 'subsample': 1.0}. Best is trial 46 with value: 0.05602744204773561.\u001B[0m\n",
      "\u001B[32m[I 2022-06-02 17:19:24,196]\u001B[0m Trial 49 finished with value: 0.07847657687616773 and parameters: {'n_estimators': 864, 'max_depth': 11, 'min_child_weight': 33, 'gamma': 3, 'learning_rate': 0.008043613152034432, 'colsample_bytree': 1.0, 'lambda': 0.05732073551186662, 'alpha': 1.2927995608420815, 'subsample': 0.7}. Best is trial 46 with value: 0.05602744204773561.\u001B[0m\n"
     ]
    },
    {
     "name": "stdout",
     "output_type": "stream",
     "text": [
      "Best trial: score 0.05602744204773561,\n",
      "params {'n_estimators': 649, 'max_depth': 11, 'min_child_weight': 51, 'gamma': 4, 'learning_rate': 0.009230311901897815, 'colsample_bytree': 1.0, 'lambda': 0.19513942663206896, 'alpha': 1.0303265037384561, 'subsample': 0.7}\n"
     ]
    }
   ],
   "source": [
    "from optuna.samplers import TPESampler\n",
    "\n",
    "study = optuna.create_study(direction='minimize',sampler=TPESampler())\n",
    "study.optimize(lambda trial : objectiveXGB(trial, X,  Y, X_test), n_trials=50)\n",
    "print('Best trial: score {},\\nparams {}'.format(study.best_trial.value,study.best_trial.params))"
   ],
   "metadata": {
    "collapsed": false,
    "pycharm": {
     "name": "#%%\n"
    }
   }
  },
  {
   "cell_type": "code",
   "execution_count": null,
   "outputs": [],
   "source": [],
   "metadata": {
    "collapsed": false,
    "pycharm": {
     "name": "#%%\n"
    }
   }
  }
 ],
 "metadata": {
  "kernelspec": {
   "display_name": "Python 3",
   "language": "python",
   "name": "python3"
  },
  "language_info": {
   "codemirror_mode": {
    "name": "ipython",
    "version": 2
   },
   "file_extension": ".py",
   "mimetype": "text/x-python",
   "name": "python",
   "nbconvert_exporter": "python",
   "pygments_lexer": "ipython2",
   "version": "2.7.6"
  }
 },
 "nbformat": 4,
 "nbformat_minor": 0
}