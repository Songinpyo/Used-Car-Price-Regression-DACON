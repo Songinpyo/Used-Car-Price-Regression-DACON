{
 "cells": [
  {
   "cell_type": "code",
   "execution_count": 1,
   "outputs": [],
   "source": [
    "# This is file for train, prediction\n",
    "\n",
    "import pandas as pd\n",
    "\n",
    "dirpath = \"C:/Users/rihot/Desktop/Deep_learning/DACON_used_car_price/\"\n",
    "\n",
    "train = pd.read_csv('data/preprocessed_train.csv')\n",
    "test = pd.read_csv('data/preprocessed_test.csv')"
   ],
   "metadata": {
    "collapsed": false,
    "pycharm": {
     "name": "#%%\n"
    }
   }
  },
  {
   "cell_type": "code",
   "execution_count": 2,
   "outputs": [],
   "source": [
    "from sklearn import model_selection\n",
    "\n",
    "# train data for scaler fitting\n",
    "\n",
    "Y = train[ ['target'] ].values\n",
    "X = train[ ['title', 'odometer', 'isimported', 'engine', 'paint', 'year', 'brand' ] ].values\n",
    "X_test = test[ ['title', 'odometer', 'isimported', 'engine', 'paint', 'year', 'brand' ] ].values\n",
    "# X = train[ ['title', 'odometer', 'location', 'isimported', 'engine', 'transmission', 'fuel', 'paint', 'year', 'brand' ] ].values\n",
    "# X_test = test[ ['title', 'odometer', 'location', 'isimported', 'engine', 'transmission', 'fuel', 'paint', 'year', 'brand' ] ].values"
   ],
   "metadata": {
    "collapsed": false,
    "pycharm": {
     "name": "#%%\n"
    }
   }
  },
  {
   "cell_type": "code",
   "execution_count": 3,
   "outputs": [],
   "source": [
    "import numpy as np\n",
    "\n",
    "X1 = train[['odometer']].values\n",
    "X2 = train[['title','isimported','engine','paint','year','brand']].values\n",
    "\n",
    "X3 = test[['odometer']].values\n",
    "X4 = test[['title','isimported','engine','paint','year','brand']].values\n",
    "\n",
    "Y = np.log(Y)"
   ],
   "metadata": {
    "collapsed": false,
    "pycharm": {
     "name": "#%%\n"
    }
   }
  },
  {
   "cell_type": "code",
   "execution_count": 4,
   "outputs": [],
   "source": [
    "from sklearn.preprocessing import MinMaxScaler\n",
    "from sklearn.preprocessing import StandardScaler\n",
    "\n",
    "scalerX1 = MinMaxScaler()\n",
    "scalerX1.fit(X1)\n",
    "X1 = scalerX1.transform(X1)\n",
    "X3 = scalerX1.transform(X3)\n",
    "\n",
    "scalerX2 = StandardScaler()\n",
    "scalerX2.fit(X2)\n",
    "X2 = scalerX2.transform(X2)\n",
    "X4 = scalerX2.transform(X4)\n",
    "\n",
    "X = np.concatenate([X1,X2], axis=1)\n",
    "X_test = np.concatenate([X3, X4], axis=1)\n",
    "\n",
    "scalerY = MinMaxScaler()\n",
    "scalerY.fit(Y)\n",
    "Y = scalerY.transform(Y)"
   ],
   "metadata": {
    "collapsed": false,
    "pycharm": {
     "name": "#%%\n"
    }
   }
  },
  {
   "cell_type": "code",
   "execution_count": 5,
   "outputs": [
    {
     "data": {
      "text/plain": "((710, 7), (305, 7), (710, 1), (305, 1))"
     },
     "execution_count": 5,
     "metadata": {},
     "output_type": "execute_result"
    }
   ],
   "source": [
    "x_train, x_val, y_train, y_val = \\\n",
    "    model_selection.train_test_split(X, Y, test_size=0.3, random_state=41)\n",
    "x_train.shape, x_val.shape, y_train.shape, y_val.shape"
   ],
   "metadata": {
    "collapsed": false,
    "pycharm": {
     "name": "#%%\n"
    }
   }
  },
  {
   "cell_type": "code",
   "execution_count": 6,
   "outputs": [
    {
     "data": {
      "text/plain": "<pandas.io.formats.style.Styler at 0x145b0197d00>",
      "text/html": "<style type=\"text/css\">\n#T_e23a8_row42_col1 {\n  background-color: lightgreen;\n}\n</style>\n<table id=\"T_e23a8\">\n  <thead>\n    <tr>\n      <th class=\"blank level0\" >&nbsp;</th>\n      <th id=\"T_e23a8_level0_col0\" class=\"col_heading level0 col0\" >Description</th>\n      <th id=\"T_e23a8_level0_col1\" class=\"col_heading level0 col1\" >Value</th>\n    </tr>\n  </thead>\n  <tbody>\n    <tr>\n      <th id=\"T_e23a8_level0_row0\" class=\"row_heading level0 row0\" >0</th>\n      <td id=\"T_e23a8_row0_col0\" class=\"data row0 col0\" >session_id</td>\n      <td id=\"T_e23a8_row0_col1\" class=\"data row0 col1\" >0</td>\n    </tr>\n    <tr>\n      <th id=\"T_e23a8_level0_row1\" class=\"row_heading level0 row1\" >1</th>\n      <td id=\"T_e23a8_row1_col0\" class=\"data row1 col0\" >Target</td>\n      <td id=\"T_e23a8_row1_col1\" class=\"data row1 col1\" >target</td>\n    </tr>\n    <tr>\n      <th id=\"T_e23a8_level0_row2\" class=\"row_heading level0 row2\" >2</th>\n      <td id=\"T_e23a8_row2_col0\" class=\"data row2 col0\" >Original Data</td>\n      <td id=\"T_e23a8_row2_col1\" class=\"data row2 col1\" >(1015, 11)</td>\n    </tr>\n    <tr>\n      <th id=\"T_e23a8_level0_row3\" class=\"row_heading level0 row3\" >3</th>\n      <td id=\"T_e23a8_row3_col0\" class=\"data row3 col0\" >Missing Values</td>\n      <td id=\"T_e23a8_row3_col1\" class=\"data row3 col1\" >False</td>\n    </tr>\n    <tr>\n      <th id=\"T_e23a8_level0_row4\" class=\"row_heading level0 row4\" >4</th>\n      <td id=\"T_e23a8_row4_col0\" class=\"data row4 col0\" >Numeric Features</td>\n      <td id=\"T_e23a8_row4_col1\" class=\"data row4 col1\" >4</td>\n    </tr>\n    <tr>\n      <th id=\"T_e23a8_level0_row5\" class=\"row_heading level0 row5\" >5</th>\n      <td id=\"T_e23a8_row5_col0\" class=\"data row5 col0\" >Categorical Features</td>\n      <td id=\"T_e23a8_row5_col1\" class=\"data row5 col1\" >6</td>\n    </tr>\n    <tr>\n      <th id=\"T_e23a8_level0_row6\" class=\"row_heading level0 row6\" >6</th>\n      <td id=\"T_e23a8_row6_col0\" class=\"data row6 col0\" >Ordinal Features</td>\n      <td id=\"T_e23a8_row6_col1\" class=\"data row6 col1\" >False</td>\n    </tr>\n    <tr>\n      <th id=\"T_e23a8_level0_row7\" class=\"row_heading level0 row7\" >7</th>\n      <td id=\"T_e23a8_row7_col0\" class=\"data row7 col0\" >High Cardinality Features</td>\n      <td id=\"T_e23a8_row7_col1\" class=\"data row7 col1\" >False</td>\n    </tr>\n    <tr>\n      <th id=\"T_e23a8_level0_row8\" class=\"row_heading level0 row8\" >8</th>\n      <td id=\"T_e23a8_row8_col0\" class=\"data row8 col0\" >High Cardinality Method</td>\n      <td id=\"T_e23a8_row8_col1\" class=\"data row8 col1\" >None</td>\n    </tr>\n    <tr>\n      <th id=\"T_e23a8_level0_row9\" class=\"row_heading level0 row9\" >9</th>\n      <td id=\"T_e23a8_row9_col0\" class=\"data row9 col0\" >Transformed Train Set</td>\n      <td id=\"T_e23a8_row9_col1\" class=\"data row9 col1\" >(710, 38)</td>\n    </tr>\n    <tr>\n      <th id=\"T_e23a8_level0_row10\" class=\"row_heading level0 row10\" >10</th>\n      <td id=\"T_e23a8_row10_col0\" class=\"data row10 col0\" >Transformed Test Set</td>\n      <td id=\"T_e23a8_row10_col1\" class=\"data row10 col1\" >(305, 38)</td>\n    </tr>\n    <tr>\n      <th id=\"T_e23a8_level0_row11\" class=\"row_heading level0 row11\" >11</th>\n      <td id=\"T_e23a8_row11_col0\" class=\"data row11 col0\" >Shuffle Train-Test</td>\n      <td id=\"T_e23a8_row11_col1\" class=\"data row11 col1\" >True</td>\n    </tr>\n    <tr>\n      <th id=\"T_e23a8_level0_row12\" class=\"row_heading level0 row12\" >12</th>\n      <td id=\"T_e23a8_row12_col0\" class=\"data row12 col0\" >Stratify Train-Test</td>\n      <td id=\"T_e23a8_row12_col1\" class=\"data row12 col1\" >False</td>\n    </tr>\n    <tr>\n      <th id=\"T_e23a8_level0_row13\" class=\"row_heading level0 row13\" >13</th>\n      <td id=\"T_e23a8_row13_col0\" class=\"data row13 col0\" >Fold Generator</td>\n      <td id=\"T_e23a8_row13_col1\" class=\"data row13 col1\" >KFold</td>\n    </tr>\n    <tr>\n      <th id=\"T_e23a8_level0_row14\" class=\"row_heading level0 row14\" >14</th>\n      <td id=\"T_e23a8_row14_col0\" class=\"data row14 col0\" >Fold Number</td>\n      <td id=\"T_e23a8_row14_col1\" class=\"data row14 col1\" >10</td>\n    </tr>\n    <tr>\n      <th id=\"T_e23a8_level0_row15\" class=\"row_heading level0 row15\" >15</th>\n      <td id=\"T_e23a8_row15_col0\" class=\"data row15 col0\" >CPU Jobs</td>\n      <td id=\"T_e23a8_row15_col1\" class=\"data row15 col1\" >-1</td>\n    </tr>\n    <tr>\n      <th id=\"T_e23a8_level0_row16\" class=\"row_heading level0 row16\" >16</th>\n      <td id=\"T_e23a8_row16_col0\" class=\"data row16 col0\" >Use GPU</td>\n      <td id=\"T_e23a8_row16_col1\" class=\"data row16 col1\" >False</td>\n    </tr>\n    <tr>\n      <th id=\"T_e23a8_level0_row17\" class=\"row_heading level0 row17\" >17</th>\n      <td id=\"T_e23a8_row17_col0\" class=\"data row17 col0\" >Log Experiment</td>\n      <td id=\"T_e23a8_row17_col1\" class=\"data row17 col1\" >False</td>\n    </tr>\n    <tr>\n      <th id=\"T_e23a8_level0_row18\" class=\"row_heading level0 row18\" >18</th>\n      <td id=\"T_e23a8_row18_col0\" class=\"data row18 col0\" >Experiment Name</td>\n      <td id=\"T_e23a8_row18_col1\" class=\"data row18 col1\" >reg-default-name</td>\n    </tr>\n    <tr>\n      <th id=\"T_e23a8_level0_row19\" class=\"row_heading level0 row19\" >19</th>\n      <td id=\"T_e23a8_row19_col0\" class=\"data row19 col0\" >USI</td>\n      <td id=\"T_e23a8_row19_col1\" class=\"data row19 col1\" >1bf7</td>\n    </tr>\n    <tr>\n      <th id=\"T_e23a8_level0_row20\" class=\"row_heading level0 row20\" >20</th>\n      <td id=\"T_e23a8_row20_col0\" class=\"data row20 col0\" >Imputation Type</td>\n      <td id=\"T_e23a8_row20_col1\" class=\"data row20 col1\" >simple</td>\n    </tr>\n    <tr>\n      <th id=\"T_e23a8_level0_row21\" class=\"row_heading level0 row21\" >21</th>\n      <td id=\"T_e23a8_row21_col0\" class=\"data row21 col0\" >Iterative Imputation Iteration</td>\n      <td id=\"T_e23a8_row21_col1\" class=\"data row21 col1\" >None</td>\n    </tr>\n    <tr>\n      <th id=\"T_e23a8_level0_row22\" class=\"row_heading level0 row22\" >22</th>\n      <td id=\"T_e23a8_row22_col0\" class=\"data row22 col0\" >Numeric Imputer</td>\n      <td id=\"T_e23a8_row22_col1\" class=\"data row22 col1\" >mean</td>\n    </tr>\n    <tr>\n      <th id=\"T_e23a8_level0_row23\" class=\"row_heading level0 row23\" >23</th>\n      <td id=\"T_e23a8_row23_col0\" class=\"data row23 col0\" >Iterative Imputation Numeric Model</td>\n      <td id=\"T_e23a8_row23_col1\" class=\"data row23 col1\" >None</td>\n    </tr>\n    <tr>\n      <th id=\"T_e23a8_level0_row24\" class=\"row_heading level0 row24\" >24</th>\n      <td id=\"T_e23a8_row24_col0\" class=\"data row24 col0\" >Categorical Imputer</td>\n      <td id=\"T_e23a8_row24_col1\" class=\"data row24 col1\" >constant</td>\n    </tr>\n    <tr>\n      <th id=\"T_e23a8_level0_row25\" class=\"row_heading level0 row25\" >25</th>\n      <td id=\"T_e23a8_row25_col0\" class=\"data row25 col0\" >Iterative Imputation Categorical Model</td>\n      <td id=\"T_e23a8_row25_col1\" class=\"data row25 col1\" >None</td>\n    </tr>\n    <tr>\n      <th id=\"T_e23a8_level0_row26\" class=\"row_heading level0 row26\" >26</th>\n      <td id=\"T_e23a8_row26_col0\" class=\"data row26 col0\" >Unknown Categoricals Handling</td>\n      <td id=\"T_e23a8_row26_col1\" class=\"data row26 col1\" >least_frequent</td>\n    </tr>\n    <tr>\n      <th id=\"T_e23a8_level0_row27\" class=\"row_heading level0 row27\" >27</th>\n      <td id=\"T_e23a8_row27_col0\" class=\"data row27 col0\" >Normalize</td>\n      <td id=\"T_e23a8_row27_col1\" class=\"data row27 col1\" >False</td>\n    </tr>\n    <tr>\n      <th id=\"T_e23a8_level0_row28\" class=\"row_heading level0 row28\" >28</th>\n      <td id=\"T_e23a8_row28_col0\" class=\"data row28 col0\" >Normalize Method</td>\n      <td id=\"T_e23a8_row28_col1\" class=\"data row28 col1\" >None</td>\n    </tr>\n    <tr>\n      <th id=\"T_e23a8_level0_row29\" class=\"row_heading level0 row29\" >29</th>\n      <td id=\"T_e23a8_row29_col0\" class=\"data row29 col0\" >Transformation</td>\n      <td id=\"T_e23a8_row29_col1\" class=\"data row29 col1\" >False</td>\n    </tr>\n    <tr>\n      <th id=\"T_e23a8_level0_row30\" class=\"row_heading level0 row30\" >30</th>\n      <td id=\"T_e23a8_row30_col0\" class=\"data row30 col0\" >Transformation Method</td>\n      <td id=\"T_e23a8_row30_col1\" class=\"data row30 col1\" >None</td>\n    </tr>\n    <tr>\n      <th id=\"T_e23a8_level0_row31\" class=\"row_heading level0 row31\" >31</th>\n      <td id=\"T_e23a8_row31_col0\" class=\"data row31 col0\" >PCA</td>\n      <td id=\"T_e23a8_row31_col1\" class=\"data row31 col1\" >False</td>\n    </tr>\n    <tr>\n      <th id=\"T_e23a8_level0_row32\" class=\"row_heading level0 row32\" >32</th>\n      <td id=\"T_e23a8_row32_col0\" class=\"data row32 col0\" >PCA Method</td>\n      <td id=\"T_e23a8_row32_col1\" class=\"data row32 col1\" >None</td>\n    </tr>\n    <tr>\n      <th id=\"T_e23a8_level0_row33\" class=\"row_heading level0 row33\" >33</th>\n      <td id=\"T_e23a8_row33_col0\" class=\"data row33 col0\" >PCA Components</td>\n      <td id=\"T_e23a8_row33_col1\" class=\"data row33 col1\" >None</td>\n    </tr>\n    <tr>\n      <th id=\"T_e23a8_level0_row34\" class=\"row_heading level0 row34\" >34</th>\n      <td id=\"T_e23a8_row34_col0\" class=\"data row34 col0\" >Ignore Low Variance</td>\n      <td id=\"T_e23a8_row34_col1\" class=\"data row34 col1\" >False</td>\n    </tr>\n    <tr>\n      <th id=\"T_e23a8_level0_row35\" class=\"row_heading level0 row35\" >35</th>\n      <td id=\"T_e23a8_row35_col0\" class=\"data row35 col0\" >Combine Rare Levels</td>\n      <td id=\"T_e23a8_row35_col1\" class=\"data row35 col1\" >False</td>\n    </tr>\n    <tr>\n      <th id=\"T_e23a8_level0_row36\" class=\"row_heading level0 row36\" >36</th>\n      <td id=\"T_e23a8_row36_col0\" class=\"data row36 col0\" >Rare Level Threshold</td>\n      <td id=\"T_e23a8_row36_col1\" class=\"data row36 col1\" >None</td>\n    </tr>\n    <tr>\n      <th id=\"T_e23a8_level0_row37\" class=\"row_heading level0 row37\" >37</th>\n      <td id=\"T_e23a8_row37_col0\" class=\"data row37 col0\" >Numeric Binning</td>\n      <td id=\"T_e23a8_row37_col1\" class=\"data row37 col1\" >False</td>\n    </tr>\n    <tr>\n      <th id=\"T_e23a8_level0_row38\" class=\"row_heading level0 row38\" >38</th>\n      <td id=\"T_e23a8_row38_col0\" class=\"data row38 col0\" >Remove Outliers</td>\n      <td id=\"T_e23a8_row38_col1\" class=\"data row38 col1\" >False</td>\n    </tr>\n    <tr>\n      <th id=\"T_e23a8_level0_row39\" class=\"row_heading level0 row39\" >39</th>\n      <td id=\"T_e23a8_row39_col0\" class=\"data row39 col0\" >Outliers Threshold</td>\n      <td id=\"T_e23a8_row39_col1\" class=\"data row39 col1\" >None</td>\n    </tr>\n    <tr>\n      <th id=\"T_e23a8_level0_row40\" class=\"row_heading level0 row40\" >40</th>\n      <td id=\"T_e23a8_row40_col0\" class=\"data row40 col0\" >Remove Multicollinearity</td>\n      <td id=\"T_e23a8_row40_col1\" class=\"data row40 col1\" >False</td>\n    </tr>\n    <tr>\n      <th id=\"T_e23a8_level0_row41\" class=\"row_heading level0 row41\" >41</th>\n      <td id=\"T_e23a8_row41_col0\" class=\"data row41 col0\" >Multicollinearity Threshold</td>\n      <td id=\"T_e23a8_row41_col1\" class=\"data row41 col1\" >None</td>\n    </tr>\n    <tr>\n      <th id=\"T_e23a8_level0_row42\" class=\"row_heading level0 row42\" >42</th>\n      <td id=\"T_e23a8_row42_col0\" class=\"data row42 col0\" >Remove Perfect Collinearity</td>\n      <td id=\"T_e23a8_row42_col1\" class=\"data row42 col1\" >True</td>\n    </tr>\n    <tr>\n      <th id=\"T_e23a8_level0_row43\" class=\"row_heading level0 row43\" >43</th>\n      <td id=\"T_e23a8_row43_col0\" class=\"data row43 col0\" >Clustering</td>\n      <td id=\"T_e23a8_row43_col1\" class=\"data row43 col1\" >False</td>\n    </tr>\n    <tr>\n      <th id=\"T_e23a8_level0_row44\" class=\"row_heading level0 row44\" >44</th>\n      <td id=\"T_e23a8_row44_col0\" class=\"data row44 col0\" >Clustering Iteration</td>\n      <td id=\"T_e23a8_row44_col1\" class=\"data row44 col1\" >None</td>\n    </tr>\n    <tr>\n      <th id=\"T_e23a8_level0_row45\" class=\"row_heading level0 row45\" >45</th>\n      <td id=\"T_e23a8_row45_col0\" class=\"data row45 col0\" >Polynomial Features</td>\n      <td id=\"T_e23a8_row45_col1\" class=\"data row45 col1\" >False</td>\n    </tr>\n    <tr>\n      <th id=\"T_e23a8_level0_row46\" class=\"row_heading level0 row46\" >46</th>\n      <td id=\"T_e23a8_row46_col0\" class=\"data row46 col0\" >Polynomial Degree</td>\n      <td id=\"T_e23a8_row46_col1\" class=\"data row46 col1\" >None</td>\n    </tr>\n    <tr>\n      <th id=\"T_e23a8_level0_row47\" class=\"row_heading level0 row47\" >47</th>\n      <td id=\"T_e23a8_row47_col0\" class=\"data row47 col0\" >Trignometry Features</td>\n      <td id=\"T_e23a8_row47_col1\" class=\"data row47 col1\" >False</td>\n    </tr>\n    <tr>\n      <th id=\"T_e23a8_level0_row48\" class=\"row_heading level0 row48\" >48</th>\n      <td id=\"T_e23a8_row48_col0\" class=\"data row48 col0\" >Polynomial Threshold</td>\n      <td id=\"T_e23a8_row48_col1\" class=\"data row48 col1\" >None</td>\n    </tr>\n    <tr>\n      <th id=\"T_e23a8_level0_row49\" class=\"row_heading level0 row49\" >49</th>\n      <td id=\"T_e23a8_row49_col0\" class=\"data row49 col0\" >Group Features</td>\n      <td id=\"T_e23a8_row49_col1\" class=\"data row49 col1\" >False</td>\n    </tr>\n    <tr>\n      <th id=\"T_e23a8_level0_row50\" class=\"row_heading level0 row50\" >50</th>\n      <td id=\"T_e23a8_row50_col0\" class=\"data row50 col0\" >Feature Selection</td>\n      <td id=\"T_e23a8_row50_col1\" class=\"data row50 col1\" >False</td>\n    </tr>\n    <tr>\n      <th id=\"T_e23a8_level0_row51\" class=\"row_heading level0 row51\" >51</th>\n      <td id=\"T_e23a8_row51_col0\" class=\"data row51 col0\" >Feature Selection Method</td>\n      <td id=\"T_e23a8_row51_col1\" class=\"data row51 col1\" >classic</td>\n    </tr>\n    <tr>\n      <th id=\"T_e23a8_level0_row52\" class=\"row_heading level0 row52\" >52</th>\n      <td id=\"T_e23a8_row52_col0\" class=\"data row52 col0\" >Features Selection Threshold</td>\n      <td id=\"T_e23a8_row52_col1\" class=\"data row52 col1\" >None</td>\n    </tr>\n    <tr>\n      <th id=\"T_e23a8_level0_row53\" class=\"row_heading level0 row53\" >53</th>\n      <td id=\"T_e23a8_row53_col0\" class=\"data row53 col0\" >Feature Interaction</td>\n      <td id=\"T_e23a8_row53_col1\" class=\"data row53 col1\" >False</td>\n    </tr>\n    <tr>\n      <th id=\"T_e23a8_level0_row54\" class=\"row_heading level0 row54\" >54</th>\n      <td id=\"T_e23a8_row54_col0\" class=\"data row54 col0\" >Feature Ratio</td>\n      <td id=\"T_e23a8_row54_col1\" class=\"data row54 col1\" >False</td>\n    </tr>\n    <tr>\n      <th id=\"T_e23a8_level0_row55\" class=\"row_heading level0 row55\" >55</th>\n      <td id=\"T_e23a8_row55_col0\" class=\"data row55 col0\" >Interaction Threshold</td>\n      <td id=\"T_e23a8_row55_col1\" class=\"data row55 col1\" >None</td>\n    </tr>\n    <tr>\n      <th id=\"T_e23a8_level0_row56\" class=\"row_heading level0 row56\" >56</th>\n      <td id=\"T_e23a8_row56_col0\" class=\"data row56 col0\" >Transform Target</td>\n      <td id=\"T_e23a8_row56_col1\" class=\"data row56 col1\" >False</td>\n    </tr>\n    <tr>\n      <th id=\"T_e23a8_level0_row57\" class=\"row_heading level0 row57\" >57</th>\n      <td id=\"T_e23a8_row57_col0\" class=\"data row57 col0\" >Transform Target Method</td>\n      <td id=\"T_e23a8_row57_col1\" class=\"data row57 col1\" >box-cox</td>\n    </tr>\n  </tbody>\n</table>\n"
     },
     "metadata": {},
     "output_type": "display_data"
    }
   ],
   "source": [
    "from pycaret import regression\n",
    "\n",
    "model = regression.setup(data=train, target='target',train_size=0.7,session_id=0,silent=True)"
   ],
   "metadata": {
    "collapsed": false,
    "pycharm": {
     "name": "#%%\n"
    }
   }
  },
  {
   "cell_type": "code",
   "execution_count": 7,
   "outputs": [
    {
     "data": {
      "text/plain": "<pandas.io.formats.style.Styler at 0x145b01a7640>",
      "text/html": "<style type=\"text/css\">\n#T_8edea th {\n  text-align: left;\n}\n#T_8edea_row0_col0, #T_8edea_row0_col5, #T_8edea_row1_col0, #T_8edea_row1_col1, #T_8edea_row1_col2, #T_8edea_row1_col3, #T_8edea_row1_col4, #T_8edea_row1_col5, #T_8edea_row1_col6, #T_8edea_row2_col0, #T_8edea_row2_col1, #T_8edea_row2_col2, #T_8edea_row2_col3, #T_8edea_row2_col4, #T_8edea_row2_col6, #T_8edea_row3_col0, #T_8edea_row3_col1, #T_8edea_row3_col2, #T_8edea_row3_col3, #T_8edea_row3_col4, #T_8edea_row3_col5, #T_8edea_row3_col6, #T_8edea_row4_col0, #T_8edea_row4_col1, #T_8edea_row4_col2, #T_8edea_row4_col3, #T_8edea_row4_col4, #T_8edea_row4_col5, #T_8edea_row4_col6, #T_8edea_row5_col0, #T_8edea_row5_col1, #T_8edea_row5_col2, #T_8edea_row5_col3, #T_8edea_row5_col4, #T_8edea_row5_col5, #T_8edea_row5_col6, #T_8edea_row6_col0, #T_8edea_row6_col1, #T_8edea_row6_col2, #T_8edea_row6_col3, #T_8edea_row6_col4, #T_8edea_row6_col5, #T_8edea_row6_col6, #T_8edea_row7_col0, #T_8edea_row7_col1, #T_8edea_row7_col2, #T_8edea_row7_col3, #T_8edea_row7_col4, #T_8edea_row7_col5, #T_8edea_row7_col6, #T_8edea_row8_col0, #T_8edea_row8_col1, #T_8edea_row8_col2, #T_8edea_row8_col3, #T_8edea_row8_col4, #T_8edea_row8_col5, #T_8edea_row8_col6, #T_8edea_row9_col0, #T_8edea_row9_col1, #T_8edea_row9_col2, #T_8edea_row9_col3, #T_8edea_row9_col4, #T_8edea_row9_col5, #T_8edea_row9_col6, #T_8edea_row10_col0, #T_8edea_row10_col1, #T_8edea_row10_col2, #T_8edea_row10_col3, #T_8edea_row10_col4, #T_8edea_row10_col5, #T_8edea_row10_col6, #T_8edea_row11_col0, #T_8edea_row11_col1, #T_8edea_row11_col2, #T_8edea_row11_col3, #T_8edea_row11_col4, #T_8edea_row11_col5, #T_8edea_row11_col6, #T_8edea_row12_col0, #T_8edea_row12_col1, #T_8edea_row12_col2, #T_8edea_row12_col3, #T_8edea_row12_col4, #T_8edea_row12_col5, #T_8edea_row12_col6, #T_8edea_row13_col0, #T_8edea_row13_col1, #T_8edea_row13_col2, #T_8edea_row13_col3, #T_8edea_row13_col4, #T_8edea_row13_col5, #T_8edea_row13_col6, #T_8edea_row14_col0, #T_8edea_row14_col1, #T_8edea_row14_col2, #T_8edea_row14_col3, #T_8edea_row14_col4, #T_8edea_row14_col5, #T_8edea_row14_col6, #T_8edea_row15_col0, #T_8edea_row15_col1, #T_8edea_row15_col2, #T_8edea_row15_col3, #T_8edea_row15_col4, #T_8edea_row15_col5, #T_8edea_row15_col6, #T_8edea_row16_col0, #T_8edea_row16_col1, #T_8edea_row16_col2, #T_8edea_row16_col3, #T_8edea_row16_col4, #T_8edea_row16_col5, #T_8edea_row16_col6, #T_8edea_row17_col0, #T_8edea_row17_col1, #T_8edea_row17_col2, #T_8edea_row17_col3, #T_8edea_row17_col4, #T_8edea_row17_col5, #T_8edea_row17_col6, #T_8edea_row18_col0, #T_8edea_row18_col1, #T_8edea_row18_col2, #T_8edea_row18_col3, #T_8edea_row18_col4, #T_8edea_row18_col5, #T_8edea_row18_col6, #T_8edea_row19_col0, #T_8edea_row19_col1, #T_8edea_row19_col2, #T_8edea_row19_col3, #T_8edea_row19_col4, #T_8edea_row19_col5, #T_8edea_row19_col6 {\n  text-align: left;\n}\n#T_8edea_row0_col1, #T_8edea_row0_col2, #T_8edea_row0_col3, #T_8edea_row0_col4, #T_8edea_row0_col6, #T_8edea_row2_col5 {\n  text-align: left;\n  background-color: yellow;\n}\n#T_8edea_row0_col7, #T_8edea_row1_col7, #T_8edea_row2_col7, #T_8edea_row3_col7, #T_8edea_row4_col7, #T_8edea_row5_col7, #T_8edea_row7_col7, #T_8edea_row8_col7, #T_8edea_row9_col7, #T_8edea_row11_col7, #T_8edea_row12_col7, #T_8edea_row13_col7, #T_8edea_row14_col7, #T_8edea_row15_col7, #T_8edea_row19_col7 {\n  text-align: left;\n  background-color: lightgrey;\n}\n#T_8edea_row6_col7, #T_8edea_row10_col7, #T_8edea_row16_col7, #T_8edea_row17_col7, #T_8edea_row18_col7 {\n  text-align: left;\n  background-color: yellow;\n  background-color: lightgrey;\n}\n</style>\n<table id=\"T_8edea\">\n  <thead>\n    <tr>\n      <th class=\"blank level0\" >&nbsp;</th>\n      <th id=\"T_8edea_level0_col0\" class=\"col_heading level0 col0\" >Model</th>\n      <th id=\"T_8edea_level0_col1\" class=\"col_heading level0 col1\" >MAE</th>\n      <th id=\"T_8edea_level0_col2\" class=\"col_heading level0 col2\" >MSE</th>\n      <th id=\"T_8edea_level0_col3\" class=\"col_heading level0 col3\" >RMSE</th>\n      <th id=\"T_8edea_level0_col4\" class=\"col_heading level0 col4\" >R2</th>\n      <th id=\"T_8edea_level0_col5\" class=\"col_heading level0 col5\" >RMSLE</th>\n      <th id=\"T_8edea_level0_col6\" class=\"col_heading level0 col6\" >MAPE</th>\n      <th id=\"T_8edea_level0_col7\" class=\"col_heading level0 col7\" >TT (Sec)</th>\n    </tr>\n  </thead>\n  <tbody>\n    <tr>\n      <th id=\"T_8edea_level0_row0\" class=\"row_heading level0 row0\" >catboost</th>\n      <td id=\"T_8edea_row0_col0\" class=\"data row0 col0\" >CatBoost Regressor</td>\n      <td id=\"T_8edea_row0_col1\" class=\"data row0 col1\" >2998808.8289</td>\n      <td id=\"T_8edea_row0_col2\" class=\"data row0 col2\" >75950386794725.6719</td>\n      <td id=\"T_8edea_row0_col3\" class=\"data row0 col3\" >7562803.0964</td>\n      <td id=\"T_8edea_row0_col4\" class=\"data row0 col4\" >0.6258</td>\n      <td id=\"T_8edea_row0_col5\" class=\"data row0 col5\" >0.5428</td>\n      <td id=\"T_8edea_row0_col6\" class=\"data row0 col6\" >0.4476</td>\n      <td id=\"T_8edea_row0_col7\" class=\"data row0 col7\" >0.8840</td>\n    </tr>\n    <tr>\n      <th id=\"T_8edea_level0_row1\" class=\"row_heading level0 row1\" >gbr</th>\n      <td id=\"T_8edea_row1_col0\" class=\"data row1 col0\" >Gradient Boosting Regressor</td>\n      <td id=\"T_8edea_row1_col1\" class=\"data row1 col1\" >3367147.1932</td>\n      <td id=\"T_8edea_row1_col2\" class=\"data row1 col2\" >83225270948606.5469</td>\n      <td id=\"T_8edea_row1_col3\" class=\"data row1 col3\" >8197183.7426</td>\n      <td id=\"T_8edea_row1_col4\" class=\"data row1 col4\" >0.5353</td>\n      <td id=\"T_8edea_row1_col5\" class=\"data row1 col5\" >0.5597</td>\n      <td id=\"T_8edea_row1_col6\" class=\"data row1 col6\" >0.5396</td>\n      <td id=\"T_8edea_row1_col7\" class=\"data row1 col7\" >0.0520</td>\n    </tr>\n    <tr>\n      <th id=\"T_8edea_level0_row2\" class=\"row_heading level0 row2\" >rf</th>\n      <td id=\"T_8edea_row2_col0\" class=\"data row2 col0\" >Random Forest Regressor</td>\n      <td id=\"T_8edea_row2_col1\" class=\"data row2 col1\" >3437288.8441</td>\n      <td id=\"T_8edea_row2_col2\" class=\"data row2 col2\" >86758386100494.2812</td>\n      <td id=\"T_8edea_row2_col3\" class=\"data row2 col3\" >8315563.9961</td>\n      <td id=\"T_8edea_row2_col4\" class=\"data row2 col4\" >0.5335</td>\n      <td id=\"T_8edea_row2_col5\" class=\"data row2 col5\" >0.5213</td>\n      <td id=\"T_8edea_row2_col6\" class=\"data row2 col6\" >0.4928</td>\n      <td id=\"T_8edea_row2_col7\" class=\"data row2 col7\" >0.2080</td>\n    </tr>\n    <tr>\n      <th id=\"T_8edea_level0_row3\" class=\"row_heading level0 row3\" >lightgbm</th>\n      <td id=\"T_8edea_row3_col0\" class=\"data row3 col0\" >Light Gradient Boosting Machine</td>\n      <td id=\"T_8edea_row3_col1\" class=\"data row3 col1\" >3645904.3172</td>\n      <td id=\"T_8edea_row3_col2\" class=\"data row3 col2\" >89579974505431.5625</td>\n      <td id=\"T_8edea_row3_col3\" class=\"data row3 col3\" >8530687.6092</td>\n      <td id=\"T_8edea_row3_col4\" class=\"data row3 col4\" >0.5143</td>\n      <td id=\"T_8edea_row3_col5\" class=\"data row3 col5\" >0.6515</td>\n      <td id=\"T_8edea_row3_col6\" class=\"data row3 col6\" >0.5437</td>\n      <td id=\"T_8edea_row3_col7\" class=\"data row3 col7\" >0.0410</td>\n    </tr>\n    <tr>\n      <th id=\"T_8edea_level0_row4\" class=\"row_heading level0 row4\" >et</th>\n      <td id=\"T_8edea_row4_col0\" class=\"data row4 col0\" >Extra Trees Regressor</td>\n      <td id=\"T_8edea_row4_col1\" class=\"data row4 col1\" >3461602.5775</td>\n      <td id=\"T_8edea_row4_col2\" class=\"data row4 col2\" >91511148612644.7500</td>\n      <td id=\"T_8edea_row4_col3\" class=\"data row4 col3\" >8739773.7582</td>\n      <td id=\"T_8edea_row4_col4\" class=\"data row4 col4\" >0.4780</td>\n      <td id=\"T_8edea_row4_col5\" class=\"data row4 col5\" >0.5220</td>\n      <td id=\"T_8edea_row4_col6\" class=\"data row4 col6\" >0.4882</td>\n      <td id=\"T_8edea_row4_col7\" class=\"data row4 col7\" >0.1830</td>\n    </tr>\n    <tr>\n      <th id=\"T_8edea_level0_row5\" class=\"row_heading level0 row5\" >xgboost</th>\n      <td id=\"T_8edea_row5_col0\" class=\"data row5 col0\" >Extreme Gradient Boosting</td>\n      <td id=\"T_8edea_row5_col1\" class=\"data row5 col1\" >3257962.7301</td>\n      <td id=\"T_8edea_row5_col2\" class=\"data row5 col2\" >94958873191807.8281</td>\n      <td id=\"T_8edea_row5_col3\" class=\"data row5 col3\" >8760960.6525</td>\n      <td id=\"T_8edea_row5_col4\" class=\"data row5 col4\" >0.4919</td>\n      <td id=\"T_8edea_row5_col5\" class=\"data row5 col5\" >0.5439</td>\n      <td id=\"T_8edea_row5_col6\" class=\"data row5 col6\" >0.4659</td>\n      <td id=\"T_8edea_row5_col7\" class=\"data row5 col7\" >0.1500</td>\n    </tr>\n    <tr>\n      <th id=\"T_8edea_level0_row6\" class=\"row_heading level0 row6\" >ridge</th>\n      <td id=\"T_8edea_row6_col0\" class=\"data row6 col0\" >Ridge Regression</td>\n      <td id=\"T_8edea_row6_col1\" class=\"data row6 col1\" >5291788.2197</td>\n      <td id=\"T_8edea_row6_col2\" class=\"data row6 col2\" >110492228934623.4688</td>\n      <td id=\"T_8edea_row6_col3\" class=\"data row6 col3\" >9760337.4280</td>\n      <td id=\"T_8edea_row6_col4\" class=\"data row6 col4\" >0.3316</td>\n      <td id=\"T_8edea_row6_col5\" class=\"data row6 col5\" >0.9066</td>\n      <td id=\"T_8edea_row6_col6\" class=\"data row6 col6\" >1.1957</td>\n      <td id=\"T_8edea_row6_col7\" class=\"data row6 col7\" >0.0060</td>\n    </tr>\n    <tr>\n      <th id=\"T_8edea_level0_row7\" class=\"row_heading level0 row7\" >lr</th>\n      <td id=\"T_8edea_row7_col0\" class=\"data row7 col0\" >Linear Regression</td>\n      <td id=\"T_8edea_row7_col1\" class=\"data row7 col1\" >5395634.8901</td>\n      <td id=\"T_8edea_row7_col2\" class=\"data row7 col2\" >111149343370582.4688</td>\n      <td id=\"T_8edea_row7_col3\" class=\"data row7 col3\" >9792836.6546</td>\n      <td id=\"T_8edea_row7_col4\" class=\"data row7 col4\" >0.3269</td>\n      <td id=\"T_8edea_row7_col5\" class=\"data row7 col5\" >0.9172</td>\n      <td id=\"T_8edea_row7_col6\" class=\"data row7 col6\" >1.2310</td>\n      <td id=\"T_8edea_row7_col7\" class=\"data row7 col7\" >1.3750</td>\n    </tr>\n    <tr>\n      <th id=\"T_8edea_level0_row8\" class=\"row_heading level0 row8\" >lasso</th>\n      <td id=\"T_8edea_row8_col0\" class=\"data row8 col0\" >Lasso Regression</td>\n      <td id=\"T_8edea_row8_col1\" class=\"data row8 col1\" >5341211.0254</td>\n      <td id=\"T_8edea_row8_col2\" class=\"data row8 col2\" >111154922462693.2500</td>\n      <td id=\"T_8edea_row8_col3\" class=\"data row8 col3\" >9794632.0376</td>\n      <td id=\"T_8edea_row8_col4\" class=\"data row8 col4\" >0.3246</td>\n      <td id=\"T_8edea_row8_col5\" class=\"data row8 col5\" >0.9312</td>\n      <td id=\"T_8edea_row8_col6\" class=\"data row8 col6\" >1.2057</td>\n      <td id=\"T_8edea_row8_col7\" class=\"data row8 col7\" >0.0100</td>\n    </tr>\n    <tr>\n      <th id=\"T_8edea_level0_row9\" class=\"row_heading level0 row9\" >llar</th>\n      <td id=\"T_8edea_row9_col0\" class=\"data row9 col0\" >Lasso Least Angle Regression</td>\n      <td id=\"T_8edea_row9_col1\" class=\"data row9 col1\" >5343691.4310</td>\n      <td id=\"T_8edea_row9_col2\" class=\"data row9 col2\" >111184035217902.5000</td>\n      <td id=\"T_8edea_row9_col3\" class=\"data row9 col3\" >9796278.0396</td>\n      <td id=\"T_8edea_row9_col4\" class=\"data row9 col4\" >0.3243</td>\n      <td id=\"T_8edea_row9_col5\" class=\"data row9 col5\" >0.9314</td>\n      <td id=\"T_8edea_row9_col6\" class=\"data row9 col6\" >1.2069</td>\n      <td id=\"T_8edea_row9_col7\" class=\"data row9 col7\" >0.0090</td>\n    </tr>\n    <tr>\n      <th id=\"T_8edea_level0_row10\" class=\"row_heading level0 row10\" >omp</th>\n      <td id=\"T_8edea_row10_col0\" class=\"data row10 col0\" >Orthogonal Matching Pursuit</td>\n      <td id=\"T_8edea_row10_col1\" class=\"data row10 col1\" >5306255.1570</td>\n      <td id=\"T_8edea_row10_col2\" class=\"data row10 col2\" >114249418927039.5781</td>\n      <td id=\"T_8edea_row10_col3\" class=\"data row10 col3\" >10043065.7889</td>\n      <td id=\"T_8edea_row10_col4\" class=\"data row10 col4\" >0.2767</td>\n      <td id=\"T_8edea_row10_col5\" class=\"data row10 col5\" >0.8528</td>\n      <td id=\"T_8edea_row10_col6\" class=\"data row10 col6\" >1.0328</td>\n      <td id=\"T_8edea_row10_col7\" class=\"data row10 col7\" >0.0060</td>\n    </tr>\n    <tr>\n      <th id=\"T_8edea_level0_row11\" class=\"row_heading level0 row11\" >en</th>\n      <td id=\"T_8edea_row11_col0\" class=\"data row11 col0\" >Elastic Net</td>\n      <td id=\"T_8edea_row11_col1\" class=\"data row11 col1\" >5513847.6000</td>\n      <td id=\"T_8edea_row11_col2\" class=\"data row11 col2\" >122426322200817.5156</td>\n      <td id=\"T_8edea_row11_col3\" class=\"data row11 col3\" >10339991.5809</td>\n      <td id=\"T_8edea_row11_col4\" class=\"data row11 col4\" >0.2704</td>\n      <td id=\"T_8edea_row11_col5\" class=\"data row11 col5\" >0.9129</td>\n      <td id=\"T_8edea_row11_col6\" class=\"data row11 col6\" >1.2000</td>\n      <td id=\"T_8edea_row11_col7\" class=\"data row11 col7\" >0.0130</td>\n    </tr>\n    <tr>\n      <th id=\"T_8edea_level0_row12\" class=\"row_heading level0 row12\" >ada</th>\n      <td id=\"T_8edea_row12_col0\" class=\"data row12 col0\" >AdaBoost Regressor</td>\n      <td id=\"T_8edea_row12_col1\" class=\"data row12 col1\" >7210495.7308</td>\n      <td id=\"T_8edea_row12_col2\" class=\"data row12 col2\" >124463133587755.1406</td>\n      <td id=\"T_8edea_row12_col3\" class=\"data row12 col3\" >10693740.6653</td>\n      <td id=\"T_8edea_row12_col4\" class=\"data row12 col4\" >0.1508</td>\n      <td id=\"T_8edea_row12_col5\" class=\"data row12 col5\" >1.0549</td>\n      <td id=\"T_8edea_row12_col6\" class=\"data row12 col6\" >1.8946</td>\n      <td id=\"T_8edea_row12_col7\" class=\"data row12 col7\" >0.0530</td>\n    </tr>\n    <tr>\n      <th id=\"T_8edea_level0_row13\" class=\"row_heading level0 row13\" >knn</th>\n      <td id=\"T_8edea_row13_col0\" class=\"data row13 col0\" >K Neighbors Regressor</td>\n      <td id=\"T_8edea_row13_col1\" class=\"data row13 col1\" >5932419.7408</td>\n      <td id=\"T_8edea_row13_col2\" class=\"data row13 col2\" >148934012486951.0625</td>\n      <td id=\"T_8edea_row13_col3\" class=\"data row13 col3\" >11570577.6872</td>\n      <td id=\"T_8edea_row13_col4\" class=\"data row13 col4\" >0.0566</td>\n      <td id=\"T_8edea_row13_col5\" class=\"data row13 col5\" >0.9073</td>\n      <td id=\"T_8edea_row13_col6\" class=\"data row13 col6\" >1.2977</td>\n      <td id=\"T_8edea_row13_col7\" class=\"data row13 col7\" >0.0120</td>\n    </tr>\n    <tr>\n      <th id=\"T_8edea_level0_row14\" class=\"row_heading level0 row14\" >br</th>\n      <td id=\"T_8edea_row14_col0\" class=\"data row14 col0\" >Bayesian Ridge</td>\n      <td id=\"T_8edea_row14_col1\" class=\"data row14 col1\" >6620034.5425</td>\n      <td id=\"T_8edea_row14_col2\" class=\"data row14 col2\" >149194422357900.5000</td>\n      <td id=\"T_8edea_row14_col3\" class=\"data row14 col3\" >11569541.6227</td>\n      <td id=\"T_8edea_row14_col4\" class=\"data row14 col4\" >0.0725</td>\n      <td id=\"T_8edea_row14_col5\" class=\"data row14 col5\" >1.0391</td>\n      <td id=\"T_8edea_row14_col6\" class=\"data row14 col6\" >1.7477</td>\n      <td id=\"T_8edea_row14_col7\" class=\"data row14 col7\" >0.0070</td>\n    </tr>\n    <tr>\n      <th id=\"T_8edea_level0_row15\" class=\"row_heading level0 row15\" >huber</th>\n      <td id=\"T_8edea_row15_col0\" class=\"data row15 col0\" >Huber Regressor</td>\n      <td id=\"T_8edea_row15_col1\" class=\"data row15 col1\" >5643413.0603</td>\n      <td id=\"T_8edea_row15_col2\" class=\"data row15 col2\" >160633066766233.0938</td>\n      <td id=\"T_8edea_row15_col3\" class=\"data row15 col3\" >11990308.4907</td>\n      <td id=\"T_8edea_row15_col4\" class=\"data row15 col4\" >0.0088</td>\n      <td id=\"T_8edea_row15_col5\" class=\"data row15 col5\" >0.9350</td>\n      <td id=\"T_8edea_row15_col6\" class=\"data row15 col6\" >0.9307</td>\n      <td id=\"T_8edea_row15_col7\" class=\"data row15 col7\" >0.0210</td>\n    </tr>\n    <tr>\n      <th id=\"T_8edea_level0_row16\" class=\"row_heading level0 row16\" >dummy</th>\n      <td id=\"T_8edea_row16_col0\" class=\"data row16 col0\" >Dummy Regressor</td>\n      <td id=\"T_8edea_row16_col1\" class=\"data row16 col1\" >6990970.7432</td>\n      <td id=\"T_8edea_row16_col2\" class=\"data row16 col2\" >160739665300899.0625</td>\n      <td id=\"T_8edea_row16_col3\" class=\"data row16 col3\" >12059521.2568</td>\n      <td id=\"T_8edea_row16_col4\" class=\"data row16 col4\" >-0.0141</td>\n      <td id=\"T_8edea_row16_col5\" class=\"data row16 col5\" >1.1357</td>\n      <td id=\"T_8edea_row16_col6\" class=\"data row16 col6\" >1.9627</td>\n      <td id=\"T_8edea_row16_col7\" class=\"data row16 col7\" >0.0060</td>\n    </tr>\n    <tr>\n      <th id=\"T_8edea_level0_row17\" class=\"row_heading level0 row17\" >dt</th>\n      <td id=\"T_8edea_row17_col0\" class=\"data row17 col0\" >Decision Tree Regressor</td>\n      <td id=\"T_8edea_row17_col1\" class=\"data row17 col1\" >4209967.6394</td>\n      <td id=\"T_8edea_row17_col2\" class=\"data row17 col2\" >163556176247267.8750</td>\n      <td id=\"T_8edea_row17_col3\" class=\"data row17 col3\" >11592004.9124</td>\n      <td id=\"T_8edea_row17_col4\" class=\"data row17 col4\" >-0.1742</td>\n      <td id=\"T_8edea_row17_col5\" class=\"data row17 col5\" >0.6259</td>\n      <td id=\"T_8edea_row17_col6\" class=\"data row17 col6\" >0.5948</td>\n      <td id=\"T_8edea_row17_col7\" class=\"data row17 col7\" >0.0060</td>\n    </tr>\n    <tr>\n      <th id=\"T_8edea_level0_row18\" class=\"row_heading level0 row18\" >par</th>\n      <td id=\"T_8edea_row18_col0\" class=\"data row18 col0\" >Passive Aggressive Regressor</td>\n      <td id=\"T_8edea_row18_col1\" class=\"data row18 col1\" >14813423.4489</td>\n      <td id=\"T_8edea_row18_col2\" class=\"data row18 col2\" >822197018394691.0000</td>\n      <td id=\"T_8edea_row18_col3\" class=\"data row18 col3\" >21179318.8219</td>\n      <td id=\"T_8edea_row18_col4\" class=\"data row18 col4\" >-2.1910</td>\n      <td id=\"T_8edea_row18_col5\" class=\"data row18 col5\" >1.4273</td>\n      <td id=\"T_8edea_row18_col6\" class=\"data row18 col6\" >5.5948</td>\n      <td id=\"T_8edea_row18_col7\" class=\"data row18 col7\" >0.0060</td>\n    </tr>\n    <tr>\n      <th id=\"T_8edea_level0_row19\" class=\"row_heading level0 row19\" >lar</th>\n      <td id=\"T_8edea_row19_col0\" class=\"data row19 col0\" >Least Angle Regression</td>\n      <td id=\"T_8edea_row19_col1\" class=\"data row19 col1\" >9030133.1453</td>\n      <td id=\"T_8edea_row19_col2\" class=\"data row19 col2\" >9342489909685130.0000</td>\n      <td id=\"T_8edea_row19_col3\" class=\"data row19 col3\" >39211498.0781</td>\n      <td id=\"T_8edea_row19_col4\" class=\"data row19 col4\" >-39.6180</td>\n      <td id=\"T_8edea_row19_col5\" class=\"data row19 col5\" >0.9383</td>\n      <td id=\"T_8edea_row19_col6\" class=\"data row19 col6\" >2.4572</td>\n      <td id=\"T_8edea_row19_col7\" class=\"data row19 col7\" >0.0130</td>\n    </tr>\n  </tbody>\n</table>\n"
     },
     "metadata": {},
     "output_type": "display_data"
    }
   ],
   "source": [
    "top_3_models = regression.compare_models(sort='MSE', n_select=3)"
   ],
   "metadata": {
    "collapsed": false,
    "pycharm": {
     "name": "#%%\n"
    }
   }
  },
  {
   "cell_type": "code",
   "execution_count": 8,
   "outputs": [
    {
     "data": {
      "text/plain": "<pandas.io.formats.style.Styler at 0x145b297aa90>",
      "text/html": "<style type=\"text/css\">\n#T_ae3bd_row10_col0, #T_ae3bd_row10_col1, #T_ae3bd_row10_col2, #T_ae3bd_row10_col3, #T_ae3bd_row10_col4, #T_ae3bd_row10_col5 {\n  background: yellow;\n}\n</style>\n<table id=\"T_ae3bd\">\n  <thead>\n    <tr>\n      <th class=\"blank level0\" >&nbsp;</th>\n      <th id=\"T_ae3bd_level0_col0\" class=\"col_heading level0 col0\" >MAE</th>\n      <th id=\"T_ae3bd_level0_col1\" class=\"col_heading level0 col1\" >MSE</th>\n      <th id=\"T_ae3bd_level0_col2\" class=\"col_heading level0 col2\" >RMSE</th>\n      <th id=\"T_ae3bd_level0_col3\" class=\"col_heading level0 col3\" >R2</th>\n      <th id=\"T_ae3bd_level0_col4\" class=\"col_heading level0 col4\" >RMSLE</th>\n      <th id=\"T_ae3bd_level0_col5\" class=\"col_heading level0 col5\" >MAPE</th>\n    </tr>\n    <tr>\n      <th class=\"index_name level0\" >Fold</th>\n      <th class=\"blank col0\" >&nbsp;</th>\n      <th class=\"blank col1\" >&nbsp;</th>\n      <th class=\"blank col2\" >&nbsp;</th>\n      <th class=\"blank col3\" >&nbsp;</th>\n      <th class=\"blank col4\" >&nbsp;</th>\n      <th class=\"blank col5\" >&nbsp;</th>\n    </tr>\n  </thead>\n  <tbody>\n    <tr>\n      <th id=\"T_ae3bd_level0_row0\" class=\"row_heading level0 row0\" >0</th>\n      <td id=\"T_ae3bd_row0_col0\" class=\"data row0 col0\" >2261046.2670</td>\n      <td id=\"T_ae3bd_row0_col1\" class=\"data row0 col1\" >18823192171817.6562</td>\n      <td id=\"T_ae3bd_row0_col2\" class=\"data row0 col2\" >4338570.2912</td>\n      <td id=\"T_ae3bd_row0_col3\" class=\"data row0 col3\" >0.8302</td>\n      <td id=\"T_ae3bd_row0_col4\" class=\"data row0 col4\" >0.4020</td>\n      <td id=\"T_ae3bd_row0_col5\" class=\"data row0 col5\" >0.3702</td>\n    </tr>\n    <tr>\n      <th id=\"T_ae3bd_level0_row1\" class=\"row_heading level0 row1\" >1</th>\n      <td id=\"T_ae3bd_row1_col0\" class=\"data row1 col0\" >4508685.9363</td>\n      <td id=\"T_ae3bd_row1_col1\" class=\"data row1 col1\" >325626732255125.8125</td>\n      <td id=\"T_ae3bd_row1_col2\" class=\"data row1 col2\" >18045130.4305</td>\n      <td id=\"T_ae3bd_row1_col3\" class=\"data row1 col3\" >0.1848</td>\n      <td id=\"T_ae3bd_row1_col4\" class=\"data row1 col4\" >0.5977</td>\n      <td id=\"T_ae3bd_row1_col5\" class=\"data row1 col5\" >0.3966</td>\n    </tr>\n    <tr>\n      <th id=\"T_ae3bd_level0_row2\" class=\"row_heading level0 row2\" >2</th>\n      <td id=\"T_ae3bd_row2_col0\" class=\"data row2 col0\" >3154894.3184</td>\n      <td id=\"T_ae3bd_row2_col1\" class=\"data row2 col1\" >35693971248910.6172</td>\n      <td id=\"T_ae3bd_row2_col2\" class=\"data row2 col2\" >5974443.1748</td>\n      <td id=\"T_ae3bd_row2_col3\" class=\"data row2 col3\" >0.7079</td>\n      <td id=\"T_ae3bd_row2_col4\" class=\"data row2 col4\" >0.6176</td>\n      <td id=\"T_ae3bd_row2_col5\" class=\"data row2 col5\" >0.7345</td>\n    </tr>\n    <tr>\n      <th id=\"T_ae3bd_level0_row3\" class=\"row_heading level0 row3\" >3</th>\n      <td id=\"T_ae3bd_row3_col0\" class=\"data row3 col0\" >3360201.3573</td>\n      <td id=\"T_ae3bd_row3_col1\" class=\"data row3 col1\" >122777923515790.4062</td>\n      <td id=\"T_ae3bd_row3_col2\" class=\"data row3 col2\" >11080520.0020</td>\n      <td id=\"T_ae3bd_row3_col3\" class=\"data row3 col3\" >0.4695</td>\n      <td id=\"T_ae3bd_row3_col4\" class=\"data row3 col4\" >0.4953</td>\n      <td id=\"T_ae3bd_row3_col5\" class=\"data row3 col5\" >0.4692</td>\n    </tr>\n    <tr>\n      <th id=\"T_ae3bd_level0_row4\" class=\"row_heading level0 row4\" >4</th>\n      <td id=\"T_ae3bd_row4_col0\" class=\"data row4 col0\" >2154382.7714</td>\n      <td id=\"T_ae3bd_row4_col1\" class=\"data row4 col1\" >10530734240426.4004</td>\n      <td id=\"T_ae3bd_row4_col2\" class=\"data row4 col2\" >3245109.2802</td>\n      <td id=\"T_ae3bd_row4_col3\" class=\"data row4 col3\" >0.8206</td>\n      <td id=\"T_ae3bd_row4_col4\" class=\"data row4 col4\" >0.4169</td>\n      <td id=\"T_ae3bd_row4_col5\" class=\"data row4 col5\" >0.3907</td>\n    </tr>\n    <tr>\n      <th id=\"T_ae3bd_level0_row5\" class=\"row_heading level0 row5\" >5</th>\n      <td id=\"T_ae3bd_row5_col0\" class=\"data row5 col0\" >3194956.9813</td>\n      <td id=\"T_ae3bd_row5_col1\" class=\"data row5 col1\" >37935031306914.1406</td>\n      <td id=\"T_ae3bd_row5_col2\" class=\"data row5 col2\" >6159142.0918</td>\n      <td id=\"T_ae3bd_row5_col3\" class=\"data row5 col3\" >0.5376</td>\n      <td id=\"T_ae3bd_row5_col4\" class=\"data row5 col4\" >0.6179</td>\n      <td id=\"T_ae3bd_row5_col5\" class=\"data row5 col5\" >0.7179</td>\n    </tr>\n    <tr>\n      <th id=\"T_ae3bd_level0_row6\" class=\"row_heading level0 row6\" >6</th>\n      <td id=\"T_ae3bd_row6_col0\" class=\"data row6 col0\" >4434595.2319</td>\n      <td id=\"T_ae3bd_row6_col1\" class=\"data row6 col1\" >122386006013981.2656</td>\n      <td id=\"T_ae3bd_row6_col2\" class=\"data row6 col2\" >11062820.8886</td>\n      <td id=\"T_ae3bd_row6_col3\" class=\"data row6 col3\" >0.5604</td>\n      <td id=\"T_ae3bd_row6_col4\" class=\"data row6 col4\" >0.5505</td>\n      <td id=\"T_ae3bd_row6_col5\" class=\"data row6 col5\" >0.5318</td>\n    </tr>\n    <tr>\n      <th id=\"T_ae3bd_level0_row7\" class=\"row_heading level0 row7\" >7</th>\n      <td id=\"T_ae3bd_row7_col0\" class=\"data row7 col0\" >2955293.2138</td>\n      <td id=\"T_ae3bd_row7_col1\" class=\"data row7 col1\" >37932975561089.1641</td>\n      <td id=\"T_ae3bd_row7_col2\" class=\"data row7 col2\" >6158975.2038</td>\n      <td id=\"T_ae3bd_row7_col3\" class=\"data row7 col3\" >0.4897</td>\n      <td id=\"T_ae3bd_row7_col4\" class=\"data row7 col4\" >0.4933</td>\n      <td id=\"T_ae3bd_row7_col5\" class=\"data row7 col5\" >0.3322</td>\n    </tr>\n    <tr>\n      <th id=\"T_ae3bd_level0_row8\" class=\"row_heading level0 row8\" >8</th>\n      <td id=\"T_ae3bd_row8_col0\" class=\"data row8 col0\" >2018911.0601</td>\n      <td id=\"T_ae3bd_row8_col1\" class=\"data row8 col1\" >22293009586060.6094</td>\n      <td id=\"T_ae3bd_row8_col2\" class=\"data row8 col2\" >4721547.3720</td>\n      <td id=\"T_ae3bd_row8_col3\" class=\"data row8 col3\" >0.6600</td>\n      <td id=\"T_ae3bd_row8_col4\" class=\"data row8 col4\" >0.3925</td>\n      <td id=\"T_ae3bd_row8_col5\" class=\"data row8 col5\" >0.3236</td>\n    </tr>\n    <tr>\n      <th id=\"T_ae3bd_level0_row9\" class=\"row_heading level0 row9\" >9</th>\n      <td id=\"T_ae3bd_row9_col0\" class=\"data row9 col0\" >3415768.2079</td>\n      <td id=\"T_ae3bd_row9_col1\" class=\"data row9 col1\" >46877985910279.7109</td>\n      <td id=\"T_ae3bd_row9_col2\" class=\"data row9 col2\" >6846750.0254</td>\n      <td id=\"T_ae3bd_row9_col3\" class=\"data row9 col3\" >0.7230</td>\n      <td id=\"T_ae3bd_row9_col4\" class=\"data row9 col4\" >0.4417</td>\n      <td id=\"T_ae3bd_row9_col5\" class=\"data row9 col5\" >0.4121</td>\n    </tr>\n    <tr>\n      <th id=\"T_ae3bd_level0_row10\" class=\"row_heading level0 row10\" >Mean</th>\n      <td id=\"T_ae3bd_row10_col0\" class=\"data row10 col0\" >3145873.5345</td>\n      <td id=\"T_ae3bd_row10_col1\" class=\"data row10 col1\" >78087756181039.5938</td>\n      <td id=\"T_ae3bd_row10_col2\" class=\"data row10 col2\" >7763300.8760</td>\n      <td id=\"T_ae3bd_row10_col3\" class=\"data row10 col3\" >0.5984</td>\n      <td id=\"T_ae3bd_row10_col4\" class=\"data row10 col4\" >0.5025</td>\n      <td id=\"T_ae3bd_row10_col5\" class=\"data row10 col5\" >0.4679</td>\n    </tr>\n    <tr>\n      <th id=\"T_ae3bd_level0_row11\" class=\"row_heading level0 row11\" >Std</th>\n      <td id=\"T_ae3bd_row11_col0\" class=\"data row11 col0\" >819247.8178</td>\n      <td id=\"T_ae3bd_row11_col1\" class=\"data row11 col1\" >90785634690429.4844</td>\n      <td id=\"T_ae3bd_row11_col2\" class=\"data row11 col2\" >4221245.7508</td>\n      <td id=\"T_ae3bd_row11_col3\" class=\"data row11 col3\" >0.1841</td>\n      <td id=\"T_ae3bd_row11_col4\" class=\"data row11 col4\" >0.0844</td>\n      <td id=\"T_ae3bd_row11_col5\" class=\"data row11 col5\" >0.1416</td>\n    </tr>\n  </tbody>\n</table>\n"
     },
     "metadata": {},
     "output_type": "display_data"
    }
   ],
   "source": [
    "blended = regression.blend_models(estimator_list=top_3_models, fold=10, optimize='MSE')"
   ],
   "metadata": {
    "collapsed": false,
    "pycharm": {
     "name": "#%%\n"
    }
   }
  },
  {
   "cell_type": "code",
   "execution_count": 9,
   "outputs": [],
   "source": [
    "import numpy as np\n",
    "from sklearn.metrics import mean_absolute_error\n",
    "\n",
    "from itertools import combinations\n",
    "from vecstack import StackingTransformer\n",
    "from tqdm import tqdm\n",
    "\n",
    "def NMAE(true, pred):\n",
    "    mae = mean_absolute_error(true,pred)\n",
    "    score = mae / np.mean(np.abs(true))\n",
    "    return score"
   ],
   "metadata": {
    "collapsed": false,
    "pycharm": {
     "name": "#%%\n"
    }
   }
  },
  {
   "cell_type": "code",
   "execution_count": 10,
   "outputs": [
    {
     "name": "stdout",
     "output_type": "stream",
     "text": [
      "(1015, 7) (436, 7) (1015, 1)\n",
      "(710, 7) (305, 7) (710, 1) (305, 1)\n"
     ]
    }
   ],
   "source": [
    "print(X.shape, X_test.shape, Y.shape)\n",
    "print(x_train.shape, x_val.shape, y_train.shape, y_val.shape)"
   ],
   "metadata": {
    "collapsed": false,
    "pycharm": {
     "name": "#%%\n"
    }
   }
  },
  {
   "cell_type": "code",
   "execution_count": 11,
   "outputs": [],
   "source": [
    "from sklearn.ensemble import GradientBoostingRegressor, ExtraTreesRegressor, RandomForestRegressor\n",
    "from xgboost import XGBRegressor\n",
    "from lightgbm import LGBMRegressor\n",
    "from catboost import CatBoostRegressor\n",
    "\n",
    "models = [\n",
    "    ('LGBMRegressor',LGBMRegressor(n_estimators=500,max_depth=12, learning_rate=0.02,subsample=0.8,random_state=0)),\n",
    "    ('XGBRegressor',XGBRegressor(n_estimators=900,max_depth=16,learning_rate=0.02,random_state=0,subsample=1.0,verbosity=0)),\n",
    "    ('CatBoostRegressor',CatBoostRegressor(n_estimators=800,max_depth=10,learning_rate=0.02,subsample=0.8,random_state=0,verbose=0)),\n",
    "    ('GradientBoostingRegressor',GradientBoostingRegressor(n_estimators=700,max_depth=9,learning_rate=0.05,subsample=0.8,random_state=0)),\n",
    "    ('ExtraTreesRegressor',ExtraTreesRegressor(n_estimators=600,max_depth=9,random_state=0,criterion='mse')),\n",
    "    ('RandomForestRegressor',RandomForestRegressor(n_estimators=500,max_depth=12,random_state=0,criterion='mse'))]"
   ],
   "metadata": {
    "collapsed": false,
    "pycharm": {
     "name": "#%%\n"
    }
   }
  },
  {
   "cell_type": "code",
   "execution_count": 12,
   "outputs": [
    {
     "name": "stdout",
     "output_type": "stream",
     "text": [
      "LGBMRegressor:  0.12792283684879552\n",
      "XGBRegressor:  0.14027052129726658\n",
      "CatBoostRegressor:  0.11657556170887975\n",
      "GradientBoostingRegressor:  0.1292094702519579\n",
      "ExtraTreesRegressor:  0.12902322240833594\n",
      "RandomForestRegressor:  0.1344326565211613\n"
     ]
    }
   ],
   "source": [
    "for name, model in models:\n",
    "    model.fit(x_train, y_train)\n",
    "    print(f'{name}: ', NMAE(y_val,model.predict(x_val)))"
   ],
   "metadata": {
    "collapsed": false,
    "pycharm": {
     "name": "#%%\n"
    }
   }
  },
  {
   "cell_type": "code",
   "execution_count": 13,
   "outputs": [],
   "source": [
    "pred_list = list()\n",
    "for name, model in models:\n",
    "    pred_list.append([model.predict(x_val),name])\n",
    "\n",
    "pred_comb = list()\n",
    "for i in range(2,len(pred_list)+1):\n",
    "    pred_comb += list(combinations(pred_list, i))"
   ],
   "metadata": {
    "collapsed": false,
    "pycharm": {
     "name": "#%%\n"
    }
   }
  },
  {
   "cell_type": "code",
   "execution_count": 14,
   "outputs": [],
   "source": [
    "nmae_list = list()\n",
    "\n",
    "for pred_info in pred_comb:\n",
    "    preds, names = list(), list()\n",
    "\n",
    "    for pred, name in pred_info:\n",
    "        preds.append(pred)\n",
    "        names.append(name)\n",
    "    nmae_list.append([NMAE(y_val,sum(preds)/len(preds)),names])"
   ],
   "metadata": {
    "collapsed": false,
    "pycharm": {
     "name": "#%%\n"
    }
   }
  },
  {
   "cell_type": "code",
   "execution_count": 15,
   "outputs": [
    {
     "data": {
      "text/plain": "[0.11885160274910317, ['CatBoostRegressor', 'ExtraTreesRegressor']]"
     },
     "execution_count": 15,
     "metadata": {},
     "output_type": "execute_result"
    }
   ],
   "source": [
    "sorted(nmae_list)[0]"
   ],
   "metadata": {
    "collapsed": false,
    "pycharm": {
     "name": "#%%\n"
    }
   }
  },
  {
   "cell_type": "code",
   "execution_count": 16,
   "outputs": [],
   "source": [
    "estimator = [('XGBRegressor',XGBRegressor(n_estimators=900,max_depth=16,learning_rate=0.02,random_state=0,subsample=1.0,verbosity=0)),\n",
    "('CatBoostRegressor',CatBoostRegressor(n_estimators=800,max_depth=10,learning_rate=0.02,subsample=0.8,random_state=0,verbose=0))]"
   ],
   "metadata": {
    "collapsed": false,
    "pycharm": {
     "name": "#%%\n"
    }
   }
  },
  {
   "cell_type": "code",
   "execution_count": 17,
   "outputs": [],
   "source": [
    "stack = StackingTransformer(estimator,\n",
    "                            regression = True,\n",
    "                            metric = NMAE,\n",
    "                            n_folds = 10, stratified = True, shuffle = True,\n",
    "                            random_state = 0, verbose = 0)"
   ],
   "metadata": {
    "collapsed": false,
    "pycharm": {
     "name": "#%%\n"
    }
   }
  },
  {
   "cell_type": "code",
   "execution_count": 18,
   "outputs": [
    {
     "data": {
      "text/plain": "0.14496489677550056"
     },
     "execution_count": 18,
     "metadata": {},
     "output_type": "execute_result"
    }
   ],
   "source": [
    "S_train = stack.fit_transform(x_train, y_train)\n",
    "S_test = stack.transform(x_val)\n",
    "\n",
    "S_model = LGBMRegressor(n_estimators=500,max_depth=12,random_state=0)\n",
    "S_model.fit(S_train, y_train)\n",
    "NMAE(y_val, S_model.predict(S_test))"
   ],
   "metadata": {
    "collapsed": false,
    "pycharm": {
     "name": "#%%\n"
    }
   }
  },
  {
   "cell_type": "code",
   "execution_count": 19,
   "outputs": [],
   "source": [
    "models = [\n",
    "    ('XGBRegressor',XGBRegressor(n_estimators=900,max_depth=16,learning_rate=0.02,random_state=0,subsample=1.0,verbosity=0)),\n",
    "    ('CatBoostRegressor',CatBoostRegressor(n_estimators=800,max_depth=10,learning_rate=0.02,subsample=0.8,random_state=0,verbose=0))\n",
    "]"
   ],
   "metadata": {
    "collapsed": false,
    "pycharm": {
     "name": "#%%\n"
    }
   }
  },
  {
   "cell_type": "code",
   "execution_count": 20,
   "outputs": [],
   "source": [
    "pred = None\n",
    "for name, model in models:\n",
    "    model.fit(x_train, y_train)\n",
    "    if pred is None:\n",
    "        pred = model.predict(X_test)\n",
    "    else:\n",
    "        pred += model.predict(X_test)\n",
    "\n",
    "pred = pred/len(models)\n",
    "pred = scalerY.inverse_transform([pred])\n",
    "pred = np.exp(pred)"
   ],
   "metadata": {
    "collapsed": false,
    "pycharm": {
     "name": "#%%\n"
    }
   }
  },
  {
   "cell_type": "code",
   "execution_count": 21,
   "outputs": [],
   "source": [
    "pred = pred.reshape(-1,1)"
   ],
   "metadata": {
    "collapsed": false,
    "pycharm": {
     "name": "#%%\n"
    }
   }
  },
  {
   "cell_type": "code",
   "execution_count": 22,
   "outputs": [
    {
     "data": {
      "text/plain": "(436, 1)"
     },
     "execution_count": 22,
     "metadata": {},
     "output_type": "execute_result"
    }
   ],
   "source": [
    "pred.shape"
   ],
   "metadata": {
    "collapsed": false,
    "pycharm": {
     "name": "#%%\n"
    }
   }
  },
  {
   "cell_type": "code",
   "execution_count": 23,
   "outputs": [],
   "source": [
    "sample = pd.read_csv('sample_submission.csv')\n",
    "sample['target'] = pred\n",
    "\n",
    "sample.to_csv( dirpath + \"submit.csv\", index=False)"
   ],
   "metadata": {
    "collapsed": false,
    "pycharm": {
     "name": "#%%\n"
    }
   }
  }
 ],
 "metadata": {
  "kernelspec": {
   "display_name": "Python 3",
   "language": "python",
   "name": "python3"
  },
  "language_info": {
   "codemirror_mode": {
    "name": "ipython",
    "version": 2
   },
   "file_extension": ".py",
   "mimetype": "text/x-python",
   "name": "python",
   "nbconvert_exporter": "python",
   "pygments_lexer": "ipython2",
   "version": "2.7.6"
  }
 },
 "nbformat": 4,
 "nbformat_minor": 0
}