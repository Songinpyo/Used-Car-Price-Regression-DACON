{
 "cells": [
  {
   "cell_type": "code",
   "execution_count": 1,
   "outputs": [],
   "source": [
    "# This is file for train, prediction\n",
    "\n",
    "import pandas as pd\n",
    "\n",
    "dirpath = 'C:/Python/Used-Car-Price-Regression-DACON/'\n",
    "\n",
    "train = pd.read_csv('data/modified_train.csv')\n",
    "test = pd.read_csv('data/modified_test.csv')"
   ],
   "metadata": {
    "collapsed": false,
    "pycharm": {
     "name": "#%%\n"
    }
   }
  },
  {
   "cell_type": "code",
   "execution_count": 2,
   "outputs": [],
   "source": [
    "from sklearn import model_selection\n",
    "\n",
    "# train data for scaler fitting\n",
    "\n",
    "Y = train[ ['target'] ].values\n",
    "X = train[ ['title', 'odometer', 'location', 'isimported', 'engine', 'transmission', 'fuel', 'paint', 'year', 'brand' ] ].values\n",
    "X_test = test[ ['title', 'odometer', 'location', 'isimported', 'engine', 'transmission', 'fuel', 'paint', 'year', 'brand' ] ].values"
   ],
   "metadata": {
    "collapsed": false,
    "pycharm": {
     "name": "#%%\n"
    }
   }
  },
  {
   "cell_type": "code",
   "execution_count": 3,
   "outputs": [],
   "source": [
    "from sklearn.preprocessing import MinMaxScaler\n",
    "\n",
    "scalerX = MinMaxScaler()\n",
    "scalerX.fit(X)\n",
    "X = scalerX.transform(X)\n",
    "X_test = scalerX.transform(X_test)\n",
    "\n",
    "scalerY = MinMaxScaler()\n",
    "scalerY.fit(Y)\n",
    "Y = scalerY.transform(Y)"
   ],
   "metadata": {
    "collapsed": false,
    "pycharm": {
     "name": "#%%\n"
    }
   }
  },
  {
   "cell_type": "code",
   "execution_count": 4,
   "outputs": [
    {
     "data": {
      "text/plain": "((710, 10), (305, 10), (710, 1), (305, 1))"
     },
     "execution_count": 4,
     "metadata": {},
     "output_type": "execute_result"
    }
   ],
   "source": [
    "x_train, x_val, y_train, y_val = \\\n",
    "    model_selection.train_test_split(X, Y, test_size=0.3, random_state=41)\n",
    "x_train.shape, x_val.shape, y_train.shape, y_val.shape"
   ],
   "metadata": {
    "collapsed": false,
    "pycharm": {
     "name": "#%%\n"
    }
   }
  },
  {
   "cell_type": "code",
   "execution_count": 5,
   "outputs": [
    {
     "data": {
      "text/plain": "<pandas.io.formats.style.Styler at 0x18b90aaf640>",
      "text/html": "<style type=\"text/css\">\n#T_253b2_row42_col1 {\n  background-color: lightgreen;\n}\n</style>\n<table id=\"T_253b2\">\n  <thead>\n    <tr>\n      <th class=\"blank level0\" >&nbsp;</th>\n      <th id=\"T_253b2_level0_col0\" class=\"col_heading level0 col0\" >Description</th>\n      <th id=\"T_253b2_level0_col1\" class=\"col_heading level0 col1\" >Value</th>\n    </tr>\n  </thead>\n  <tbody>\n    <tr>\n      <th id=\"T_253b2_level0_row0\" class=\"row_heading level0 row0\" >0</th>\n      <td id=\"T_253b2_row0_col0\" class=\"data row0 col0\" >session_id</td>\n      <td id=\"T_253b2_row0_col1\" class=\"data row0 col1\" >0</td>\n    </tr>\n    <tr>\n      <th id=\"T_253b2_level0_row1\" class=\"row_heading level0 row1\" >1</th>\n      <td id=\"T_253b2_row1_col0\" class=\"data row1 col0\" >Target</td>\n      <td id=\"T_253b2_row1_col1\" class=\"data row1 col1\" >target</td>\n    </tr>\n    <tr>\n      <th id=\"T_253b2_level0_row2\" class=\"row_heading level0 row2\" >2</th>\n      <td id=\"T_253b2_row2_col0\" class=\"data row2 col0\" >Original Data</td>\n      <td id=\"T_253b2_row2_col1\" class=\"data row2 col1\" >(1015, 11)</td>\n    </tr>\n    <tr>\n      <th id=\"T_253b2_level0_row3\" class=\"row_heading level0 row3\" >3</th>\n      <td id=\"T_253b2_row3_col0\" class=\"data row3 col0\" >Missing Values</td>\n      <td id=\"T_253b2_row3_col1\" class=\"data row3 col1\" >False</td>\n    </tr>\n    <tr>\n      <th id=\"T_253b2_level0_row4\" class=\"row_heading level0 row4\" >4</th>\n      <td id=\"T_253b2_row4_col0\" class=\"data row4 col0\" >Numeric Features</td>\n      <td id=\"T_253b2_row4_col1\" class=\"data row4 col1\" >4</td>\n    </tr>\n    <tr>\n      <th id=\"T_253b2_level0_row5\" class=\"row_heading level0 row5\" >5</th>\n      <td id=\"T_253b2_row5_col0\" class=\"data row5 col0\" >Categorical Features</td>\n      <td id=\"T_253b2_row5_col1\" class=\"data row5 col1\" >6</td>\n    </tr>\n    <tr>\n      <th id=\"T_253b2_level0_row6\" class=\"row_heading level0 row6\" >6</th>\n      <td id=\"T_253b2_row6_col0\" class=\"data row6 col0\" >Ordinal Features</td>\n      <td id=\"T_253b2_row6_col1\" class=\"data row6 col1\" >False</td>\n    </tr>\n    <tr>\n      <th id=\"T_253b2_level0_row7\" class=\"row_heading level0 row7\" >7</th>\n      <td id=\"T_253b2_row7_col0\" class=\"data row7 col0\" >High Cardinality Features</td>\n      <td id=\"T_253b2_row7_col1\" class=\"data row7 col1\" >False</td>\n    </tr>\n    <tr>\n      <th id=\"T_253b2_level0_row8\" class=\"row_heading level0 row8\" >8</th>\n      <td id=\"T_253b2_row8_col0\" class=\"data row8 col0\" >High Cardinality Method</td>\n      <td id=\"T_253b2_row8_col1\" class=\"data row8 col1\" >None</td>\n    </tr>\n    <tr>\n      <th id=\"T_253b2_level0_row9\" class=\"row_heading level0 row9\" >9</th>\n      <td id=\"T_253b2_row9_col0\" class=\"data row9 col0\" >Transformed Train Set</td>\n      <td id=\"T_253b2_row9_col1\" class=\"data row9 col1\" >(710, 38)</td>\n    </tr>\n    <tr>\n      <th id=\"T_253b2_level0_row10\" class=\"row_heading level0 row10\" >10</th>\n      <td id=\"T_253b2_row10_col0\" class=\"data row10 col0\" >Transformed Test Set</td>\n      <td id=\"T_253b2_row10_col1\" class=\"data row10 col1\" >(305, 38)</td>\n    </tr>\n    <tr>\n      <th id=\"T_253b2_level0_row11\" class=\"row_heading level0 row11\" >11</th>\n      <td id=\"T_253b2_row11_col0\" class=\"data row11 col0\" >Shuffle Train-Test</td>\n      <td id=\"T_253b2_row11_col1\" class=\"data row11 col1\" >True</td>\n    </tr>\n    <tr>\n      <th id=\"T_253b2_level0_row12\" class=\"row_heading level0 row12\" >12</th>\n      <td id=\"T_253b2_row12_col0\" class=\"data row12 col0\" >Stratify Train-Test</td>\n      <td id=\"T_253b2_row12_col1\" class=\"data row12 col1\" >False</td>\n    </tr>\n    <tr>\n      <th id=\"T_253b2_level0_row13\" class=\"row_heading level0 row13\" >13</th>\n      <td id=\"T_253b2_row13_col0\" class=\"data row13 col0\" >Fold Generator</td>\n      <td id=\"T_253b2_row13_col1\" class=\"data row13 col1\" >KFold</td>\n    </tr>\n    <tr>\n      <th id=\"T_253b2_level0_row14\" class=\"row_heading level0 row14\" >14</th>\n      <td id=\"T_253b2_row14_col0\" class=\"data row14 col0\" >Fold Number</td>\n      <td id=\"T_253b2_row14_col1\" class=\"data row14 col1\" >10</td>\n    </tr>\n    <tr>\n      <th id=\"T_253b2_level0_row15\" class=\"row_heading level0 row15\" >15</th>\n      <td id=\"T_253b2_row15_col0\" class=\"data row15 col0\" >CPU Jobs</td>\n      <td id=\"T_253b2_row15_col1\" class=\"data row15 col1\" >-1</td>\n    </tr>\n    <tr>\n      <th id=\"T_253b2_level0_row16\" class=\"row_heading level0 row16\" >16</th>\n      <td id=\"T_253b2_row16_col0\" class=\"data row16 col0\" >Use GPU</td>\n      <td id=\"T_253b2_row16_col1\" class=\"data row16 col1\" >False</td>\n    </tr>\n    <tr>\n      <th id=\"T_253b2_level0_row17\" class=\"row_heading level0 row17\" >17</th>\n      <td id=\"T_253b2_row17_col0\" class=\"data row17 col0\" >Log Experiment</td>\n      <td id=\"T_253b2_row17_col1\" class=\"data row17 col1\" >False</td>\n    </tr>\n    <tr>\n      <th id=\"T_253b2_level0_row18\" class=\"row_heading level0 row18\" >18</th>\n      <td id=\"T_253b2_row18_col0\" class=\"data row18 col0\" >Experiment Name</td>\n      <td id=\"T_253b2_row18_col1\" class=\"data row18 col1\" >reg-default-name</td>\n    </tr>\n    <tr>\n      <th id=\"T_253b2_level0_row19\" class=\"row_heading level0 row19\" >19</th>\n      <td id=\"T_253b2_row19_col0\" class=\"data row19 col0\" >USI</td>\n      <td id=\"T_253b2_row19_col1\" class=\"data row19 col1\" >05fd</td>\n    </tr>\n    <tr>\n      <th id=\"T_253b2_level0_row20\" class=\"row_heading level0 row20\" >20</th>\n      <td id=\"T_253b2_row20_col0\" class=\"data row20 col0\" >Imputation Type</td>\n      <td id=\"T_253b2_row20_col1\" class=\"data row20 col1\" >simple</td>\n    </tr>\n    <tr>\n      <th id=\"T_253b2_level0_row21\" class=\"row_heading level0 row21\" >21</th>\n      <td id=\"T_253b2_row21_col0\" class=\"data row21 col0\" >Iterative Imputation Iteration</td>\n      <td id=\"T_253b2_row21_col1\" class=\"data row21 col1\" >None</td>\n    </tr>\n    <tr>\n      <th id=\"T_253b2_level0_row22\" class=\"row_heading level0 row22\" >22</th>\n      <td id=\"T_253b2_row22_col0\" class=\"data row22 col0\" >Numeric Imputer</td>\n      <td id=\"T_253b2_row22_col1\" class=\"data row22 col1\" >mean</td>\n    </tr>\n    <tr>\n      <th id=\"T_253b2_level0_row23\" class=\"row_heading level0 row23\" >23</th>\n      <td id=\"T_253b2_row23_col0\" class=\"data row23 col0\" >Iterative Imputation Numeric Model</td>\n      <td id=\"T_253b2_row23_col1\" class=\"data row23 col1\" >None</td>\n    </tr>\n    <tr>\n      <th id=\"T_253b2_level0_row24\" class=\"row_heading level0 row24\" >24</th>\n      <td id=\"T_253b2_row24_col0\" class=\"data row24 col0\" >Categorical Imputer</td>\n      <td id=\"T_253b2_row24_col1\" class=\"data row24 col1\" >constant</td>\n    </tr>\n    <tr>\n      <th id=\"T_253b2_level0_row25\" class=\"row_heading level0 row25\" >25</th>\n      <td id=\"T_253b2_row25_col0\" class=\"data row25 col0\" >Iterative Imputation Categorical Model</td>\n      <td id=\"T_253b2_row25_col1\" class=\"data row25 col1\" >None</td>\n    </tr>\n    <tr>\n      <th id=\"T_253b2_level0_row26\" class=\"row_heading level0 row26\" >26</th>\n      <td id=\"T_253b2_row26_col0\" class=\"data row26 col0\" >Unknown Categoricals Handling</td>\n      <td id=\"T_253b2_row26_col1\" class=\"data row26 col1\" >least_frequent</td>\n    </tr>\n    <tr>\n      <th id=\"T_253b2_level0_row27\" class=\"row_heading level0 row27\" >27</th>\n      <td id=\"T_253b2_row27_col0\" class=\"data row27 col0\" >Normalize</td>\n      <td id=\"T_253b2_row27_col1\" class=\"data row27 col1\" >False</td>\n    </tr>\n    <tr>\n      <th id=\"T_253b2_level0_row28\" class=\"row_heading level0 row28\" >28</th>\n      <td id=\"T_253b2_row28_col0\" class=\"data row28 col0\" >Normalize Method</td>\n      <td id=\"T_253b2_row28_col1\" class=\"data row28 col1\" >None</td>\n    </tr>\n    <tr>\n      <th id=\"T_253b2_level0_row29\" class=\"row_heading level0 row29\" >29</th>\n      <td id=\"T_253b2_row29_col0\" class=\"data row29 col0\" >Transformation</td>\n      <td id=\"T_253b2_row29_col1\" class=\"data row29 col1\" >False</td>\n    </tr>\n    <tr>\n      <th id=\"T_253b2_level0_row30\" class=\"row_heading level0 row30\" >30</th>\n      <td id=\"T_253b2_row30_col0\" class=\"data row30 col0\" >Transformation Method</td>\n      <td id=\"T_253b2_row30_col1\" class=\"data row30 col1\" >None</td>\n    </tr>\n    <tr>\n      <th id=\"T_253b2_level0_row31\" class=\"row_heading level0 row31\" >31</th>\n      <td id=\"T_253b2_row31_col0\" class=\"data row31 col0\" >PCA</td>\n      <td id=\"T_253b2_row31_col1\" class=\"data row31 col1\" >False</td>\n    </tr>\n    <tr>\n      <th id=\"T_253b2_level0_row32\" class=\"row_heading level0 row32\" >32</th>\n      <td id=\"T_253b2_row32_col0\" class=\"data row32 col0\" >PCA Method</td>\n      <td id=\"T_253b2_row32_col1\" class=\"data row32 col1\" >None</td>\n    </tr>\n    <tr>\n      <th id=\"T_253b2_level0_row33\" class=\"row_heading level0 row33\" >33</th>\n      <td id=\"T_253b2_row33_col0\" class=\"data row33 col0\" >PCA Components</td>\n      <td id=\"T_253b2_row33_col1\" class=\"data row33 col1\" >None</td>\n    </tr>\n    <tr>\n      <th id=\"T_253b2_level0_row34\" class=\"row_heading level0 row34\" >34</th>\n      <td id=\"T_253b2_row34_col0\" class=\"data row34 col0\" >Ignore Low Variance</td>\n      <td id=\"T_253b2_row34_col1\" class=\"data row34 col1\" >False</td>\n    </tr>\n    <tr>\n      <th id=\"T_253b2_level0_row35\" class=\"row_heading level0 row35\" >35</th>\n      <td id=\"T_253b2_row35_col0\" class=\"data row35 col0\" >Combine Rare Levels</td>\n      <td id=\"T_253b2_row35_col1\" class=\"data row35 col1\" >False</td>\n    </tr>\n    <tr>\n      <th id=\"T_253b2_level0_row36\" class=\"row_heading level0 row36\" >36</th>\n      <td id=\"T_253b2_row36_col0\" class=\"data row36 col0\" >Rare Level Threshold</td>\n      <td id=\"T_253b2_row36_col1\" class=\"data row36 col1\" >None</td>\n    </tr>\n    <tr>\n      <th id=\"T_253b2_level0_row37\" class=\"row_heading level0 row37\" >37</th>\n      <td id=\"T_253b2_row37_col0\" class=\"data row37 col0\" >Numeric Binning</td>\n      <td id=\"T_253b2_row37_col1\" class=\"data row37 col1\" >False</td>\n    </tr>\n    <tr>\n      <th id=\"T_253b2_level0_row38\" class=\"row_heading level0 row38\" >38</th>\n      <td id=\"T_253b2_row38_col0\" class=\"data row38 col0\" >Remove Outliers</td>\n      <td id=\"T_253b2_row38_col1\" class=\"data row38 col1\" >False</td>\n    </tr>\n    <tr>\n      <th id=\"T_253b2_level0_row39\" class=\"row_heading level0 row39\" >39</th>\n      <td id=\"T_253b2_row39_col0\" class=\"data row39 col0\" >Outliers Threshold</td>\n      <td id=\"T_253b2_row39_col1\" class=\"data row39 col1\" >None</td>\n    </tr>\n    <tr>\n      <th id=\"T_253b2_level0_row40\" class=\"row_heading level0 row40\" >40</th>\n      <td id=\"T_253b2_row40_col0\" class=\"data row40 col0\" >Remove Multicollinearity</td>\n      <td id=\"T_253b2_row40_col1\" class=\"data row40 col1\" >False</td>\n    </tr>\n    <tr>\n      <th id=\"T_253b2_level0_row41\" class=\"row_heading level0 row41\" >41</th>\n      <td id=\"T_253b2_row41_col0\" class=\"data row41 col0\" >Multicollinearity Threshold</td>\n      <td id=\"T_253b2_row41_col1\" class=\"data row41 col1\" >None</td>\n    </tr>\n    <tr>\n      <th id=\"T_253b2_level0_row42\" class=\"row_heading level0 row42\" >42</th>\n      <td id=\"T_253b2_row42_col0\" class=\"data row42 col0\" >Remove Perfect Collinearity</td>\n      <td id=\"T_253b2_row42_col1\" class=\"data row42 col1\" >True</td>\n    </tr>\n    <tr>\n      <th id=\"T_253b2_level0_row43\" class=\"row_heading level0 row43\" >43</th>\n      <td id=\"T_253b2_row43_col0\" class=\"data row43 col0\" >Clustering</td>\n      <td id=\"T_253b2_row43_col1\" class=\"data row43 col1\" >False</td>\n    </tr>\n    <tr>\n      <th id=\"T_253b2_level0_row44\" class=\"row_heading level0 row44\" >44</th>\n      <td id=\"T_253b2_row44_col0\" class=\"data row44 col0\" >Clustering Iteration</td>\n      <td id=\"T_253b2_row44_col1\" class=\"data row44 col1\" >None</td>\n    </tr>\n    <tr>\n      <th id=\"T_253b2_level0_row45\" class=\"row_heading level0 row45\" >45</th>\n      <td id=\"T_253b2_row45_col0\" class=\"data row45 col0\" >Polynomial Features</td>\n      <td id=\"T_253b2_row45_col1\" class=\"data row45 col1\" >False</td>\n    </tr>\n    <tr>\n      <th id=\"T_253b2_level0_row46\" class=\"row_heading level0 row46\" >46</th>\n      <td id=\"T_253b2_row46_col0\" class=\"data row46 col0\" >Polynomial Degree</td>\n      <td id=\"T_253b2_row46_col1\" class=\"data row46 col1\" >None</td>\n    </tr>\n    <tr>\n      <th id=\"T_253b2_level0_row47\" class=\"row_heading level0 row47\" >47</th>\n      <td id=\"T_253b2_row47_col0\" class=\"data row47 col0\" >Trignometry Features</td>\n      <td id=\"T_253b2_row47_col1\" class=\"data row47 col1\" >False</td>\n    </tr>\n    <tr>\n      <th id=\"T_253b2_level0_row48\" class=\"row_heading level0 row48\" >48</th>\n      <td id=\"T_253b2_row48_col0\" class=\"data row48 col0\" >Polynomial Threshold</td>\n      <td id=\"T_253b2_row48_col1\" class=\"data row48 col1\" >None</td>\n    </tr>\n    <tr>\n      <th id=\"T_253b2_level0_row49\" class=\"row_heading level0 row49\" >49</th>\n      <td id=\"T_253b2_row49_col0\" class=\"data row49 col0\" >Group Features</td>\n      <td id=\"T_253b2_row49_col1\" class=\"data row49 col1\" >False</td>\n    </tr>\n    <tr>\n      <th id=\"T_253b2_level0_row50\" class=\"row_heading level0 row50\" >50</th>\n      <td id=\"T_253b2_row50_col0\" class=\"data row50 col0\" >Feature Selection</td>\n      <td id=\"T_253b2_row50_col1\" class=\"data row50 col1\" >False</td>\n    </tr>\n    <tr>\n      <th id=\"T_253b2_level0_row51\" class=\"row_heading level0 row51\" >51</th>\n      <td id=\"T_253b2_row51_col0\" class=\"data row51 col0\" >Feature Selection Method</td>\n      <td id=\"T_253b2_row51_col1\" class=\"data row51 col1\" >classic</td>\n    </tr>\n    <tr>\n      <th id=\"T_253b2_level0_row52\" class=\"row_heading level0 row52\" >52</th>\n      <td id=\"T_253b2_row52_col0\" class=\"data row52 col0\" >Features Selection Threshold</td>\n      <td id=\"T_253b2_row52_col1\" class=\"data row52 col1\" >None</td>\n    </tr>\n    <tr>\n      <th id=\"T_253b2_level0_row53\" class=\"row_heading level0 row53\" >53</th>\n      <td id=\"T_253b2_row53_col0\" class=\"data row53 col0\" >Feature Interaction</td>\n      <td id=\"T_253b2_row53_col1\" class=\"data row53 col1\" >False</td>\n    </tr>\n    <tr>\n      <th id=\"T_253b2_level0_row54\" class=\"row_heading level0 row54\" >54</th>\n      <td id=\"T_253b2_row54_col0\" class=\"data row54 col0\" >Feature Ratio</td>\n      <td id=\"T_253b2_row54_col1\" class=\"data row54 col1\" >False</td>\n    </tr>\n    <tr>\n      <th id=\"T_253b2_level0_row55\" class=\"row_heading level0 row55\" >55</th>\n      <td id=\"T_253b2_row55_col0\" class=\"data row55 col0\" >Interaction Threshold</td>\n      <td id=\"T_253b2_row55_col1\" class=\"data row55 col1\" >None</td>\n    </tr>\n    <tr>\n      <th id=\"T_253b2_level0_row56\" class=\"row_heading level0 row56\" >56</th>\n      <td id=\"T_253b2_row56_col0\" class=\"data row56 col0\" >Transform Target</td>\n      <td id=\"T_253b2_row56_col1\" class=\"data row56 col1\" >False</td>\n    </tr>\n    <tr>\n      <th id=\"T_253b2_level0_row57\" class=\"row_heading level0 row57\" >57</th>\n      <td id=\"T_253b2_row57_col0\" class=\"data row57 col0\" >Transform Target Method</td>\n      <td id=\"T_253b2_row57_col1\" class=\"data row57 col1\" >box-cox</td>\n    </tr>\n  </tbody>\n</table>\n"
     },
     "metadata": {},
     "output_type": "display_data"
    }
   ],
   "source": [
    "from pycaret import regression\n",
    "\n",
    "model = regression.setup(data=train, target='target',train_size=0.7,session_id=0,silent=True)"
   ],
   "metadata": {
    "collapsed": false,
    "pycharm": {
     "name": "#%%\n"
    }
   }
  },
  {
   "cell_type": "code",
   "execution_count": 6,
   "outputs": [
    {
     "data": {
      "text/plain": "<pandas.io.formats.style.Styler at 0x18b90081b50>",
      "text/html": "<style type=\"text/css\">\n#T_0a153 th {\n  text-align: left;\n}\n#T_0a153_row0_col0, #T_0a153_row0_col5, #T_0a153_row0_col6, #T_0a153_row1_col0, #T_0a153_row1_col1, #T_0a153_row1_col2, #T_0a153_row1_col3, #T_0a153_row1_col4, #T_0a153_row1_col5, #T_0a153_row1_col6, #T_0a153_row2_col0, #T_0a153_row2_col1, #T_0a153_row2_col2, #T_0a153_row2_col3, #T_0a153_row2_col4, #T_0a153_row2_col5, #T_0a153_row2_col6, #T_0a153_row3_col0, #T_0a153_row3_col1, #T_0a153_row3_col2, #T_0a153_row3_col3, #T_0a153_row3_col4, #T_0a153_row4_col0, #T_0a153_row4_col1, #T_0a153_row4_col2, #T_0a153_row4_col3, #T_0a153_row4_col4, #T_0a153_row4_col5, #T_0a153_row5_col0, #T_0a153_row5_col1, #T_0a153_row5_col2, #T_0a153_row5_col3, #T_0a153_row5_col4, #T_0a153_row5_col5, #T_0a153_row5_col6, #T_0a153_row6_col0, #T_0a153_row6_col1, #T_0a153_row6_col2, #T_0a153_row6_col3, #T_0a153_row6_col4, #T_0a153_row6_col5, #T_0a153_row6_col6, #T_0a153_row7_col0, #T_0a153_row7_col1, #T_0a153_row7_col2, #T_0a153_row7_col3, #T_0a153_row7_col4, #T_0a153_row7_col5, #T_0a153_row7_col6, #T_0a153_row8_col0, #T_0a153_row8_col1, #T_0a153_row8_col2, #T_0a153_row8_col3, #T_0a153_row8_col4, #T_0a153_row8_col5, #T_0a153_row8_col6, #T_0a153_row9_col0, #T_0a153_row9_col1, #T_0a153_row9_col2, #T_0a153_row9_col3, #T_0a153_row9_col4, #T_0a153_row9_col5, #T_0a153_row9_col6, #T_0a153_row10_col0, #T_0a153_row10_col1, #T_0a153_row10_col2, #T_0a153_row10_col3, #T_0a153_row10_col4, #T_0a153_row10_col5, #T_0a153_row10_col6, #T_0a153_row11_col0, #T_0a153_row11_col1, #T_0a153_row11_col2, #T_0a153_row11_col3, #T_0a153_row11_col4, #T_0a153_row11_col5, #T_0a153_row11_col6, #T_0a153_row12_col0, #T_0a153_row12_col1, #T_0a153_row12_col2, #T_0a153_row12_col3, #T_0a153_row12_col4, #T_0a153_row12_col5, #T_0a153_row12_col6, #T_0a153_row13_col0, #T_0a153_row13_col1, #T_0a153_row13_col2, #T_0a153_row13_col3, #T_0a153_row13_col4, #T_0a153_row13_col5, #T_0a153_row13_col6, #T_0a153_row14_col0, #T_0a153_row14_col1, #T_0a153_row14_col2, #T_0a153_row14_col3, #T_0a153_row14_col4, #T_0a153_row14_col5, #T_0a153_row14_col6, #T_0a153_row15_col0, #T_0a153_row15_col1, #T_0a153_row15_col2, #T_0a153_row15_col3, #T_0a153_row15_col4, #T_0a153_row15_col5, #T_0a153_row15_col6, #T_0a153_row16_col0, #T_0a153_row16_col1, #T_0a153_row16_col2, #T_0a153_row16_col3, #T_0a153_row16_col4, #T_0a153_row16_col5, #T_0a153_row16_col6, #T_0a153_row17_col0, #T_0a153_row17_col1, #T_0a153_row17_col2, #T_0a153_row17_col3, #T_0a153_row17_col4, #T_0a153_row17_col5, #T_0a153_row17_col6, #T_0a153_row18_col0, #T_0a153_row18_col1, #T_0a153_row18_col2, #T_0a153_row18_col3, #T_0a153_row18_col4, #T_0a153_row18_col5, #T_0a153_row18_col6, #T_0a153_row19_col0, #T_0a153_row19_col1, #T_0a153_row19_col2, #T_0a153_row19_col3, #T_0a153_row19_col4, #T_0a153_row19_col5, #T_0a153_row19_col6 {\n  text-align: left;\n}\n#T_0a153_row0_col1, #T_0a153_row0_col2, #T_0a153_row0_col3, #T_0a153_row0_col4, #T_0a153_row3_col5, #T_0a153_row3_col6, #T_0a153_row4_col6 {\n  text-align: left;\n  background-color: yellow;\n}\n#T_0a153_row0_col7, #T_0a153_row1_col7, #T_0a153_row2_col7, #T_0a153_row3_col7, #T_0a153_row4_col7, #T_0a153_row5_col7, #T_0a153_row6_col7, #T_0a153_row7_col7, #T_0a153_row8_col7, #T_0a153_row9_col7, #T_0a153_row10_col7, #T_0a153_row11_col7, #T_0a153_row12_col7, #T_0a153_row13_col7, #T_0a153_row14_col7, #T_0a153_row15_col7, #T_0a153_row17_col7, #T_0a153_row19_col7 {\n  text-align: left;\n  background-color: lightgrey;\n}\n#T_0a153_row16_col7, #T_0a153_row18_col7 {\n  text-align: left;\n  background-color: yellow;\n  background-color: lightgrey;\n}\n</style>\n<table id=\"T_0a153\">\n  <thead>\n    <tr>\n      <th class=\"blank level0\" >&nbsp;</th>\n      <th id=\"T_0a153_level0_col0\" class=\"col_heading level0 col0\" >Model</th>\n      <th id=\"T_0a153_level0_col1\" class=\"col_heading level0 col1\" >MAE</th>\n      <th id=\"T_0a153_level0_col2\" class=\"col_heading level0 col2\" >MSE</th>\n      <th id=\"T_0a153_level0_col3\" class=\"col_heading level0 col3\" >RMSE</th>\n      <th id=\"T_0a153_level0_col4\" class=\"col_heading level0 col4\" >R2</th>\n      <th id=\"T_0a153_level0_col5\" class=\"col_heading level0 col5\" >RMSLE</th>\n      <th id=\"T_0a153_level0_col6\" class=\"col_heading level0 col6\" >MAPE</th>\n      <th id=\"T_0a153_level0_col7\" class=\"col_heading level0 col7\" >TT (Sec)</th>\n    </tr>\n  </thead>\n  <tbody>\n    <tr>\n      <th id=\"T_0a153_level0_row0\" class=\"row_heading level0 row0\" >catboost</th>\n      <td id=\"T_0a153_row0_col0\" class=\"data row0 col0\" >CatBoost Regressor</td>\n      <td id=\"T_0a153_row0_col1\" class=\"data row0 col1\" >2798996.0519</td>\n      <td id=\"T_0a153_row0_col2\" class=\"data row0 col2\" >69978546911409.4062</td>\n      <td id=\"T_0a153_row0_col3\" class=\"data row0 col3\" >7259353.9178</td>\n      <td id=\"T_0a153_row0_col4\" class=\"data row0 col4\" >0.6455</td>\n      <td id=\"T_0a153_row0_col5\" class=\"data row0 col5\" >0.5150</td>\n      <td id=\"T_0a153_row0_col6\" class=\"data row0 col6\" >0.4127</td>\n      <td id=\"T_0a153_row0_col7\" class=\"data row0 col7\" >0.3610</td>\n    </tr>\n    <tr>\n      <th id=\"T_0a153_level0_row1\" class=\"row_heading level0 row1\" >gbr</th>\n      <td id=\"T_0a153_row1_col0\" class=\"data row1 col0\" >Gradient Boosting Regressor</td>\n      <td id=\"T_0a153_row1_col1\" class=\"data row1 col1\" >3293840.1210</td>\n      <td id=\"T_0a153_row1_col2\" class=\"data row1 col2\" >79532199490951.0781</td>\n      <td id=\"T_0a153_row1_col3\" class=\"data row1 col3\" >7993333.3380</td>\n      <td id=\"T_0a153_row1_col4\" class=\"data row1 col4\" >0.5670</td>\n      <td id=\"T_0a153_row1_col5\" class=\"data row1 col5\" >0.5894</td>\n      <td id=\"T_0a153_row1_col6\" class=\"data row1 col6\" >0.5241</td>\n      <td id=\"T_0a153_row1_col7\" class=\"data row1 col7\" >0.0210</td>\n    </tr>\n    <tr>\n      <th id=\"T_0a153_level0_row2\" class=\"row_heading level0 row2\" >lightgbm</th>\n      <td id=\"T_0a153_row2_col0\" class=\"data row2 col0\" >Light Gradient Boosting Machine</td>\n      <td id=\"T_0a153_row2_col1\" class=\"data row2 col1\" >3462953.7833</td>\n      <td id=\"T_0a153_row2_col2\" class=\"data row2 col2\" >81667255508237.7812</td>\n      <td id=\"T_0a153_row2_col3\" class=\"data row2 col3\" >8042259.7623</td>\n      <td id=\"T_0a153_row2_col4\" class=\"data row2 col4\" >0.5595</td>\n      <td id=\"T_0a153_row2_col5\" class=\"data row2 col5\" >0.6361</td>\n      <td id=\"T_0a153_row2_col6\" class=\"data row2 col6\" >0.6030</td>\n      <td id=\"T_0a153_row2_col7\" class=\"data row2 col7\" >0.0140</td>\n    </tr>\n    <tr>\n      <th id=\"T_0a153_level0_row3\" class=\"row_heading level0 row3\" >rf</th>\n      <td id=\"T_0a153_row3_col0\" class=\"data row3 col0\" >Random Forest Regressor</td>\n      <td id=\"T_0a153_row3_col1\" class=\"data row3 col1\" >3145821.1175</td>\n      <td id=\"T_0a153_row3_col2\" class=\"data row3 col2\" >83276610198918.2031</td>\n      <td id=\"T_0a153_row3_col3\" class=\"data row3 col3\" >8071626.6693</td>\n      <td id=\"T_0a153_row3_col4\" class=\"data row3 col4\" >0.5610</td>\n      <td id=\"T_0a153_row3_col5\" class=\"data row3 col5\" >0.4672</td>\n      <td id=\"T_0a153_row3_col6\" class=\"data row3 col6\" >0.3999</td>\n      <td id=\"T_0a153_row3_col7\" class=\"data row3 col7\" >0.0740</td>\n    </tr>\n    <tr>\n      <th id=\"T_0a153_level0_row4\" class=\"row_heading level0 row4\" >xgboost</th>\n      <td id=\"T_0a153_row4_col0\" class=\"data row4 col0\" >Extreme Gradient Boosting</td>\n      <td id=\"T_0a153_row4_col1\" class=\"data row4 col1\" >2892771.3516</td>\n      <td id=\"T_0a153_row4_col2\" class=\"data row4 col2\" >85642911899571.4844</td>\n      <td id=\"T_0a153_row4_col3\" class=\"data row4 col3\" >7980263.1722</td>\n      <td id=\"T_0a153_row4_col4\" class=\"data row4 col4\" >0.5774</td>\n      <td id=\"T_0a153_row4_col5\" class=\"data row4 col5\" >0.5035</td>\n      <td id=\"T_0a153_row4_col6\" class=\"data row4 col6\" >0.3999</td>\n      <td id=\"T_0a153_row4_col7\" class=\"data row4 col7\" >0.0450</td>\n    </tr>\n    <tr>\n      <th id=\"T_0a153_level0_row5\" class=\"row_heading level0 row5\" >et</th>\n      <td id=\"T_0a153_row5_col0\" class=\"data row5 col0\" >Extra Trees Regressor</td>\n      <td id=\"T_0a153_row5_col1\" class=\"data row5 col1\" >3506710.3085</td>\n      <td id=\"T_0a153_row5_col2\" class=\"data row5 col2\" >94957637748232.1094</td>\n      <td id=\"T_0a153_row5_col3\" class=\"data row5 col3\" >9057354.0706</td>\n      <td id=\"T_0a153_row5_col4\" class=\"data row5 col4\" >0.4168</td>\n      <td id=\"T_0a153_row5_col5\" class=\"data row5 col5\" >0.5301</td>\n      <td id=\"T_0a153_row5_col6\" class=\"data row5 col6\" >0.5090</td>\n      <td id=\"T_0a153_row5_col7\" class=\"data row5 col7\" >0.0640</td>\n    </tr>\n    <tr>\n      <th id=\"T_0a153_level0_row6\" class=\"row_heading level0 row6\" >ridge</th>\n      <td id=\"T_0a153_row6_col0\" class=\"data row6 col0\" >Ridge Regression</td>\n      <td id=\"T_0a153_row6_col1\" class=\"data row6 col1\" >5420395.5549</td>\n      <td id=\"T_0a153_row6_col2\" class=\"data row6 col2\" >112043152608236.4688</td>\n      <td id=\"T_0a153_row6_col3\" class=\"data row6 col3\" >9894490.5393</td>\n      <td id=\"T_0a153_row6_col4\" class=\"data row6 col4\" >0.3073</td>\n      <td id=\"T_0a153_row6_col5\" class=\"data row6 col5\" >0.8702</td>\n      <td id=\"T_0a153_row6_col6\" class=\"data row6 col6\" >1.1912</td>\n      <td id=\"T_0a153_row6_col7\" class=\"data row6 col7\" >0.0040</td>\n    </tr>\n    <tr>\n      <th id=\"T_0a153_level0_row7\" class=\"row_heading level0 row7\" >lr</th>\n      <td id=\"T_0a153_row7_col0\" class=\"data row7 col0\" >Linear Regression</td>\n      <td id=\"T_0a153_row7_col1\" class=\"data row7 col1\" >5443164.0507</td>\n      <td id=\"T_0a153_row7_col2\" class=\"data row7 col2\" >112189838493328.8750</td>\n      <td id=\"T_0a153_row7_col3\" class=\"data row7 col3\" >9891862.8761</td>\n      <td id=\"T_0a153_row7_col4\" class=\"data row7 col4\" >0.3091</td>\n      <td id=\"T_0a153_row7_col5\" class=\"data row7 col5\" >0.8871</td>\n      <td id=\"T_0a153_row7_col6\" class=\"data row7 col6\" >1.1960</td>\n      <td id=\"T_0a153_row7_col7\" class=\"data row7 col7\" >0.3040</td>\n    </tr>\n    <tr>\n      <th id=\"T_0a153_level0_row8\" class=\"row_heading level0 row8\" >llar</th>\n      <td id=\"T_0a153_row8_col0\" class=\"data row8 col0\" >Lasso Least Angle Regression</td>\n      <td id=\"T_0a153_row8_col1\" class=\"data row8 col1\" >5478062.1710</td>\n      <td id=\"T_0a153_row8_col2\" class=\"data row8 col2\" >112736502659544.8438</td>\n      <td id=\"T_0a153_row8_col3\" class=\"data row8 col3\" >9930314.1667</td>\n      <td id=\"T_0a153_row8_col4\" class=\"data row8 col4\" >0.3002</td>\n      <td id=\"T_0a153_row8_col5\" class=\"data row8 col5\" >0.8773</td>\n      <td id=\"T_0a153_row8_col6\" class=\"data row8 col6\" >1.2073</td>\n      <td id=\"T_0a153_row8_col7\" class=\"data row8 col7\" >0.0050</td>\n    </tr>\n    <tr>\n      <th id=\"T_0a153_level0_row9\" class=\"row_heading level0 row9\" >lasso</th>\n      <td id=\"T_0a153_row9_col0\" class=\"data row9 col0\" >Lasso Regression</td>\n      <td id=\"T_0a153_row9_col1\" class=\"data row9 col1\" >5476413.2901</td>\n      <td id=\"T_0a153_row9_col2\" class=\"data row9 col2\" >112737947581770.9219</td>\n      <td id=\"T_0a153_row9_col3\" class=\"data row9 col3\" >9930397.6464</td>\n      <td id=\"T_0a153_row9_col4\" class=\"data row9 col4\" >0.3002</td>\n      <td id=\"T_0a153_row9_col5\" class=\"data row9 col5\" >0.8771</td>\n      <td id=\"T_0a153_row9_col6\" class=\"data row9 col6\" >1.2068</td>\n      <td id=\"T_0a153_row9_col7\" class=\"data row9 col7\" >0.0050</td>\n    </tr>\n    <tr>\n      <th id=\"T_0a153_level0_row10\" class=\"row_heading level0 row10\" >omp</th>\n      <td id=\"T_0a153_row10_col0\" class=\"data row10 col0\" >Orthogonal Matching Pursuit</td>\n      <td id=\"T_0a153_row10_col1\" class=\"data row10 col1\" >5306255.1713</td>\n      <td id=\"T_0a153_row10_col2\" class=\"data row10 col2\" >114249419093320.7031</td>\n      <td id=\"T_0a153_row10_col3\" class=\"data row10 col3\" >10043065.8098</td>\n      <td id=\"T_0a153_row10_col4\" class=\"data row10 col4\" >0.2767</td>\n      <td id=\"T_0a153_row10_col5\" class=\"data row10 col5\" >0.8528</td>\n      <td id=\"T_0a153_row10_col6\" class=\"data row10 col6\" >1.0328</td>\n      <td id=\"T_0a153_row10_col7\" class=\"data row10 col7\" >0.0070</td>\n    </tr>\n    <tr>\n      <th id=\"T_0a153_level0_row11\" class=\"row_heading level0 row11\" >dt</th>\n      <td id=\"T_0a153_row11_col0\" class=\"data row11 col0\" >Decision Tree Regressor</td>\n      <td id=\"T_0a153_row11_col1\" class=\"data row11 col1\" >4031939.4479</td>\n      <td id=\"T_0a153_row11_col2\" class=\"data row11 col2\" >121848812482535.2969</td>\n      <td id=\"T_0a153_row11_col3\" class=\"data row11 col3\" >10352502.2012</td>\n      <td id=\"T_0a153_row11_col4\" class=\"data row11 col4\" >0.2344</td>\n      <td id=\"T_0a153_row11_col5\" class=\"data row11 col5\" >0.5840</td>\n      <td id=\"T_0a153_row11_col6\" class=\"data row11 col6\" >0.4862</td>\n      <td id=\"T_0a153_row11_col7\" class=\"data row11 col7\" >0.0040</td>\n    </tr>\n    <tr>\n      <th id=\"T_0a153_level0_row12\" class=\"row_heading level0 row12\" >ada</th>\n      <td id=\"T_0a153_row12_col0\" class=\"data row12 col0\" >AdaBoost Regressor</td>\n      <td id=\"T_0a153_row12_col1\" class=\"data row12 col1\" >7522118.4157</td>\n      <td id=\"T_0a153_row12_col2\" class=\"data row12 col2\" >121950193789538.8438</td>\n      <td id=\"T_0a153_row12_col3\" class=\"data row12 col3\" >10659211.1609</td>\n      <td id=\"T_0a153_row12_col4\" class=\"data row12 col4\" >0.1566</td>\n      <td id=\"T_0a153_row12_col5\" class=\"data row12 col5\" >1.1006</td>\n      <td id=\"T_0a153_row12_col6\" class=\"data row12 col6\" >2.0992</td>\n      <td id=\"T_0a153_row12_col7\" class=\"data row12 col7\" >0.0200</td>\n    </tr>\n    <tr>\n      <th id=\"T_0a153_level0_row13\" class=\"row_heading level0 row13\" >en</th>\n      <td id=\"T_0a153_row13_col0\" class=\"data row13 col0\" >Elastic Net</td>\n      <td id=\"T_0a153_row13_col1\" class=\"data row13 col1\" >5549737.4592</td>\n      <td id=\"T_0a153_row13_col2\" class=\"data row13 col2\" >124742622520991.3281</td>\n      <td id=\"T_0a153_row13_col3\" class=\"data row13 col3\" >10505857.3842</td>\n      <td id=\"T_0a153_row13_col4\" class=\"data row13 col4\" >0.2392</td>\n      <td id=\"T_0a153_row13_col5\" class=\"data row13 col5\" >0.8477</td>\n      <td id=\"T_0a153_row13_col6\" class=\"data row13 col6\" >1.1707</td>\n      <td id=\"T_0a153_row13_col7\" class=\"data row13 col7\" >0.0060</td>\n    </tr>\n    <tr>\n      <th id=\"T_0a153_level0_row14\" class=\"row_heading level0 row14\" >knn</th>\n      <td id=\"T_0a153_row14_col0\" class=\"data row14 col0\" >K Neighbors Regressor</td>\n      <td id=\"T_0a153_row14_col1\" class=\"data row14 col1\" >5859214.1048</td>\n      <td id=\"T_0a153_row14_col2\" class=\"data row14 col2\" >143758142815715.0625</td>\n      <td id=\"T_0a153_row14_col3\" class=\"data row14 col3\" >11331998.3968</td>\n      <td id=\"T_0a153_row14_col4\" class=\"data row14 col4\" >0.0917</td>\n      <td id=\"T_0a153_row14_col5\" class=\"data row14 col5\" >0.9015</td>\n      <td id=\"T_0a153_row14_col6\" class=\"data row14 col6\" >1.2698</td>\n      <td id=\"T_0a153_row14_col7\" class=\"data row14 col7\" >0.0060</td>\n    </tr>\n    <tr>\n      <th id=\"T_0a153_level0_row15\" class=\"row_heading level0 row15\" >br</th>\n      <td id=\"T_0a153_row15_col0\" class=\"data row15 col0\" >Bayesian Ridge</td>\n      <td id=\"T_0a153_row15_col1\" class=\"data row15 col1\" >6620036.1557</td>\n      <td id=\"T_0a153_row15_col2\" class=\"data row15 col2\" >149194441551381.5625</td>\n      <td id=\"T_0a153_row15_col3\" class=\"data row15 col3\" >11569542.3290</td>\n      <td id=\"T_0a153_row15_col4\" class=\"data row15 col4\" >0.0725</td>\n      <td id=\"T_0a153_row15_col5\" class=\"data row15 col5\" >1.0391</td>\n      <td id=\"T_0a153_row15_col6\" class=\"data row15 col6\" >1.7477</td>\n      <td id=\"T_0a153_row15_col7\" class=\"data row15 col7\" >0.0040</td>\n    </tr>\n    <tr>\n      <th id=\"T_0a153_level0_row16\" class=\"row_heading level0 row16\" >dummy</th>\n      <td id=\"T_0a153_row16_col0\" class=\"data row16 col0\" >Dummy Regressor</td>\n      <td id=\"T_0a153_row16_col1\" class=\"data row16 col1\" >6990970.7432</td>\n      <td id=\"T_0a153_row16_col2\" class=\"data row16 col2\" >160739665300899.0625</td>\n      <td id=\"T_0a153_row16_col3\" class=\"data row16 col3\" >12059521.2568</td>\n      <td id=\"T_0a153_row16_col4\" class=\"data row16 col4\" >-0.0141</td>\n      <td id=\"T_0a153_row16_col5\" class=\"data row16 col5\" >1.1357</td>\n      <td id=\"T_0a153_row16_col6\" class=\"data row16 col6\" >1.9627</td>\n      <td id=\"T_0a153_row16_col7\" class=\"data row16 col7\" >0.0020</td>\n    </tr>\n    <tr>\n      <th id=\"T_0a153_level0_row17\" class=\"row_heading level0 row17\" >huber</th>\n      <td id=\"T_0a153_row17_col0\" class=\"data row17 col0\" >Huber Regressor</td>\n      <td id=\"T_0a153_row17_col1\" class=\"data row17 col1\" >5659626.2569</td>\n      <td id=\"T_0a153_row17_col2\" class=\"data row17 col2\" >162584787285189.4375</td>\n      <td id=\"T_0a153_row17_col3\" class=\"data row17 col3\" >12087447.8377</td>\n      <td id=\"T_0a153_row17_col4\" class=\"data row17 col4\" >-0.0110</td>\n      <td id=\"T_0a153_row17_col5\" class=\"data row17 col5\" >0.8870</td>\n      <td id=\"T_0a153_row17_col6\" class=\"data row17 col6\" >0.9164</td>\n      <td id=\"T_0a153_row17_col7\" class=\"data row17 col7\" >0.0070</td>\n    </tr>\n    <tr>\n      <th id=\"T_0a153_level0_row18\" class=\"row_heading level0 row18\" >par</th>\n      <td id=\"T_0a153_row18_col0\" class=\"data row18 col0\" >Passive Aggressive Regressor</td>\n      <td id=\"T_0a153_row18_col1\" class=\"data row18 col1\" >14896720.6922</td>\n      <td id=\"T_0a153_row18_col2\" class=\"data row18 col2\" >795614835923573.0000</td>\n      <td id=\"T_0a153_row18_col3\" class=\"data row18 col3\" >21497276.0589</td>\n      <td id=\"T_0a153_row18_col4\" class=\"data row18 col4\" >-2.4264</td>\n      <td id=\"T_0a153_row18_col5\" class=\"data row18 col5\" >1.4521</td>\n      <td id=\"T_0a153_row18_col6\" class=\"data row18 col6\" >5.5922</td>\n      <td id=\"T_0a153_row18_col7\" class=\"data row18 col7\" >0.0020</td>\n    </tr>\n    <tr>\n      <th id=\"T_0a153_level0_row19\" class=\"row_heading level0 row19\" >lar</th>\n      <td id=\"T_0a153_row19_col0\" class=\"data row19 col0\" >Least Angle Regression</td>\n      <td id=\"T_0a153_row19_col1\" class=\"data row19 col1\" >541968720368293248.0000</td>\n      <td id=\"T_0a153_row19_col2\" class=\"data row19 col2\" >208523084226168591972979010728322138112.0000</td>\n      <td id=\"T_0a153_row19_col3\" class=\"data row19 col3\" >4566432790233700864.0000</td>\n      <td id=\"T_0a153_row19_col4\" class=\"data row19 col4\" >-901053522182073904791552.0000</td>\n      <td id=\"T_0a153_row19_col5\" class=\"data row19 col5\" >3.1559</td>\n      <td id=\"T_0a153_row19_col6\" class=\"data row19 col6\" >185924652084.6494</td>\n      <td id=\"T_0a153_row19_col7\" class=\"data row19 col7\" >0.0060</td>\n    </tr>\n  </tbody>\n</table>\n"
     },
     "metadata": {},
     "output_type": "display_data"
    }
   ],
   "source": [
    "top_3_models = regression.compare_models(sort='MSE', n_select=3)"
   ],
   "metadata": {
    "collapsed": false,
    "pycharm": {
     "name": "#%%\n"
    }
   }
  },
  {
   "cell_type": "code",
   "execution_count": 7,
   "outputs": [
    {
     "data": {
      "text/plain": "<pandas.io.formats.style.Styler at 0x18b90a9e700>",
      "text/html": "<style type=\"text/css\">\n#T_2c955_row10_col0, #T_2c955_row10_col1, #T_2c955_row10_col2, #T_2c955_row10_col3, #T_2c955_row10_col4, #T_2c955_row10_col5 {\n  background: yellow;\n}\n</style>\n<table id=\"T_2c955\">\n  <thead>\n    <tr>\n      <th class=\"blank level0\" >&nbsp;</th>\n      <th id=\"T_2c955_level0_col0\" class=\"col_heading level0 col0\" >MAE</th>\n      <th id=\"T_2c955_level0_col1\" class=\"col_heading level0 col1\" >MSE</th>\n      <th id=\"T_2c955_level0_col2\" class=\"col_heading level0 col2\" >RMSE</th>\n      <th id=\"T_2c955_level0_col3\" class=\"col_heading level0 col3\" >R2</th>\n      <th id=\"T_2c955_level0_col4\" class=\"col_heading level0 col4\" >RMSLE</th>\n      <th id=\"T_2c955_level0_col5\" class=\"col_heading level0 col5\" >MAPE</th>\n    </tr>\n    <tr>\n      <th class=\"index_name level0\" >Fold</th>\n      <th class=\"blank col0\" >&nbsp;</th>\n      <th class=\"blank col1\" >&nbsp;</th>\n      <th class=\"blank col2\" >&nbsp;</th>\n      <th class=\"blank col3\" >&nbsp;</th>\n      <th class=\"blank col4\" >&nbsp;</th>\n      <th class=\"blank col5\" >&nbsp;</th>\n    </tr>\n  </thead>\n  <tbody>\n    <tr>\n      <th id=\"T_2c955_level0_row0\" class=\"row_heading level0 row0\" >0</th>\n      <td id=\"T_2c955_row0_col0\" class=\"data row0 col0\" >2396021.6348</td>\n      <td id=\"T_2c955_row0_col1\" class=\"data row0 col1\" >18949291879001.8320</td>\n      <td id=\"T_2c955_row0_col2\" class=\"data row0 col2\" >4353078.4370</td>\n      <td id=\"T_2c955_row0_col3\" class=\"data row0 col3\" >0.8291</td>\n      <td id=\"T_2c955_row0_col4\" class=\"data row0 col4\" >0.4767</td>\n      <td id=\"T_2c955_row0_col5\" class=\"data row0 col5\" >0.5287</td>\n    </tr>\n    <tr>\n      <th id=\"T_2c955_level0_row1\" class=\"row_heading level0 row1\" >1</th>\n      <td id=\"T_2c955_row1_col0\" class=\"data row1 col0\" >4504312.4419</td>\n      <td id=\"T_2c955_row1_col1\" class=\"data row1 col1\" >318473560602811.6875</td>\n      <td id=\"T_2c955_row1_col2\" class=\"data row1 col2\" >17845827.5404</td>\n      <td id=\"T_2c955_row1_col3\" class=\"data row1 col3\" >0.2027</td>\n      <td id=\"T_2c955_row1_col4\" class=\"data row1 col4\" >0.6464</td>\n      <td id=\"T_2c955_row1_col5\" class=\"data row1 col5\" >0.4686</td>\n    </tr>\n    <tr>\n      <th id=\"T_2c955_level0_row2\" class=\"row_heading level0 row2\" >2</th>\n      <td id=\"T_2c955_row2_col0\" class=\"data row2 col0\" >2668800.1134</td>\n      <td id=\"T_2c955_row2_col1\" class=\"data row2 col1\" >25649624628970.3750</td>\n      <td id=\"T_2c955_row2_col2\" class=\"data row2 col2\" >5064545.8463</td>\n      <td id=\"T_2c955_row2_col3\" class=\"data row2 col3\" >0.7901</td>\n      <td id=\"T_2c955_row2_col4\" class=\"data row2 col4\" >0.5335</td>\n      <td id=\"T_2c955_row2_col5\" class=\"data row2 col5\" >0.5733</td>\n    </tr>\n    <tr>\n      <th id=\"T_2c955_level0_row3\" class=\"row_heading level0 row3\" >3</th>\n      <td id=\"T_2c955_row3_col0\" class=\"data row3 col0\" >2951457.9609</td>\n      <td id=\"T_2c955_row3_col1\" class=\"data row3 col1\" >106883263532132.5781</td>\n      <td id=\"T_2c955_row3_col2\" class=\"data row3 col2\" >10338436.2228</td>\n      <td id=\"T_2c955_row3_col3\" class=\"data row3 col3\" >0.5381</td>\n      <td id=\"T_2c955_row3_col4\" class=\"data row3 col4\" >0.5157</td>\n      <td id=\"T_2c955_row3_col5\" class=\"data row3 col5\" >0.5140</td>\n    </tr>\n    <tr>\n      <th id=\"T_2c955_level0_row4\" class=\"row_heading level0 row4\" >4</th>\n      <td id=\"T_2c955_row4_col0\" class=\"data row4 col0\" >2011823.1888</td>\n      <td id=\"T_2c955_row4_col1\" class=\"data row4 col1\" >10556913153757.5859</td>\n      <td id=\"T_2c955_row4_col2\" class=\"data row4 col2\" >3249140.3715</td>\n      <td id=\"T_2c955_row4_col3\" class=\"data row4 col3\" >0.8201</td>\n      <td id=\"T_2c955_row4_col4\" class=\"data row4 col4\" >0.4773</td>\n      <td id=\"T_2c955_row4_col5\" class=\"data row4 col5\" >0.3761</td>\n    </tr>\n    <tr>\n      <th id=\"T_2c955_level0_row5\" class=\"row_heading level0 row5\" >5</th>\n      <td id=\"T_2c955_row5_col0\" class=\"data row5 col0\" >2590071.7061</td>\n      <td id=\"T_2c955_row5_col1\" class=\"data row5 col1\" >23849939355906.1680</td>\n      <td id=\"T_2c955_row5_col2\" class=\"data row5 col2\" >4883639.9699</td>\n      <td id=\"T_2c955_row5_col3\" class=\"data row5 col3\" >0.7093</td>\n      <td id=\"T_2c955_row5_col4\" class=\"data row5 col4\" >0.5342</td>\n      <td id=\"T_2c955_row5_col5\" class=\"data row5 col5\" >0.5578</td>\n    </tr>\n    <tr>\n      <th id=\"T_2c955_level0_row6\" class=\"row_heading level0 row6\" >6</th>\n      <td id=\"T_2c955_row6_col0\" class=\"data row6 col0\" >4174644.8730</td>\n      <td id=\"T_2c955_row6_col1\" class=\"data row6 col1\" >120743160632755.0156</td>\n      <td id=\"T_2c955_row6_col2\" class=\"data row6 col2\" >10988319.2815</td>\n      <td id=\"T_2c955_row6_col3\" class=\"data row6 col3\" >0.5663</td>\n      <td id=\"T_2c955_row6_col4\" class=\"data row6 col4\" >0.5864</td>\n      <td id=\"T_2c955_row6_col5\" class=\"data row6 col5\" >0.4732</td>\n    </tr>\n    <tr>\n      <th id=\"T_2c955_level0_row7\" class=\"row_heading level0 row7\" >7</th>\n      <td id=\"T_2c955_row7_col0\" class=\"data row7 col0\" >3255292.7595</td>\n      <td id=\"T_2c955_row7_col1\" class=\"data row7 col1\" >40464074269004.0234</td>\n      <td id=\"T_2c955_row7_col2\" class=\"data row7 col2\" >6361137.8125</td>\n      <td id=\"T_2c955_row7_col3\" class=\"data row7 col3\" >0.4556</td>\n      <td id=\"T_2c955_row7_col4\" class=\"data row7 col4\" >0.4265</td>\n      <td id=\"T_2c955_row7_col5\" class=\"data row7 col5\" >0.3657</td>\n    </tr>\n    <tr>\n      <th id=\"T_2c955_level0_row8\" class=\"row_heading level0 row8\" >8</th>\n      <td id=\"T_2c955_row8_col0\" class=\"data row8 col0\" >2269903.7283</td>\n      <td id=\"T_2c955_row8_col1\" class=\"data row8 col1\" >23479922747074.1719</td>\n      <td id=\"T_2c955_row8_col2\" class=\"data row8 col2\" >4845608.6044</td>\n      <td id=\"T_2c955_row8_col3\" class=\"data row8 col3\" >0.6419</td>\n      <td id=\"T_2c955_row8_col4\" class=\"data row8 col4\" >0.5075</td>\n      <td id=\"T_2c955_row8_col5\" class=\"data row8 col5\" >0.4330</td>\n    </tr>\n    <tr>\n      <th id=\"T_2c955_level0_row9\" class=\"row_heading level0 row9\" >9</th>\n      <td id=\"T_2c955_row9_col0\" class=\"data row9 col0\" >3084852.1107</td>\n      <td id=\"T_2c955_row9_col1\" class=\"data row9 col1\" >38445950216088.1797</td>\n      <td id=\"T_2c955_row9_col2\" class=\"data row9 col2\" >6200479.8376</td>\n      <td id=\"T_2c955_row9_col3\" class=\"data row9 col3\" >0.7728</td>\n      <td id=\"T_2c955_row9_col4\" class=\"data row9 col4\" >0.5045</td>\n      <td id=\"T_2c955_row9_col5\" class=\"data row9 col5\" >0.4294</td>\n    </tr>\n    <tr>\n      <th id=\"T_2c955_level0_row10\" class=\"row_heading level0 row10\" >Mean</th>\n      <td id=\"T_2c955_row10_col0\" class=\"data row10 col0\" >2990718.0517</td>\n      <td id=\"T_2c955_row10_col1\" class=\"data row10 col1\" >72749570101750.1562</td>\n      <td id=\"T_2c955_row10_col2\" class=\"data row10 col2\" >7413021.3924</td>\n      <td id=\"T_2c955_row10_col3\" class=\"data row10 col3\" >0.6326</td>\n      <td id=\"T_2c955_row10_col4\" class=\"data row10 col4\" >0.5209</td>\n      <td id=\"T_2c955_row10_col5\" class=\"data row10 col5\" >0.4720</td>\n    </tr>\n    <tr>\n      <th id=\"T_2c955_level0_row11\" class=\"row_heading level0 row11\" >Std</th>\n      <td id=\"T_2c955_row11_col0\" class=\"data row11 col0\" >766072.7101</td>\n      <td id=\"T_2c955_row11_col1\" class=\"data row11 col1\" >89368528163788.0469</td>\n      <td id=\"T_2c955_row11_col2\" class=\"data row11 col2\" >4218611.6126</td>\n      <td id=\"T_2c955_row11_col3\" class=\"data row11 col3\" >0.1880</td>\n      <td id=\"T_2c955_row11_col4\" class=\"data row11 col4\" >0.0580</td>\n      <td id=\"T_2c955_row11_col5\" class=\"data row11 col5\" >0.0681</td>\n    </tr>\n  </tbody>\n</table>\n"
     },
     "metadata": {},
     "output_type": "display_data"
    }
   ],
   "source": [
    "blended = regression.blend_models(estimator_list=top_3_models, fold=10, optimize='MSE')"
   ],
   "metadata": {
    "collapsed": false,
    "pycharm": {
     "name": "#%%\n"
    }
   }
  },
  {
   "cell_type": "code",
   "execution_count": 8,
   "outputs": [],
   "source": [
    "import numpy as np\n",
    "from sklearn.metrics import mean_absolute_error\n",
    "\n",
    "from itertools import combinations\n",
    "from vecstack import StackingTransformer\n",
    "from tqdm import tqdm\n",
    "\n",
    "def NMAE(true, pred):\n",
    "    mae = mean_absolute_error(true,pred)\n",
    "    score = mae / np.mean(np.abs(true))\n",
    "    return score"
   ],
   "metadata": {
    "collapsed": false,
    "pycharm": {
     "name": "#%%\n"
    }
   }
  },
  {
   "cell_type": "code",
   "execution_count": 9,
   "outputs": [
    {
     "name": "stdout",
     "output_type": "stream",
     "text": [
      "(1015, 10) (436, 10) (1015, 1)\n",
      "(710, 10) (305, 10) (710, 1) (305, 1)\n"
     ]
    }
   ],
   "source": [
    "print(X.shape, X_test.shape, Y.shape)\n",
    "print(x_train.shape, x_val.shape, y_train.shape, y_val.shape)"
   ],
   "metadata": {
    "collapsed": false,
    "pycharm": {
     "name": "#%%\n"
    }
   }
  },
  {
   "cell_type": "code",
   "execution_count": 10,
   "outputs": [],
   "source": [
    "from sklearn.ensemble import GradientBoostingRegressor, ExtraTreesRegressor, RandomForestRegressor\n",
    "from xgboost import XGBRegressor\n",
    "from lightgbm import LGBMRegressor\n",
    "from catboost import CatBoostRegressor\n",
    "\n",
    "models = [\n",
    "    ('LGBMRegressor',LGBMRegressor(n_estimators=134,max_depth=16,random_state=41)),\n",
    "    ('XGBRegressor',XGBRegressor(n_estimators=194,max_depth=7,random_state=41,verbosity=0)),\n",
    "    ('CatBoostRegressor',CatBoostRegressor(n_estimators=1200,max_depth=8,random_state=41,verbose=0)),\n",
    "    ('GradientBoostingRegressor',GradientBoostingRegressor(n_estimators=1301,max_depth=9,learning_rate=0.01,subsample=0.5,random_state=41)),\n",
    "    ('ExtraTreesRegressor',ExtraTreesRegressor(n_estimators=344,max_depth=16,random_state=41,criterion='mse')),\n",
    "    ('RandomForestRegressor',RandomForestRegressor(n_estimators=177,max_depth=16,random_state=41,criterion='mse'))]"
   ],
   "metadata": {
    "collapsed": false,
    "pycharm": {
     "name": "#%%\n"
    }
   }
  },
  {
   "cell_type": "code",
   "execution_count": 11,
   "outputs": [
    {
     "name": "stdout",
     "output_type": "stream",
     "text": [
      "LGBMRegressor:  0.4823591596046905\n",
      "XGBRegressor:  0.3459332187495732\n",
      "CatBoostRegressor:  0.33229571077726616\n",
      "GradientBoostingRegressor:  0.37056434476663025\n",
      "ExtraTreesRegressor:  0.35692932414699813\n",
      "RandomForestRegressor:  0.3625769917003506\n"
     ]
    }
   ],
   "source": [
    "for name, model in models:\n",
    "    model.fit(x_train, y_train)\n",
    "    print(f'{name}: ', NMAE(y_val,model.predict(x_val)))"
   ],
   "metadata": {
    "collapsed": false,
    "pycharm": {
     "name": "#%%\n"
    }
   }
  },
  {
   "cell_type": "code",
   "execution_count": 12,
   "outputs": [],
   "source": [
    "pred_list = list()\n",
    "for name, model in models:\n",
    "    pred_list.append([model.predict(x_val),name])\n",
    "\n",
    "pred_comb = list()\n",
    "for i in range(2,len(pred_list)+1):\n",
    "    pred_comb += list(combinations(pred_list, i))"
   ],
   "metadata": {
    "collapsed": false,
    "pycharm": {
     "name": "#%%\n"
    }
   }
  },
  {
   "cell_type": "code",
   "execution_count": 13,
   "outputs": [],
   "source": [
    "nmae_list = list()\n",
    "\n",
    "for pred_info in pred_comb:\n",
    "    preds, names = list(), list()\n",
    "\n",
    "    for pred, name in pred_info:\n",
    "        preds.append(pred)\n",
    "        names.append(name)\n",
    "    nmae_list.append([NMAE(y_val,sum(preds)/len(preds)),names])"
   ],
   "metadata": {
    "collapsed": false,
    "pycharm": {
     "name": "#%%\n"
    }
   }
  },
  {
   "cell_type": "code",
   "execution_count": 14,
   "outputs": [
    {
     "data": {
      "text/plain": "[0.325187047550314,\n ['XGBRegressor', 'CatBoostRegressor', 'ExtraTreesRegressor']]"
     },
     "execution_count": 14,
     "metadata": {},
     "output_type": "execute_result"
    }
   ],
   "source": [
    "sorted(nmae_list)[0]"
   ],
   "metadata": {
    "collapsed": false,
    "pycharm": {
     "name": "#%%\n"
    }
   }
  },
  {
   "cell_type": "code",
   "execution_count": 15,
   "outputs": [],
   "source": [
    "estimator = [('XGBRegressor', XGBRegressor(n_estimators=194, max_depth=7, random_state=41, verbosity=0)),\n",
    "('CatBoostRegressor', CatBoostRegressor(n_estimators=1200, max_depth=8, random_state=41, verbose=0)),\n",
    "('ExtraTreesRegressor', ExtraTreesRegressor(n_estimators=344, max_depth=16, random_state=41, criterion='mse'))]"
   ],
   "metadata": {
    "collapsed": false,
    "pycharm": {
     "name": "#%%\n"
    }
   }
  },
  {
   "cell_type": "code",
   "execution_count": 16,
   "outputs": [],
   "source": [
    "stack = StackingTransformer(estimator,\n",
    "                            regression = True,\n",
    "                            metric = NMAE,\n",
    "                            n_folds = 10, stratified = True, shuffle = True,\n",
    "                            random_state = 41, verbose = 0)"
   ],
   "metadata": {
    "collapsed": false,
    "pycharm": {
     "name": "#%%\n"
    }
   }
  },
  {
   "cell_type": "code",
   "execution_count": 17,
   "outputs": [
    {
     "data": {
      "text/plain": "0.38343756538531665"
     },
     "execution_count": 17,
     "metadata": {},
     "output_type": "execute_result"
    }
   ],
   "source": [
    "S_train = stack.fit_transform(x_train, y_train)\n",
    "S_test = stack.transform(x_val)\n",
    "\n",
    "S_model = LGBMRegressor(n_estimators=100,max_depth=2,random_state=41)\n",
    "S_model.fit(S_train, y_train)\n",
    "NMAE(y_val, S_model.predict(S_test))"
   ],
   "metadata": {
    "collapsed": false,
    "pycharm": {
     "name": "#%%\n"
    }
   }
  },
  {
   "cell_type": "code",
   "execution_count": 18,
   "outputs": [],
   "source": [
    "models = [\n",
    "    ('XGBRegressor', XGBRegressor(n_estimators=194, max_depth=7, random_state=41, verbosity=0)),\n",
    "    ('CatBoostRegressor', CatBoostRegressor(n_estimators=1200, max_depth=8, random_state=41, verbose=0)),\n",
    "    ('ExtraTreesRegressor', ExtraTreesRegressor(n_estimators=344, max_depth=16, random_state=41, criterion='mse'))]"
   ],
   "metadata": {
    "collapsed": false,
    "pycharm": {
     "name": "#%%\n"
    }
   }
  },
  {
   "cell_type": "code",
   "execution_count": 19,
   "outputs": [],
   "source": [
    "pred = None\n",
    "for name, model in models:\n",
    "    model.fit(x_train, y_train)\n",
    "    if pred is None:\n",
    "        pred = model.predict(X_test)\n",
    "    else:\n",
    "        pred += model.predict(X_test)\n",
    "\n",
    "pred = pred/len(models)\n",
    "pred = scalerY.inverse_transform([pred])"
   ],
   "metadata": {
    "collapsed": false,
    "pycharm": {
     "name": "#%%\n"
    }
   }
  },
  {
   "cell_type": "code",
   "execution_count": 20,
   "outputs": [],
   "source": [
    "pred = pred.reshape(-1,1)"
   ],
   "metadata": {
    "collapsed": false,
    "pycharm": {
     "name": "#%%\n"
    }
   }
  },
  {
   "cell_type": "code",
   "execution_count": 21,
   "outputs": [
    {
     "data": {
      "text/plain": "(436, 1)"
     },
     "execution_count": 21,
     "metadata": {},
     "output_type": "execute_result"
    }
   ],
   "source": [
    "pred.shape"
   ],
   "metadata": {
    "collapsed": false,
    "pycharm": {
     "name": "#%%\n"
    }
   }
  },
  {
   "cell_type": "code",
   "execution_count": 22,
   "outputs": [],
   "source": [
    "sample = pd.read_csv('sample_submission.csv')\n",
    "sample['target'] = pred\n",
    "\n",
    "sample.to_csv( dirpath + \"submit.csv\", index=False)"
   ],
   "metadata": {
    "collapsed": false,
    "pycharm": {
     "name": "#%%\n"
    }
   }
  },
  {
   "cell_type": "code",
   "execution_count": 22,
   "outputs": [],
   "source": [],
   "metadata": {
    "collapsed": false,
    "pycharm": {
     "name": "#%%\n"
    }
   }
  }
 ],
 "metadata": {
  "kernelspec": {
   "display_name": "Python 3",
   "language": "python",
   "name": "python3"
  },
  "language_info": {
   "codemirror_mode": {
    "name": "ipython",
    "version": 2
   },
   "file_extension": ".py",
   "mimetype": "text/x-python",
   "name": "python",
   "nbconvert_exporter": "python",
   "pygments_lexer": "ipython2",
   "version": "2.7.6"
  }
 },
 "nbformat": 4,
 "nbformat_minor": 0
}