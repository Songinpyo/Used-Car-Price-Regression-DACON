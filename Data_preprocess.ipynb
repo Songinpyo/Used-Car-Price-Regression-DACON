{
 "cells": [
  {
   "cell_type": "code",
   "execution_count": 1,
   "metadata": {
    "collapsed": true,
    "pycharm": {
     "name": "#%%\n"
    }
   },
   "outputs": [],
   "source": [
    "# This is file for data EDA\n",
    "\n",
    "import pandas as pd\n",
    "dirpath = 'C:/Users/rihot/Desktop/Deep_learning/DACON_used_car_price/'\n",
    "\n",
    "train = pd.read_csv('data/train.csv')\n",
    "test = pd.read_csv('data/test.csv')"
   ]
  },
  {
   "cell_type": "code",
   "execution_count": 2,
   "outputs": [],
   "source": [
    "train = train.drop(['id'], axis=1)\n",
    "test= test.drop(['id'], axis=1)"
   ],
   "metadata": {
    "collapsed": false,
    "pycharm": {
     "name": "#%%\n"
    }
   }
  },
  {
   "cell_type": "code",
   "execution_count": 3,
   "outputs": [],
   "source": [
    "def check_missing_col(dataframe):\n",
    "    missing_col = []\n",
    "    for col in dataframe.columns:\n",
    "        missing_values = sum(dataframe[col].isna())\n",
    "        # isna : if value is NAN, return 1\n",
    "        is_missing = True if missing_values >= 1 else False\n",
    "        if is_missing:\n",
    "            print(f'결측치가 있는 컬럼 : {col} 입니다')\n",
    "            print(f'해당 컬럼에 총 {missing_values} 개의 결측치가 존재합니다.')\n",
    "            missing_col.append([col, dataframe[col].dtype])\n",
    "    if missing_col == []:\n",
    "        print('결측치가 존재하지 않습니다')\n",
    "    return missing_col"
   ],
   "metadata": {
    "collapsed": false,
    "pycharm": {
     "name": "#%%\n"
    }
   }
  },
  {
   "cell_type": "code",
   "execution_count": 4,
   "outputs": [
    {
     "name": "stdout",
     "output_type": "stream",
     "text": [
      "결측치가 존재하지 않습니다\n"
     ]
    }
   ],
   "source": [
    "missing_col = check_missing_col(train)"
   ],
   "metadata": {
    "collapsed": false,
    "pycharm": {
     "name": "#%%\n"
    }
   }
  },
  {
   "cell_type": "code",
   "execution_count": 5,
   "outputs": [
    {
     "name": "stdout",
     "output_type": "stream",
     "text": [
      "결측치가 존재하지 않습니다\n"
     ]
    }
   ],
   "source": [
    "missing_col = check_missing_col(test)"
   ],
   "metadata": {
    "collapsed": false,
    "pycharm": {
     "name": "#%%\n"
    }
   }
  },
  {
   "cell_type": "code",
   "execution_count": 6,
   "outputs": [],
   "source": [
    "train['brand'] = train['title'].apply(lambda x : x.split(\" \")[0])\n",
    "test['brand'] = test['title'].apply(lambda x: x.split(\" \")[0])"
   ],
   "metadata": {
    "collapsed": false,
    "pycharm": {
     "name": "#%%\n"
    }
   }
  },
  {
   "cell_type": "code",
   "execution_count": 7,
   "outputs": [
    {
     "data": {
      "text/plain": "0    Toyota\n1    Toyota\n2      Land\n3     Lexus\n4    Toyota\nName: brand, dtype: object"
     },
     "execution_count": 7,
     "metadata": {},
     "output_type": "execute_result"
    }
   ],
   "source": [
    "train.brand.head()"
   ],
   "metadata": {
    "collapsed": false,
    "pycharm": {
     "name": "#%%\n"
    }
   }
  },
  {
   "cell_type": "code",
   "execution_count": 8,
   "outputs": [
    {
     "data": {
      "text/plain": "0    Mercedes-Benz\n1            Honda\n2    Mercedes-Benz\n3           Toyota\n4           Toyota\nName: brand, dtype: object"
     },
     "execution_count": 8,
     "metadata": {},
     "output_type": "execute_result"
    }
   ],
   "source": [
    "test.brand.head()"
   ],
   "metadata": {
    "collapsed": false,
    "pycharm": {
     "name": "#%%\n"
    }
   }
  },
  {
   "cell_type": "code",
   "execution_count": 9,
   "outputs": [
    {
     "data": {
      "text/plain": "{'ALPINA',\n 'Acura',\n 'Audi',\n 'BMW',\n 'Bentley',\n 'Chevrolet',\n 'DAF',\n 'Dodge',\n 'Fiat',\n 'Ford',\n 'GAC',\n 'GMC',\n 'Honda',\n 'Hyundai',\n 'IVECO',\n 'IVM',\n 'Infiniti',\n 'Isuzu',\n 'Iveco',\n 'JMC',\n 'Jaguar',\n 'Jeep',\n 'Kia',\n 'Land',\n 'Lexus',\n 'Lincoln',\n 'MAN-VOLKSWAGEN',\n 'MINI',\n 'Mack',\n 'Man',\n 'Mazda',\n 'Mercedes-Benz',\n 'Mercedes-Benz/52',\n 'Mitsubishi',\n 'Nissan',\n 'Peugeot',\n 'Pontiac',\n 'Porsche',\n 'Rolls-Royce',\n 'Scania',\n 'Toyota',\n 'Volkswagen',\n 'Volvo'}"
     },
     "execution_count": 9,
     "metadata": {},
     "output_type": "execute_result"
    }
   ],
   "source": [
    "# set 은 집합을 처리하기 위한 자료형으로 중복을 허용하지 않는다.\n",
    "# | 은 합집합 기호, & 교집합 기호, - 차집합 기호\n",
    "set(train.brand) | set(test.brand)"
   ],
   "metadata": {
    "collapsed": false,
    "pycharm": {
     "name": "#%%\n"
    }
   }
  },
  {
   "cell_type": "code",
   "execution_count": 10,
   "outputs": [],
   "source": [
    "train['brand'] = train['brand'].replace({'Mercedes-Benz/52' : 'Mercedes-Benz'})"
   ],
   "metadata": {
    "collapsed": false,
    "pycharm": {
     "name": "#%%\n"
    }
   }
  },
  {
   "cell_type": "code",
   "execution_count": 11,
   "outputs": [
    {
     "data": {
      "text/plain": "{'Mercedes-Benz': 0,\n 'Bentley': 1,\n 'Peugeot': 2,\n 'Nissan': 3,\n 'Fiat': 4,\n 'Volkswagen': 5,\n 'ALPINA': 6,\n 'Iveco': 7,\n 'Volvo': 8,\n 'DAF': 9,\n 'Toyota': 10,\n 'JMC': 11,\n 'Isuzu': 12,\n 'Mazda': 13,\n 'BMW': 14,\n 'IVECO': 15,\n 'MINI': 16,\n 'Rolls-Royce': 17,\n 'Honda': 18,\n 'Acura': 19,\n 'Infiniti': 20,\n 'Lexus': 21,\n 'MAN-VOLKSWAGEN': 22,\n 'Scania': 23,\n 'Kia': 24,\n 'Lincoln': 25,\n 'Chevrolet': 26,\n 'Audi': 27,\n 'Land': 28,\n 'GMC': 29,\n 'Dodge': 30,\n 'IVM': 31,\n 'Hyundai': 32,\n 'Jaguar': 33,\n 'GAC': 34,\n 'Porsche': 35,\n 'Man': 36,\n 'Mack': 37,\n 'Jeep': 38,\n 'Pontiac': 39,\n 'Mitsubishi': 40,\n 'Ford': 41}"
     },
     "execution_count": 11,
     "metadata": {},
     "output_type": "execute_result"
    }
   ],
   "source": [
    "brand_label = {_brand : label for label, _brand in enumerate(set(train.brand)|set(test.brand))}\n",
    "brand_label"
   ],
   "metadata": {
    "collapsed": false,
    "pycharm": {
     "name": "#%%\n"
    }
   }
  },
  {
   "cell_type": "code",
   "execution_count": 12,
   "outputs": [],
   "source": [
    "train['brand'] = train['brand'].replace(brand_label)\n",
    "test['brand'] = test['brand'].replace(brand_label)"
   ],
   "metadata": {
    "collapsed": false,
    "pycharm": {
     "name": "#%%\n"
    }
   }
  },
  {
   "cell_type": "code",
   "execution_count": 13,
   "outputs": [
    {
     "data": {
      "text/plain": "{'ALPINA B3',\n 'Acura MDX',\n 'Acura RDX',\n 'Acura TL',\n 'Acura TSX',\n 'Acura ZDX',\n 'Audi S6',\n 'BMW 325',\n 'BMW 335',\n 'BMW 525',\n 'BMW 528',\n 'BMW 535',\n 'BMW 730',\n 'BMW 740',\n 'BMW 745',\n 'BMW 750',\n 'BMW X3',\n 'BMW X6',\n 'Bentley Arnage',\n 'Chevrolet Camaro',\n 'Chevrolet Evanda',\n 'Chevrolet Traverse',\n 'DAF 45',\n 'DAF 95XF TRACTOR HEAD',\n 'DAF CF',\n 'DAF FA 55. 180',\n 'DAF XF TRACTOR HEAD',\n 'Dodge Charger',\n 'Fiat Ducato',\n 'Ford Edge',\n 'Ford Escape',\n 'Ford Expedition',\n 'Ford Explorer',\n 'Ford F 150',\n 'Ford Focus',\n 'Ford Fusion',\n 'Ford Mondeo',\n 'Ford Mustang',\n 'Ford TRANSIT PICKUP',\n 'Ford Transit',\n 'GAC Gonow Other',\n 'GMC Terrain',\n 'Honda Accord',\n 'Honda CR-V',\n 'Honda Civic',\n 'Honda Crosstour',\n 'Honda Element',\n 'Honda Fit',\n 'Honda Insight',\n 'Honda Odyssey',\n 'Honda Pilot',\n 'Honda Ridgeline',\n 'Hyundai Azera',\n 'Hyundai Elantra',\n 'Hyundai Santa Fe',\n 'Hyundai Sonata',\n 'Hyundai Tucson',\n 'Hyundai ix35',\n 'IVECO EUROTECH 7.50E-16',\n 'IVM LT35',\n 'Infiniti FX',\n 'Infiniti JX',\n 'Infiniti M35',\n 'Infiniti QX80',\n 'Isuzu CABSTER',\n 'Isuzu NQR',\n 'Iveco EUROCARGO 120e18',\n 'Iveco TRUCK',\n 'JMC Vigus',\n 'Jaguar X-Type',\n 'Jaguar XJ8',\n 'Jeep Cherokee',\n 'Jeep Wrangler',\n 'Kia Cerato',\n 'Kia Optima',\n 'Kia Picanto',\n 'Kia Rio',\n 'Kia Sorento',\n 'Kia Soul',\n 'Kia Stinger',\n 'Land Rover Discovery',\n 'Land Rover Range Rover',\n 'Land Rover Range Rover Evoque',\n 'Land Rover Range Rover Sport',\n 'Land Rover Range Rover Velar',\n 'Lexus CT 200h',\n 'Lexus ES 300',\n 'Lexus ES 330',\n 'Lexus ES 350',\n 'Lexus GS 300',\n 'Lexus GS 350',\n 'Lexus GX 460',\n 'Lexus GX 470',\n 'Lexus IS 250',\n 'Lexus LS 460',\n 'Lexus LX 570',\n 'Lexus RX 300',\n 'Lexus RX 330',\n 'Lexus RX 350',\n 'Lexus RX 400',\n 'Lincoln Mark',\n 'MAN-VOLKSWAGEN FLATBED',\n 'MINI Cooper',\n 'MINI Cooper Countryman',\n 'MINI Cooper Coupé',\n 'Mack CH613',\n 'Mack CH613 CONVENTIONAL CAB',\n 'Mack CXN613',\n 'Mack CXN613 CAB BEHIND ENGINE',\n 'Mack R-686ST',\n 'Man 26-403',\n 'Man BOCKMANN',\n 'Man Diesel 19.314 FILT-N',\n 'Man LE 8. 180 PLATFORM TRUCK',\n 'Man TGA 18.360',\n 'Man Truck 18.44',\n 'Mazda 323',\n 'Mazda 6',\n 'Mazda CX-9',\n 'Mazda Tribute',\n 'Mercedes-Benz 200',\n 'Mercedes-Benz 220',\n 'Mercedes-Benz 300',\n 'Mercedes-Benz 320',\n 'Mercedes-Benz 350',\n 'Mercedes-Benz 450',\n 'Mercedes-Benz 709 DB',\n 'Mercedes-Benz 814',\n 'Mercedes-Benz ATEGO',\n 'Mercedes-Benz C 180',\n 'Mercedes-Benz C 250',\n 'Mercedes-Benz C 300',\n 'Mercedes-Benz C 320',\n 'Mercedes-Benz C 350',\n 'Mercedes-Benz C 450 AMG',\n 'Mercedes-Benz C 63 AMG',\n 'Mercedes-Benz CABIN PLUS CHASSIS ONLY',\n 'Mercedes-Benz CLA 250',\n 'Mercedes-Benz CLS 500',\n 'Mercedes-Benz DUMP TRUCK',\n 'Mercedes-Benz E 200',\n 'Mercedes-Benz E 300',\n 'Mercedes-Benz E 320',\n 'Mercedes-Benz E 350',\n 'Mercedes-Benz E 550',\n 'Mercedes-Benz G 550',\n 'Mercedes-Benz G 63 AMG',\n 'Mercedes-Benz GL 450',\n 'Mercedes-Benz GLA 180',\n 'Mercedes-Benz GLA 250',\n 'Mercedes-Benz GLC 300',\n 'Mercedes-Benz GLE 350',\n 'Mercedes-Benz GLE 43 AMG',\n 'Mercedes-Benz GLE 450',\n 'Mercedes-Benz GLK 300',\n 'Mercedes-Benz GLK 350',\n 'Mercedes-Benz ML 320',\n 'Mercedes-Benz ML 350',\n 'Mercedes-Benz ML 430',\n 'Mercedes-Benz Maybach',\n 'Mercedes-Benz S 450',\n 'Mercedes-Benz S 550',\n 'Mercedes-Benz SL 400',\n 'Mercedes-Benz WATER TANKER',\n 'Mercedes-Benz/52',\n 'Mitsubishi CANTER PICK UP',\n 'Mitsubishi Eclipse',\n 'Mitsubishi Galant',\n 'Mitsubishi L200',\n 'Mitsubishi Montero',\n 'Mitsubishi Pajero',\n 'Nissan A',\n 'Nissan Altima',\n 'Nissan Cabstar',\n 'Nissan Frontier',\n 'Nissan INFINITI M90.150/2',\n 'Nissan Maxima',\n 'Nissan Murano',\n 'Nissan Pathfinder',\n 'Nissan Primera',\n 'Nissan Quest',\n 'Nissan Rogue',\n 'Nissan Sentra',\n 'Nissan Titan',\n 'Nissan Versa',\n 'Nissan X-Trail',\n 'Nissan Xterra',\n 'Peugeot 206',\n 'Peugeot 307',\n 'Peugeot 308',\n 'Peugeot 607',\n 'Pontiac Vibe',\n 'Porsche Cayenne',\n 'Porsche Macan',\n 'Porsche Panamera',\n 'Rolls-Royce Ghost',\n 'Scania P94 FLATBED',\n 'Scania TRACTOR HEAD',\n 'Toyota 4-Runner',\n 'Toyota Avalon',\n 'Toyota Avensis',\n 'Toyota C-HR',\n 'Toyota Camry',\n 'Toyota Coaster',\n 'Toyota Corolla',\n 'Toyota DYNA 200',\n 'Toyota Dyna',\n 'Toyota Hiace',\n 'Toyota Highlander',\n 'Toyota Hilux',\n 'Toyota Land Cruiser',\n 'Toyota Matrix',\n 'Toyota Prado',\n 'Toyota Prius',\n 'Toyota RAV 4',\n 'Toyota Sequoia',\n 'Toyota Sienna',\n 'Toyota Solara',\n 'Toyota Tacoma',\n 'Toyota Tundra',\n 'Toyota Venza',\n 'Toyota Vitz',\n 'Toyota Yaris',\n 'Volkswagen 17.22',\n 'Volkswagen Golf',\n 'Volkswagen Jetta',\n 'Volkswagen LT',\n 'Volkswagen Passat',\n 'Volkswagen Sharan',\n 'Volkswagen T4 Caravelle',\n 'Volkswagen T6 other',\n 'Volkswagen Tiguan',\n 'Volkswagen Touareg',\n 'Volvo FH12',\n 'Volvo FL12',\n 'Volvo FL6',\n 'Volvo FL7',\n 'Volvo S80',\n 'Volvo XC60',\n 'Volvo XC90'}"
     },
     "execution_count": 13,
     "metadata": {},
     "output_type": "execute_result"
    }
   ],
   "source": [
    "car_title = set(train.title) | set(test.title)\n",
    "car_title"
   ],
   "metadata": {
    "collapsed": false,
    "pycharm": {
     "name": "#%%\n"
    }
   }
  },
  {
   "cell_type": "code",
   "execution_count": 14,
   "outputs": [
    {
     "data": {
      "text/plain": "{'Mercedes-Benz/52': 0,\n 'Toyota Tundra': 1,\n 'Kia Picanto': 2,\n 'Honda Element': 3,\n 'Volkswagen T4 Caravelle': 4,\n 'Hyundai Tucson': 5,\n 'Peugeot 206': 6,\n 'DAF XF TRACTOR HEAD': 7,\n 'Ford Fusion': 8,\n 'Land Rover Range Rover Evoque': 9,\n 'Kia Optima': 10,\n 'Lexus GS 350': 11,\n 'Lexus GX 460': 12,\n 'Infiniti JX': 13,\n 'Peugeot 308': 14,\n 'Hyundai Sonata': 15,\n 'Ford Mondeo': 16,\n 'Mercedes-Benz E 300': 17,\n 'Kia Sorento': 18,\n 'Ford Transit': 19,\n 'Mack CXN613 CAB BEHIND ENGINE': 20,\n 'Honda Insight': 21,\n 'Nissan Murano': 22,\n 'GMC Terrain': 23,\n 'Mercedes-Benz CLA 250': 24,\n 'Volkswagen LT': 25,\n 'Acura TL': 26,\n 'Volkswagen Jetta': 27,\n 'Mercedes-Benz ML 350': 28,\n 'Toyota Hiace': 29,\n 'Mercedes-Benz E 550': 30,\n 'Toyota Highlander': 31,\n 'Mercedes-Benz CLS 500': 32,\n 'BMW 528': 33,\n 'DAF FA 55. 180': 34,\n 'Lexus ES 300': 35,\n 'Mercedes-Benz 300': 36,\n 'Ford Escape': 37,\n 'Porsche Cayenne': 38,\n 'Acura ZDX': 39,\n 'Volvo FL7': 40,\n 'Mercedes-Benz GLC 300': 41,\n 'Lexus RX 350': 42,\n 'Toyota 4-Runner': 43,\n 'Mercedes-Benz E 200': 44,\n 'Scania TRACTOR HEAD': 45,\n 'Mercedes-Benz 450': 46,\n 'Toyota Land Cruiser': 47,\n 'Mercedes-Benz 200': 48,\n 'Nissan Quest': 49,\n 'Lexus ES 330': 50,\n 'Toyota Prius': 51,\n 'Ford F 150': 52,\n 'Mercedes-Benz C 63 AMG': 53,\n 'MINI Cooper': 54,\n 'Volkswagen T6 other': 55,\n 'Toyota Venza': 56,\n 'Porsche Panamera': 57,\n 'Nissan Rogue': 58,\n 'Nissan Altima': 59,\n 'Isuzu NQR': 60,\n 'MAN-VOLKSWAGEN FLATBED': 61,\n 'Hyundai ix35': 62,\n 'Mercedes-Benz GLE 43 AMG': 63,\n 'Rolls-Royce Ghost': 64,\n 'Mercedes-Benz GLE 450': 65,\n 'Mercedes-Benz C 180': 66,\n 'Ford Explorer': 67,\n 'Ford Expedition': 68,\n 'Lexus ES 350': 69,\n 'Volkswagen Passat': 70,\n 'Mercedes-Benz CABIN PLUS CHASSIS ONLY': 71,\n 'Mercedes-Benz GLK 350': 72,\n 'Lexus RX 300': 73,\n 'Infiniti M35': 74,\n 'Mercedes-Benz WATER TANKER': 75,\n 'Mercedes-Benz G 63 AMG': 76,\n 'Isuzu CABSTER': 77,\n 'Toyota Sequoia': 78,\n 'Mercedes-Benz S 550': 79,\n 'Jeep Cherokee': 80,\n 'Dodge Charger': 81,\n 'DAF 45': 82,\n 'Ford Edge': 83,\n 'Honda Accord': 84,\n 'Mercedes-Benz E 320': 85,\n 'Toyota Dyna': 86,\n 'Hyundai Azera': 87,\n 'GAC Gonow Other': 88,\n 'Land Rover Range Rover Sport': 89,\n 'Honda Civic': 90,\n 'Toyota Prado': 91,\n 'Man TGA 18.360': 92,\n 'Volvo S80': 93,\n 'Mack CXN613': 94,\n 'Nissan Titan': 95,\n 'Mercedes-Benz ML 320': 96,\n 'MINI Cooper Countryman': 97,\n 'Toyota RAV 4': 98,\n 'BMW X3': 99,\n 'Man LE 8. 180 PLATFORM TRUCK': 100,\n 'Mazda 6': 101,\n 'Mack CH613 CONVENTIONAL CAB': 102,\n 'Lexus GX 470': 103,\n 'Nissan INFINITI M90.150/2': 104,\n 'Mercedes-Benz 814': 105,\n 'Mitsubishi Eclipse': 106,\n 'Mercedes-Benz ML 430': 107,\n 'Mercedes-Benz GLK 300': 108,\n 'Volvo XC90': 109,\n 'Nissan X-Trail': 110,\n 'BMW 525': 111,\n 'Mercedes-Benz GLE 350': 112,\n 'Mercedes-Benz E 350': 113,\n 'Mercedes-Benz GLA 180': 114,\n 'Toyota Camry': 115,\n 'Mitsubishi CANTER PICK UP': 116,\n 'ALPINA B3': 117,\n 'Land Rover Range Rover Velar': 118,\n 'Toyota C-HR': 119,\n 'Audi S6': 120,\n 'Jaguar XJ8': 121,\n 'Volvo XC60': 122,\n 'Mazda CX-9': 123,\n 'Lexus RX 330': 124,\n 'Kia Rio': 125,\n 'Honda Crosstour': 126,\n 'Ford Focus': 127,\n 'Hyundai Santa Fe': 128,\n 'BMW 730': 129,\n 'Toyota Matrix': 130,\n 'Acura RDX': 131,\n 'Mercedes-Benz S 450': 132,\n 'Mazda 323': 133,\n 'Man 26-403': 134,\n 'Toyota Hilux': 135,\n 'Iveco EUROCARGO 120e18': 136,\n 'Iveco TRUCK': 137,\n 'Porsche Macan': 138,\n 'Peugeot 607': 139,\n 'Mercedes-Benz 350': 140,\n 'Fiat Ducato': 141,\n 'Mercedes-Benz Maybach': 142,\n 'Mercedes-Benz 709 DB': 143,\n 'Jeep Wrangler': 144,\n 'Chevrolet Traverse': 145,\n 'Mercedes-Benz C 250': 146,\n 'Lincoln Mark': 147,\n 'Mercedes-Benz G 550': 148,\n 'Infiniti FX': 149,\n 'Mercedes-Benz DUMP TRUCK': 150,\n 'Toyota Sienna': 151,\n 'Nissan Xterra': 152,\n 'DAF CF': 153,\n 'Lexus GS 300': 154,\n 'Mercedes-Benz 220': 155,\n 'JMC Vigus': 156,\n 'Honda CR-V': 157,\n 'Toyota Avensis': 158,\n 'Lexus LS 460': 159,\n 'Honda Ridgeline': 160,\n 'Acura TSX': 161,\n 'Nissan Cabstar': 162,\n 'Mitsubishi Pajero': 163,\n 'BMW 740': 164,\n 'IVECO EUROTECH 7.50E-16': 165,\n 'Kia Stinger': 166,\n 'Mercedes-Benz SL 400': 167,\n 'Volkswagen Golf': 168,\n 'Scania P94 FLATBED': 169,\n 'Pontiac Vibe': 170,\n 'Jaguar X-Type': 171,\n 'BMW 335': 172,\n 'Mitsubishi Montero': 173,\n 'Man Diesel 19.314 FILT-N': 174,\n 'Mercedes-Benz GL 450': 175,\n 'Volkswagen 17.22': 176,\n 'Man BOCKMANN': 177,\n 'IVM LT35': 178,\n 'Toyota Tacoma': 179,\n 'Toyota Corolla': 180,\n 'Lexus IS 250': 181,\n 'Toyota Coaster': 182,\n 'Toyota Avalon': 183,\n 'BMW 325': 184,\n 'Bentley Arnage': 185,\n 'Lexus CT 200h': 186,\n 'Volkswagen Sharan': 187,\n 'Nissan Maxima': 188,\n 'Mitsubishi L200': 189,\n 'Mercedes-Benz 320': 190,\n 'Volkswagen Tiguan': 191,\n 'Hyundai Elantra': 192,\n 'Mack CH613': 193,\n 'Mitsubishi Galant': 194,\n 'Nissan Versa': 195,\n 'BMW 750': 196,\n 'BMW 535': 197,\n 'DAF 95XF TRACTOR HEAD': 198,\n 'Volvo FH12': 199,\n 'Chevrolet Camaro': 200,\n 'Honda Pilot': 201,\n 'MINI Cooper Coupé': 202,\n 'Nissan Frontier': 203,\n 'Mercedes-Benz C 300': 204,\n 'Ford Mustang': 205,\n 'Nissan Sentra': 206,\n 'Toyota Yaris': 207,\n 'Volkswagen Touareg': 208,\n 'Nissan Pathfinder': 209,\n 'Mazda Tribute': 210,\n 'BMW X6': 211,\n 'Volvo FL6': 212,\n 'Honda Fit': 213,\n 'Kia Cerato': 214,\n 'Lexus RX 400': 215,\n 'Toyota Solara': 216,\n 'Mercedes-Benz C 450 AMG': 217,\n 'Honda Odyssey': 218,\n 'Ford TRANSIT PICKUP': 219,\n 'Mercedes-Benz C 320': 220,\n 'Kia Soul': 221,\n 'Infiniti QX80': 222,\n 'Mercedes-Benz GLA 250': 223,\n 'Chevrolet Evanda': 224,\n 'Acura MDX': 225,\n 'Toyota DYNA 200': 226,\n 'Nissan A': 227,\n 'Peugeot 307': 228,\n 'Mercedes-Benz ATEGO': 229,\n 'Man Truck 18.44': 230,\n 'Volvo FL12': 231,\n 'Land Rover Range Rover': 232,\n 'Lexus LX 570': 233,\n 'BMW 745': 234,\n 'Land Rover Discovery': 235,\n 'Mack R-686ST': 236,\n 'Nissan Primera': 237,\n 'Mercedes-Benz C 350': 238,\n 'Toyota Vitz': 239}"
     },
     "execution_count": 14,
     "metadata": {},
     "output_type": "execute_result"
    }
   ],
   "source": [
    "car_title_label = {car_title : label for label, car_title in enumerate(car_title)}\n",
    "car_title_label"
   ],
   "metadata": {
    "collapsed": false,
    "pycharm": {
     "name": "#%%\n"
    }
   }
  },
  {
   "cell_type": "code",
   "execution_count": 15,
   "outputs": [],
   "source": [
    "train['title'] = train['title'].replace(car_title_label)\n",
    "test['title'] = test['title'].replace(car_title_label)"
   ],
   "metadata": {
    "collapsed": false,
    "pycharm": {
     "name": "#%%\n"
    }
   }
  },
  {
   "cell_type": "code",
   "execution_count": 16,
   "outputs": [
    {
     "data": {
      "text/plain": "array(['Lagos ', 'Lagos', 'Abuja', 'Lagos State', 'Ogun', 'FCT', 'Accra',\n       'other', 'Abuja ', 'Abia State', 'Adamawa ', 'Abia', 'Ogun State'],\n      dtype=object)"
     },
     "execution_count": 16,
     "metadata": {},
     "output_type": "execute_result"
    }
   ],
   "source": [
    "train.location.unique()"
   ],
   "metadata": {
    "collapsed": false,
    "pycharm": {
     "name": "#%%\n"
    }
   }
  },
  {
   "cell_type": "code",
   "execution_count": 17,
   "outputs": [],
   "source": [
    "# Lagos, Abuja has same name but different label\n",
    "\n",
    "train['location'] = train['location'].replace({\n",
    "    'Lagos ' : 'Lagos',\n",
    "    'Abuja ' : 'Abuja',\n",
    "    'Lagos State' : 'Lagos',\n",
    "    'Ogun State' : 'Ogun',\n",
    "    'Abia State' : 'Abia'\n",
    "})"
   ],
   "metadata": {
    "collapsed": false,
    "pycharm": {
     "name": "#%%\n"
    }
   }
  },
  {
   "cell_type": "code",
   "execution_count": 18,
   "outputs": [],
   "source": [
    "test['location'] = test['location'].replace({\n",
    "    'Abuja ' : 'Abuja',\n",
    "    'Lagos ' : 'Lagos',\n",
    "    'Lagos State' : 'Lagos',\n",
    "    'Ogun State' : 'Ogun',\n",
    "    'Arepo ogun state ' : 'Ogun'\n",
    "})"
   ],
   "metadata": {
    "collapsed": false,
    "pycharm": {
     "name": "#%%\n"
    }
   }
  },
  {
   "cell_type": "code",
   "execution_count": 19,
   "outputs": [
    {
     "data": {
      "text/plain": "Lagos       831\nAbuja       147\nOgun         27\nother         4\nFCT           2\nAbia          2\nAccra         1\nAdamawa       1\nName: location, dtype: int64"
     },
     "execution_count": 19,
     "metadata": {},
     "output_type": "execute_result"
    }
   ],
   "source": [
    "train.location.value_counts()"
   ],
   "metadata": {
    "collapsed": false,
    "pycharm": {
     "name": "#%%\n"
    }
   }
  },
  {
   "cell_type": "code",
   "execution_count": 20,
   "outputs": [
    {
     "data": {
      "text/plain": "Lagos     354\nAbuja      69\nOgun       10\nMushin      1\nother       1\nAbia        1\nName: location, dtype: int64"
     },
     "execution_count": 20,
     "metadata": {},
     "output_type": "execute_result"
    }
   ],
   "source": [
    "test.location.value_counts()"
   ],
   "metadata": {
    "collapsed": false,
    "pycharm": {
     "name": "#%%\n"
    }
   }
  },
  {
   "cell_type": "code",
   "execution_count": 21,
   "outputs": [
    {
     "data": {
      "text/plain": "{'Accra', 'Adamawa ', 'FCT', 'Mushin'}"
     },
     "execution_count": 21,
     "metadata": {},
     "output_type": "execute_result"
    }
   ],
   "source": [
    "(set(train.location.unique()) | set(test.location.unique())) - (set(train.location.unique()) & set(test.location.unique()))"
   ],
   "metadata": {
    "collapsed": false,
    "pycharm": {
     "name": "#%%\n"
    }
   }
  },
  {
   "cell_type": "code",
   "execution_count": 22,
   "outputs": [
    {
     "data": {
      "text/plain": "Lagos    831\nAbuja    147\nOgun      27\nother      8\nAbia       2\nName: location, dtype: int64"
     },
     "execution_count": 22,
     "metadata": {},
     "output_type": "execute_result"
    }
   ],
   "source": [
    "train['location'] = train['location'].replace({\n",
    "    'Accra' : 'other',\n",
    "    'Adamawa ' : 'other',\n",
    "    'FCT' : 'other',\n",
    "    'Mushin' : 'other'\n",
    "})\n",
    "\n",
    "train.location.value_counts()"
   ],
   "metadata": {
    "collapsed": false,
    "pycharm": {
     "name": "#%%\n"
    }
   }
  },
  {
   "cell_type": "code",
   "execution_count": 23,
   "outputs": [
    {
     "data": {
      "text/plain": "Lagos    354\nAbuja     69\nOgun      10\nother      2\nAbia       1\nName: location, dtype: int64"
     },
     "execution_count": 23,
     "metadata": {},
     "output_type": "execute_result"
    }
   ],
   "source": [
    "test['location'] = test['location'].replace({\n",
    "    'Accra' : 'other',\n",
    "    'Adamawa ' : 'other',\n",
    "    'FCT' : 'other',\n",
    "    'Mushin' : 'other'\n",
    "})\n",
    "\n",
    "test.location.value_counts()"
   ],
   "metadata": {
    "collapsed": false,
    "pycharm": {
     "name": "#%%\n"
    }
   }
  },
  {
   "cell_type": "code",
   "execution_count": 24,
   "outputs": [
    {
     "data": {
      "text/plain": "{'Lagos': 0, 'Abuja': 1, 'Ogun': 2, 'other': 3, 'Abia': 4}"
     },
     "execution_count": 24,
     "metadata": {},
     "output_type": "execute_result"
    }
   ],
   "source": [
    "location_label = {location : label for label, location in enumerate(train.location.unique())}\n",
    "location_label"
   ],
   "metadata": {
    "collapsed": false,
    "pycharm": {
     "name": "#%%\n"
    }
   }
  },
  {
   "cell_type": "code",
   "execution_count": 25,
   "outputs": [],
   "source": [
    "train['location'] = train['location'].replace(location_label)\n",
    "test['location'] = test['location'].replace(location_label)"
   ],
   "metadata": {
    "collapsed": false,
    "pycharm": {
     "name": "#%%\n"
    }
   }
  },
  {
   "cell_type": "code",
   "execution_count": 26,
   "outputs": [
    {
     "data": {
      "text/plain": "   title  odometer  location    isimported          engine transmission  \\\n0     98     18277         0  Foreign Used  4-cylinder(I4)    automatic   \n1     47        10         0          New   4-cylinder(I4)    automatic   \n2      9     83091         0  Foreign Used  6-cylinder(V6)    automatic   \n3     69     91524         0  Foreign Used  4-cylinder(I4)    automatic   \n4     56     94177         0  Foreign Used  6-cylinder(V6)    automatic   \n\n     fuel  paint  year    target  brand  \n0  petrol    Red  2016  13665000     10  \n1  petrol  Black  2019  33015000     10  \n2  petrol    Red  2012   9915000     28  \n3  petrol   Gray  2007   3815000     21  \n4  petrol    Red  2010   7385000     10  ",
      "text/html": "<div>\n<style scoped>\n    .dataframe tbody tr th:only-of-type {\n        vertical-align: middle;\n    }\n\n    .dataframe tbody tr th {\n        vertical-align: top;\n    }\n\n    .dataframe thead th {\n        text-align: right;\n    }\n</style>\n<table border=\"1\" class=\"dataframe\">\n  <thead>\n    <tr style=\"text-align: right;\">\n      <th></th>\n      <th>title</th>\n      <th>odometer</th>\n      <th>location</th>\n      <th>isimported</th>\n      <th>engine</th>\n      <th>transmission</th>\n      <th>fuel</th>\n      <th>paint</th>\n      <th>year</th>\n      <th>target</th>\n      <th>brand</th>\n    </tr>\n  </thead>\n  <tbody>\n    <tr>\n      <th>0</th>\n      <td>98</td>\n      <td>18277</td>\n      <td>0</td>\n      <td>Foreign Used</td>\n      <td>4-cylinder(I4)</td>\n      <td>automatic</td>\n      <td>petrol</td>\n      <td>Red</td>\n      <td>2016</td>\n      <td>13665000</td>\n      <td>10</td>\n    </tr>\n    <tr>\n      <th>1</th>\n      <td>47</td>\n      <td>10</td>\n      <td>0</td>\n      <td>New</td>\n      <td>4-cylinder(I4)</td>\n      <td>automatic</td>\n      <td>petrol</td>\n      <td>Black</td>\n      <td>2019</td>\n      <td>33015000</td>\n      <td>10</td>\n    </tr>\n    <tr>\n      <th>2</th>\n      <td>9</td>\n      <td>83091</td>\n      <td>0</td>\n      <td>Foreign Used</td>\n      <td>6-cylinder(V6)</td>\n      <td>automatic</td>\n      <td>petrol</td>\n      <td>Red</td>\n      <td>2012</td>\n      <td>9915000</td>\n      <td>28</td>\n    </tr>\n    <tr>\n      <th>3</th>\n      <td>69</td>\n      <td>91524</td>\n      <td>0</td>\n      <td>Foreign Used</td>\n      <td>4-cylinder(I4)</td>\n      <td>automatic</td>\n      <td>petrol</td>\n      <td>Gray</td>\n      <td>2007</td>\n      <td>3815000</td>\n      <td>21</td>\n    </tr>\n    <tr>\n      <th>4</th>\n      <td>56</td>\n      <td>94177</td>\n      <td>0</td>\n      <td>Foreign Used</td>\n      <td>6-cylinder(V6)</td>\n      <td>automatic</td>\n      <td>petrol</td>\n      <td>Red</td>\n      <td>2010</td>\n      <td>7385000</td>\n      <td>10</td>\n    </tr>\n  </tbody>\n</table>\n</div>"
     },
     "execution_count": 26,
     "metadata": {},
     "output_type": "execute_result"
    }
   ],
   "source": [
    "train.head()"
   ],
   "metadata": {
    "collapsed": false,
    "pycharm": {
     "name": "#%%\n"
    }
   }
  },
  {
   "cell_type": "code",
   "execution_count": 27,
   "outputs": [
    {
     "data": {
      "text/plain": "Black          292\nWhite          115\nSilver         103\nGrey            84\nBlue            70\n              ... \nWINE             1\nSilver/grey      1\nInk blue         1\nLight blue       1\nOff white l      1\nName: paint, Length: 76, dtype: int64"
     },
     "execution_count": 27,
     "metadata": {},
     "output_type": "execute_result"
    }
   ],
   "source": [
    "train.paint.value_counts()"
   ],
   "metadata": {
    "collapsed": false,
    "pycharm": {
     "name": "#%%\n"
    }
   }
  },
  {
   "cell_type": "code",
   "execution_count": 28,
   "outputs": [
    {
     "data": {
      "text/plain": "Black                      118\nSilver                      62\nWhite                       45\nRed                         36\nGrey                        30\nBlue                        27\nwhite                       16\nDark Grey                   14\nGray                        13\nGold                         9\nGreen                        8\nBrown                        5\nBlack                        4\nDark Blue                    4\nDark Green                   3\nYellow                       3\nBlue                         3\ngreen                        3\nAsh                          2\nWine                         2\nGrey                         2\nSliver                       2\nLight Grey                   2\nWhite and green              1\nDark blue                    1\nBeige                        1\nClassic Silver Met(1F7)      1\nGreen                        1\nGrey and black               1\n  Brown                      1\nIndigo ink pearl             1\nNavy blue                    1\nblue                         1\nSilver                       1\nBLACK                        1\nMaroon                       1\nGolf                         1\nSliver                       1\nGold                         1\nDark Ash                     1\nCream                        1\nBlac                         1\nGOLD                         1\nblack                        1\nCream                        1\nMint green                   1\nName: paint, dtype: int64"
     },
     "execution_count": 28,
     "metadata": {},
     "output_type": "execute_result"
    }
   ],
   "source": [
    "test.paint.value_counts()"
   ],
   "metadata": {
    "collapsed": false,
    "pycharm": {
     "name": "#%%\n"
    }
   }
  },
  {
   "cell_type": "code",
   "execution_count": 29,
   "outputs": [],
   "source": [
    "import re\n",
    "\n",
    "def clean_text(texts):\n",
    "    corpus = []\n",
    "    for i in range(0, len(texts)):\n",
    "        review = re.sub(r'[@%\\\\*=()/~#&\\+á?\\xc3\\xa1\\-\\|\\.\\:\\;\\!\\-\\,\\_\\~\\$\\'\\\"\\n\\]\\[\\>\\<]', '',texts[i]) #@%*=()/+ 와 같은 문장부호 제거\n",
    "        review = re.sub(r'\\d+','',review)#숫자 제거\n",
    "        review = review.lower() #소문자 변환\n",
    "        review = re.sub(r'\\s+', ' ', review) #extra space 제거\n",
    "        review = re.sub(r'<[^>]+>','',review) #Html tags 제거\n",
    "        review = re.sub(r'\\s+', ' ', review) #spaces 제거\n",
    "        review = re.sub(r\"^\\s+\", '', review) #space from start 제거\n",
    "        review = re.sub(r'\\s+$', '', review) #space from the end 제거\n",
    "        review = re.sub(r'_', ' ', review) #space from the end 제거\n",
    "        #review = re.sub(r'l', '', review)\n",
    "        corpus.append(review)\n",
    "\n",
    "    return corpus"
   ],
   "metadata": {
    "collapsed": false,
    "pycharm": {
     "name": "#%%\n"
    }
   }
  },
  {
   "cell_type": "code",
   "execution_count": 30,
   "outputs": [
    {
     "name": "stdout",
     "output_type": "stream",
     "text": [
      "train data에서 paint의 unique 카테고리 개수 :  51\n"
     ]
    }
   ],
   "source": [
    "train_paint = clean_text(train['paint']) #메소드 적용\n",
    "train['paint'] = train_paint\n",
    "print('train data에서 paint의 unique 카테고리 개수 : ', len(train['paint'].unique()))"
   ],
   "metadata": {
    "collapsed": false,
    "pycharm": {
     "name": "#%%\n"
    }
   }
  },
  {
   "cell_type": "code",
   "execution_count": 31,
   "outputs": [],
   "source": [
    "train['paint'] = train['paint'] = train['paint'].apply(lambda x : 'blue' if x.find('blue') >= 0 else x)\n",
    "train['paint'] = train['paint'] = train['paint'].apply(lambda x : 'red' if x.find('red') >= 0 else x)\n",
    "train['paint'] = train['paint'] = train['paint'].apply(lambda x : 'green' if x.find('green') >= 0 else x)\n",
    "train['paint'] = train['paint'] = train['paint'].apply(lambda x : 'white' if x.find('white') >= 0 else x)\n",
    "train['paint'] = train['paint'] = train['paint'].apply(lambda x : 'grey' if x.find('grey') >= 0 else x)\n",
    "train['paint'] = train['paint'] = train['paint'].apply(lambda x : 'grey' if x.find('gery') >= 0 else x)\n",
    "train['paint'] = train['paint'] = train['paint'].apply(lambda x : 'grey' if x.find('gray') >= 0 else x)\n",
    "train['paint'] = train['paint'] = train['paint'].apply(lambda x : 'ash' if x.find('ash') >= 0 else x)\n",
    "train['paint'] = train['paint'] = train['paint'].apply(lambda x : 'brown' if x.find('brown') >= 0 else x)\n",
    "train['paint'] = train['paint'] = train['paint'].apply(lambda x : 'silver' if x.find('silver') >= 0 else x)\n",
    "train['paint'] = train['paint'] = train['paint'].apply(lambda x : 'silver' if x.find('sliver') >= 0 else x)\n",
    "train['paint'] = train['paint'] = train['paint'].apply(lambda x : 'black' if x.find('black') >= 0 else x)\n",
    "train['paint'] = train['paint'] = train['paint'].apply(lambda x : 'gold' if x.find('gold') >= 0 else x)\n",
    "train['paint'] = train['paint'] = train['paint'].apply(lambda x : 'wine' if x.find('whine') >= 0 else x)"
   ],
   "metadata": {
    "collapsed": false,
    "pycharm": {
     "name": "#%%\n"
    }
   }
  },
  {
   "cell_type": "code",
   "execution_count": 32,
   "outputs": [
    {
     "data": {
      "text/plain": "array(['red', 'black', 'grey', 'white', 'blue', 'silver', 'brown',\n       'green', 'purple', 'gold', 'milk', 'beige', 'ash', 'orange',\n       'cream', 'yellow', 'wine', 'maroon'], dtype=object)"
     },
     "execution_count": 32,
     "metadata": {},
     "output_type": "execute_result"
    }
   ],
   "source": [
    "train.paint.unique()"
   ],
   "metadata": {
    "collapsed": false,
    "pycharm": {
     "name": "#%%\n"
    }
   }
  },
  {
   "cell_type": "code",
   "execution_count": 33,
   "outputs": [
    {
     "name": "stdout",
     "output_type": "stream",
     "text": [
      "test data에서 paint의 unique 카테고리 개수 :  30\n"
     ]
    }
   ],
   "source": [
    "test_paint = clean_text(test['paint'])\n",
    "test['paint'] = test_paint\n",
    "print('test data에서 paint의 unique 카테고리 개수 : ', len(test['paint'].unique()))"
   ],
   "metadata": {
    "collapsed": false,
    "pycharm": {
     "name": "#%%\n"
    }
   }
  },
  {
   "cell_type": "code",
   "execution_count": 34,
   "outputs": [],
   "source": [
    "test['paint'] = test['paint'] = test['paint'].apply(lambda x : 'blue' if x.find('blue') >= 0 else x)\n",
    "test['paint'] = test['paint'] = test['paint'].apply(lambda x : 'red' if x.find('red') >= 0 else x)\n",
    "test['paint'] = test['paint'] = test['paint'].apply(lambda x : 'green' if x.find('green') >= 0 else x)\n",
    "test['paint'] = test['paint'] = test['paint'].apply(lambda x : 'white' if x.find('white') >= 0 else x)\n",
    "test['paint'] = test['paint'] = test['paint'].apply(lambda x : 'grey' if x.find('grey') >= 0 else x)\n",
    "test['paint'] = test['paint'] = test['paint'].apply(lambda x : 'grey' if x.find('gery') >= 0 else x)\n",
    "test['paint'] = test['paint'] = test['paint'].apply(lambda x : 'grey' if x.find('gray') >= 0 else x)\n",
    "test['paint'] = test['paint'] = test['paint'].apply(lambda x : 'ash' if x.find('ash') >= 0 else x)\n",
    "test['paint'] = test['paint'] = test['paint'].apply(lambda x : 'brown' if x.find('brown') >= 0 else x)\n",
    "test['paint'] = test['paint'] = test['paint'].apply(lambda x : 'silver' if x.find('silver') >= 0 else x)\n",
    "test['paint'] = test['paint'] = test['paint'].apply(lambda x : 'silver' if x.find('sliver') >= 0 else x)\n",
    "test['paint'] = test['paint'] = test['paint'].apply(lambda x : 'black' if x.find('black') >= 0 else x)\n",
    "test['paint'] = test['paint'] = test['paint'].apply(lambda x : 'black' if x.find('blac') >= 0 else x)\n",
    "test['paint'] = test['paint'] = test['paint'].apply(lambda x : 'gold' if x.find('gold') >= 0 else x)\n",
    "test['paint'] = test['paint'] = test['paint'].apply(lambda x : 'gold' if x.find('golf') >= 0 else x)\n",
    "test['paint'] = test['paint'] = test['paint'].apply(lambda x : 'wine' if x.find('whine') >= 0 else x)"
   ],
   "metadata": {
    "collapsed": false,
    "pycharm": {
     "name": "#%%\n"
    }
   }
  },
  {
   "cell_type": "code",
   "execution_count": 35,
   "outputs": [
    {
     "data": {
      "text/plain": "array(['white', 'black', 'grey', 'red', 'silver', 'blue', 'gold', 'green',\n       'cream', 'brown', 'yellow', 'maroon', 'wine', 'ash',\n       'indigo ink pearl', 'beige'], dtype=object)"
     },
     "execution_count": 35,
     "metadata": {},
     "output_type": "execute_result"
    }
   ],
   "source": [
    "test.paint.unique()"
   ],
   "metadata": {
    "collapsed": false,
    "pycharm": {
     "name": "#%%\n"
    }
   }
  },
  {
   "cell_type": "code",
   "execution_count": 36,
   "outputs": [
    {
     "data": {
      "text/plain": "{'grey': 0,\n 'green': 1,\n 'cream': 2,\n 'maroon': 3,\n 'yellow': 4,\n 'ash': 5,\n 'milk': 6,\n 'blue': 7,\n 'white': 8,\n 'purple': 9,\n 'silver': 10,\n 'indigo ink pearl': 11,\n 'orange': 12,\n 'black': 13,\n 'red': 14,\n 'brown': 15,\n 'wine': 16,\n 'beige': 17,\n 'gold': 18}"
     },
     "execution_count": 36,
     "metadata": {},
     "output_type": "execute_result"
    }
   ],
   "source": [
    "paint_label = {_paint : label for label, _paint in enumerate(set(pd.concat([train.paint, test.paint])))}\n",
    "paint_label"
   ],
   "metadata": {
    "collapsed": false,
    "pycharm": {
     "name": "#%%\n"
    }
   }
  },
  {
   "cell_type": "code",
   "execution_count": 37,
   "outputs": [],
   "source": [
    "train['paint'] = train['paint'].replace(paint_label)\n",
    "test['paint'] = test['paint'].replace(paint_label)"
   ],
   "metadata": {
    "collapsed": false,
    "pycharm": {
     "name": "#%%\n"
    }
   }
  },
  {
   "cell_type": "code",
   "execution_count": 38,
   "outputs": [
    {
     "data": {
      "text/plain": "   title  odometer  location    isimported          engine transmission  \\\n0     98     18277         0  Foreign Used  4-cylinder(I4)    automatic   \n1     47        10         0          New   4-cylinder(I4)    automatic   \n2      9     83091         0  Foreign Used  6-cylinder(V6)    automatic   \n3     69     91524         0  Foreign Used  4-cylinder(I4)    automatic   \n4     56     94177         0  Foreign Used  6-cylinder(V6)    automatic   \n\n     fuel  paint  year    target  brand  \n0  petrol     14  2016  13665000     10  \n1  petrol     13  2019  33015000     10  \n2  petrol     14  2012   9915000     28  \n3  petrol      0  2007   3815000     21  \n4  petrol     14  2010   7385000     10  ",
      "text/html": "<div>\n<style scoped>\n    .dataframe tbody tr th:only-of-type {\n        vertical-align: middle;\n    }\n\n    .dataframe tbody tr th {\n        vertical-align: top;\n    }\n\n    .dataframe thead th {\n        text-align: right;\n    }\n</style>\n<table border=\"1\" class=\"dataframe\">\n  <thead>\n    <tr style=\"text-align: right;\">\n      <th></th>\n      <th>title</th>\n      <th>odometer</th>\n      <th>location</th>\n      <th>isimported</th>\n      <th>engine</th>\n      <th>transmission</th>\n      <th>fuel</th>\n      <th>paint</th>\n      <th>year</th>\n      <th>target</th>\n      <th>brand</th>\n    </tr>\n  </thead>\n  <tbody>\n    <tr>\n      <th>0</th>\n      <td>98</td>\n      <td>18277</td>\n      <td>0</td>\n      <td>Foreign Used</td>\n      <td>4-cylinder(I4)</td>\n      <td>automatic</td>\n      <td>petrol</td>\n      <td>14</td>\n      <td>2016</td>\n      <td>13665000</td>\n      <td>10</td>\n    </tr>\n    <tr>\n      <th>1</th>\n      <td>47</td>\n      <td>10</td>\n      <td>0</td>\n      <td>New</td>\n      <td>4-cylinder(I4)</td>\n      <td>automatic</td>\n      <td>petrol</td>\n      <td>13</td>\n      <td>2019</td>\n      <td>33015000</td>\n      <td>10</td>\n    </tr>\n    <tr>\n      <th>2</th>\n      <td>9</td>\n      <td>83091</td>\n      <td>0</td>\n      <td>Foreign Used</td>\n      <td>6-cylinder(V6)</td>\n      <td>automatic</td>\n      <td>petrol</td>\n      <td>14</td>\n      <td>2012</td>\n      <td>9915000</td>\n      <td>28</td>\n    </tr>\n    <tr>\n      <th>3</th>\n      <td>69</td>\n      <td>91524</td>\n      <td>0</td>\n      <td>Foreign Used</td>\n      <td>4-cylinder(I4)</td>\n      <td>automatic</td>\n      <td>petrol</td>\n      <td>0</td>\n      <td>2007</td>\n      <td>3815000</td>\n      <td>21</td>\n    </tr>\n    <tr>\n      <th>4</th>\n      <td>56</td>\n      <td>94177</td>\n      <td>0</td>\n      <td>Foreign Used</td>\n      <td>6-cylinder(V6)</td>\n      <td>automatic</td>\n      <td>petrol</td>\n      <td>14</td>\n      <td>2010</td>\n      <td>7385000</td>\n      <td>10</td>\n    </tr>\n  </tbody>\n</table>\n</div>"
     },
     "execution_count": 38,
     "metadata": {},
     "output_type": "execute_result"
    }
   ],
   "source": [
    "train.head()"
   ],
   "metadata": {
    "collapsed": false,
    "pycharm": {
     "name": "#%%\n"
    }
   }
  },
  {
   "cell_type": "code",
   "execution_count": 39,
   "outputs": [
    {
     "data": {
      "text/plain": "4-cylinder(I4)    618\n6-cylinder(V6)    222\n6-cylinder(I6)    118\n8-cylinder(V8)     49\n3-cylinder(I3)      3\n4-cylinder(H4)      2\n5-cylinder(I5)      2\n2-cylinder(I2)      1\nName: engine, dtype: int64"
     },
     "execution_count": 39,
     "metadata": {},
     "output_type": "execute_result"
    }
   ],
   "source": [
    "train.engine.value_counts()"
   ],
   "metadata": {
    "collapsed": false,
    "pycharm": {
     "name": "#%%\n"
    }
   }
  },
  {
   "cell_type": "code",
   "execution_count": 40,
   "outputs": [
    {
     "data": {
      "text/plain": "4-cylinder(I4)      278\n6-cylinder(V6)       89\n6-cylinder(I6)       44\n8-cylinder(V8)       21\n5-cylinder(I5)        1\n2-cylinder(I2)        1\n12-cylinder(V12)      1\n3-cylinder(I3)        1\nName: engine, dtype: int64"
     },
     "execution_count": 40,
     "metadata": {},
     "output_type": "execute_result"
    }
   ],
   "source": [
    "test.engine.value_counts()"
   ],
   "metadata": {
    "collapsed": false,
    "pycharm": {
     "name": "#%%\n"
    }
   }
  },
  {
   "cell_type": "code",
   "execution_count": 41,
   "outputs": [
    {
     "data": {
      "text/plain": "{'12-cylinder(V12)', '4-cylinder(H4)'}"
     },
     "execution_count": 41,
     "metadata": {},
     "output_type": "execute_result"
    }
   ],
   "source": [
    "set(set(train.engine.unique()) | set(test.engine.unique())) - set(set(train.engine.unique()) & set(test.engine.unique()))"
   ],
   "metadata": {
    "collapsed": false,
    "pycharm": {
     "name": "#%%\n"
    }
   }
  },
  {
   "cell_type": "code",
   "execution_count": 42,
   "outputs": [
    {
     "data": {
      "text/plain": "     title  odometer  location    isimported          engine transmission  \\\n327    115      3656         1  Foreign Used  4-cylinder(H4)    automatic   \n830     84    152229         0  Foreign Used  4-cylinder(H4)    automatic   \n\n       fuel  paint  year    target  brand  \n327  petrol     10  2020  20015000     10  \n830  petrol      0  2007   2765000     18  ",
      "text/html": "<div>\n<style scoped>\n    .dataframe tbody tr th:only-of-type {\n        vertical-align: middle;\n    }\n\n    .dataframe tbody tr th {\n        vertical-align: top;\n    }\n\n    .dataframe thead th {\n        text-align: right;\n    }\n</style>\n<table border=\"1\" class=\"dataframe\">\n  <thead>\n    <tr style=\"text-align: right;\">\n      <th></th>\n      <th>title</th>\n      <th>odometer</th>\n      <th>location</th>\n      <th>isimported</th>\n      <th>engine</th>\n      <th>transmission</th>\n      <th>fuel</th>\n      <th>paint</th>\n      <th>year</th>\n      <th>target</th>\n      <th>brand</th>\n    </tr>\n  </thead>\n  <tbody>\n    <tr>\n      <th>327</th>\n      <td>115</td>\n      <td>3656</td>\n      <td>1</td>\n      <td>Foreign Used</td>\n      <td>4-cylinder(H4)</td>\n      <td>automatic</td>\n      <td>petrol</td>\n      <td>10</td>\n      <td>2020</td>\n      <td>20015000</td>\n      <td>10</td>\n    </tr>\n    <tr>\n      <th>830</th>\n      <td>84</td>\n      <td>152229</td>\n      <td>0</td>\n      <td>Foreign Used</td>\n      <td>4-cylinder(H4)</td>\n      <td>automatic</td>\n      <td>petrol</td>\n      <td>0</td>\n      <td>2007</td>\n      <td>2765000</td>\n      <td>18</td>\n    </tr>\n  </tbody>\n</table>\n</div>"
     },
     "execution_count": 42,
     "metadata": {},
     "output_type": "execute_result"
    }
   ],
   "source": [
    "train[train.engine == '4-cylinder(H4)']"
   ],
   "metadata": {
    "collapsed": false,
    "pycharm": {
     "name": "#%%\n"
    }
   }
  },
  {
   "cell_type": "code",
   "execution_count": 43,
   "outputs": [
    {
     "data": {
      "text/plain": "     title  odometer  location isimported            engine transmission  \\\n142    142      6758         0       New   12-cylinder(V12)    automatic   \n\n       fuel  paint  year  brand  \n142  petrol     13  2019      0  ",
      "text/html": "<div>\n<style scoped>\n    .dataframe tbody tr th:only-of-type {\n        vertical-align: middle;\n    }\n\n    .dataframe tbody tr th {\n        vertical-align: top;\n    }\n\n    .dataframe thead th {\n        text-align: right;\n    }\n</style>\n<table border=\"1\" class=\"dataframe\">\n  <thead>\n    <tr style=\"text-align: right;\">\n      <th></th>\n      <th>title</th>\n      <th>odometer</th>\n      <th>location</th>\n      <th>isimported</th>\n      <th>engine</th>\n      <th>transmission</th>\n      <th>fuel</th>\n      <th>paint</th>\n      <th>year</th>\n      <th>brand</th>\n    </tr>\n  </thead>\n  <tbody>\n    <tr>\n      <th>142</th>\n      <td>142</td>\n      <td>6758</td>\n      <td>0</td>\n      <td>New</td>\n      <td>12-cylinder(V12)</td>\n      <td>automatic</td>\n      <td>petrol</td>\n      <td>13</td>\n      <td>2019</td>\n      <td>0</td>\n    </tr>\n  </tbody>\n</table>\n</div>"
     },
     "execution_count": 43,
     "metadata": {},
     "output_type": "execute_result"
    }
   ],
   "source": [
    "test[test.engine == '12-cylinder(V12)']"
   ],
   "metadata": {
    "collapsed": false,
    "pycharm": {
     "name": "#%%\n"
    }
   }
  },
  {
   "cell_type": "code",
   "execution_count": 44,
   "outputs": [],
   "source": [
    "# change cylinder data to nearest neighbor\n",
    "\n",
    "train = train.replace({'4-cylinder(H4)' : '4-cylinder(I4)'})\n",
    "test = test.replace({'12-cylinder(V12)' : '8-cylinder(V8)'})"
   ],
   "metadata": {
    "collapsed": false,
    "pycharm": {
     "name": "#%%\n"
    }
   }
  },
  {
   "cell_type": "code",
   "execution_count": 45,
   "outputs": [
    {
     "data": {
      "text/plain": "{'2-cylinder(I2)': 0,\n '6-cylinder(I6)': 1,\n '6-cylinder(V6)': 2,\n '8-cylinder(V8)': 3,\n '3-cylinder(I3)': 4,\n '5-cylinder(I5)': 5,\n '4-cylinder(I4)': 6}"
     },
     "execution_count": 45,
     "metadata": {},
     "output_type": "execute_result"
    }
   ],
   "source": [
    "engine_label = {_engine : label for label, _engine in enumerate(set(pd.concat([train.engine, test.engine])))}\n",
    "engine_label"
   ],
   "metadata": {
    "collapsed": false,
    "pycharm": {
     "name": "#%%\n"
    }
   }
  },
  {
   "cell_type": "code",
   "execution_count": 46,
   "outputs": [],
   "source": [
    "train = train.replace(engine_label)\n",
    "test = test.replace(engine_label)"
   ],
   "metadata": {
    "collapsed": false,
    "pycharm": {
     "name": "#%%\n"
    }
   }
  },
  {
   "cell_type": "code",
   "execution_count": 47,
   "outputs": [
    {
     "data": {
      "text/plain": "     title  odometer  location    isimported  engine transmission    fuel  \\\n415    229    403461         0  Locally used       6       manual  diesel   \n827      0    510053         0  Locally used       2       manual  diesel   \n\n     paint  year    target  brand  \n415      8  1218   6015000      0  \n827      8  1217  75015000      0  ",
      "text/html": "<div>\n<style scoped>\n    .dataframe tbody tr th:only-of-type {\n        vertical-align: middle;\n    }\n\n    .dataframe tbody tr th {\n        vertical-align: top;\n    }\n\n    .dataframe thead th {\n        text-align: right;\n    }\n</style>\n<table border=\"1\" class=\"dataframe\">\n  <thead>\n    <tr style=\"text-align: right;\">\n      <th></th>\n      <th>title</th>\n      <th>odometer</th>\n      <th>location</th>\n      <th>isimported</th>\n      <th>engine</th>\n      <th>transmission</th>\n      <th>fuel</th>\n      <th>paint</th>\n      <th>year</th>\n      <th>target</th>\n      <th>brand</th>\n    </tr>\n  </thead>\n  <tbody>\n    <tr>\n      <th>415</th>\n      <td>229</td>\n      <td>403461</td>\n      <td>0</td>\n      <td>Locally used</td>\n      <td>6</td>\n      <td>manual</td>\n      <td>diesel</td>\n      <td>8</td>\n      <td>1218</td>\n      <td>6015000</td>\n      <td>0</td>\n    </tr>\n    <tr>\n      <th>827</th>\n      <td>0</td>\n      <td>510053</td>\n      <td>0</td>\n      <td>Locally used</td>\n      <td>2</td>\n      <td>manual</td>\n      <td>diesel</td>\n      <td>8</td>\n      <td>1217</td>\n      <td>75015000</td>\n      <td>0</td>\n    </tr>\n  </tbody>\n</table>\n</div>"
     },
     "execution_count": 47,
     "metadata": {},
     "output_type": "execute_result"
    }
   ],
   "source": [
    "train[(train.year <= 1900) | (train.year >= 2023)]"
   ],
   "metadata": {
    "collapsed": false,
    "pycharm": {
     "name": "#%%\n"
    }
   }
  },
  {
   "cell_type": "code",
   "execution_count": 48,
   "outputs": [
    {
     "data": {
      "text/plain": "     title  odometer  location    isimported  engine transmission    fuel  \\\n304     71    650923         0  Locally used       2       manual  diesel   \n406    150         0         0  Locally used       3       manual  diesel   \n411     75    701934         0  Locally used       3       manual  diesel   \n\n     paint  year  brand  \n304      7  1324      0  \n406      8  2626      0  \n411      8  1726      0  ",
      "text/html": "<div>\n<style scoped>\n    .dataframe tbody tr th:only-of-type {\n        vertical-align: middle;\n    }\n\n    .dataframe tbody tr th {\n        vertical-align: top;\n    }\n\n    .dataframe thead th {\n        text-align: right;\n    }\n</style>\n<table border=\"1\" class=\"dataframe\">\n  <thead>\n    <tr style=\"text-align: right;\">\n      <th></th>\n      <th>title</th>\n      <th>odometer</th>\n      <th>location</th>\n      <th>isimported</th>\n      <th>engine</th>\n      <th>transmission</th>\n      <th>fuel</th>\n      <th>paint</th>\n      <th>year</th>\n      <th>brand</th>\n    </tr>\n  </thead>\n  <tbody>\n    <tr>\n      <th>304</th>\n      <td>71</td>\n      <td>650923</td>\n      <td>0</td>\n      <td>Locally used</td>\n      <td>2</td>\n      <td>manual</td>\n      <td>diesel</td>\n      <td>7</td>\n      <td>1324</td>\n      <td>0</td>\n    </tr>\n    <tr>\n      <th>406</th>\n      <td>150</td>\n      <td>0</td>\n      <td>0</td>\n      <td>Locally used</td>\n      <td>3</td>\n      <td>manual</td>\n      <td>diesel</td>\n      <td>8</td>\n      <td>2626</td>\n      <td>0</td>\n    </tr>\n    <tr>\n      <th>411</th>\n      <td>75</td>\n      <td>701934</td>\n      <td>0</td>\n      <td>Locally used</td>\n      <td>3</td>\n      <td>manual</td>\n      <td>diesel</td>\n      <td>8</td>\n      <td>1726</td>\n      <td>0</td>\n    </tr>\n  </tbody>\n</table>\n</div>"
     },
     "execution_count": 48,
     "metadata": {},
     "output_type": "execute_result"
    }
   ],
   "source": [
    "test[(test.year <= 1900) | (test.year >= 2023)]"
   ],
   "metadata": {
    "collapsed": false,
    "pycharm": {
     "name": "#%%\n"
    }
   }
  },
  {
   "cell_type": "code",
   "execution_count": 50,
   "outputs": [],
   "source": [
    "train['year'] = train['year'].replace([1218, 1217], [2013, 2010])\n",
    "# 1218:Mercedes benz ATEGO I4\n",
    "# 1217:no information-use mean"
   ],
   "metadata": {
    "collapsed": false,
    "pycharm": {
     "name": "#%%\n"
    }
   }
  },
  {
   "cell_type": "code",
   "execution_count": 51,
   "outputs": [],
   "source": [
    "test['year'] = test['year'].replace([1324, 2626, 1726], [2010, 2010, 2010])"
   ],
   "metadata": {
    "collapsed": false,
    "pycharm": {
     "name": "#%%\n"
    }
   }
  },
  {
   "cell_type": "code",
   "execution_count": null,
   "outputs": [],
   "source": [],
   "metadata": {
    "collapsed": false,
    "pycharm": {
     "name": "#%%\n"
    }
   }
  }
 ],
 "metadata": {
  "kernelspec": {
   "display_name": "Python 3",
   "language": "python",
   "name": "python3"
  },
  "language_info": {
   "codemirror_mode": {
    "name": "ipython",
    "version": 2
   },
   "file_extension": ".py",
   "mimetype": "text/x-python",
   "name": "python",
   "nbconvert_exporter": "python",
   "pygments_lexer": "ipython2",
   "version": "2.7.6"
  }
 },
 "nbformat": 4,
 "nbformat_minor": 0
}