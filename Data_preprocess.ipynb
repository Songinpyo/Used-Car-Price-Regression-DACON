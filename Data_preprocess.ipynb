{
 "cells": [
  {
   "cell_type": "code",
   "execution_count": 1,
   "metadata": {
    "collapsed": true,
    "pycharm": {
     "name": "#%%\n"
    }
   },
   "outputs": [],
   "source": [
    "# This is file for data preprocess\n",
    "\n",
    "import pandas as pd\n",
    "dirpath = 'C:/Users/rihot/Desktop/Deep_learning/DACON_used_car_price/'\n",
    "\n",
    "train = pd.read_csv('data/train.csv')\n",
    "test = pd.read_csv('data/test.csv')"
   ]
  },
  {
   "cell_type": "code",
   "execution_count": 2,
   "outputs": [],
   "source": [
    "train = train.drop(['id'], axis=1)\n",
    "test= test.drop(['id'], axis=1)"
   ],
   "metadata": {
    "collapsed": false,
    "pycharm": {
     "name": "#%%\n"
    }
   }
  },
  {
   "cell_type": "code",
   "execution_count": 3,
   "outputs": [],
   "source": [
    "def check_missing_col(dataframe):\n",
    "    missing_col = []\n",
    "    for col in dataframe.columns:\n",
    "        missing_values = sum(dataframe[col].isna())\n",
    "        # isna : if value is NAN, return 1\n",
    "        is_missing = True if missing_values >= 1 else False\n",
    "        if is_missing:\n",
    "            print(f'결측치가 있는 컬럼 : {col} 입니다')\n",
    "            print(f'해당 컬럼에 총 {missing_values} 개의 결측치가 존재합니다.')\n",
    "            missing_col.append([col, dataframe[col].dtype])\n",
    "    if missing_col == []:\n",
    "        print('결측치가 존재하지 않습니다')\n",
    "    return missing_col"
   ],
   "metadata": {
    "collapsed": false,
    "pycharm": {
     "name": "#%%\n"
    }
   }
  },
  {
   "cell_type": "code",
   "execution_count": 4,
   "outputs": [
    {
     "name": "stdout",
     "output_type": "stream",
     "text": [
      "결측치가 존재하지 않습니다\n"
     ]
    }
   ],
   "source": [
    "missing_col = check_missing_col(train)"
   ],
   "metadata": {
    "collapsed": false,
    "pycharm": {
     "name": "#%%\n"
    }
   }
  },
  {
   "cell_type": "code",
   "execution_count": 5,
   "outputs": [
    {
     "name": "stdout",
     "output_type": "stream",
     "text": [
      "결측치가 존재하지 않습니다\n"
     ]
    }
   ],
   "source": [
    "missing_col = check_missing_col(test)"
   ],
   "metadata": {
    "collapsed": false,
    "pycharm": {
     "name": "#%%\n"
    }
   }
  },
  {
   "cell_type": "code",
   "execution_count": 6,
   "outputs": [],
   "source": [
    "train['brand'] = train['title'].apply(lambda x : x.split(\" \")[0])\n",
    "test['brand'] = test['title'].apply(lambda x: x.split(\" \")[0])"
   ],
   "metadata": {
    "collapsed": false,
    "pycharm": {
     "name": "#%%\n"
    }
   }
  },
  {
   "cell_type": "code",
   "execution_count": 7,
   "outputs": [
    {
     "data": {
      "text/plain": "0    Toyota\n1    Toyota\n2      Land\n3     Lexus\n4    Toyota\nName: brand, dtype: object"
     },
     "execution_count": 7,
     "metadata": {},
     "output_type": "execute_result"
    }
   ],
   "source": [
    "train.brand.head()"
   ],
   "metadata": {
    "collapsed": false,
    "pycharm": {
     "name": "#%%\n"
    }
   }
  },
  {
   "cell_type": "code",
   "execution_count": 8,
   "outputs": [
    {
     "data": {
      "text/plain": "0    Mercedes-Benz\n1            Honda\n2    Mercedes-Benz\n3           Toyota\n4           Toyota\nName: brand, dtype: object"
     },
     "execution_count": 8,
     "metadata": {},
     "output_type": "execute_result"
    }
   ],
   "source": [
    "test.brand.head()"
   ],
   "metadata": {
    "collapsed": false,
    "pycharm": {
     "name": "#%%\n"
    }
   }
  },
  {
   "cell_type": "code",
   "execution_count": 9,
   "outputs": [
    {
     "data": {
      "text/plain": "{'ALPINA',\n 'Acura',\n 'Audi',\n 'BMW',\n 'Bentley',\n 'Chevrolet',\n 'DAF',\n 'Dodge',\n 'Fiat',\n 'Ford',\n 'GAC',\n 'GMC',\n 'Honda',\n 'Hyundai',\n 'IVECO',\n 'IVM',\n 'Infiniti',\n 'Isuzu',\n 'Iveco',\n 'JMC',\n 'Jaguar',\n 'Jeep',\n 'Kia',\n 'Land',\n 'Lexus',\n 'Lincoln',\n 'MAN-VOLKSWAGEN',\n 'MINI',\n 'Mack',\n 'Man',\n 'Mazda',\n 'Mercedes-Benz',\n 'Mercedes-Benz/52',\n 'Mitsubishi',\n 'Nissan',\n 'Peugeot',\n 'Pontiac',\n 'Porsche',\n 'Rolls-Royce',\n 'Scania',\n 'Toyota',\n 'Volkswagen',\n 'Volvo'}"
     },
     "execution_count": 9,
     "metadata": {},
     "output_type": "execute_result"
    }
   ],
   "source": [
    "# set 은 집합을 처리하기 위한 자료형으로 중복을 허용하지 않는다.\n",
    "# | 은 합집합 기호, & 교집합 기호, - 차집합 기호\n",
    "set(train.brand) | set(test.brand)"
   ],
   "metadata": {
    "collapsed": false,
    "pycharm": {
     "name": "#%%\n"
    }
   }
  },
  {
   "cell_type": "code",
   "execution_count": 10,
   "outputs": [],
   "source": [
    "train['brand'] = train['brand'].replace({'Mercedes-Benz/52' : 'Mercedes-Benz'})"
   ],
   "metadata": {
    "collapsed": false,
    "pycharm": {
     "name": "#%%\n"
    }
   }
  },
  {
   "cell_type": "code",
   "execution_count": 11,
   "outputs": [
    {
     "data": {
      "text/plain": "{'Rolls-Royce': 0,\n 'Hyundai': 1,\n 'Kia': 2,\n 'Infiniti': 3,\n 'IVECO': 4,\n 'Acura': 5,\n 'Lexus': 6,\n 'Fiat': 7,\n 'GAC': 8,\n 'Jaguar': 9,\n 'Lincoln': 10,\n 'Jeep': 11,\n 'Peugeot': 12,\n 'Isuzu': 13,\n 'Honda': 14,\n 'Scania': 15,\n 'Mazda': 16,\n 'Pontiac': 17,\n 'DAF': 18,\n 'Man': 19,\n 'MAN-VOLKSWAGEN': 20,\n 'Iveco': 21,\n 'GMC': 22,\n 'Ford': 23,\n 'Mack': 24,\n 'Volvo': 25,\n 'Porsche': 26,\n 'Chevrolet': 27,\n 'Volkswagen': 28,\n 'Nissan': 29,\n 'ALPINA': 30,\n 'Land': 31,\n 'IVM': 32,\n 'Mitsubishi': 33,\n 'Mercedes-Benz': 34,\n 'MINI': 35,\n 'Toyota': 36,\n 'Audi': 37,\n 'JMC': 38,\n 'BMW': 39,\n 'Dodge': 40,\n 'Bentley': 41}"
     },
     "execution_count": 11,
     "metadata": {},
     "output_type": "execute_result"
    }
   ],
   "source": [
    "brand_label = {_brand : label for label, _brand in enumerate(set(train.brand)|set(test.brand))}\n",
    "brand_label"
   ],
   "metadata": {
    "collapsed": false,
    "pycharm": {
     "name": "#%%\n"
    }
   }
  },
  {
   "cell_type": "code",
   "execution_count": 12,
   "outputs": [],
   "source": [
    "train['brand'] = train['brand'].replace(brand_label)\n",
    "test['brand'] = test['brand'].replace(brand_label)"
   ],
   "metadata": {
    "collapsed": false,
    "pycharm": {
     "name": "#%%\n"
    }
   }
  },
  {
   "cell_type": "code",
   "execution_count": 13,
   "outputs": [
    {
     "data": {
      "text/plain": "{'ALPINA B3',\n 'Acura MDX',\n 'Acura RDX',\n 'Acura TL',\n 'Acura TSX',\n 'Acura ZDX',\n 'Audi S6',\n 'BMW 325',\n 'BMW 335',\n 'BMW 525',\n 'BMW 528',\n 'BMW 535',\n 'BMW 730',\n 'BMW 740',\n 'BMW 745',\n 'BMW 750',\n 'BMW X3',\n 'BMW X6',\n 'Bentley Arnage',\n 'Chevrolet Camaro',\n 'Chevrolet Evanda',\n 'Chevrolet Traverse',\n 'DAF 45',\n 'DAF 95XF TRACTOR HEAD',\n 'DAF CF',\n 'DAF FA 55. 180',\n 'DAF XF TRACTOR HEAD',\n 'Dodge Charger',\n 'Fiat Ducato',\n 'Ford Edge',\n 'Ford Escape',\n 'Ford Expedition',\n 'Ford Explorer',\n 'Ford F 150',\n 'Ford Focus',\n 'Ford Fusion',\n 'Ford Mondeo',\n 'Ford Mustang',\n 'Ford TRANSIT PICKUP',\n 'Ford Transit',\n 'GAC Gonow Other',\n 'GMC Terrain',\n 'Honda Accord',\n 'Honda CR-V',\n 'Honda Civic',\n 'Honda Crosstour',\n 'Honda Element',\n 'Honda Fit',\n 'Honda Insight',\n 'Honda Odyssey',\n 'Honda Pilot',\n 'Honda Ridgeline',\n 'Hyundai Azera',\n 'Hyundai Elantra',\n 'Hyundai Santa Fe',\n 'Hyundai Sonata',\n 'Hyundai Tucson',\n 'Hyundai ix35',\n 'IVECO EUROTECH 7.50E-16',\n 'IVM LT35',\n 'Infiniti FX',\n 'Infiniti JX',\n 'Infiniti M35',\n 'Infiniti QX80',\n 'Isuzu CABSTER',\n 'Isuzu NQR',\n 'Iveco EUROCARGO 120e18',\n 'Iveco TRUCK',\n 'JMC Vigus',\n 'Jaguar X-Type',\n 'Jaguar XJ8',\n 'Jeep Cherokee',\n 'Jeep Wrangler',\n 'Kia Cerato',\n 'Kia Optima',\n 'Kia Picanto',\n 'Kia Rio',\n 'Kia Sorento',\n 'Kia Soul',\n 'Kia Stinger',\n 'Land Rover Discovery',\n 'Land Rover Range Rover',\n 'Land Rover Range Rover Evoque',\n 'Land Rover Range Rover Sport',\n 'Land Rover Range Rover Velar',\n 'Lexus CT 200h',\n 'Lexus ES 300',\n 'Lexus ES 330',\n 'Lexus ES 350',\n 'Lexus GS 300',\n 'Lexus GS 350',\n 'Lexus GX 460',\n 'Lexus GX 470',\n 'Lexus IS 250',\n 'Lexus LS 460',\n 'Lexus LX 570',\n 'Lexus RX 300',\n 'Lexus RX 330',\n 'Lexus RX 350',\n 'Lexus RX 400',\n 'Lincoln Mark',\n 'MAN-VOLKSWAGEN FLATBED',\n 'MINI Cooper',\n 'MINI Cooper Countryman',\n 'MINI Cooper Coupé',\n 'Mack CH613',\n 'Mack CH613 CONVENTIONAL CAB',\n 'Mack CXN613',\n 'Mack CXN613 CAB BEHIND ENGINE',\n 'Mack R-686ST',\n 'Man 26-403',\n 'Man BOCKMANN',\n 'Man Diesel 19.314 FILT-N',\n 'Man LE 8. 180 PLATFORM TRUCK',\n 'Man TGA 18.360',\n 'Man Truck 18.44',\n 'Mazda 323',\n 'Mazda 6',\n 'Mazda CX-9',\n 'Mazda Tribute',\n 'Mercedes-Benz 200',\n 'Mercedes-Benz 220',\n 'Mercedes-Benz 300',\n 'Mercedes-Benz 320',\n 'Mercedes-Benz 350',\n 'Mercedes-Benz 450',\n 'Mercedes-Benz 709 DB',\n 'Mercedes-Benz 814',\n 'Mercedes-Benz ATEGO',\n 'Mercedes-Benz C 180',\n 'Mercedes-Benz C 250',\n 'Mercedes-Benz C 300',\n 'Mercedes-Benz C 320',\n 'Mercedes-Benz C 350',\n 'Mercedes-Benz C 450 AMG',\n 'Mercedes-Benz C 63 AMG',\n 'Mercedes-Benz CABIN PLUS CHASSIS ONLY',\n 'Mercedes-Benz CLA 250',\n 'Mercedes-Benz CLS 500',\n 'Mercedes-Benz DUMP TRUCK',\n 'Mercedes-Benz E 200',\n 'Mercedes-Benz E 300',\n 'Mercedes-Benz E 320',\n 'Mercedes-Benz E 350',\n 'Mercedes-Benz E 550',\n 'Mercedes-Benz G 550',\n 'Mercedes-Benz G 63 AMG',\n 'Mercedes-Benz GL 450',\n 'Mercedes-Benz GLA 180',\n 'Mercedes-Benz GLA 250',\n 'Mercedes-Benz GLC 300',\n 'Mercedes-Benz GLE 350',\n 'Mercedes-Benz GLE 43 AMG',\n 'Mercedes-Benz GLE 450',\n 'Mercedes-Benz GLK 300',\n 'Mercedes-Benz GLK 350',\n 'Mercedes-Benz ML 320',\n 'Mercedes-Benz ML 350',\n 'Mercedes-Benz ML 430',\n 'Mercedes-Benz Maybach',\n 'Mercedes-Benz S 450',\n 'Mercedes-Benz S 550',\n 'Mercedes-Benz SL 400',\n 'Mercedes-Benz WATER TANKER',\n 'Mercedes-Benz/52',\n 'Mitsubishi CANTER PICK UP',\n 'Mitsubishi Eclipse',\n 'Mitsubishi Galant',\n 'Mitsubishi L200',\n 'Mitsubishi Montero',\n 'Mitsubishi Pajero',\n 'Nissan A',\n 'Nissan Altima',\n 'Nissan Cabstar',\n 'Nissan Frontier',\n 'Nissan INFINITI M90.150/2',\n 'Nissan Maxima',\n 'Nissan Murano',\n 'Nissan Pathfinder',\n 'Nissan Primera',\n 'Nissan Quest',\n 'Nissan Rogue',\n 'Nissan Sentra',\n 'Nissan Titan',\n 'Nissan Versa',\n 'Nissan X-Trail',\n 'Nissan Xterra',\n 'Peugeot 206',\n 'Peugeot 307',\n 'Peugeot 308',\n 'Peugeot 607',\n 'Pontiac Vibe',\n 'Porsche Cayenne',\n 'Porsche Macan',\n 'Porsche Panamera',\n 'Rolls-Royce Ghost',\n 'Scania P94 FLATBED',\n 'Scania TRACTOR HEAD',\n 'Toyota 4-Runner',\n 'Toyota Avalon',\n 'Toyota Avensis',\n 'Toyota C-HR',\n 'Toyota Camry',\n 'Toyota Coaster',\n 'Toyota Corolla',\n 'Toyota DYNA 200',\n 'Toyota Dyna',\n 'Toyota Hiace',\n 'Toyota Highlander',\n 'Toyota Hilux',\n 'Toyota Land Cruiser',\n 'Toyota Matrix',\n 'Toyota Prado',\n 'Toyota Prius',\n 'Toyota RAV 4',\n 'Toyota Sequoia',\n 'Toyota Sienna',\n 'Toyota Solara',\n 'Toyota Tacoma',\n 'Toyota Tundra',\n 'Toyota Venza',\n 'Toyota Vitz',\n 'Toyota Yaris',\n 'Volkswagen 17.22',\n 'Volkswagen Golf',\n 'Volkswagen Jetta',\n 'Volkswagen LT',\n 'Volkswagen Passat',\n 'Volkswagen Sharan',\n 'Volkswagen T4 Caravelle',\n 'Volkswagen T6 other',\n 'Volkswagen Tiguan',\n 'Volkswagen Touareg',\n 'Volvo FH12',\n 'Volvo FL12',\n 'Volvo FL6',\n 'Volvo FL7',\n 'Volvo S80',\n 'Volvo XC60',\n 'Volvo XC90'}"
     },
     "execution_count": 13,
     "metadata": {},
     "output_type": "execute_result"
    }
   ],
   "source": [
    "car_title = set(train.title) | set(test.title)\n",
    "car_title"
   ],
   "metadata": {
    "collapsed": false,
    "pycharm": {
     "name": "#%%\n"
    }
   }
  },
  {
   "cell_type": "code",
   "execution_count": 14,
   "outputs": [
    {
     "data": {
      "text/plain": "{'Lexus GS 300': 0,\n 'Mercedes-Benz GL 450': 1,\n 'Mercedes-Benz GLA 180': 2,\n 'Mercedes-Benz 350': 3,\n 'Ford Focus': 4,\n 'Acura TL': 5,\n 'DAF 95XF TRACTOR HEAD': 6,\n 'Mercedes-Benz C 180': 7,\n 'Mercedes-Benz ML 430': 8,\n 'Mack CH613 CONVENTIONAL CAB': 9,\n 'Toyota Sequoia': 10,\n 'GAC Gonow Other': 11,\n 'Toyota Tundra': 12,\n 'Volvo FL12': 13,\n 'Mercedes-Benz C 300': 14,\n 'Kia Soul': 15,\n 'Toyota Hilux': 16,\n 'Toyota Hiace': 17,\n 'Mercedes-Benz 450': 18,\n 'Mercedes-Benz C 350': 19,\n 'Chevrolet Traverse': 20,\n 'Honda Civic': 21,\n 'Lexus GX 470': 22,\n 'Mercedes-Benz C 250': 23,\n 'Toyota Highlander': 24,\n 'Kia Sorento': 25,\n 'Nissan Versa': 26,\n 'Volkswagen T4 Caravelle': 27,\n 'Jeep Cherokee': 28,\n 'Mercedes-Benz S 550': 29,\n 'Hyundai ix35': 30,\n 'Volvo FL7': 31,\n 'Mercedes-Benz ATEGO': 32,\n 'Lexus LS 460': 33,\n 'Ford TRANSIT PICKUP': 34,\n 'Mercedes-Benz GLE 450': 35,\n 'Mercedes-Benz 709 DB': 36,\n 'Land Rover Range Rover Sport': 37,\n 'BMW X6': 38,\n 'Mercedes-Benz ML 320': 39,\n 'Toyota Tacoma': 40,\n 'Nissan Frontier': 41,\n 'Ford Mustang': 42,\n 'Mercedes-Benz E 350': 43,\n 'Ford F 150': 44,\n 'Volvo S80': 45,\n 'Honda Fit': 46,\n 'BMW 740': 47,\n 'BMW 730': 48,\n 'Pontiac Vibe': 49,\n 'Volkswagen Golf': 50,\n 'Mercedes-Benz S 450': 51,\n 'Toyota Coaster': 52,\n 'Mitsubishi Eclipse': 53,\n 'Infiniti FX': 54,\n 'Land Rover Range Rover Evoque': 55,\n 'Mercedes-Benz GLC 300': 56,\n 'Mack R-686ST': 57,\n 'Toyota Yaris': 58,\n 'Mercedes-Benz E 550': 59,\n 'Nissan INFINITI M90.150/2': 60,\n 'Man 26-403': 61,\n 'Mercedes-Benz E 300': 62,\n 'Lexus ES 330': 63,\n 'Dodge Charger': 64,\n 'Mercedes-Benz GLA 250': 65,\n 'Mitsubishi Montero': 66,\n 'Nissan Maxima': 67,\n 'BMW 535': 68,\n 'Mercedes-Benz GLE 350': 69,\n 'Toyota Camry': 70,\n 'Nissan X-Trail': 71,\n 'Lexus GS 350': 72,\n 'Mitsubishi CANTER PICK UP': 73,\n 'Volkswagen Jetta': 74,\n 'Chevrolet Camaro': 75,\n 'MINI Cooper Coupé': 76,\n 'Hyundai Azera': 77,\n 'Mazda 323': 78,\n 'Volkswagen Tiguan': 79,\n 'Jeep Wrangler': 80,\n 'Mercedes-Benz 814': 81,\n 'Honda Pilot': 82,\n 'Volvo FH12': 83,\n 'Toyota Avensis': 84,\n 'Mercedes-Benz/52': 85,\n 'Toyota DYNA 200': 86,\n 'Mercedes-Benz C 320': 87,\n 'Honda Accord': 88,\n 'Nissan Pathfinder': 89,\n 'Volvo XC90': 90,\n 'Toyota Sienna': 91,\n 'Mack CXN613 CAB BEHIND ENGINE': 92,\n 'Toyota Land Cruiser': 93,\n 'Nissan Quest': 94,\n 'IVM LT35': 95,\n 'Nissan Primera': 96,\n 'Scania P94 FLATBED': 97,\n 'Mercedes-Benz G 63 AMG': 98,\n 'Lexus CT 200h': 99,\n 'Toyota Vitz': 100,\n 'Mercedes-Benz E 200': 101,\n 'BMW 528': 102,\n 'Mercedes-Benz 200': 103,\n 'Honda Ridgeline': 104,\n 'Acura RDX': 105,\n 'Man Truck 18.44': 106,\n 'Ford Edge': 107,\n 'Lexus RX 350': 108,\n 'BMW 335': 109,\n 'Mercedes-Benz Maybach': 110,\n 'DAF FA 55. 180': 111,\n 'GMC Terrain': 112,\n 'Mazda Tribute': 113,\n 'Fiat Ducato': 114,\n 'Kia Stinger': 115,\n 'Toyota Venza': 116,\n 'Kia Picanto': 117,\n 'Lexus IS 250': 118,\n 'DAF 45': 119,\n 'Scania TRACTOR HEAD': 120,\n 'Honda Element': 121,\n 'Lexus ES 350': 122,\n 'Volkswagen LT': 123,\n 'Land Rover Discovery': 124,\n 'Lexus RX 300': 125,\n 'Man TGA 18.360': 126,\n 'Mercedes-Benz C 63 AMG': 127,\n 'Lexus RX 400': 128,\n 'Hyundai Tucson': 129,\n 'Mitsubishi Pajero': 130,\n 'Volvo XC60': 131,\n 'Bentley Arnage': 132,\n 'Mercedes-Benz GLK 350': 133,\n 'Iveco EUROCARGO 120e18': 134,\n 'Nissan Titan': 135,\n 'Volkswagen Passat': 136,\n 'Infiniti QX80': 137,\n 'Land Rover Range Rover Velar': 138,\n 'BMW 745': 139,\n 'Infiniti JX': 140,\n 'Mercedes-Benz CLA 250': 141,\n 'Jaguar XJ8': 142,\n 'Volkswagen Touareg': 143,\n 'Lexus GX 460': 144,\n 'Toyota Prius': 145,\n 'Kia Optima': 146,\n 'Toyota RAV 4': 147,\n 'Man Diesel 19.314 FILT-N': 148,\n 'Mercedes-Benz G 550': 149,\n 'Nissan Cabstar': 150,\n 'Mercedes-Benz WATER TANKER': 151,\n 'Hyundai Santa Fe': 152,\n 'Mercedes-Benz DUMP TRUCK': 153,\n 'Ford Mondeo': 154,\n 'Volvo FL6': 155,\n 'Mitsubishi Galant': 156,\n 'Kia Cerato': 157,\n 'Peugeot 607': 158,\n 'BMW 325': 159,\n 'Mazda CX-9': 160,\n 'Ford Expedition': 161,\n 'Mercedes-Benz 320': 162,\n 'Hyundai Elantra': 163,\n 'Mercedes-Benz CABIN PLUS CHASSIS ONLY': 164,\n 'BMW 750': 165,\n 'Mack CH613': 166,\n 'Mercedes-Benz ML 350': 167,\n 'Acura TSX': 168,\n 'Infiniti M35': 169,\n 'Honda Insight': 170,\n 'DAF CF': 171,\n 'Acura ZDX': 172,\n 'Man LE 8. 180 PLATFORM TRUCK': 173,\n 'Toyota Solara': 174,\n 'Volkswagen Sharan': 175,\n 'Porsche Macan': 176,\n 'Audi S6': 177,\n 'Mazda 6': 178,\n 'Mercedes-Benz 300': 179,\n 'Toyota Avalon': 180,\n 'IVECO EUROTECH 7.50E-16': 181,\n 'Honda Crosstour': 182,\n 'Honda Odyssey': 183,\n 'Porsche Panamera': 184,\n 'Toyota Prado': 185,\n 'JMC Vigus': 186,\n 'MINI Cooper Countryman': 187,\n 'Isuzu NQR': 188,\n 'Hyundai Sonata': 189,\n 'Lincoln Mark': 190,\n 'Toyota Dyna': 191,\n 'Mercedes-Benz GLE 43 AMG': 192,\n 'Lexus RX 330': 193,\n 'Isuzu CABSTER': 194,\n 'ALPINA B3': 195,\n 'Nissan Rogue': 196,\n 'Iveco TRUCK': 197,\n 'Mack CXN613': 198,\n 'Peugeot 308': 199,\n 'Lexus LX 570': 200,\n 'Ford Escape': 201,\n 'Toyota Corolla': 202,\n 'Mercedes-Benz CLS 500': 203,\n 'Nissan Sentra': 204,\n 'Chevrolet Evanda': 205,\n 'Acura MDX': 206,\n 'Nissan A': 207,\n 'Man BOCKMANN': 208,\n 'Ford Fusion': 209,\n 'Volkswagen T6 other': 210,\n 'Mercedes-Benz SL 400': 211,\n 'Mercedes-Benz 220': 212,\n 'BMW 525': 213,\n 'Ford Explorer': 214,\n 'Jaguar X-Type': 215,\n 'BMW X3': 216,\n 'Mercedes-Benz C 450 AMG': 217,\n 'Honda CR-V': 218,\n 'Land Rover Range Rover': 219,\n 'DAF XF TRACTOR HEAD': 220,\n 'MINI Cooper': 221,\n 'Mitsubishi L200': 222,\n 'Kia Rio': 223,\n 'Toyota C-HR': 224,\n 'Toyota 4-Runner': 225,\n 'Rolls-Royce Ghost': 226,\n 'Nissan Murano': 227,\n 'Volkswagen 17.22': 228,\n 'Nissan Xterra': 229,\n 'Peugeot 307': 230,\n 'Toyota Matrix': 231,\n 'Mercedes-Benz GLK 300': 232,\n 'MAN-VOLKSWAGEN FLATBED': 233,\n 'Mercedes-Benz E 320': 234,\n 'Ford Transit': 235,\n 'Porsche Cayenne': 236,\n 'Nissan Altima': 237,\n 'Peugeot 206': 238,\n 'Lexus ES 300': 239}"
     },
     "execution_count": 14,
     "metadata": {},
     "output_type": "execute_result"
    }
   ],
   "source": [
    "car_title_label = {car_title : label for label, car_title in enumerate(car_title)}\n",
    "car_title_label"
   ],
   "metadata": {
    "collapsed": false,
    "pycharm": {
     "name": "#%%\n"
    }
   }
  },
  {
   "cell_type": "code",
   "execution_count": 15,
   "outputs": [],
   "source": [
    "train['title'] = train['title'].replace(car_title_label)\n",
    "test['title'] = test['title'].replace(car_title_label)"
   ],
   "metadata": {
    "collapsed": false,
    "pycharm": {
     "name": "#%%\n"
    }
   }
  },
  {
   "cell_type": "code",
   "execution_count": 16,
   "outputs": [
    {
     "data": {
      "text/plain": "array(['Lagos ', 'Lagos', 'Abuja', 'Lagos State', 'Ogun', 'FCT', 'Accra',\n       'other', 'Abuja ', 'Abia State', 'Adamawa ', 'Abia', 'Ogun State'],\n      dtype=object)"
     },
     "execution_count": 16,
     "metadata": {},
     "output_type": "execute_result"
    }
   ],
   "source": [
    "train.location.unique()"
   ],
   "metadata": {
    "collapsed": false,
    "pycharm": {
     "name": "#%%\n"
    }
   }
  },
  {
   "cell_type": "code",
   "execution_count": 17,
   "outputs": [],
   "source": [
    "# Lagos, Abuja has same name but different label\n",
    "\n",
    "train['location'] = train['location'].replace({\n",
    "    'Lagos ' : 'Lagos',\n",
    "    'Abuja ' : 'Abuja',\n",
    "    'Lagos State' : 'Lagos',\n",
    "    'Ogun State' : 'Ogun',\n",
    "    'Abia State' : 'Abia'\n",
    "})"
   ],
   "metadata": {
    "collapsed": false,
    "pycharm": {
     "name": "#%%\n"
    }
   }
  },
  {
   "cell_type": "code",
   "execution_count": 18,
   "outputs": [],
   "source": [
    "test['location'] = test['location'].replace({\n",
    "    'Abuja ' : 'Abuja',\n",
    "    'Lagos ' : 'Lagos',\n",
    "    'Lagos State' : 'Lagos',\n",
    "    'Ogun State' : 'Ogun',\n",
    "    'Arepo ogun state ' : 'Ogun'\n",
    "})"
   ],
   "metadata": {
    "collapsed": false,
    "pycharm": {
     "name": "#%%\n"
    }
   }
  },
  {
   "cell_type": "code",
   "execution_count": 19,
   "outputs": [
    {
     "data": {
      "text/plain": "Lagos       831\nAbuja       147\nOgun         27\nother         4\nFCT           2\nAbia          2\nAccra         1\nAdamawa       1\nName: location, dtype: int64"
     },
     "execution_count": 19,
     "metadata": {},
     "output_type": "execute_result"
    }
   ],
   "source": [
    "train.location.value_counts()"
   ],
   "metadata": {
    "collapsed": false,
    "pycharm": {
     "name": "#%%\n"
    }
   }
  },
  {
   "cell_type": "code",
   "execution_count": 20,
   "outputs": [
    {
     "data": {
      "text/plain": "Lagos     354\nAbuja      69\nOgun       10\nMushin      1\nother       1\nAbia        1\nName: location, dtype: int64"
     },
     "execution_count": 20,
     "metadata": {},
     "output_type": "execute_result"
    }
   ],
   "source": [
    "test.location.value_counts()"
   ],
   "metadata": {
    "collapsed": false,
    "pycharm": {
     "name": "#%%\n"
    }
   }
  },
  {
   "cell_type": "code",
   "execution_count": 21,
   "outputs": [
    {
     "data": {
      "text/plain": "{'Accra', 'Adamawa ', 'FCT', 'Mushin'}"
     },
     "execution_count": 21,
     "metadata": {},
     "output_type": "execute_result"
    }
   ],
   "source": [
    "(set(train.location.unique()) | set(test.location.unique())) - (set(train.location.unique()) & set(test.location.unique()))"
   ],
   "metadata": {
    "collapsed": false,
    "pycharm": {
     "name": "#%%\n"
    }
   }
  },
  {
   "cell_type": "code",
   "execution_count": 22,
   "outputs": [
    {
     "data": {
      "text/plain": "Lagos    831\nAbuja    147\nOgun      27\nother      8\nAbia       2\nName: location, dtype: int64"
     },
     "execution_count": 22,
     "metadata": {},
     "output_type": "execute_result"
    }
   ],
   "source": [
    "train['location'] = train['location'].replace({\n",
    "    'Accra' : 'other',\n",
    "    'Adamawa ' : 'other',\n",
    "    'FCT' : 'other',\n",
    "    'Mushin' : 'other'\n",
    "})\n",
    "\n",
    "train.location.value_counts()"
   ],
   "metadata": {
    "collapsed": false,
    "pycharm": {
     "name": "#%%\n"
    }
   }
  },
  {
   "cell_type": "code",
   "execution_count": 23,
   "outputs": [
    {
     "data": {
      "text/plain": "Lagos    354\nAbuja     69\nOgun      10\nother      2\nAbia       1\nName: location, dtype: int64"
     },
     "execution_count": 23,
     "metadata": {},
     "output_type": "execute_result"
    }
   ],
   "source": [
    "test['location'] = test['location'].replace({\n",
    "    'Accra' : 'other',\n",
    "    'Adamawa ' : 'other',\n",
    "    'FCT' : 'other',\n",
    "    'Mushin' : 'other'\n",
    "})\n",
    "\n",
    "test.location.value_counts()"
   ],
   "metadata": {
    "collapsed": false,
    "pycharm": {
     "name": "#%%\n"
    }
   }
  },
  {
   "cell_type": "code",
   "execution_count": 24,
   "outputs": [
    {
     "data": {
      "text/plain": "{'Lagos': 0, 'Abuja': 1, 'Ogun': 2, 'other': 3, 'Abia': 4}"
     },
     "execution_count": 24,
     "metadata": {},
     "output_type": "execute_result"
    }
   ],
   "source": [
    "location_label = {location : label for label, location in enumerate(train.location.unique())}\n",
    "location_label"
   ],
   "metadata": {
    "collapsed": false,
    "pycharm": {
     "name": "#%%\n"
    }
   }
  },
  {
   "cell_type": "code",
   "execution_count": 25,
   "outputs": [],
   "source": [
    "train['location'] = train['location'].replace(location_label)\n",
    "test['location'] = test['location'].replace(location_label)"
   ],
   "metadata": {
    "collapsed": false,
    "pycharm": {
     "name": "#%%\n"
    }
   }
  },
  {
   "cell_type": "code",
   "execution_count": 26,
   "outputs": [
    {
     "data": {
      "text/plain": "   title  odometer  location    isimported          engine transmission  \\\n0    147     18277         0  Foreign Used  4-cylinder(I4)    automatic   \n1     93        10         0          New   4-cylinder(I4)    automatic   \n2     55     83091         0  Foreign Used  6-cylinder(V6)    automatic   \n3    122     91524         0  Foreign Used  4-cylinder(I4)    automatic   \n4    116     94177         0  Foreign Used  6-cylinder(V6)    automatic   \n\n     fuel  paint  year    target  brand  \n0  petrol    Red  2016  13665000     36  \n1  petrol  Black  2019  33015000     36  \n2  petrol    Red  2012   9915000     31  \n3  petrol   Gray  2007   3815000      6  \n4  petrol    Red  2010   7385000     36  ",
      "text/html": "<div>\n<style scoped>\n    .dataframe tbody tr th:only-of-type {\n        vertical-align: middle;\n    }\n\n    .dataframe tbody tr th {\n        vertical-align: top;\n    }\n\n    .dataframe thead th {\n        text-align: right;\n    }\n</style>\n<table border=\"1\" class=\"dataframe\">\n  <thead>\n    <tr style=\"text-align: right;\">\n      <th></th>\n      <th>title</th>\n      <th>odometer</th>\n      <th>location</th>\n      <th>isimported</th>\n      <th>engine</th>\n      <th>transmission</th>\n      <th>fuel</th>\n      <th>paint</th>\n      <th>year</th>\n      <th>target</th>\n      <th>brand</th>\n    </tr>\n  </thead>\n  <tbody>\n    <tr>\n      <th>0</th>\n      <td>147</td>\n      <td>18277</td>\n      <td>0</td>\n      <td>Foreign Used</td>\n      <td>4-cylinder(I4)</td>\n      <td>automatic</td>\n      <td>petrol</td>\n      <td>Red</td>\n      <td>2016</td>\n      <td>13665000</td>\n      <td>36</td>\n    </tr>\n    <tr>\n      <th>1</th>\n      <td>93</td>\n      <td>10</td>\n      <td>0</td>\n      <td>New</td>\n      <td>4-cylinder(I4)</td>\n      <td>automatic</td>\n      <td>petrol</td>\n      <td>Black</td>\n      <td>2019</td>\n      <td>33015000</td>\n      <td>36</td>\n    </tr>\n    <tr>\n      <th>2</th>\n      <td>55</td>\n      <td>83091</td>\n      <td>0</td>\n      <td>Foreign Used</td>\n      <td>6-cylinder(V6)</td>\n      <td>automatic</td>\n      <td>petrol</td>\n      <td>Red</td>\n      <td>2012</td>\n      <td>9915000</td>\n      <td>31</td>\n    </tr>\n    <tr>\n      <th>3</th>\n      <td>122</td>\n      <td>91524</td>\n      <td>0</td>\n      <td>Foreign Used</td>\n      <td>4-cylinder(I4)</td>\n      <td>automatic</td>\n      <td>petrol</td>\n      <td>Gray</td>\n      <td>2007</td>\n      <td>3815000</td>\n      <td>6</td>\n    </tr>\n    <tr>\n      <th>4</th>\n      <td>116</td>\n      <td>94177</td>\n      <td>0</td>\n      <td>Foreign Used</td>\n      <td>6-cylinder(V6)</td>\n      <td>automatic</td>\n      <td>petrol</td>\n      <td>Red</td>\n      <td>2010</td>\n      <td>7385000</td>\n      <td>36</td>\n    </tr>\n  </tbody>\n</table>\n</div>"
     },
     "execution_count": 26,
     "metadata": {},
     "output_type": "execute_result"
    }
   ],
   "source": [
    "train.head()"
   ],
   "metadata": {
    "collapsed": false,
    "pycharm": {
     "name": "#%%\n"
    }
   }
  },
  {
   "cell_type": "code",
   "execution_count": 27,
   "outputs": [
    {
     "data": {
      "text/plain": "Black          292\nWhite          115\nSilver         103\nGrey            84\nBlue            70\n              ... \nWINE             1\nSilver/grey      1\nInk blue         1\nLight blue       1\nOff white l      1\nName: paint, Length: 76, dtype: int64"
     },
     "execution_count": 27,
     "metadata": {},
     "output_type": "execute_result"
    }
   ],
   "source": [
    "train.paint.value_counts()"
   ],
   "metadata": {
    "collapsed": false,
    "pycharm": {
     "name": "#%%\n"
    }
   }
  },
  {
   "cell_type": "code",
   "execution_count": 28,
   "outputs": [
    {
     "data": {
      "text/plain": "Black                      118\nSilver                      62\nWhite                       45\nRed                         36\nGrey                        30\nBlue                        27\nwhite                       16\nDark Grey                   14\nGray                        13\nGold                         9\nGreen                        8\nBrown                        5\nBlack                        4\nDark Blue                    4\nDark Green                   3\nYellow                       3\nBlue                         3\ngreen                        3\nAsh                          2\nWine                         2\nGrey                         2\nSliver                       2\nLight Grey                   2\nWhite and green              1\nDark blue                    1\nBeige                        1\nClassic Silver Met(1F7)      1\nGreen                        1\nGrey and black               1\n  Brown                      1\nIndigo ink pearl             1\nNavy blue                    1\nblue                         1\nSilver                       1\nBLACK                        1\nMaroon                       1\nGolf                         1\nSliver                       1\nGold                         1\nDark Ash                     1\nCream                        1\nBlac                         1\nGOLD                         1\nblack                        1\nCream                        1\nMint green                   1\nName: paint, dtype: int64"
     },
     "execution_count": 28,
     "metadata": {},
     "output_type": "execute_result"
    }
   ],
   "source": [
    "test.paint.value_counts()"
   ],
   "metadata": {
    "collapsed": false,
    "pycharm": {
     "name": "#%%\n"
    }
   }
  },
  {
   "cell_type": "code",
   "execution_count": 29,
   "outputs": [],
   "source": [
    "import re\n",
    "\n",
    "def clean_text(texts):\n",
    "    corpus = []\n",
    "    for i in range(0, len(texts)):\n",
    "        review = re.sub(r'[@%\\\\*=()/~#&\\+á?\\xc3\\xa1\\-\\|\\.\\:\\;\\!\\-\\,\\_\\~\\$\\'\\\"\\n\\]\\[\\>\\<]', '',texts[i]) #@%*=()/+ 와 같은 문장부호 제거\n",
    "        review = re.sub(r'\\d+','',review)#숫자 제거\n",
    "        review = review.lower() #소문자 변환\n",
    "        review = re.sub(r'\\s+', ' ', review) #extra space 제거\n",
    "        review = re.sub(r'<[^>]+>','',review) #Html tags 제거\n",
    "        review = re.sub(r'\\s+', ' ', review) #spaces 제거\n",
    "        review = re.sub(r\"^\\s+\", '', review) #space from start 제거\n",
    "        review = re.sub(r'\\s+$', '', review) #space from the end 제거\n",
    "        review = re.sub(r'_', ' ', review) #space from the end 제거\n",
    "        #review = re.sub(r'l', '', review)\n",
    "        corpus.append(review)\n",
    "\n",
    "    return corpus"
   ],
   "metadata": {
    "collapsed": false,
    "pycharm": {
     "name": "#%%\n"
    }
   }
  },
  {
   "cell_type": "code",
   "execution_count": 30,
   "outputs": [
    {
     "name": "stdout",
     "output_type": "stream",
     "text": [
      "train data에서 paint의 unique 카테고리 개수 :  51\n"
     ]
    }
   ],
   "source": [
    "train_paint = clean_text(train['paint']) #메소드 적용\n",
    "train['paint'] = train_paint\n",
    "print('train data에서 paint의 unique 카테고리 개수 : ', len(train['paint'].unique()))"
   ],
   "metadata": {
    "collapsed": false,
    "pycharm": {
     "name": "#%%\n"
    }
   }
  },
  {
   "cell_type": "code",
   "execution_count": 31,
   "outputs": [],
   "source": [
    "train['paint'] = train['paint'] = train['paint'].apply(lambda x : 'blue' if x.find('blue') >= 0 else x)\n",
    "train['paint'] = train['paint'] = train['paint'].apply(lambda x : 'red' if x.find('red') >= 0 else x)\n",
    "train['paint'] = train['paint'] = train['paint'].apply(lambda x : 'green' if x.find('green') >= 0 else x)\n",
    "train['paint'] = train['paint'] = train['paint'].apply(lambda x : 'white' if x.find('white') >= 0 else x)\n",
    "train['paint'] = train['paint'] = train['paint'].apply(lambda x : 'grey' if x.find('grey') >= 0 else x)\n",
    "train['paint'] = train['paint'] = train['paint'].apply(lambda x : 'grey' if x.find('gery') >= 0 else x)\n",
    "train['paint'] = train['paint'] = train['paint'].apply(lambda x : 'grey' if x.find('gray') >= 0 else x)\n",
    "train['paint'] = train['paint'] = train['paint'].apply(lambda x : 'ash' if x.find('ash') >= 0 else x)\n",
    "train['paint'] = train['paint'] = train['paint'].apply(lambda x : 'brown' if x.find('brown') >= 0 else x)\n",
    "train['paint'] = train['paint'] = train['paint'].apply(lambda x : 'silver' if x.find('silver') >= 0 else x)\n",
    "train['paint'] = train['paint'] = train['paint'].apply(lambda x : 'silver' if x.find('sliver') >= 0 else x)\n",
    "train['paint'] = train['paint'] = train['paint'].apply(lambda x : 'black' if x.find('black') >= 0 else x)\n",
    "train['paint'] = train['paint'] = train['paint'].apply(lambda x : 'gold' if x.find('gold') >= 0 else x)\n",
    "train['paint'] = train['paint'] = train['paint'].apply(lambda x : 'wine' if x.find('whine') >= 0 else x)"
   ],
   "metadata": {
    "collapsed": false,
    "pycharm": {
     "name": "#%%\n"
    }
   }
  },
  {
   "cell_type": "code",
   "execution_count": 32,
   "outputs": [
    {
     "data": {
      "text/plain": "array(['red', 'black', 'grey', 'white', 'blue', 'silver', 'brown',\n       'green', 'purple', 'gold', 'milk', 'beige', 'ash', 'orange',\n       'cream', 'yellow', 'wine', 'maroon'], dtype=object)"
     },
     "execution_count": 32,
     "metadata": {},
     "output_type": "execute_result"
    }
   ],
   "source": [
    "train.paint.unique()"
   ],
   "metadata": {
    "collapsed": false,
    "pycharm": {
     "name": "#%%\n"
    }
   }
  },
  {
   "cell_type": "code",
   "execution_count": 33,
   "outputs": [
    {
     "name": "stdout",
     "output_type": "stream",
     "text": [
      "test data에서 paint의 unique 카테고리 개수 :  30\n"
     ]
    }
   ],
   "source": [
    "test_paint = clean_text(test['paint'])\n",
    "test['paint'] = test_paint\n",
    "print('test data에서 paint의 unique 카테고리 개수 : ', len(test['paint'].unique()))"
   ],
   "metadata": {
    "collapsed": false,
    "pycharm": {
     "name": "#%%\n"
    }
   }
  },
  {
   "cell_type": "code",
   "execution_count": 34,
   "outputs": [],
   "source": [
    "test['paint'] = test['paint'] = test['paint'].apply(lambda x : 'blue' if x.find('blue') >= 0 else x)\n",
    "test['paint'] = test['paint'] = test['paint'].apply(lambda x : 'red' if x.find('red') >= 0 else x)\n",
    "test['paint'] = test['paint'] = test['paint'].apply(lambda x : 'green' if x.find('green') >= 0 else x)\n",
    "test['paint'] = test['paint'] = test['paint'].apply(lambda x : 'white' if x.find('white') >= 0 else x)\n",
    "test['paint'] = test['paint'] = test['paint'].apply(lambda x : 'grey' if x.find('grey') >= 0 else x)\n",
    "test['paint'] = test['paint'] = test['paint'].apply(lambda x : 'grey' if x.find('gery') >= 0 else x)\n",
    "test['paint'] = test['paint'] = test['paint'].apply(lambda x : 'grey' if x.find('gray') >= 0 else x)\n",
    "test['paint'] = test['paint'] = test['paint'].apply(lambda x : 'ash' if x.find('ash') >= 0 else x)\n",
    "test['paint'] = test['paint'] = test['paint'].apply(lambda x : 'brown' if x.find('brown') >= 0 else x)\n",
    "test['paint'] = test['paint'] = test['paint'].apply(lambda x : 'silver' if x.find('silver') >= 0 else x)\n",
    "test['paint'] = test['paint'] = test['paint'].apply(lambda x : 'silver' if x.find('sliver') >= 0 else x)\n",
    "test['paint'] = test['paint'] = test['paint'].apply(lambda x : 'black' if x.find('black') >= 0 else x)\n",
    "test['paint'] = test['paint'] = test['paint'].apply(lambda x : 'black' if x.find('blac') >= 0 else x)\n",
    "test['paint'] = test['paint'] = test['paint'].apply(lambda x : 'gold' if x.find('gold') >= 0 else x)\n",
    "test['paint'] = test['paint'] = test['paint'].apply(lambda x : 'gold' if x.find('golf') >= 0 else x)\n",
    "test['paint'] = test['paint'] = test['paint'].apply(lambda x : 'wine' if x.find('whine') >= 0 else x)"
   ],
   "metadata": {
    "collapsed": false,
    "pycharm": {
     "name": "#%%\n"
    }
   }
  },
  {
   "cell_type": "code",
   "execution_count": 35,
   "outputs": [
    {
     "data": {
      "text/plain": "array(['white', 'black', 'grey', 'red', 'silver', 'blue', 'gold', 'green',\n       'cream', 'brown', 'yellow', 'maroon', 'wine', 'ash',\n       'indigo ink pearl', 'beige'], dtype=object)"
     },
     "execution_count": 35,
     "metadata": {},
     "output_type": "execute_result"
    }
   ],
   "source": [
    "test.paint.unique()"
   ],
   "metadata": {
    "collapsed": false,
    "pycharm": {
     "name": "#%%\n"
    }
   }
  },
  {
   "cell_type": "code",
   "execution_count": 36,
   "outputs": [
    {
     "data": {
      "text/plain": "{'red': 0,\n 'gold': 1,\n 'beige': 2,\n 'blue': 3,\n 'cream': 4,\n 'purple': 5,\n 'grey': 6,\n 'green': 7,\n 'orange': 8,\n 'yellow': 9,\n 'black': 10,\n 'white': 11,\n 'indigo ink pearl': 12,\n 'ash': 13,\n 'brown': 14,\n 'wine': 15,\n 'silver': 16,\n 'maroon': 17,\n 'milk': 18}"
     },
     "execution_count": 36,
     "metadata": {},
     "output_type": "execute_result"
    }
   ],
   "source": [
    "paint_label = {_paint : label for label, _paint in enumerate(set(pd.concat([train.paint, test.paint])))}\n",
    "paint_label"
   ],
   "metadata": {
    "collapsed": false,
    "pycharm": {
     "name": "#%%\n"
    }
   }
  },
  {
   "cell_type": "code",
   "execution_count": 37,
   "outputs": [],
   "source": [
    "train['paint'] = train['paint'].replace(paint_label)\n",
    "test['paint'] = test['paint'].replace(paint_label)"
   ],
   "metadata": {
    "collapsed": false,
    "pycharm": {
     "name": "#%%\n"
    }
   }
  },
  {
   "cell_type": "code",
   "execution_count": 38,
   "outputs": [
    {
     "data": {
      "text/plain": "   title  odometer  location    isimported          engine transmission  \\\n0    147     18277         0  Foreign Used  4-cylinder(I4)    automatic   \n1     93        10         0          New   4-cylinder(I4)    automatic   \n2     55     83091         0  Foreign Used  6-cylinder(V6)    automatic   \n3    122     91524         0  Foreign Used  4-cylinder(I4)    automatic   \n4    116     94177         0  Foreign Used  6-cylinder(V6)    automatic   \n\n     fuel  paint  year    target  brand  \n0  petrol      0  2016  13665000     36  \n1  petrol     10  2019  33015000     36  \n2  petrol      0  2012   9915000     31  \n3  petrol      6  2007   3815000      6  \n4  petrol      0  2010   7385000     36  ",
      "text/html": "<div>\n<style scoped>\n    .dataframe tbody tr th:only-of-type {\n        vertical-align: middle;\n    }\n\n    .dataframe tbody tr th {\n        vertical-align: top;\n    }\n\n    .dataframe thead th {\n        text-align: right;\n    }\n</style>\n<table border=\"1\" class=\"dataframe\">\n  <thead>\n    <tr style=\"text-align: right;\">\n      <th></th>\n      <th>title</th>\n      <th>odometer</th>\n      <th>location</th>\n      <th>isimported</th>\n      <th>engine</th>\n      <th>transmission</th>\n      <th>fuel</th>\n      <th>paint</th>\n      <th>year</th>\n      <th>target</th>\n      <th>brand</th>\n    </tr>\n  </thead>\n  <tbody>\n    <tr>\n      <th>0</th>\n      <td>147</td>\n      <td>18277</td>\n      <td>0</td>\n      <td>Foreign Used</td>\n      <td>4-cylinder(I4)</td>\n      <td>automatic</td>\n      <td>petrol</td>\n      <td>0</td>\n      <td>2016</td>\n      <td>13665000</td>\n      <td>36</td>\n    </tr>\n    <tr>\n      <th>1</th>\n      <td>93</td>\n      <td>10</td>\n      <td>0</td>\n      <td>New</td>\n      <td>4-cylinder(I4)</td>\n      <td>automatic</td>\n      <td>petrol</td>\n      <td>10</td>\n      <td>2019</td>\n      <td>33015000</td>\n      <td>36</td>\n    </tr>\n    <tr>\n      <th>2</th>\n      <td>55</td>\n      <td>83091</td>\n      <td>0</td>\n      <td>Foreign Used</td>\n      <td>6-cylinder(V6)</td>\n      <td>automatic</td>\n      <td>petrol</td>\n      <td>0</td>\n      <td>2012</td>\n      <td>9915000</td>\n      <td>31</td>\n    </tr>\n    <tr>\n      <th>3</th>\n      <td>122</td>\n      <td>91524</td>\n      <td>0</td>\n      <td>Foreign Used</td>\n      <td>4-cylinder(I4)</td>\n      <td>automatic</td>\n      <td>petrol</td>\n      <td>6</td>\n      <td>2007</td>\n      <td>3815000</td>\n      <td>6</td>\n    </tr>\n    <tr>\n      <th>4</th>\n      <td>116</td>\n      <td>94177</td>\n      <td>0</td>\n      <td>Foreign Used</td>\n      <td>6-cylinder(V6)</td>\n      <td>automatic</td>\n      <td>petrol</td>\n      <td>0</td>\n      <td>2010</td>\n      <td>7385000</td>\n      <td>36</td>\n    </tr>\n  </tbody>\n</table>\n</div>"
     },
     "execution_count": 38,
     "metadata": {},
     "output_type": "execute_result"
    }
   ],
   "source": [
    "train.head()"
   ],
   "metadata": {
    "collapsed": false,
    "pycharm": {
     "name": "#%%\n"
    }
   }
  },
  {
   "cell_type": "code",
   "execution_count": 39,
   "outputs": [
    {
     "data": {
      "text/plain": "4-cylinder(I4)    618\n6-cylinder(V6)    222\n6-cylinder(I6)    118\n8-cylinder(V8)     49\n3-cylinder(I3)      3\n4-cylinder(H4)      2\n5-cylinder(I5)      2\n2-cylinder(I2)      1\nName: engine, dtype: int64"
     },
     "execution_count": 39,
     "metadata": {},
     "output_type": "execute_result"
    }
   ],
   "source": [
    "train.engine.value_counts()"
   ],
   "metadata": {
    "collapsed": false,
    "pycharm": {
     "name": "#%%\n"
    }
   }
  },
  {
   "cell_type": "code",
   "execution_count": 40,
   "outputs": [
    {
     "data": {
      "text/plain": "4-cylinder(I4)      278\n6-cylinder(V6)       89\n6-cylinder(I6)       44\n8-cylinder(V8)       21\n5-cylinder(I5)        1\n2-cylinder(I2)        1\n12-cylinder(V12)      1\n3-cylinder(I3)        1\nName: engine, dtype: int64"
     },
     "execution_count": 40,
     "metadata": {},
     "output_type": "execute_result"
    }
   ],
   "source": [
    "test.engine.value_counts()"
   ],
   "metadata": {
    "collapsed": false,
    "pycharm": {
     "name": "#%%\n"
    }
   }
  },
  {
   "cell_type": "code",
   "execution_count": 41,
   "outputs": [
    {
     "data": {
      "text/plain": "{'12-cylinder(V12)', '4-cylinder(H4)'}"
     },
     "execution_count": 41,
     "metadata": {},
     "output_type": "execute_result"
    }
   ],
   "source": [
    "set(set(train.engine.unique()) | set(test.engine.unique())) - set(set(train.engine.unique()) & set(test.engine.unique()))"
   ],
   "metadata": {
    "collapsed": false,
    "pycharm": {
     "name": "#%%\n"
    }
   }
  },
  {
   "cell_type": "code",
   "execution_count": 42,
   "outputs": [
    {
     "data": {
      "text/plain": "     title  odometer  location    isimported          engine transmission  \\\n327     70      3656         1  Foreign Used  4-cylinder(H4)    automatic   \n830     88    152229         0  Foreign Used  4-cylinder(H4)    automatic   \n\n       fuel  paint  year    target  brand  \n327  petrol     16  2020  20015000     36  \n830  petrol      6  2007   2765000     14  ",
      "text/html": "<div>\n<style scoped>\n    .dataframe tbody tr th:only-of-type {\n        vertical-align: middle;\n    }\n\n    .dataframe tbody tr th {\n        vertical-align: top;\n    }\n\n    .dataframe thead th {\n        text-align: right;\n    }\n</style>\n<table border=\"1\" class=\"dataframe\">\n  <thead>\n    <tr style=\"text-align: right;\">\n      <th></th>\n      <th>title</th>\n      <th>odometer</th>\n      <th>location</th>\n      <th>isimported</th>\n      <th>engine</th>\n      <th>transmission</th>\n      <th>fuel</th>\n      <th>paint</th>\n      <th>year</th>\n      <th>target</th>\n      <th>brand</th>\n    </tr>\n  </thead>\n  <tbody>\n    <tr>\n      <th>327</th>\n      <td>70</td>\n      <td>3656</td>\n      <td>1</td>\n      <td>Foreign Used</td>\n      <td>4-cylinder(H4)</td>\n      <td>automatic</td>\n      <td>petrol</td>\n      <td>16</td>\n      <td>2020</td>\n      <td>20015000</td>\n      <td>36</td>\n    </tr>\n    <tr>\n      <th>830</th>\n      <td>88</td>\n      <td>152229</td>\n      <td>0</td>\n      <td>Foreign Used</td>\n      <td>4-cylinder(H4)</td>\n      <td>automatic</td>\n      <td>petrol</td>\n      <td>6</td>\n      <td>2007</td>\n      <td>2765000</td>\n      <td>14</td>\n    </tr>\n  </tbody>\n</table>\n</div>"
     },
     "execution_count": 42,
     "metadata": {},
     "output_type": "execute_result"
    }
   ],
   "source": [
    "train[train.engine == '4-cylinder(H4)']"
   ],
   "metadata": {
    "collapsed": false,
    "pycharm": {
     "name": "#%%\n"
    }
   }
  },
  {
   "cell_type": "code",
   "execution_count": 43,
   "outputs": [
    {
     "data": {
      "text/plain": "     title  odometer  location isimported            engine transmission  \\\n142    110      6758         0       New   12-cylinder(V12)    automatic   \n\n       fuel  paint  year  brand  \n142  petrol     10  2019     34  ",
      "text/html": "<div>\n<style scoped>\n    .dataframe tbody tr th:only-of-type {\n        vertical-align: middle;\n    }\n\n    .dataframe tbody tr th {\n        vertical-align: top;\n    }\n\n    .dataframe thead th {\n        text-align: right;\n    }\n</style>\n<table border=\"1\" class=\"dataframe\">\n  <thead>\n    <tr style=\"text-align: right;\">\n      <th></th>\n      <th>title</th>\n      <th>odometer</th>\n      <th>location</th>\n      <th>isimported</th>\n      <th>engine</th>\n      <th>transmission</th>\n      <th>fuel</th>\n      <th>paint</th>\n      <th>year</th>\n      <th>brand</th>\n    </tr>\n  </thead>\n  <tbody>\n    <tr>\n      <th>142</th>\n      <td>110</td>\n      <td>6758</td>\n      <td>0</td>\n      <td>New</td>\n      <td>12-cylinder(V12)</td>\n      <td>automatic</td>\n      <td>petrol</td>\n      <td>10</td>\n      <td>2019</td>\n      <td>34</td>\n    </tr>\n  </tbody>\n</table>\n</div>"
     },
     "execution_count": 43,
     "metadata": {},
     "output_type": "execute_result"
    }
   ],
   "source": [
    "test[test.engine == '12-cylinder(V12)']"
   ],
   "metadata": {
    "collapsed": false,
    "pycharm": {
     "name": "#%%\n"
    }
   }
  },
  {
   "cell_type": "code",
   "execution_count": 44,
   "outputs": [],
   "source": [
    "# change cylinder data to nearest neighbor\n",
    "\n",
    "train = train.replace({'4-cylinder(H4)' : '4-cylinder(I4)'})\n",
    "test = test.replace({'12-cylinder(V12)' : '8-cylinder(V8)'})"
   ],
   "metadata": {
    "collapsed": false,
    "pycharm": {
     "name": "#%%\n"
    }
   }
  },
  {
   "cell_type": "code",
   "execution_count": 45,
   "outputs": [
    {
     "data": {
      "text/plain": "{'8-cylinder(V8)': 0,\n '6-cylinder(I6)': 1,\n '3-cylinder(I3)': 2,\n '4-cylinder(I4)': 3,\n '6-cylinder(V6)': 4,\n '2-cylinder(I2)': 5,\n '5-cylinder(I5)': 6}"
     },
     "execution_count": 45,
     "metadata": {},
     "output_type": "execute_result"
    }
   ],
   "source": [
    "engine_label = {_engine : label for label, _engine in enumerate(set(pd.concat([train.engine, test.engine])))}\n",
    "engine_label"
   ],
   "metadata": {
    "collapsed": false,
    "pycharm": {
     "name": "#%%\n"
    }
   }
  },
  {
   "cell_type": "code",
   "execution_count": 46,
   "outputs": [],
   "source": [
    "train = train.replace(engine_label)\n",
    "test = test.replace(engine_label)"
   ],
   "metadata": {
    "collapsed": false,
    "pycharm": {
     "name": "#%%\n"
    }
   }
  },
  {
   "cell_type": "code",
   "execution_count": 47,
   "outputs": [
    {
     "data": {
      "text/plain": "     title  odometer  location    isimported  engine transmission    fuel  \\\n415     32    403461         0  Locally used       3       manual  diesel   \n827     85    510053         0  Locally used       4       manual  diesel   \n\n     paint  year    target  brand  \n415     11  1218   6015000     34  \n827     11  1217  75015000     34  ",
      "text/html": "<div>\n<style scoped>\n    .dataframe tbody tr th:only-of-type {\n        vertical-align: middle;\n    }\n\n    .dataframe tbody tr th {\n        vertical-align: top;\n    }\n\n    .dataframe thead th {\n        text-align: right;\n    }\n</style>\n<table border=\"1\" class=\"dataframe\">\n  <thead>\n    <tr style=\"text-align: right;\">\n      <th></th>\n      <th>title</th>\n      <th>odometer</th>\n      <th>location</th>\n      <th>isimported</th>\n      <th>engine</th>\n      <th>transmission</th>\n      <th>fuel</th>\n      <th>paint</th>\n      <th>year</th>\n      <th>target</th>\n      <th>brand</th>\n    </tr>\n  </thead>\n  <tbody>\n    <tr>\n      <th>415</th>\n      <td>32</td>\n      <td>403461</td>\n      <td>0</td>\n      <td>Locally used</td>\n      <td>3</td>\n      <td>manual</td>\n      <td>diesel</td>\n      <td>11</td>\n      <td>1218</td>\n      <td>6015000</td>\n      <td>34</td>\n    </tr>\n    <tr>\n      <th>827</th>\n      <td>85</td>\n      <td>510053</td>\n      <td>0</td>\n      <td>Locally used</td>\n      <td>4</td>\n      <td>manual</td>\n      <td>diesel</td>\n      <td>11</td>\n      <td>1217</td>\n      <td>75015000</td>\n      <td>34</td>\n    </tr>\n  </tbody>\n</table>\n</div>"
     },
     "execution_count": 47,
     "metadata": {},
     "output_type": "execute_result"
    }
   ],
   "source": [
    "train[(train.year <= 1900) | (train.year >= 2023)]"
   ],
   "metadata": {
    "collapsed": false,
    "pycharm": {
     "name": "#%%\n"
    }
   }
  },
  {
   "cell_type": "code",
   "execution_count": 48,
   "outputs": [
    {
     "data": {
      "text/plain": "     title  odometer  location    isimported  engine transmission    fuel  \\\n304    164    650923         0  Locally used       4       manual  diesel   \n406    153         0         0  Locally used       0       manual  diesel   \n411    151    701934         0  Locally used       0       manual  diesel   \n\n     paint  year  brand  \n304      3  1324     34  \n406     11  2626     34  \n411     11  1726     34  ",
      "text/html": "<div>\n<style scoped>\n    .dataframe tbody tr th:only-of-type {\n        vertical-align: middle;\n    }\n\n    .dataframe tbody tr th {\n        vertical-align: top;\n    }\n\n    .dataframe thead th {\n        text-align: right;\n    }\n</style>\n<table border=\"1\" class=\"dataframe\">\n  <thead>\n    <tr style=\"text-align: right;\">\n      <th></th>\n      <th>title</th>\n      <th>odometer</th>\n      <th>location</th>\n      <th>isimported</th>\n      <th>engine</th>\n      <th>transmission</th>\n      <th>fuel</th>\n      <th>paint</th>\n      <th>year</th>\n      <th>brand</th>\n    </tr>\n  </thead>\n  <tbody>\n    <tr>\n      <th>304</th>\n      <td>164</td>\n      <td>650923</td>\n      <td>0</td>\n      <td>Locally used</td>\n      <td>4</td>\n      <td>manual</td>\n      <td>diesel</td>\n      <td>3</td>\n      <td>1324</td>\n      <td>34</td>\n    </tr>\n    <tr>\n      <th>406</th>\n      <td>153</td>\n      <td>0</td>\n      <td>0</td>\n      <td>Locally used</td>\n      <td>0</td>\n      <td>manual</td>\n      <td>diesel</td>\n      <td>11</td>\n      <td>2626</td>\n      <td>34</td>\n    </tr>\n    <tr>\n      <th>411</th>\n      <td>151</td>\n      <td>701934</td>\n      <td>0</td>\n      <td>Locally used</td>\n      <td>0</td>\n      <td>manual</td>\n      <td>diesel</td>\n      <td>11</td>\n      <td>1726</td>\n      <td>34</td>\n    </tr>\n  </tbody>\n</table>\n</div>"
     },
     "execution_count": 48,
     "metadata": {},
     "output_type": "execute_result"
    }
   ],
   "source": [
    "test[(test.year <= 1900) | (test.year >= 2023)]"
   ],
   "metadata": {
    "collapsed": false,
    "pycharm": {
     "name": "#%%\n"
    }
   }
  },
  {
   "cell_type": "code",
   "execution_count": 49,
   "outputs": [],
   "source": [
    "train['year'] = train['year'].replace([1218, 1217], [2013, 2010])\n",
    "# 1218:Mercedes benz ATEGO I4\n",
    "# 1217:no information-use mean"
   ],
   "metadata": {
    "collapsed": false,
    "pycharm": {
     "name": "#%%\n"
    }
   }
  },
  {
   "cell_type": "code",
   "execution_count": 50,
   "outputs": [],
   "source": [
    "test['year'] = test['year'].replace([1324, 2626, 1726], [2010, 2010, 2010])"
   ],
   "metadata": {
    "collapsed": false,
    "pycharm": {
     "name": "#%%\n"
    }
   }
  },
  {
   "cell_type": "code",
   "execution_count": 51,
   "outputs": [
    {
     "data": {
      "text/plain": "   title  odometer  location    isimported  engine transmission    fuel  \\\n0    147     18277         0  Foreign Used       3    automatic  petrol   \n1     93        10         0          New        3    automatic  petrol   \n2     55     83091         0  Foreign Used       4    automatic  petrol   \n3    122     91524         0  Foreign Used       3    automatic  petrol   \n4    116     94177         0  Foreign Used       4    automatic  petrol   \n\n   paint  year    target  brand  \n0      0  2016  13665000     36  \n1     10  2019  33015000     36  \n2      0  2012   9915000     31  \n3      6  2007   3815000      6  \n4      0  2010   7385000     36  ",
      "text/html": "<div>\n<style scoped>\n    .dataframe tbody tr th:only-of-type {\n        vertical-align: middle;\n    }\n\n    .dataframe tbody tr th {\n        vertical-align: top;\n    }\n\n    .dataframe thead th {\n        text-align: right;\n    }\n</style>\n<table border=\"1\" class=\"dataframe\">\n  <thead>\n    <tr style=\"text-align: right;\">\n      <th></th>\n      <th>title</th>\n      <th>odometer</th>\n      <th>location</th>\n      <th>isimported</th>\n      <th>engine</th>\n      <th>transmission</th>\n      <th>fuel</th>\n      <th>paint</th>\n      <th>year</th>\n      <th>target</th>\n      <th>brand</th>\n    </tr>\n  </thead>\n  <tbody>\n    <tr>\n      <th>0</th>\n      <td>147</td>\n      <td>18277</td>\n      <td>0</td>\n      <td>Foreign Used</td>\n      <td>3</td>\n      <td>automatic</td>\n      <td>petrol</td>\n      <td>0</td>\n      <td>2016</td>\n      <td>13665000</td>\n      <td>36</td>\n    </tr>\n    <tr>\n      <th>1</th>\n      <td>93</td>\n      <td>10</td>\n      <td>0</td>\n      <td>New</td>\n      <td>3</td>\n      <td>automatic</td>\n      <td>petrol</td>\n      <td>10</td>\n      <td>2019</td>\n      <td>33015000</td>\n      <td>36</td>\n    </tr>\n    <tr>\n      <th>2</th>\n      <td>55</td>\n      <td>83091</td>\n      <td>0</td>\n      <td>Foreign Used</td>\n      <td>4</td>\n      <td>automatic</td>\n      <td>petrol</td>\n      <td>0</td>\n      <td>2012</td>\n      <td>9915000</td>\n      <td>31</td>\n    </tr>\n    <tr>\n      <th>3</th>\n      <td>122</td>\n      <td>91524</td>\n      <td>0</td>\n      <td>Foreign Used</td>\n      <td>3</td>\n      <td>automatic</td>\n      <td>petrol</td>\n      <td>6</td>\n      <td>2007</td>\n      <td>3815000</td>\n      <td>6</td>\n    </tr>\n    <tr>\n      <th>4</th>\n      <td>116</td>\n      <td>94177</td>\n      <td>0</td>\n      <td>Foreign Used</td>\n      <td>4</td>\n      <td>automatic</td>\n      <td>petrol</td>\n      <td>0</td>\n      <td>2010</td>\n      <td>7385000</td>\n      <td>36</td>\n    </tr>\n  </tbody>\n</table>\n</div>"
     },
     "execution_count": 51,
     "metadata": {},
     "output_type": "execute_result"
    }
   ],
   "source": [
    "train.head()"
   ],
   "metadata": {
    "collapsed": false,
    "pycharm": {
     "name": "#%%\n"
    }
   }
  },
  {
   "cell_type": "code",
   "execution_count": 52,
   "outputs": [
    {
     "data": {
      "text/plain": "Foreign Used    744\nLocally used    248\nNew              23\nName: isimported, dtype: int64"
     },
     "execution_count": 52,
     "metadata": {},
     "output_type": "execute_result"
    }
   ],
   "source": [
    "train.isimported.value_counts()"
   ],
   "metadata": {
    "collapsed": false,
    "pycharm": {
     "name": "#%%\n"
    }
   }
  },
  {
   "cell_type": "code",
   "execution_count": 53,
   "outputs": [
    {
     "data": {
      "text/plain": "Foreign Used    321\nLocally used     97\nNew              18\nName: isimported, dtype: int64"
     },
     "execution_count": 53,
     "metadata": {},
     "output_type": "execute_result"
    }
   ],
   "source": [
    "test.isimported.value_counts()"
   ],
   "metadata": {
    "collapsed": false,
    "pycharm": {
     "name": "#%%\n"
    }
   }
  },
  {
   "cell_type": "code",
   "execution_count": 54,
   "outputs": [],
   "source": [
    "isimported_label = {'Foreign Used': 0, 'Locally used' : 1, 'New ' : 2}\n",
    "\n",
    "train['isimported'] = train['isimported'].replace(isimported_label)\n",
    "test['isimported'] = test['isimported'].replace(isimported_label)"
   ],
   "metadata": {
    "collapsed": false,
    "pycharm": {
     "name": "#%%\n"
    }
   }
  },
  {
   "cell_type": "code",
   "execution_count": 55,
   "outputs": [
    {
     "data": {
      "text/plain": "automatic    965\nmanual        50\nName: transmission, dtype: int64"
     },
     "execution_count": 55,
     "metadata": {},
     "output_type": "execute_result"
    }
   ],
   "source": [
    "train.transmission.value_counts()"
   ],
   "metadata": {
    "collapsed": false,
    "pycharm": {
     "name": "#%%\n"
    }
   }
  },
  {
   "cell_type": "code",
   "execution_count": 56,
   "outputs": [
    {
     "data": {
      "text/plain": "automatic    414\nmanual        22\nName: transmission, dtype: int64"
     },
     "execution_count": 56,
     "metadata": {},
     "output_type": "execute_result"
    }
   ],
   "source": [
    "test.transmission.value_counts()"
   ],
   "metadata": {
    "collapsed": false,
    "pycharm": {
     "name": "#%%\n"
    }
   }
  },
  {
   "cell_type": "code",
   "execution_count": 57,
   "outputs": [],
   "source": [
    "transmission_label = {'automatic' : 0, 'manual' : 1}\n",
    "\n",
    "train['transmission'] = train['transmission'].replace(transmission_label)\n",
    "test['transmission'] = test['transmission'].replace(transmission_label)"
   ],
   "metadata": {
    "collapsed": false,
    "pycharm": {
     "name": "#%%\n"
    }
   }
  },
  {
   "cell_type": "code",
   "execution_count": 58,
   "outputs": [
    {
     "data": {
      "text/plain": "petrol    970\ndiesel     45\nName: fuel, dtype: int64"
     },
     "execution_count": 58,
     "metadata": {},
     "output_type": "execute_result"
    }
   ],
   "source": [
    "train.fuel.value_counts()"
   ],
   "metadata": {
    "collapsed": false,
    "pycharm": {
     "name": "#%%\n"
    }
   }
  },
  {
   "cell_type": "code",
   "execution_count": 59,
   "outputs": [
    {
     "data": {
      "text/plain": "petrol    416\ndiesel     20\nName: fuel, dtype: int64"
     },
     "execution_count": 59,
     "metadata": {},
     "output_type": "execute_result"
    }
   ],
   "source": [
    "test.fuel.value_counts()"
   ],
   "metadata": {
    "collapsed": false,
    "pycharm": {
     "name": "#%%\n"
    }
   }
  },
  {
   "cell_type": "code",
   "execution_count": 60,
   "outputs": [],
   "source": [
    "fuel_label = {'petrol' : 0, 'diesel' : 1}\n",
    "\n",
    "train['fuel'] = train['fuel'].replace(fuel_label)\n",
    "test['fuel'] = test['fuel'].replace(fuel_label)"
   ],
   "metadata": {
    "collapsed": false,
    "pycharm": {
     "name": "#%%\n"
    }
   }
  },
  {
   "cell_type": "code",
   "execution_count": 61,
   "outputs": [
    {
     "data": {
      "text/plain": "   title  odometer  location  isimported  engine  transmission  fuel  paint  \\\n0    147     18277         0           0       3             0     0      0   \n1     93        10         0           2       3             0     0     10   \n2     55     83091         0           0       4             0     0      0   \n3    122     91524         0           0       3             0     0      6   \n4    116     94177         0           0       4             0     0      0   \n\n   year    target  brand  \n0  2016  13665000     36  \n1  2019  33015000     36  \n2  2012   9915000     31  \n3  2007   3815000      6  \n4  2010   7385000     36  ",
      "text/html": "<div>\n<style scoped>\n    .dataframe tbody tr th:only-of-type {\n        vertical-align: middle;\n    }\n\n    .dataframe tbody tr th {\n        vertical-align: top;\n    }\n\n    .dataframe thead th {\n        text-align: right;\n    }\n</style>\n<table border=\"1\" class=\"dataframe\">\n  <thead>\n    <tr style=\"text-align: right;\">\n      <th></th>\n      <th>title</th>\n      <th>odometer</th>\n      <th>location</th>\n      <th>isimported</th>\n      <th>engine</th>\n      <th>transmission</th>\n      <th>fuel</th>\n      <th>paint</th>\n      <th>year</th>\n      <th>target</th>\n      <th>brand</th>\n    </tr>\n  </thead>\n  <tbody>\n    <tr>\n      <th>0</th>\n      <td>147</td>\n      <td>18277</td>\n      <td>0</td>\n      <td>0</td>\n      <td>3</td>\n      <td>0</td>\n      <td>0</td>\n      <td>0</td>\n      <td>2016</td>\n      <td>13665000</td>\n      <td>36</td>\n    </tr>\n    <tr>\n      <th>1</th>\n      <td>93</td>\n      <td>10</td>\n      <td>0</td>\n      <td>2</td>\n      <td>3</td>\n      <td>0</td>\n      <td>0</td>\n      <td>10</td>\n      <td>2019</td>\n      <td>33015000</td>\n      <td>36</td>\n    </tr>\n    <tr>\n      <th>2</th>\n      <td>55</td>\n      <td>83091</td>\n      <td>0</td>\n      <td>0</td>\n      <td>4</td>\n      <td>0</td>\n      <td>0</td>\n      <td>0</td>\n      <td>2012</td>\n      <td>9915000</td>\n      <td>31</td>\n    </tr>\n    <tr>\n      <th>3</th>\n      <td>122</td>\n      <td>91524</td>\n      <td>0</td>\n      <td>0</td>\n      <td>3</td>\n      <td>0</td>\n      <td>0</td>\n      <td>6</td>\n      <td>2007</td>\n      <td>3815000</td>\n      <td>6</td>\n    </tr>\n    <tr>\n      <th>4</th>\n      <td>116</td>\n      <td>94177</td>\n      <td>0</td>\n      <td>0</td>\n      <td>4</td>\n      <td>0</td>\n      <td>0</td>\n      <td>0</td>\n      <td>2010</td>\n      <td>7385000</td>\n      <td>36</td>\n    </tr>\n  </tbody>\n</table>\n</div>"
     },
     "execution_count": 61,
     "metadata": {},
     "output_type": "execute_result"
    }
   ],
   "source": [
    "train.head()\n",
    "# All train data is preprocessed"
   ],
   "metadata": {
    "collapsed": false,
    "pycharm": {
     "name": "#%%\n"
    }
   }
  },
  {
   "cell_type": "code",
   "execution_count": 62,
   "outputs": [
    {
     "data": {
      "text/plain": "   title  odometer  location  isimported  engine  transmission  fuel  paint  \\\n0     14      1234         1           2       3             0     0     11   \n1     88     29938         1           0       3             0     0     11   \n2     29     87501         0           0       3             0     0     10   \n3     91    180894         0           1       4             0     0      6   \n4     17    104814         0           0       3             0     0     11   \n\n   year  brand  \n0  2017     34  \n1  2013     14  \n2  2012     34  \n3  2001     36  \n4  2000     36  ",
      "text/html": "<div>\n<style scoped>\n    .dataframe tbody tr th:only-of-type {\n        vertical-align: middle;\n    }\n\n    .dataframe tbody tr th {\n        vertical-align: top;\n    }\n\n    .dataframe thead th {\n        text-align: right;\n    }\n</style>\n<table border=\"1\" class=\"dataframe\">\n  <thead>\n    <tr style=\"text-align: right;\">\n      <th></th>\n      <th>title</th>\n      <th>odometer</th>\n      <th>location</th>\n      <th>isimported</th>\n      <th>engine</th>\n      <th>transmission</th>\n      <th>fuel</th>\n      <th>paint</th>\n      <th>year</th>\n      <th>brand</th>\n    </tr>\n  </thead>\n  <tbody>\n    <tr>\n      <th>0</th>\n      <td>14</td>\n      <td>1234</td>\n      <td>1</td>\n      <td>2</td>\n      <td>3</td>\n      <td>0</td>\n      <td>0</td>\n      <td>11</td>\n      <td>2017</td>\n      <td>34</td>\n    </tr>\n    <tr>\n      <th>1</th>\n      <td>88</td>\n      <td>29938</td>\n      <td>1</td>\n      <td>0</td>\n      <td>3</td>\n      <td>0</td>\n      <td>0</td>\n      <td>11</td>\n      <td>2013</td>\n      <td>14</td>\n    </tr>\n    <tr>\n      <th>2</th>\n      <td>29</td>\n      <td>87501</td>\n      <td>0</td>\n      <td>0</td>\n      <td>3</td>\n      <td>0</td>\n      <td>0</td>\n      <td>10</td>\n      <td>2012</td>\n      <td>34</td>\n    </tr>\n    <tr>\n      <th>3</th>\n      <td>91</td>\n      <td>180894</td>\n      <td>0</td>\n      <td>1</td>\n      <td>4</td>\n      <td>0</td>\n      <td>0</td>\n      <td>6</td>\n      <td>2001</td>\n      <td>36</td>\n    </tr>\n    <tr>\n      <th>4</th>\n      <td>17</td>\n      <td>104814</td>\n      <td>0</td>\n      <td>0</td>\n      <td>3</td>\n      <td>0</td>\n      <td>0</td>\n      <td>11</td>\n      <td>2000</td>\n      <td>36</td>\n    </tr>\n  </tbody>\n</table>\n</div>"
     },
     "execution_count": 62,
     "metadata": {},
     "output_type": "execute_result"
    }
   ],
   "source": [
    "test.head()\n",
    "# All test data is preprocessed"
   ],
   "metadata": {
    "collapsed": false,
    "pycharm": {
     "name": "#%%\n"
    }
   }
  },
  {
   "cell_type": "code",
   "execution_count": 66,
   "outputs": [],
   "source": [
    "# Move target to last column\n",
    "train = train[ ['title', 'odometer', 'location', 'isimported', 'engine', 'transmission', 'fuel', 'paint', 'year', 'brand', 'target'] ]"
   ],
   "metadata": {
    "collapsed": false,
    "pycharm": {
     "name": "#%%\n"
    }
   }
  },
  {
   "cell_type": "code",
   "execution_count": 67,
   "outputs": [
    {
     "data": {
      "text/plain": "   title  odometer  location  isimported  engine  transmission  fuel  paint  \\\n0    147     18277         0           0       3             0     0      0   \n1     93        10         0           2       3             0     0     10   \n2     55     83091         0           0       4             0     0      0   \n3    122     91524         0           0       3             0     0      6   \n4    116     94177         0           0       4             0     0      0   \n\n   year  brand    target  \n0  2016     36  13665000  \n1  2019     36  33015000  \n2  2012     31   9915000  \n3  2007      6   3815000  \n4  2010     36   7385000  ",
      "text/html": "<div>\n<style scoped>\n    .dataframe tbody tr th:only-of-type {\n        vertical-align: middle;\n    }\n\n    .dataframe tbody tr th {\n        vertical-align: top;\n    }\n\n    .dataframe thead th {\n        text-align: right;\n    }\n</style>\n<table border=\"1\" class=\"dataframe\">\n  <thead>\n    <tr style=\"text-align: right;\">\n      <th></th>\n      <th>title</th>\n      <th>odometer</th>\n      <th>location</th>\n      <th>isimported</th>\n      <th>engine</th>\n      <th>transmission</th>\n      <th>fuel</th>\n      <th>paint</th>\n      <th>year</th>\n      <th>brand</th>\n      <th>target</th>\n    </tr>\n  </thead>\n  <tbody>\n    <tr>\n      <th>0</th>\n      <td>147</td>\n      <td>18277</td>\n      <td>0</td>\n      <td>0</td>\n      <td>3</td>\n      <td>0</td>\n      <td>0</td>\n      <td>0</td>\n      <td>2016</td>\n      <td>36</td>\n      <td>13665000</td>\n    </tr>\n    <tr>\n      <th>1</th>\n      <td>93</td>\n      <td>10</td>\n      <td>0</td>\n      <td>2</td>\n      <td>3</td>\n      <td>0</td>\n      <td>0</td>\n      <td>10</td>\n      <td>2019</td>\n      <td>36</td>\n      <td>33015000</td>\n    </tr>\n    <tr>\n      <th>2</th>\n      <td>55</td>\n      <td>83091</td>\n      <td>0</td>\n      <td>0</td>\n      <td>4</td>\n      <td>0</td>\n      <td>0</td>\n      <td>0</td>\n      <td>2012</td>\n      <td>31</td>\n      <td>9915000</td>\n    </tr>\n    <tr>\n      <th>3</th>\n      <td>122</td>\n      <td>91524</td>\n      <td>0</td>\n      <td>0</td>\n      <td>3</td>\n      <td>0</td>\n      <td>0</td>\n      <td>6</td>\n      <td>2007</td>\n      <td>6</td>\n      <td>3815000</td>\n    </tr>\n    <tr>\n      <th>4</th>\n      <td>116</td>\n      <td>94177</td>\n      <td>0</td>\n      <td>0</td>\n      <td>4</td>\n      <td>0</td>\n      <td>0</td>\n      <td>0</td>\n      <td>2010</td>\n      <td>36</td>\n      <td>7385000</td>\n    </tr>\n  </tbody>\n</table>\n</div>"
     },
     "execution_count": 67,
     "metadata": {},
     "output_type": "execute_result"
    }
   ],
   "source": [
    "train.head()"
   ],
   "metadata": {
    "collapsed": false,
    "pycharm": {
     "name": "#%%\n"
    }
   }
  },
  {
   "cell_type": "code",
   "execution_count": 71,
   "outputs": [],
   "source": [
    "train.to_csv('data/preprocessed_train.csv', index=False)"
   ],
   "metadata": {
    "collapsed": false,
    "pycharm": {
     "name": "#%%\n"
    }
   }
  },
  {
   "cell_type": "code",
   "execution_count": 72,
   "outputs": [],
   "source": [
    "test.to_csv('data/preprocessed_test.csv', index=False)"
   ],
   "metadata": {
    "collapsed": false,
    "pycharm": {
     "name": "#%%\n"
    }
   }
  }
 ],
 "metadata": {
  "kernelspec": {
   "display_name": "Python 3",
   "language": "python",
   "name": "python3"
  },
  "language_info": {
   "codemirror_mode": {
    "name": "ipython",
    "version": 2
   },
   "file_extension": ".py",
   "mimetype": "text/x-python",
   "name": "python",
   "nbconvert_exporter": "python",
   "pygments_lexer": "ipython2",
   "version": "2.7.6"
  }
 },
 "nbformat": 4,
 "nbformat_minor": 0
}