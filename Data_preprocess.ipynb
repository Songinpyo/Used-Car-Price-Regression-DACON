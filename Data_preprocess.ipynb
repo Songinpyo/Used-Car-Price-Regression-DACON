{
 "cells": [
  {
   "cell_type": "code",
   "execution_count": 1,
   "metadata": {
    "collapsed": true,
    "pycharm": {
     "name": "#%%\n"
    }
   },
   "outputs": [],
   "source": [
    "# This is file for data EDA\n",
    "\n",
    "import pandas as pd\n",
    "dirpath = 'C:/Users/rihot/Desktop/Deep_learning/DACON_used_car_price/'\n",
    "\n",
    "train = pd.read_csv('data/train.csv')\n",
    "test = pd.read_csv('data/test.csv')"
   ]
  },
  {
   "cell_type": "code",
   "execution_count": 2,
   "outputs": [],
   "source": [
    "train = train.drop(['id'], axis=1)\n",
    "test= test.drop(['id'], axis=1)"
   ],
   "metadata": {
    "collapsed": false,
    "pycharm": {
     "name": "#%%\n"
    }
   }
  },
  {
   "cell_type": "code",
   "execution_count": 3,
   "outputs": [],
   "source": [
    "def check_missing_col(dataframe):\n",
    "    missing_col = []\n",
    "    for col in dataframe.columns:\n",
    "        missing_values = sum(dataframe[col].isna())\n",
    "        # isna : if value is NAN, return 1\n",
    "        is_missing = True if missing_values >= 1 else False\n",
    "        if is_missing:\n",
    "            print(f'결측치가 있는 컬럼 : {col} 입니다')\n",
    "            print(f'해당 컬럼에 총 {missing_values} 개의 결측치가 존재합니다.')\n",
    "            missing_col.append([col, dataframe[col].dtype])\n",
    "    if missing_col == []:\n",
    "        print('결측치가 존재하지 않습니다')\n",
    "    return missing_col"
   ],
   "metadata": {
    "collapsed": false,
    "pycharm": {
     "name": "#%%\n"
    }
   }
  },
  {
   "cell_type": "code",
   "execution_count": 4,
   "outputs": [
    {
     "name": "stdout",
     "output_type": "stream",
     "text": [
      "결측치가 존재하지 않습니다\n"
     ]
    }
   ],
   "source": [
    "missing_col = check_missing_col(train)"
   ],
   "metadata": {
    "collapsed": false,
    "pycharm": {
     "name": "#%%\n"
    }
   }
  },
  {
   "cell_type": "code",
   "execution_count": 5,
   "outputs": [
    {
     "name": "stdout",
     "output_type": "stream",
     "text": [
      "결측치가 존재하지 않습니다\n"
     ]
    }
   ],
   "source": [
    "missing_col = check_missing_col(test)"
   ],
   "metadata": {
    "collapsed": false,
    "pycharm": {
     "name": "#%%\n"
    }
   }
  },
  {
   "cell_type": "code",
   "execution_count": 6,
   "outputs": [],
   "source": [
    "train['brand'] = train['title'].apply(lambda x : x.split(\" \")[0])\n",
    "test['brand'] = test['title'].apply(lambda x: x.split(\" \")[0])"
   ],
   "metadata": {
    "collapsed": false,
    "pycharm": {
     "name": "#%%\n"
    }
   }
  },
  {
   "cell_type": "code",
   "execution_count": 7,
   "outputs": [
    {
     "data": {
      "text/plain": "0    Toyota\n1    Toyota\n2      Land\n3     Lexus\n4    Toyota\nName: brand, dtype: object"
     },
     "execution_count": 7,
     "metadata": {},
     "output_type": "execute_result"
    }
   ],
   "source": [
    "train.brand.head()"
   ],
   "metadata": {
    "collapsed": false,
    "pycharm": {
     "name": "#%%\n"
    }
   }
  },
  {
   "cell_type": "code",
   "execution_count": 8,
   "outputs": [
    {
     "data": {
      "text/plain": "0    Mercedes-Benz\n1            Honda\n2    Mercedes-Benz\n3           Toyota\n4           Toyota\nName: brand, dtype: object"
     },
     "execution_count": 8,
     "metadata": {},
     "output_type": "execute_result"
    }
   ],
   "source": [
    "test.brand.head()"
   ],
   "metadata": {
    "collapsed": false,
    "pycharm": {
     "name": "#%%\n"
    }
   }
  },
  {
   "cell_type": "code",
   "execution_count": 9,
   "outputs": [
    {
     "data": {
      "text/plain": "{'ALPINA',\n 'Acura',\n 'Audi',\n 'BMW',\n 'Bentley',\n 'Chevrolet',\n 'DAF',\n 'Dodge',\n 'Fiat',\n 'Ford',\n 'GAC',\n 'GMC',\n 'Honda',\n 'Hyundai',\n 'IVECO',\n 'IVM',\n 'Infiniti',\n 'Isuzu',\n 'Iveco',\n 'JMC',\n 'Jaguar',\n 'Jeep',\n 'Kia',\n 'Land',\n 'Lexus',\n 'Lincoln',\n 'MAN-VOLKSWAGEN',\n 'MINI',\n 'Mack',\n 'Man',\n 'Mazda',\n 'Mercedes-Benz',\n 'Mercedes-Benz/52',\n 'Mitsubishi',\n 'Nissan',\n 'Peugeot',\n 'Pontiac',\n 'Porsche',\n 'Rolls-Royce',\n 'Scania',\n 'Toyota',\n 'Volkswagen',\n 'Volvo'}"
     },
     "execution_count": 9,
     "metadata": {},
     "output_type": "execute_result"
    }
   ],
   "source": [
    "# set 은 집합을 처리하기 위한 자료형으로 중복을 허용하지 않는다.\n",
    "# | 은 합집합 기호, & 교집합 기호, - 차집합 기호\n",
    "set(train.brand) | set(test.brand)"
   ],
   "metadata": {
    "collapsed": false,
    "pycharm": {
     "name": "#%%\n"
    }
   }
  },
  {
   "cell_type": "code",
   "execution_count": 10,
   "outputs": [],
   "source": [
    "train['brand'] = train['brand'].replace({'Mercedes-Benz/52' : 'Mercedes-Benz'})"
   ],
   "metadata": {
    "collapsed": false,
    "pycharm": {
     "name": "#%%\n"
    }
   }
  },
  {
   "cell_type": "code",
   "execution_count": 15,
   "outputs": [
    {
     "data": {
      "text/plain": "{'Scania': 0,\n 'Jeep': 1,\n 'Bentley': 2,\n 'Infiniti': 3,\n 'Honda': 4,\n 'Audi': 5,\n 'Land': 6,\n 'DAF': 7,\n 'Iveco': 8,\n 'ALPINA': 9,\n 'Lincoln': 10,\n 'Chevrolet': 11,\n 'Man': 12,\n 'Acura': 13,\n 'Jaguar': 14,\n 'Pontiac': 15,\n 'Volkswagen': 16,\n 'Mazda': 17,\n 'MAN-VOLKSWAGEN': 18,\n 'MINI': 19,\n 'Porsche': 20,\n 'BMW': 21,\n 'Toyota': 22,\n 'Mercedes-Benz': 23,\n 'GMC': 24,\n 'Ford': 25,\n 'Kia': 26,\n 'Dodge': 27,\n 'Volvo': 28,\n 'Rolls-Royce': 29,\n 'Fiat': 30,\n 'Mack': 31,\n 'Mitsubishi': 32,\n 'Peugeot': 33,\n 'GAC': 34,\n 'Nissan': 35,\n 'Isuzu': 36,\n 'Hyundai': 37,\n 'JMC': 38,\n 'IVM': 39,\n 'IVECO': 40,\n 'Lexus': 41}"
     },
     "execution_count": 15,
     "metadata": {},
     "output_type": "execute_result"
    }
   ],
   "source": [
    "brand_label = {_brand : label for label, _brand in enumerate(set(train.brand)|set(test.brand))}\n",
    "brand_label"
   ],
   "metadata": {
    "collapsed": false,
    "pycharm": {
     "name": "#%%\n"
    }
   }
  },
  {
   "cell_type": "code",
   "execution_count": 26,
   "outputs": [],
   "source": [
    "train['brand'] = train['brand'].replace(brand_label)\n",
    "test['brand'] = test['brand'].replace(brand_label)"
   ],
   "metadata": {
    "collapsed": false,
    "pycharm": {
     "name": "#%%\n"
    }
   }
  },
  {
   "cell_type": "code",
   "execution_count": 19,
   "outputs": [
    {
     "data": {
      "text/plain": "{'ALPINA B3',\n 'Acura MDX',\n 'Acura RDX',\n 'Acura TL',\n 'Acura TSX',\n 'Acura ZDX',\n 'Audi S6',\n 'BMW 325',\n 'BMW 335',\n 'BMW 525',\n 'BMW 528',\n 'BMW 535',\n 'BMW 730',\n 'BMW 740',\n 'BMW 745',\n 'BMW 750',\n 'BMW X3',\n 'BMW X6',\n 'Bentley Arnage',\n 'Chevrolet Camaro',\n 'Chevrolet Evanda',\n 'Chevrolet Traverse',\n 'DAF 45',\n 'DAF 95XF TRACTOR HEAD',\n 'DAF CF',\n 'DAF FA 55. 180',\n 'DAF XF TRACTOR HEAD',\n 'Dodge Charger',\n 'Fiat Ducato',\n 'Ford Edge',\n 'Ford Escape',\n 'Ford Expedition',\n 'Ford Explorer',\n 'Ford F 150',\n 'Ford Focus',\n 'Ford Fusion',\n 'Ford Mondeo',\n 'Ford Mustang',\n 'Ford TRANSIT PICKUP',\n 'Ford Transit',\n 'GAC Gonow Other',\n 'GMC Terrain',\n 'Honda Accord',\n 'Honda CR-V',\n 'Honda Civic',\n 'Honda Crosstour',\n 'Honda Element',\n 'Honda Fit',\n 'Honda Insight',\n 'Honda Odyssey',\n 'Honda Pilot',\n 'Honda Ridgeline',\n 'Hyundai Azera',\n 'Hyundai Elantra',\n 'Hyundai Santa Fe',\n 'Hyundai Sonata',\n 'Hyundai Tucson',\n 'Hyundai ix35',\n 'IVECO EUROTECH 7.50E-16',\n 'IVM LT35',\n 'Infiniti FX',\n 'Infiniti JX',\n 'Infiniti M35',\n 'Infiniti QX80',\n 'Isuzu CABSTER',\n 'Isuzu NQR',\n 'Iveco EUROCARGO 120e18',\n 'Iveco TRUCK',\n 'JMC Vigus',\n 'Jaguar X-Type',\n 'Jaguar XJ8',\n 'Jeep Cherokee',\n 'Jeep Wrangler',\n 'Kia Cerato',\n 'Kia Optima',\n 'Kia Picanto',\n 'Kia Rio',\n 'Kia Sorento',\n 'Kia Soul',\n 'Kia Stinger',\n 'Land Rover Discovery',\n 'Land Rover Range Rover',\n 'Land Rover Range Rover Evoque',\n 'Land Rover Range Rover Sport',\n 'Land Rover Range Rover Velar',\n 'Lexus CT 200h',\n 'Lexus ES 300',\n 'Lexus ES 330',\n 'Lexus ES 350',\n 'Lexus GS 300',\n 'Lexus GS 350',\n 'Lexus GX 460',\n 'Lexus GX 470',\n 'Lexus IS 250',\n 'Lexus LS 460',\n 'Lexus LX 570',\n 'Lexus RX 300',\n 'Lexus RX 330',\n 'Lexus RX 350',\n 'Lexus RX 400',\n 'Lincoln Mark',\n 'MAN-VOLKSWAGEN FLATBED',\n 'MINI Cooper',\n 'MINI Cooper Countryman',\n 'MINI Cooper Coupé',\n 'Mack CH613',\n 'Mack CH613 CONVENTIONAL CAB',\n 'Mack CXN613',\n 'Mack CXN613 CAB BEHIND ENGINE',\n 'Mack R-686ST',\n 'Man 26-403',\n 'Man BOCKMANN',\n 'Man Diesel 19.314 FILT-N',\n 'Man LE 8. 180 PLATFORM TRUCK',\n 'Man TGA 18.360',\n 'Man Truck 18.44',\n 'Mazda 323',\n 'Mazda 6',\n 'Mazda CX-9',\n 'Mazda Tribute',\n 'Mercedes-Benz 200',\n 'Mercedes-Benz 220',\n 'Mercedes-Benz 300',\n 'Mercedes-Benz 320',\n 'Mercedes-Benz 350',\n 'Mercedes-Benz 450',\n 'Mercedes-Benz 709 DB',\n 'Mercedes-Benz 814',\n 'Mercedes-Benz ATEGO',\n 'Mercedes-Benz C 180',\n 'Mercedes-Benz C 250',\n 'Mercedes-Benz C 300',\n 'Mercedes-Benz C 320',\n 'Mercedes-Benz C 350',\n 'Mercedes-Benz C 450 AMG',\n 'Mercedes-Benz C 63 AMG',\n 'Mercedes-Benz CABIN PLUS CHASSIS ONLY',\n 'Mercedes-Benz CLA 250',\n 'Mercedes-Benz CLS 500',\n 'Mercedes-Benz DUMP TRUCK',\n 'Mercedes-Benz E 200',\n 'Mercedes-Benz E 300',\n 'Mercedes-Benz E 320',\n 'Mercedes-Benz E 350',\n 'Mercedes-Benz E 550',\n 'Mercedes-Benz G 550',\n 'Mercedes-Benz G 63 AMG',\n 'Mercedes-Benz GL 450',\n 'Mercedes-Benz GLA 180',\n 'Mercedes-Benz GLA 250',\n 'Mercedes-Benz GLC 300',\n 'Mercedes-Benz GLE 350',\n 'Mercedes-Benz GLE 43 AMG',\n 'Mercedes-Benz GLE 450',\n 'Mercedes-Benz GLK 300',\n 'Mercedes-Benz GLK 350',\n 'Mercedes-Benz ML 320',\n 'Mercedes-Benz ML 350',\n 'Mercedes-Benz ML 430',\n 'Mercedes-Benz Maybach',\n 'Mercedes-Benz S 450',\n 'Mercedes-Benz S 550',\n 'Mercedes-Benz SL 400',\n 'Mercedes-Benz WATER TANKER',\n 'Mercedes-Benz/52',\n 'Mitsubishi CANTER PICK UP',\n 'Mitsubishi Eclipse',\n 'Mitsubishi Galant',\n 'Mitsubishi L200',\n 'Mitsubishi Montero',\n 'Mitsubishi Pajero',\n 'Nissan A',\n 'Nissan Altima',\n 'Nissan Cabstar',\n 'Nissan Frontier',\n 'Nissan INFINITI M90.150/2',\n 'Nissan Maxima',\n 'Nissan Murano',\n 'Nissan Pathfinder',\n 'Nissan Primera',\n 'Nissan Quest',\n 'Nissan Rogue',\n 'Nissan Sentra',\n 'Nissan Titan',\n 'Nissan Versa',\n 'Nissan X-Trail',\n 'Nissan Xterra',\n 'Peugeot 206',\n 'Peugeot 307',\n 'Peugeot 308',\n 'Peugeot 607',\n 'Pontiac Vibe',\n 'Porsche Cayenne',\n 'Porsche Macan',\n 'Porsche Panamera',\n 'Rolls-Royce Ghost',\n 'Scania P94 FLATBED',\n 'Scania TRACTOR HEAD',\n 'Toyota 4-Runner',\n 'Toyota Avalon',\n 'Toyota Avensis',\n 'Toyota C-HR',\n 'Toyota Camry',\n 'Toyota Coaster',\n 'Toyota Corolla',\n 'Toyota DYNA 200',\n 'Toyota Dyna',\n 'Toyota Hiace',\n 'Toyota Highlander',\n 'Toyota Hilux',\n 'Toyota Land Cruiser',\n 'Toyota Matrix',\n 'Toyota Prado',\n 'Toyota Prius',\n 'Toyota RAV 4',\n 'Toyota Sequoia',\n 'Toyota Sienna',\n 'Toyota Solara',\n 'Toyota Tacoma',\n 'Toyota Tundra',\n 'Toyota Venza',\n 'Toyota Vitz',\n 'Toyota Yaris',\n 'Volkswagen 17.22',\n 'Volkswagen Golf',\n 'Volkswagen Jetta',\n 'Volkswagen LT',\n 'Volkswagen Passat',\n 'Volkswagen Sharan',\n 'Volkswagen T4 Caravelle',\n 'Volkswagen T6 other',\n 'Volkswagen Tiguan',\n 'Volkswagen Touareg',\n 'Volvo FH12',\n 'Volvo FL12',\n 'Volvo FL6',\n 'Volvo FL7',\n 'Volvo S80',\n 'Volvo XC60',\n 'Volvo XC90'}"
     },
     "execution_count": 19,
     "metadata": {},
     "output_type": "execute_result"
    }
   ],
   "source": [
    "car_title = set(train.title) | set(test.title)\n",
    "car_title"
   ],
   "metadata": {
    "collapsed": false,
    "pycharm": {
     "name": "#%%\n"
    }
   }
  },
  {
   "cell_type": "code",
   "execution_count": 20,
   "outputs": [
    {
     "data": {
      "text/plain": "{'Mercedes-Benz E 200': 0,\n 'Mercedes-Benz/52': 1,\n 'Ford Fusion': 2,\n 'Ford Expedition': 3,\n 'BMW 525': 4,\n 'Volvo FH12': 5,\n 'Kia Optima': 6,\n 'MAN-VOLKSWAGEN FLATBED': 7,\n 'Scania TRACTOR HEAD': 8,\n 'Nissan Murano': 9,\n 'Ford Transit': 10,\n 'Mercedes-Benz 350': 11,\n 'Mercedes-Benz GLA 180': 12,\n 'Lexus LS 460': 13,\n 'Nissan Sentra': 14,\n 'Kia Cerato': 15,\n 'Toyota Tacoma': 16,\n 'Toyota Hiace': 17,\n 'Lexus ES 350': 18,\n 'Toyota Camry': 19,\n 'Toyota Hilux': 20,\n 'Volkswagen Jetta': 21,\n 'Mack CH613': 22,\n 'Lexus GS 350': 23,\n 'Mack CH613 CONVENTIONAL CAB': 24,\n 'Toyota C-HR': 25,\n 'Kia Picanto': 26,\n 'Bentley Arnage': 27,\n 'Dodge Charger': 28,\n 'Lexus GX 470': 29,\n 'Land Rover Range Rover Sport': 30,\n 'Mercedes-Benz 320': 31,\n 'Lexus GX 460': 32,\n 'Hyundai ix35': 33,\n 'Man Diesel 19.314 FILT-N': 34,\n 'Hyundai Azera': 35,\n 'Land Rover Range Rover Velar': 36,\n 'Kia Stinger': 37,\n 'BMW 730': 38,\n 'Ford F 150': 39,\n 'Mercedes-Benz 300': 40,\n 'Mercedes-Benz ML 320': 41,\n 'Kia Sorento': 42,\n 'Mercedes-Benz 220': 43,\n 'Honda Element': 44,\n 'BMW 528': 45,\n 'Man BOCKMANN': 46,\n 'Mercedes-Benz GLE 450': 47,\n 'Mercedes-Benz GLE 350': 48,\n 'DAF 95XF TRACTOR HEAD': 49,\n 'Acura ZDX': 50,\n 'Volvo XC60': 51,\n 'Infiniti M35': 52,\n 'MINI Cooper Coupé': 53,\n 'Iveco TRUCK': 54,\n 'Toyota Coaster': 55,\n 'Man TGA 18.360': 56,\n 'Volkswagen Touareg': 57,\n 'Toyota Yaris': 58,\n 'Mercedes-Benz GLC 300': 59,\n 'Infiniti FX': 60,\n 'Lexus RX 300': 61,\n 'Porsche Macan': 62,\n 'Mercedes-Benz S 550': 63,\n 'Toyota Sequoia': 64,\n 'Hyundai Sonata': 65,\n 'Toyota 4-Runner': 66,\n 'Toyota Prado': 67,\n 'Volvo FL7': 68,\n 'Nissan INFINITI M90.150/2': 69,\n 'Nissan X-Trail': 70,\n 'Jaguar XJ8': 71,\n 'Ford Escape': 72,\n 'Toyota Dyna': 73,\n 'Mack CXN613': 74,\n 'Volkswagen LT': 75,\n 'MINI Cooper Countryman': 76,\n 'Mercedes-Benz Maybach': 77,\n 'Scania P94 FLATBED': 78,\n 'Volkswagen T4 Caravelle': 79,\n 'Toyota Sienna': 80,\n 'Ford Explorer': 81,\n 'Mercedes-Benz C 63 AMG': 82,\n 'Mercedes-Benz C 320': 83,\n 'Hyundai Santa Fe': 84,\n 'Toyota Avensis': 85,\n 'BMW 325': 86,\n 'Peugeot 307': 87,\n 'Jaguar X-Type': 88,\n 'Volkswagen Passat': 89,\n 'Mercedes-Benz E 550': 90,\n 'Audi S6': 91,\n 'Honda Civic': 92,\n 'Acura RDX': 93,\n 'IVECO EUROTECH 7.50E-16': 94,\n 'Land Rover Discovery': 95,\n 'Volvo FL6': 96,\n 'Nissan Pathfinder': 97,\n 'ALPINA B3': 98,\n 'Iveco EUROCARGO 120e18': 99,\n 'Hyundai Tucson': 100,\n 'Mazda CX-9': 101,\n 'Ford TRANSIT PICKUP': 102,\n 'Honda Accord': 103,\n 'Rolls-Royce Ghost': 104,\n 'Infiniti JX': 105,\n 'Lexus RX 400': 106,\n 'Mitsubishi Montero': 107,\n 'Honda Ridgeline': 108,\n 'Mercedes-Benz C 350': 109,\n 'Land Rover Range Rover': 110,\n 'Honda CR-V': 111,\n 'Porsche Panamera': 112,\n 'DAF CF': 113,\n 'Mercedes-Benz C 300': 114,\n 'Nissan Quest': 115,\n 'Chevrolet Camaro': 116,\n 'Honda Fit': 117,\n 'Man 26-403': 118,\n 'Volvo FL12': 119,\n 'Fiat Ducato': 120,\n 'Volkswagen Sharan': 121,\n 'Volkswagen 17.22': 122,\n 'Mazda 323': 123,\n 'Toyota Vitz': 124,\n 'Porsche Cayenne': 125,\n 'Mercedes-Benz E 350': 126,\n 'Infiniti QX80': 127,\n 'IVM LT35': 128,\n 'Mercedes-Benz WATER TANKER': 129,\n 'Lincoln Mark': 130,\n 'Kia Soul': 131,\n 'Mercedes-Benz CLA 250': 132,\n 'Mercedes-Benz GLK 300': 133,\n 'Honda Crosstour': 134,\n 'Land Rover Range Rover Evoque': 135,\n 'Lexus CT 200h': 136,\n 'Nissan Primera': 137,\n 'BMW 750': 138,\n 'Mercedes-Benz ML 350': 139,\n 'Ford Focus': 140,\n 'Jeep Cherokee': 141,\n 'Mercedes-Benz S 450': 142,\n 'Lexus GS 300': 143,\n 'BMW 335': 144,\n 'Toyota Land Cruiser': 145,\n 'Mack R-686ST': 146,\n 'Mercedes-Benz G 63 AMG': 147,\n 'Toyota Corolla': 148,\n 'Mercedes-Benz C 250': 149,\n 'Toyota Highlander': 150,\n 'Pontiac Vibe': 151,\n 'Volvo S80': 152,\n 'Lexus ES 330': 153,\n 'Volkswagen T6 other': 154,\n 'Jeep Wrangler': 155,\n 'Acura TL': 156,\n 'DAF 45': 157,\n 'Lexus ES 300': 158,\n 'Mercedes-Benz 200': 159,\n 'Toyota Matrix': 160,\n 'Isuzu NQR': 161,\n 'Mercedes-Benz DUMP TRUCK': 162,\n 'Toyota DYNA 200': 163,\n 'Lexus LX 570': 164,\n 'Nissan A': 165,\n 'Mercedes-Benz CLS 500': 166,\n 'Mercedes-Benz 709 DB': 167,\n 'Mercedes-Benz GLE 43 AMG': 168,\n 'Honda Odyssey': 169,\n 'Honda Pilot': 170,\n 'GAC Gonow Other': 171,\n 'Nissan Rogue': 172,\n 'Peugeot 607': 173,\n 'GMC Terrain': 174,\n 'Kia Rio': 175,\n 'JMC Vigus': 176,\n 'BMW 740': 177,\n 'Mercedes-Benz GL 450': 178,\n 'Nissan Versa': 179,\n 'Isuzu CABSTER': 180,\n 'Mitsubishi CANTER PICK UP': 181,\n 'Volkswagen Tiguan': 182,\n 'Nissan Maxima': 183,\n 'BMW 535': 184,\n 'Peugeot 206': 185,\n 'Mazda 6': 186,\n 'Lexus RX 350': 187,\n 'BMW X6': 188,\n 'Mitsubishi Galant': 189,\n 'Nissan Titan': 190,\n 'Mercedes-Benz E 320': 191,\n 'Man Truck 18.44': 192,\n 'Mack CXN613 CAB BEHIND ENGINE': 193,\n 'Toyota RAV 4': 194,\n 'Lexus RX 330': 195,\n 'Chevrolet Evanda': 196,\n 'Mercedes-Benz 450': 197,\n 'Toyota Tundra': 198,\n 'DAF FA 55. 180': 199,\n 'Toyota Solara': 200,\n 'Nissan Cabstar': 201,\n 'Man LE 8. 180 PLATFORM TRUCK': 202,\n 'Mazda Tribute': 203,\n 'Mercedes-Benz C 180': 204,\n 'Mercedes-Benz 814': 205,\n 'Mitsubishi Eclipse': 206,\n 'Mitsubishi L200': 207,\n 'Mitsubishi Pajero': 208,\n 'Toyota Venza': 209,\n 'Toyota Avalon': 210,\n 'DAF XF TRACTOR HEAD': 211,\n 'Nissan Altima': 212,\n 'Chevrolet Traverse': 213,\n 'Mercedes-Benz GLA 250': 214,\n 'BMW X3': 215,\n 'Mercedes-Benz SL 400': 216,\n 'Ford Edge': 217,\n 'Mercedes-Benz GLK 350': 218,\n 'Peugeot 308': 219,\n 'Lexus IS 250': 220,\n 'MINI Cooper': 221,\n 'Toyota Prius': 222,\n 'Mercedes-Benz CABIN PLUS CHASSIS ONLY': 223,\n 'BMW 745': 224,\n 'Nissan Frontier': 225,\n 'Acura TSX': 226,\n 'Volkswagen Golf': 227,\n 'Honda Insight': 228,\n 'Mercedes-Benz C 450 AMG': 229,\n 'Acura MDX': 230,\n 'Ford Mondeo': 231,\n 'Nissan Xterra': 232,\n 'Mercedes-Benz ATEGO': 233,\n 'Volvo XC90': 234,\n 'Mercedes-Benz ML 430': 235,\n 'Mercedes-Benz G 550': 236,\n 'Ford Mustang': 237,\n 'Mercedes-Benz E 300': 238,\n 'Hyundai Elantra': 239}"
     },
     "execution_count": 20,
     "metadata": {},
     "output_type": "execute_result"
    }
   ],
   "source": [
    "car_title_label = {car_title : label for label, car_title in enumerate(car_title)}\n",
    "car_title_label"
   ],
   "metadata": {
    "collapsed": false,
    "pycharm": {
     "name": "#%%\n"
    }
   }
  },
  {
   "cell_type": "code",
   "execution_count": 23,
   "outputs": [],
   "source": [
    "train['title'] = train['title'].replace(car_title_label)\n",
    "test['title'] = test['title'].replace(car_title_label)"
   ],
   "metadata": {
    "collapsed": false,
    "pycharm": {
     "name": "#%%\n"
    }
   }
  },
  {
   "cell_type": "code",
   "execution_count": 30,
   "outputs": [
    {
     "data": {
      "text/plain": "array(['Lagos ', 'Lagos', 'Abuja', 'Lagos State', 'Ogun', 'FCT', 'Accra',\n       'other', 'Abuja ', 'Abia State', 'Adamawa ', 'Abia', 'Ogun State'],\n      dtype=object)"
     },
     "execution_count": 30,
     "metadata": {},
     "output_type": "execute_result"
    }
   ],
   "source": [
    "train.location.unique()"
   ],
   "metadata": {
    "collapsed": false,
    "pycharm": {
     "name": "#%%\n"
    }
   }
  },
  {
   "cell_type": "code",
   "execution_count": 49,
   "outputs": [],
   "source": [
    "# Lagos, Abuja has same name but different label\n",
    "\n",
    "train['location'] = train['location'].replace({\n",
    "    'Lagos ' : 'Lagos',\n",
    "    'Abuja ' : 'Abuja',\n",
    "    'Lagos State' : 'Lagos',\n",
    "    'Ogun State' : 'Ogun',\n",
    "    'Abia State' : 'Abia'\n",
    "})"
   ],
   "metadata": {
    "collapsed": false,
    "pycharm": {
     "name": "#%%\n"
    }
   }
  },
  {
   "cell_type": "code",
   "execution_count": 51,
   "outputs": [],
   "source": [
    "test['location'] = test['location'].replace({\n",
    "    'Abuja ' : 'Abuja',\n",
    "    'Lagos ' : 'Lagos',\n",
    "    'Lagos State' : 'Lagos',\n",
    "    'Ogun State' : 'Ogun',\n",
    "    'Arepo ogun state ' : 'Ogun'\n",
    "})"
   ],
   "metadata": {
    "collapsed": false,
    "pycharm": {
     "name": "#%%\n"
    }
   }
  },
  {
   "cell_type": "code",
   "execution_count": 54,
   "outputs": [
    {
     "data": {
      "text/plain": "Lagos       831\nAbuja       147\nOgun         27\nother         4\nFCT           2\nAbia          2\nAccra         1\nAdamawa       1\nName: location, dtype: int64"
     },
     "execution_count": 54,
     "metadata": {},
     "output_type": "execute_result"
    }
   ],
   "source": [
    "train.location.value_counts()"
   ],
   "metadata": {
    "collapsed": false,
    "pycharm": {
     "name": "#%%\n"
    }
   }
  },
  {
   "cell_type": "code",
   "execution_count": 55,
   "outputs": [
    {
     "data": {
      "text/plain": "Lagos     354\nAbuja      69\nOgun       10\nMushin      1\nother       1\nAbia        1\nName: location, dtype: int64"
     },
     "execution_count": 55,
     "metadata": {},
     "output_type": "execute_result"
    }
   ],
   "source": [
    "test.location.value_counts()"
   ],
   "metadata": {
    "collapsed": false,
    "pycharm": {
     "name": "#%%\n"
    }
   }
  },
  {
   "cell_type": "code",
   "execution_count": 56,
   "outputs": [
    {
     "data": {
      "text/plain": "{'Accra', 'Adamawa ', 'FCT', 'Mushin'}"
     },
     "execution_count": 56,
     "metadata": {},
     "output_type": "execute_result"
    }
   ],
   "source": [
    "(set(train.location.unique()) | set(test.location.unique())) - (set(train.location.unique()) & set(test.location.unique()))"
   ],
   "metadata": {
    "collapsed": false,
    "pycharm": {
     "name": "#%%\n"
    }
   }
  },
  {
   "cell_type": "code",
   "execution_count": 58,
   "outputs": [
    {
     "data": {
      "text/plain": "Lagos    831\nAbuja    147\nOgun      27\nother      8\nAbia       2\nName: location, dtype: int64"
     },
     "execution_count": 58,
     "metadata": {},
     "output_type": "execute_result"
    }
   ],
   "source": [
    "train['location'] = train['location'].replace({\n",
    "    'Accra' : 'other',\n",
    "    'Adamawa ' : 'other',\n",
    "    'FCT' : 'other',\n",
    "    'Mushin' : 'other'\n",
    "})\n",
    "\n",
    "train.location.value_counts()"
   ],
   "metadata": {
    "collapsed": false,
    "pycharm": {
     "name": "#%%\n"
    }
   }
  },
  {
   "cell_type": "code",
   "execution_count": 59,
   "outputs": [
    {
     "data": {
      "text/plain": "Lagos    354\nAbuja     69\nOgun      10\nother      2\nAbia       1\nName: location, dtype: int64"
     },
     "execution_count": 59,
     "metadata": {},
     "output_type": "execute_result"
    }
   ],
   "source": [
    "test['location'] = test['location'].replace({\n",
    "    'Accra' : 'other',\n",
    "    'Adamawa ' : 'other',\n",
    "    'FCT' : 'other',\n",
    "    'Mushin' : 'other'\n",
    "})\n",
    "\n",
    "test.location.value_counts()"
   ],
   "metadata": {
    "collapsed": false,
    "pycharm": {
     "name": "#%%\n"
    }
   }
  },
  {
   "cell_type": "code",
   "execution_count": 60,
   "outputs": [
    {
     "data": {
      "text/plain": "{'Lagos': 0, 'Abuja': 1, 'Ogun': 2, 'other': 3, 'Abia': 4}"
     },
     "execution_count": 60,
     "metadata": {},
     "output_type": "execute_result"
    }
   ],
   "source": [
    "location_label = {location : label for label, location in enumerate(train.location.unique())}\n",
    "location_label"
   ],
   "metadata": {
    "collapsed": false,
    "pycharm": {
     "name": "#%%\n"
    }
   }
  },
  {
   "cell_type": "code",
   "execution_count": 61,
   "outputs": [],
   "source": [
    "train['location'] = train['location'].replace(location_label)\n",
    "test['location'] = test['location'].replace(location_label)"
   ],
   "metadata": {
    "collapsed": false,
    "pycharm": {
     "name": "#%%\n"
    }
   }
  },
  {
   "cell_type": "code",
   "execution_count": 63,
   "outputs": [
    {
     "data": {
      "text/plain": "   title  odometer  location    isimported          engine transmission  \\\n0    194     18277         0  Foreign Used  4-cylinder(I4)    automatic   \n1    145        10         0          New   4-cylinder(I4)    automatic   \n2    135     83091         0  Foreign Used  6-cylinder(V6)    automatic   \n3     18     91524         0  Foreign Used  4-cylinder(I4)    automatic   \n4    209     94177         0  Foreign Used  6-cylinder(V6)    automatic   \n\n     fuel  paint  year    target  brand  \n0  petrol    Red  2016  13665000     22  \n1  petrol  Black  2019  33015000     22  \n2  petrol    Red  2012   9915000      6  \n3  petrol   Gray  2007   3815000     41  \n4  petrol    Red  2010   7385000     22  ",
      "text/html": "<div>\n<style scoped>\n    .dataframe tbody tr th:only-of-type {\n        vertical-align: middle;\n    }\n\n    .dataframe tbody tr th {\n        vertical-align: top;\n    }\n\n    .dataframe thead th {\n        text-align: right;\n    }\n</style>\n<table border=\"1\" class=\"dataframe\">\n  <thead>\n    <tr style=\"text-align: right;\">\n      <th></th>\n      <th>title</th>\n      <th>odometer</th>\n      <th>location</th>\n      <th>isimported</th>\n      <th>engine</th>\n      <th>transmission</th>\n      <th>fuel</th>\n      <th>paint</th>\n      <th>year</th>\n      <th>target</th>\n      <th>brand</th>\n    </tr>\n  </thead>\n  <tbody>\n    <tr>\n      <th>0</th>\n      <td>194</td>\n      <td>18277</td>\n      <td>0</td>\n      <td>Foreign Used</td>\n      <td>4-cylinder(I4)</td>\n      <td>automatic</td>\n      <td>petrol</td>\n      <td>Red</td>\n      <td>2016</td>\n      <td>13665000</td>\n      <td>22</td>\n    </tr>\n    <tr>\n      <th>1</th>\n      <td>145</td>\n      <td>10</td>\n      <td>0</td>\n      <td>New</td>\n      <td>4-cylinder(I4)</td>\n      <td>automatic</td>\n      <td>petrol</td>\n      <td>Black</td>\n      <td>2019</td>\n      <td>33015000</td>\n      <td>22</td>\n    </tr>\n    <tr>\n      <th>2</th>\n      <td>135</td>\n      <td>83091</td>\n      <td>0</td>\n      <td>Foreign Used</td>\n      <td>6-cylinder(V6)</td>\n      <td>automatic</td>\n      <td>petrol</td>\n      <td>Red</td>\n      <td>2012</td>\n      <td>9915000</td>\n      <td>6</td>\n    </tr>\n    <tr>\n      <th>3</th>\n      <td>18</td>\n      <td>91524</td>\n      <td>0</td>\n      <td>Foreign Used</td>\n      <td>4-cylinder(I4)</td>\n      <td>automatic</td>\n      <td>petrol</td>\n      <td>Gray</td>\n      <td>2007</td>\n      <td>3815000</td>\n      <td>41</td>\n    </tr>\n    <tr>\n      <th>4</th>\n      <td>209</td>\n      <td>94177</td>\n      <td>0</td>\n      <td>Foreign Used</td>\n      <td>6-cylinder(V6)</td>\n      <td>automatic</td>\n      <td>petrol</td>\n      <td>Red</td>\n      <td>2010</td>\n      <td>7385000</td>\n      <td>22</td>\n    </tr>\n  </tbody>\n</table>\n</div>"
     },
     "execution_count": 63,
     "metadata": {},
     "output_type": "execute_result"
    }
   ],
   "source": [
    "train.head()"
   ],
   "metadata": {
    "collapsed": false,
    "pycharm": {
     "name": "#%%\n"
    }
   }
  },
  {
   "cell_type": "code",
   "execution_count": null,
   "outputs": [],
   "source": [],
   "metadata": {
    "collapsed": false,
    "pycharm": {
     "name": "#%%\n"
    }
   }
  }
 ],
 "metadata": {
  "kernelspec": {
   "display_name": "Python 3",
   "language": "python",
   "name": "python3"
  },
  "language_info": {
   "codemirror_mode": {
    "name": "ipython",
    "version": 2
   },
   "file_extension": ".py",
   "mimetype": "text/x-python",
   "name": "python",
   "nbconvert_exporter": "python",
   "pygments_lexer": "ipython2",
   "version": "2.7.6"
  }
 },
 "nbformat": 4,
 "nbformat_minor": 0
}