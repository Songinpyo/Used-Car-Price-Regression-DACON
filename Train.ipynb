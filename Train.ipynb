{
 "cells": [
  {
   "cell_type": "code",
   "execution_count": 1,
   "outputs": [],
   "source": [
    "# This is file for train, prediction\n",
    "\n",
    "import pandas as pd\n",
    "\n",
    "dirpath = \"C:/Users/rihot/Desktop/Deep_learning/DACON_used_car_price/\"\n",
    "\n",
    "train = pd.read_csv('data/preprocessed_train.csv')\n",
    "test = pd.read_csv('data/preprocessed_test.csv')"
   ],
   "metadata": {
    "collapsed": false,
    "pycharm": {
     "name": "#%%\n"
    }
   }
  },
  {
   "cell_type": "code",
   "execution_count": 2,
   "outputs": [
    {
     "data": {
      "text/plain": "   title  odometer  location  isimported  engine  transmission  fuel  paint  \\\n0    152     18277         0           0       0             0     0      1   \n1     97        10         0           2       0             0     0      7   \n2    137     83091         0           0       3             0     0      1   \n3    226     91524         0           0       0             0     0     16   \n4     60     94177         0           0       3             0     0      1   \n\n   year  brand    target  \n0  2016     38  13665000  \n1  2019     38  33015000  \n2  2012      5   9915000  \n3  2007     30   3815000  \n4  2010     38   7385000  ",
      "text/html": "<div>\n<style scoped>\n    .dataframe tbody tr th:only-of-type {\n        vertical-align: middle;\n    }\n\n    .dataframe tbody tr th {\n        vertical-align: top;\n    }\n\n    .dataframe thead th {\n        text-align: right;\n    }\n</style>\n<table border=\"1\" class=\"dataframe\">\n  <thead>\n    <tr style=\"text-align: right;\">\n      <th></th>\n      <th>title</th>\n      <th>odometer</th>\n      <th>location</th>\n      <th>isimported</th>\n      <th>engine</th>\n      <th>transmission</th>\n      <th>fuel</th>\n      <th>paint</th>\n      <th>year</th>\n      <th>brand</th>\n      <th>target</th>\n    </tr>\n  </thead>\n  <tbody>\n    <tr>\n      <th>0</th>\n      <td>152</td>\n      <td>18277</td>\n      <td>0</td>\n      <td>0</td>\n      <td>0</td>\n      <td>0</td>\n      <td>0</td>\n      <td>1</td>\n      <td>2016</td>\n      <td>38</td>\n      <td>13665000</td>\n    </tr>\n    <tr>\n      <th>1</th>\n      <td>97</td>\n      <td>10</td>\n      <td>0</td>\n      <td>2</td>\n      <td>0</td>\n      <td>0</td>\n      <td>0</td>\n      <td>7</td>\n      <td>2019</td>\n      <td>38</td>\n      <td>33015000</td>\n    </tr>\n    <tr>\n      <th>2</th>\n      <td>137</td>\n      <td>83091</td>\n      <td>0</td>\n      <td>0</td>\n      <td>3</td>\n      <td>0</td>\n      <td>0</td>\n      <td>1</td>\n      <td>2012</td>\n      <td>5</td>\n      <td>9915000</td>\n    </tr>\n    <tr>\n      <th>3</th>\n      <td>226</td>\n      <td>91524</td>\n      <td>0</td>\n      <td>0</td>\n      <td>0</td>\n      <td>0</td>\n      <td>0</td>\n      <td>16</td>\n      <td>2007</td>\n      <td>30</td>\n      <td>3815000</td>\n    </tr>\n    <tr>\n      <th>4</th>\n      <td>60</td>\n      <td>94177</td>\n      <td>0</td>\n      <td>0</td>\n      <td>3</td>\n      <td>0</td>\n      <td>0</td>\n      <td>1</td>\n      <td>2010</td>\n      <td>38</td>\n      <td>7385000</td>\n    </tr>\n  </tbody>\n</table>\n</div>"
     },
     "execution_count": 2,
     "metadata": {},
     "output_type": "execute_result"
    }
   ],
   "source": [
    "train.head()"
   ],
   "metadata": {
    "collapsed": false,
    "pycharm": {
     "name": "#%%\n"
    }
   }
  },
  {
   "cell_type": "code",
   "execution_count": 3,
   "outputs": [
    {
     "data": {
      "text/plain": "   title  odometer  location  isimported  engine  transmission  fuel  paint  \\\n0    113      1234         1           2       0             0     0      2   \n1    194     29938         1           0       0             0     0      2   \n2    213     87501         0           0       0             0     0      7   \n3    230    180894         0           1       3             0     0     16   \n4     18    104814         0           0       0             0     0      2   \n\n   year  brand  \n0  2017      6  \n1  2013     25  \n2  2012      6  \n3  2001     38  \n4  2000     38  ",
      "text/html": "<div>\n<style scoped>\n    .dataframe tbody tr th:only-of-type {\n        vertical-align: middle;\n    }\n\n    .dataframe tbody tr th {\n        vertical-align: top;\n    }\n\n    .dataframe thead th {\n        text-align: right;\n    }\n</style>\n<table border=\"1\" class=\"dataframe\">\n  <thead>\n    <tr style=\"text-align: right;\">\n      <th></th>\n      <th>title</th>\n      <th>odometer</th>\n      <th>location</th>\n      <th>isimported</th>\n      <th>engine</th>\n      <th>transmission</th>\n      <th>fuel</th>\n      <th>paint</th>\n      <th>year</th>\n      <th>brand</th>\n    </tr>\n  </thead>\n  <tbody>\n    <tr>\n      <th>0</th>\n      <td>113</td>\n      <td>1234</td>\n      <td>1</td>\n      <td>2</td>\n      <td>0</td>\n      <td>0</td>\n      <td>0</td>\n      <td>2</td>\n      <td>2017</td>\n      <td>6</td>\n    </tr>\n    <tr>\n      <th>1</th>\n      <td>194</td>\n      <td>29938</td>\n      <td>1</td>\n      <td>0</td>\n      <td>0</td>\n      <td>0</td>\n      <td>0</td>\n      <td>2</td>\n      <td>2013</td>\n      <td>25</td>\n    </tr>\n    <tr>\n      <th>2</th>\n      <td>213</td>\n      <td>87501</td>\n      <td>0</td>\n      <td>0</td>\n      <td>0</td>\n      <td>0</td>\n      <td>0</td>\n      <td>7</td>\n      <td>2012</td>\n      <td>6</td>\n    </tr>\n    <tr>\n      <th>3</th>\n      <td>230</td>\n      <td>180894</td>\n      <td>0</td>\n      <td>1</td>\n      <td>3</td>\n      <td>0</td>\n      <td>0</td>\n      <td>16</td>\n      <td>2001</td>\n      <td>38</td>\n    </tr>\n    <tr>\n      <th>4</th>\n      <td>18</td>\n      <td>104814</td>\n      <td>0</td>\n      <td>0</td>\n      <td>0</td>\n      <td>0</td>\n      <td>0</td>\n      <td>2</td>\n      <td>2000</td>\n      <td>38</td>\n    </tr>\n  </tbody>\n</table>\n</div>"
     },
     "execution_count": 3,
     "metadata": {},
     "output_type": "execute_result"
    }
   ],
   "source": [
    "test.head()"
   ],
   "metadata": {
    "collapsed": false,
    "pycharm": {
     "name": "#%%\n"
    }
   }
  },
  {
   "cell_type": "code",
   "execution_count": 4,
   "outputs": [],
   "source": [
    "Y = train[ ['target'] ].values\n",
    "X = train[ [ 'title', 'odometer', 'isimported', 'engine', 'paint', 'year', 'brand' ] ].values\n",
    "# X = train[ ['title', 'odometer', 'location', 'isimported', 'engine', 'transmission', 'fuel', 'paint', 'year', 'brand' ] ].values"
   ],
   "metadata": {
    "collapsed": false,
    "pycharm": {
     "name": "#%%\n"
    }
   }
  },
  {
   "cell_type": "code",
   "execution_count": 5,
   "outputs": [
    {
     "data": {
      "text/plain": "((1015, 7), (1015, 1))"
     },
     "execution_count": 5,
     "metadata": {},
     "output_type": "execute_result"
    }
   ],
   "source": [
    "X.shape, Y.shape"
   ],
   "metadata": {
    "collapsed": false,
    "pycharm": {
     "name": "#%%\n"
    }
   }
  },
  {
   "cell_type": "code",
   "execution_count": 6,
   "outputs": [],
   "source": [
    "import numpy as np\n",
    "\n",
    "X1 = train[['odometer']].values\n",
    "X2 = train[['title','isimported','engine','paint','year','brand']].values\n",
    "\n",
    "Y = np.log(Y)"
   ],
   "metadata": {
    "collapsed": false,
    "pycharm": {
     "name": "#%%\n"
    }
   }
  },
  {
   "cell_type": "code",
   "execution_count": 7,
   "outputs": [],
   "source": [
    "from sklearn.preprocessing import MinMaxScaler\n",
    "from sklearn.preprocessing import StandardScaler\n",
    "\n",
    "scalerX1 = MinMaxScaler()\n",
    "scalerX1.fit(X1)\n",
    "X1 = scalerX1.transform(X1)\n",
    "\n",
    "scalerX2 = StandardScaler()\n",
    "scalerX2.fit(X2)\n",
    "X2 = scalerX2.transform(X2)\n",
    "\n",
    "X = np.concatenate([X1,X2], axis=1)\n",
    "\n",
    "scalerY = MinMaxScaler()\n",
    "scalerY.fit(Y)\n",
    "Y = scalerY.transform(Y)"
   ],
   "metadata": {
    "collapsed": false,
    "pycharm": {
     "name": "#%%\n"
    }
   }
  },
  {
   "cell_type": "code",
   "execution_count": 8,
   "outputs": [
    {
     "data": {
      "text/plain": "((1015, 7), (1015, 1))"
     },
     "execution_count": 8,
     "metadata": {},
     "output_type": "execute_result"
    }
   ],
   "source": [
    "X.shape, Y.shape"
   ],
   "metadata": {
    "collapsed": false,
    "pycharm": {
     "name": "#%%\n"
    }
   }
  },
  {
   "cell_type": "code",
   "execution_count": 9,
   "outputs": [],
   "source": [
    "CFG = {\n",
    "    'EPOCHS':1500,\n",
    "    'BATCH_SIZE':32,\n",
    "    'LEARNING_RATE' :3e-4\n",
    "}"
   ],
   "metadata": {
    "collapsed": false,
    "pycharm": {
     "name": "#%%\n"
    }
   }
  },
  {
   "cell_type": "code",
   "execution_count": 10,
   "outputs": [],
   "source": [
    "from torch import nn\n",
    "\n",
    "class Regressor(nn.Module):\n",
    "    def __init__(self):\n",
    "        super().__init__()\n",
    "        self.layer1 = nn.Sequential(\n",
    "            nn.Linear(7, 64, bias=False),\n",
    "            nn.BatchNorm1d(64, eps=1e-05, momentum=0.1),\n",
    "            nn.ReLU()\n",
    "        )\n",
    "\n",
    "        self.layer2 = nn.Sequential(\n",
    "            nn.Linear(64, 128, bias=False),\n",
    "            nn.BatchNorm1d(128, eps=1e-05, momentum=0.1),\n",
    "            nn.ReLU()\n",
    "        )\n",
    "\n",
    "        self.layer3 = nn.Sequential(\n",
    "            nn.Linear(128, 256, bias=False),\n",
    "            nn.BatchNorm1d(256, eps=1e-05, momentum=0.1),\n",
    "            nn.ReLU()\n",
    "        )\n",
    "\n",
    "        self.layer4 = nn.Sequential(\n",
    "            nn.Linear(256, 256, bias=False),\n",
    "            nn.BatchNorm1d(256, eps=1e-05, momentum=0.1),\n",
    "            nn.ReLU()\n",
    "        )\n",
    "\n",
    "        self.layer5 = nn.Sequential(\n",
    "            nn.Linear(256, 128, bias=False),\n",
    "            nn.BatchNorm1d(128, eps=1e-05, momentum=0.1),\n",
    "            nn.ReLU()\n",
    "        )\n",
    "\n",
    "        self.layer6 = nn.Sequential(\n",
    "            nn.Linear(128, 64, bias=False),\n",
    "            nn.BatchNorm1d(64, eps=1e-05, momentum=0.1),\n",
    "            nn.ReLU()\n",
    "        )\n",
    "\n",
    "        self.layer7 = nn.Linear(64, 1, bias=False)\n",
    "\n",
    "    def forward(self, x):\n",
    "        x = self.layer1(x)\n",
    "        x = self.layer2(x)\n",
    "        x = self.layer3(x)\n",
    "        x = self.layer4(x)\n",
    "        x = self.layer5(x)\n",
    "        x = self.layer6(x)\n",
    "        x = self.layer7(x)\n",
    "\n",
    "        return x"
   ],
   "metadata": {
    "collapsed": false,
    "pycharm": {
     "name": "#%%\n"
    }
   }
  },
  {
   "cell_type": "code",
   "execution_count": 11,
   "outputs": [],
   "source": [
    "import torch\n",
    "\n",
    "loss_ = [] # loss 저장할 리스트\n",
    "val_loss_ = [] # val loss 저장할 리스트\n",
    "best_loss_ = []\n",
    "\n",
    "def train(model, optimizer, trainloader, valloader):\n",
    "    best_loss = 1000 # to save best model\n",
    "    criterion = nn.MSELoss()\n",
    "\n",
    "    for epoch in range(1, CFG[\"EPOCHS\"]+1):\n",
    "        model.train()\n",
    "        running_loss = 0.0\n",
    "\n",
    "        for i, data in enumerate(trainloader, 0):\n",
    "            inputs, values = data\n",
    "\n",
    "            optimizer.zero_grad()\n",
    "\n",
    "            outputs = model(inputs)\n",
    "            loss = criterion(outputs, values)\n",
    "\n",
    "            loss.backward()\n",
    "            optimizer.step()\n",
    "\n",
    "            running_loss += loss.item()\n",
    "\n",
    "        # print('[%d] Train loss: %.10f' %(epoch, running_loss))\n",
    "        loss_.append(running_loss)\n",
    "\n",
    "        #validation set evaluation\n",
    "        model.eval()\n",
    "        val_loss = 0.0\n",
    "\n",
    "        predictions = torch.tensor([], dtype=torch.float) # 예측값을 저장하는 텐서.\n",
    "        actual = torch.tensor([], dtype=torch.float) # 실제값을 저장하는 텐서.\n",
    "\n",
    "        with torch.no_grad(): #파라미터 업데이트 안하기 때문에 no_grad 사용\n",
    "            for i, data in enumerate(valloader, 0): # enumerate(인자, index)\n",
    "                inputs, values = data\n",
    "                outputs = model(inputs)\n",
    "                loss = criterion(outputs, values)\n",
    "\n",
    "                val_loss += loss.item()\n",
    "\n",
    "        # print('[%d] Validation loss: %.10f' %(epoch, val_loss))\n",
    "\n",
    "        if val_loss < best_loss :\n",
    "            torch.save(model.state_dict(), dirpath + \"best_model/\" + \"_best_model.pth\")\n",
    "            best_loss = val_loss\n",
    "            print('model saved')\n",
    "            print('[%d] Validation loss: %.10f' %(epoch, val_loss))\n",
    "\n",
    "        if epoch == 150:\n",
    "            best_loss_.append(best_loss)\n",
    "\n",
    "        val_loss_.append(val_loss)"
   ],
   "metadata": {
    "collapsed": false,
    "pycharm": {
     "name": "#%%\n"
    }
   }
  },
  {
   "cell_type": "code",
   "execution_count": 12,
   "outputs": [],
   "source": [
    "from torch.utils.data import Dataset\n",
    "\n",
    "class TensorData(Dataset):\n",
    "\n",
    "    def __init__(self, x_data, y_data):\n",
    "        self.x_data = torch.FloatTensor(x_data)\n",
    "        self.y_data = torch.FloatTensor(y_data)\n",
    "        self.len = self.y_data.shape[0]\n",
    "\n",
    "    def __getitem__(self, index):\n",
    "        return self.x_data[index], self.y_data[index]\n",
    "\n",
    "    def __len__(self):\n",
    "        return self.len"
   ],
   "metadata": {
    "collapsed": false,
    "pycharm": {
     "name": "#%%\n"
    }
   }
  },
  {
   "cell_type": "code",
   "execution_count": 13,
   "outputs": [
    {
     "name": "stdout",
     "output_type": "stream",
     "text": [
      "model saved\n",
      "[1] Validation loss: 1.3563041389\n",
      "model saved\n",
      "[2] Validation loss: 0.6812700108\n",
      "model saved\n",
      "[3] Validation loss: 0.2665994540\n",
      "model saved\n",
      "[4] Validation loss: 0.2536935136\n",
      "model saved\n",
      "[5] Validation loss: 0.2289383952\n",
      "model saved\n",
      "[6] Validation loss: 0.1683391565\n",
      "model saved\n",
      "[11] Validation loss: 0.1594398133\n",
      "model saved\n",
      "[12] Validation loss: 0.1245485805\n",
      "model saved\n",
      "[18] Validation loss: 0.1230636854\n",
      "model saved\n",
      "[20] Validation loss: 0.1227472136\n",
      "model saved\n",
      "[27] Validation loss: 0.1162497550\n",
      "model saved\n",
      "[29] Validation loss: 0.1104385988\n",
      "model saved\n",
      "[30] Validation loss: 0.1083788830\n",
      "model saved\n",
      "[31] Validation loss: 0.1078051073\n",
      "model saved\n",
      "[34] Validation loss: 0.1069227373\n",
      "model saved\n",
      "[35] Validation loss: 0.1051229523\n",
      "model saved\n",
      "[48] Validation loss: 0.1047702627\n",
      "model saved\n",
      "[50] Validation loss: 0.1014262466\n",
      "model saved\n",
      "[52] Validation loss: 0.0995446257\n",
      "model saved\n",
      "[54] Validation loss: 0.0977682825\n",
      "model saved\n",
      "[58] Validation loss: 0.0969283516\n",
      "model saved\n",
      "[59] Validation loss: 0.0928370329\n",
      "model saved\n",
      "[80] Validation loss: 0.0913072308\n",
      "model saved\n",
      "[90] Validation loss: 0.0856296634\n",
      "model saved\n",
      "[97] Validation loss: 0.0830946183\n",
      "model saved\n",
      "[120] Validation loss: 0.0809699385\n",
      "model saved\n",
      "[138] Validation loss: 0.0806471398\n",
      "model saved\n",
      "[142] Validation loss: 0.0771364700\n",
      "model saved\n",
      "[147] Validation loss: 0.0754005113\n",
      "model saved\n",
      "[208] Validation loss: 0.0729870903\n",
      "model saved\n",
      "[209] Validation loss: 0.0713692866\n",
      "model saved\n",
      "[255] Validation loss: 0.0697437457\n",
      "model saved\n",
      "[279] Validation loss: 0.0692885271\n",
      "1 번째, 학습데이터 크기 : 812, 검증데이터 크기 : 203\n",
      "model saved\n",
      "[1] Validation loss: 1.0743867606\n",
      "model saved\n",
      "[2] Validation loss: 0.3281384092\n",
      "model saved\n",
      "[3] Validation loss: 0.2092849445\n",
      "model saved\n",
      "[7] Validation loss: 0.1538593881\n",
      "model saved\n",
      "[9] Validation loss: 0.1486193873\n",
      "model saved\n",
      "[10] Validation loss: 0.1057195468\n",
      "model saved\n",
      "[17] Validation loss: 0.0929145012\n",
      "model saved\n",
      "[36] Validation loss: 0.0924915820\n",
      "model saved\n",
      "[46] Validation loss: 0.0908649769\n",
      "model saved\n",
      "[48] Validation loss: 0.0908474326\n",
      "model saved\n",
      "[52] Validation loss: 0.0889253337\n",
      "model saved\n",
      "[53] Validation loss: 0.0887681916\n",
      "model saved\n",
      "[61] Validation loss: 0.0827406123\n",
      "model saved\n",
      "[71] Validation loss: 0.0811961731\n",
      "model saved\n",
      "[75] Validation loss: 0.0801429567\n",
      "model saved\n",
      "[77] Validation loss: 0.0760863903\n",
      "model saved\n",
      "[108] Validation loss: 0.0735395546\n",
      "model saved\n",
      "[118] Validation loss: 0.0724247326\n",
      "model saved\n",
      "[126] Validation loss: 0.0722974017\n",
      "model saved\n",
      "[129] Validation loss: 0.0720648170\n",
      "model saved\n",
      "[140] Validation loss: 0.0706249624\n",
      "model saved\n",
      "[155] Validation loss: 0.0704049538\n",
      "model saved\n",
      "[157] Validation loss: 0.0699965358\n",
      "model saved\n",
      "[162] Validation loss: 0.0690439399\n",
      "model saved\n",
      "[187] Validation loss: 0.0689045046\n",
      "model saved\n",
      "[191] Validation loss: 0.0679541174\n",
      "model saved\n",
      "[195] Validation loss: 0.0649707508\n",
      "model saved\n",
      "[196] Validation loss: 0.0648245574\n",
      "model saved\n",
      "[204] Validation loss: 0.0618376546\n",
      "model saved\n",
      "[535] Validation loss: 0.0615401650\n",
      "model saved\n",
      "[720] Validation loss: 0.0612481525\n",
      "model saved\n",
      "[730] Validation loss: 0.0602259119\n",
      "model saved\n",
      "[775] Validation loss: 0.0592003153\n",
      "2 번째, 학습데이터 크기 : 812, 검증데이터 크기 : 203\n",
      "model saved\n",
      "[1] Validation loss: 0.4634420834\n",
      "model saved\n",
      "[2] Validation loss: 0.1534703919\n",
      "model saved\n",
      "[3] Validation loss: 0.1021295078\n",
      "model saved\n",
      "[4] Validation loss: 0.0934785241\n",
      "model saved\n",
      "[10] Validation loss: 0.0854269429\n",
      "model saved\n",
      "[13] Validation loss: 0.0847942252\n",
      "model saved\n",
      "[16] Validation loss: 0.0822056788\n",
      "model saved\n",
      "[17] Validation loss: 0.0653904597\n",
      "model saved\n",
      "[21] Validation loss: 0.0593007938\n",
      "model saved\n",
      "[26] Validation loss: 0.0583990400\n",
      "model saved\n",
      "[54] Validation loss: 0.0580605832\n",
      "model saved\n",
      "[67] Validation loss: 0.0574263027\n",
      "model saved\n",
      "[72] Validation loss: 0.0544041782\n",
      "model saved\n",
      "[186] Validation loss: 0.0516453981\n",
      "model saved\n",
      "[542] Validation loss: 0.0514898468\n",
      "model saved\n",
      "[561] Validation loss: 0.0511807012\n",
      "model saved\n",
      "[576] Validation loss: 0.0510713018\n",
      "model saved\n",
      "[638] Validation loss: 0.0500240342\n",
      "model saved\n",
      "[692] Validation loss: 0.0495442946\n",
      "model saved\n",
      "[701] Validation loss: 0.0474055915\n",
      "3 번째, 학습데이터 크기 : 812, 검증데이터 크기 : 203\n",
      "model saved\n",
      "[1] Validation loss: 1.0236651525\n",
      "model saved\n",
      "[2] Validation loss: 0.2706564888\n",
      "model saved\n",
      "[3] Validation loss: 0.1349580381\n",
      "model saved\n",
      "[4] Validation loss: 0.1306523969\n",
      "model saved\n",
      "[8] Validation loss: 0.1193730868\n",
      "model saved\n",
      "[13] Validation loss: 0.1170004532\n",
      "model saved\n",
      "[14] Validation loss: 0.1021152819\n",
      "model saved\n",
      "[22] Validation loss: 0.0971825309\n",
      "model saved\n",
      "[26] Validation loss: 0.0906016752\n",
      "model saved\n",
      "[32] Validation loss: 0.0844980492\n",
      "model saved\n",
      "[33] Validation loss: 0.0840873560\n",
      "model saved\n",
      "[34] Validation loss: 0.0840360862\n",
      "model saved\n",
      "[38] Validation loss: 0.0816227794\n",
      "model saved\n",
      "[46] Validation loss: 0.0759377154\n",
      "model saved\n",
      "[49] Validation loss: 0.0758022219\n",
      "model saved\n",
      "[50] Validation loss: 0.0736051057\n",
      "model saved\n",
      "[54] Validation loss: 0.0724659662\n",
      "model saved\n",
      "[61] Validation loss: 0.0721126031\n",
      "model saved\n",
      "[83] Validation loss: 0.0704185395\n",
      "model saved\n",
      "[84] Validation loss: 0.0672129365\n",
      "model saved\n",
      "[96] Validation loss: 0.0670785047\n",
      "model saved\n",
      "[101] Validation loss: 0.0645029682\n",
      "model saved\n",
      "[130] Validation loss: 0.0606931690\n",
      "model saved\n",
      "[143] Validation loss: 0.0596137666\n",
      "model saved\n",
      "[147] Validation loss: 0.0586893396\n",
      "model saved\n",
      "[167] Validation loss: 0.0571276662\n",
      "model saved\n",
      "[232] Validation loss: 0.0552491024\n",
      "model saved\n",
      "[972] Validation loss: 0.0551759074\n",
      "model saved\n",
      "[983] Validation loss: 0.0540548975\n",
      "4 번째, 학습데이터 크기 : 812, 검증데이터 크기 : 203\n",
      "model saved\n",
      "[1] Validation loss: 0.8064710721\n",
      "model saved\n",
      "[2] Validation loss: 0.2725629248\n",
      "model saved\n",
      "[3] Validation loss: 0.1553610433\n",
      "model saved\n",
      "[5] Validation loss: 0.1353331832\n",
      "model saved\n",
      "[10] Validation loss: 0.1138426438\n",
      "model saved\n",
      "[12] Validation loss: 0.1028933665\n",
      "model saved\n",
      "[13] Validation loss: 0.1012861235\n",
      "model saved\n",
      "[14] Validation loss: 0.0970707573\n",
      "model saved\n",
      "[18] Validation loss: 0.0952346059\n",
      "model saved\n",
      "[27] Validation loss: 0.0892073440\n",
      "model saved\n",
      "[30] Validation loss: 0.0862929793\n",
      "model saved\n",
      "[39] Validation loss: 0.0859036930\n",
      "model saved\n",
      "[50] Validation loss: 0.0858893162\n",
      "model saved\n",
      "[54] Validation loss: 0.0824603937\n",
      "model saved\n",
      "[60] Validation loss: 0.0801968956\n",
      "model saved\n",
      "[73] Validation loss: 0.0798630537\n",
      "model saved\n",
      "[86] Validation loss: 0.0781475767\n",
      "model saved\n",
      "[92] Validation loss: 0.0766156996\n",
      "model saved\n",
      "[112] Validation loss: 0.0743477819\n",
      "model saved\n",
      "[130] Validation loss: 0.0741920592\n",
      "model saved\n",
      "[131] Validation loss: 0.0722434451\n",
      "model saved\n",
      "[139] Validation loss: 0.0667360807\n",
      "model saved\n",
      "[242] Validation loss: 0.0658675237\n",
      "model saved\n",
      "[297] Validation loss: 0.0653987247\n",
      "model saved\n",
      "[303] Validation loss: 0.0632685507\n",
      "model saved\n",
      "[346] Validation loss: 0.0621734243\n",
      "model saved\n",
      "[360] Validation loss: 0.0621387977\n",
      "model saved\n",
      "[375] Validation loss: 0.0611977032\n",
      "model saved\n",
      "[453] Validation loss: 0.0598423253\n",
      "model saved\n",
      "[517] Validation loss: 0.0593190291\n",
      "model saved\n",
      "[653] Validation loss: 0.0557209519\n",
      "5 번째, 학습데이터 크기 : 812, 검증데이터 크기 : 203\n"
     ]
    }
   ],
   "source": [
    "import os\n",
    "from torch import optim\n",
    "from sklearn.model_selection import KFold\n",
    "from torch.utils.data import DataLoader\n",
    "\n",
    "kf = KFold(n_splits=5, shuffle=True, random_state=42)\n",
    "n_iter = 0\n",
    "\n",
    "for train_index, val_index in kf.split(X):\n",
    "    model = Regressor()\n",
    "    optimizer = optim.Adam(model.parameters(), lr=CFG['LEARNING_RATE'], weight_decay=1e-7)\n",
    "\n",
    "    X_train, X_val = X[train_index], X[val_index]\n",
    "    Y_train, Y_val = Y[train_index], Y[val_index]\n",
    "\n",
    "    trainsets = TensorData(X_train, Y_train)\n",
    "    valsets = TensorData(X_val, Y_val)\n",
    "\n",
    "    trainloader = DataLoader(trainsets, batch_size=CFG[\"BATCH_SIZE\"])\n",
    "    valloader = DataLoader(valsets, batch_size=CFG[\"BATCH_SIZE\"])\n",
    "\n",
    "    train(model, optimizer, trainloader, valloader)\n",
    "\n",
    "    n_iter += 1\n",
    "\n",
    "    file_oldname = os.path.join(dirpath + \"best_model/\" + \"_best_model.pth\")\n",
    "    file_newname_newfile = os.path.join(dirpath + \"best_model/\" + str(n_iter) + \"_best_model.pth\")\n",
    "    os.rename(file_oldname, file_newname_newfile)\n",
    "\n",
    "    print('{} 번째, 학습데이터 크기 : {}, 검증데이터 크기 : {}'.format(n_iter, X_train.shape[0], X_val.shape[0]))"
   ],
   "metadata": {
    "collapsed": false,
    "pycharm": {
     "name": "#%%\n"
    }
   }
  },
  {
   "cell_type": "code",
   "execution_count": 14,
   "outputs": [
    {
     "data": {
      "text/plain": "<Figure size 432x288 with 1 Axes>",
      "image/png": "[encoded data removed]"
     },
     "metadata": {
      "needs_background": "light"
     },
     "output_type": "display_data"
    }
   ],
   "source": [
    "from matplotlib import pyplot as plt\n",
    "%matplotlib inline\n",
    "\n",
    "plt.clf()\n",
    "# plt.plot(loss_,'ro',label='training loss')\n",
    "plt.plot(val_loss_,'g',label='validation loss')\n",
    "plt.title('Training and validation accuracy')\n",
    "plt.xlabel('epochs')\n",
    "plt.ylabel('loss')\n",
    "plt.legend()\n",
    "plt.show()"
   ],
   "metadata": {
    "collapsed": false,
    "pycharm": {
     "name": "#%%\n"
    }
   }
  },
  {
   "cell_type": "code",
   "execution_count": 15,
   "outputs": [
    {
     "data": {
      "text/plain": "[0.07540051126852632,\n 0.07062496244907379,\n 0.05440417816862464,\n 0.05868933955207467,\n 0.0667360806837678]"
     },
     "execution_count": 15,
     "metadata": {},
     "output_type": "execute_result"
    }
   ],
   "source": [
    "best_loss_"
   ],
   "metadata": {
    "collapsed": false,
    "pycharm": {
     "name": "#%%\n"
    }
   }
  },
  {
   "cell_type": "code",
   "execution_count": 16,
   "outputs": [
    {
     "data": {
      "text/plain": "0.06517101442441345"
     },
     "execution_count": 16,
     "metadata": {},
     "output_type": "execute_result"
    }
   ],
   "source": [
    "bl = 0\n",
    "\n",
    "for i in range(0, 5):\n",
    "    bl += best_loss_[i]\n",
    "\n",
    "bl = bl/5\n",
    "\n",
    "bl"
   ],
   "metadata": {
    "collapsed": false,
    "pycharm": {
     "name": "#%%\n"
    }
   }
  },
  {
   "cell_type": "code",
   "execution_count": 16,
   "outputs": [],
   "source": [],
   "metadata": {
    "collapsed": false,
    "pycharm": {
     "name": "#%%\n"
    }
   }
  }
 ],
 "metadata": {
  "kernelspec": {
   "display_name": "Python 3",
   "language": "python",
   "name": "python3"
  },
  "language_info": {
   "codemirror_mode": {
    "name": "ipython",
    "version": 2
   },
   "file_extension": ".py",
   "mimetype": "text/x-python",
   "name": "python",
   "nbconvert_exporter": "python",
   "pygments_lexer": "ipython2",
   "version": "2.7.6"
  }
 },
 "nbformat": 4,
 "nbformat_minor": 0
}