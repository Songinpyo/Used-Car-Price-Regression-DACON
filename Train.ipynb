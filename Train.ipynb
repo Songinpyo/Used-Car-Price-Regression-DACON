{
 "cells": [
  {
   "cell_type": "code",
   "execution_count": 1,
   "outputs": [],
   "source": [
    "# This is file for train, prediction\n",
    "\n",
    "import pandas as pd\n",
    "\n",
    "dirpath = 'C:/Python/Used-Car-Price-Regression-DACON/'\n",
    "\n",
    "train = pd.read_csv('data/modified_train.csv')\n",
    "test = pd.read_csv('data/modified_test.csv')"
   ],
   "metadata": {
    "collapsed": false,
    "pycharm": {
     "name": "#%%\n"
    }
   }
  },
  {
   "cell_type": "code",
   "execution_count": 2,
   "outputs": [
    {
     "data": {
      "text/plain": "   title  odometer  location  isimported  engine  transmission  fuel  paint  \\\n0    147     18277         0           0       3             0     0      0   \n1     93        10         0           2       3             0     0     10   \n2     55     83091         0           0       4             0     0      0   \n3    122     91524         0           0       3             0     0      6   \n4    116     94177         0           0       4             0     0      0   \n\n   year  brand    target  \n0  2016     36  13665000  \n1  2019     36  33015000  \n2  2012     31   9915000  \n3  2007      6   3815000  \n4  2010     36   7385000  ",
      "text/html": "<div>\n<style scoped>\n    .dataframe tbody tr th:only-of-type {\n        vertical-align: middle;\n    }\n\n    .dataframe tbody tr th {\n        vertical-align: top;\n    }\n\n    .dataframe thead th {\n        text-align: right;\n    }\n</style>\n<table border=\"1\" class=\"dataframe\">\n  <thead>\n    <tr style=\"text-align: right;\">\n      <th></th>\n      <th>title</th>\n      <th>odometer</th>\n      <th>location</th>\n      <th>isimported</th>\n      <th>engine</th>\n      <th>transmission</th>\n      <th>fuel</th>\n      <th>paint</th>\n      <th>year</th>\n      <th>brand</th>\n      <th>target</th>\n    </tr>\n  </thead>\n  <tbody>\n    <tr>\n      <th>0</th>\n      <td>147</td>\n      <td>18277</td>\n      <td>0</td>\n      <td>0</td>\n      <td>3</td>\n      <td>0</td>\n      <td>0</td>\n      <td>0</td>\n      <td>2016</td>\n      <td>36</td>\n      <td>13665000</td>\n    </tr>\n    <tr>\n      <th>1</th>\n      <td>93</td>\n      <td>10</td>\n      <td>0</td>\n      <td>2</td>\n      <td>3</td>\n      <td>0</td>\n      <td>0</td>\n      <td>10</td>\n      <td>2019</td>\n      <td>36</td>\n      <td>33015000</td>\n    </tr>\n    <tr>\n      <th>2</th>\n      <td>55</td>\n      <td>83091</td>\n      <td>0</td>\n      <td>0</td>\n      <td>4</td>\n      <td>0</td>\n      <td>0</td>\n      <td>0</td>\n      <td>2012</td>\n      <td>31</td>\n      <td>9915000</td>\n    </tr>\n    <tr>\n      <th>3</th>\n      <td>122</td>\n      <td>91524</td>\n      <td>0</td>\n      <td>0</td>\n      <td>3</td>\n      <td>0</td>\n      <td>0</td>\n      <td>6</td>\n      <td>2007</td>\n      <td>6</td>\n      <td>3815000</td>\n    </tr>\n    <tr>\n      <th>4</th>\n      <td>116</td>\n      <td>94177</td>\n      <td>0</td>\n      <td>0</td>\n      <td>4</td>\n      <td>0</td>\n      <td>0</td>\n      <td>0</td>\n      <td>2010</td>\n      <td>36</td>\n      <td>7385000</td>\n    </tr>\n  </tbody>\n</table>\n</div>"
     },
     "execution_count": 2,
     "metadata": {},
     "output_type": "execute_result"
    }
   ],
   "source": [
    "train.head()"
   ],
   "metadata": {
    "collapsed": false,
    "pycharm": {
     "name": "#%%\n"
    }
   }
  },
  {
   "cell_type": "code",
   "execution_count": 3,
   "outputs": [
    {
     "data": {
      "text/plain": "   title  odometer  location  isimported  engine  transmission  fuel  paint  \\\n0     14      1234         1           2       3             0     0     11   \n1     88     29938         1           0       3             0     0     11   \n2     29     87501         0           0       3             0     0     10   \n3     91    180894         0           1       4             0     0      6   \n4     17    104814         0           0       3             0     0     11   \n\n   year  brand  \n0  2017     34  \n1  2013     14  \n2  2012     34  \n3  2001     36  \n4  2000     36  ",
      "text/html": "<div>\n<style scoped>\n    .dataframe tbody tr th:only-of-type {\n        vertical-align: middle;\n    }\n\n    .dataframe tbody tr th {\n        vertical-align: top;\n    }\n\n    .dataframe thead th {\n        text-align: right;\n    }\n</style>\n<table border=\"1\" class=\"dataframe\">\n  <thead>\n    <tr style=\"text-align: right;\">\n      <th></th>\n      <th>title</th>\n      <th>odometer</th>\n      <th>location</th>\n      <th>isimported</th>\n      <th>engine</th>\n      <th>transmission</th>\n      <th>fuel</th>\n      <th>paint</th>\n      <th>year</th>\n      <th>brand</th>\n    </tr>\n  </thead>\n  <tbody>\n    <tr>\n      <th>0</th>\n      <td>14</td>\n      <td>1234</td>\n      <td>1</td>\n      <td>2</td>\n      <td>3</td>\n      <td>0</td>\n      <td>0</td>\n      <td>11</td>\n      <td>2017</td>\n      <td>34</td>\n    </tr>\n    <tr>\n      <th>1</th>\n      <td>88</td>\n      <td>29938</td>\n      <td>1</td>\n      <td>0</td>\n      <td>3</td>\n      <td>0</td>\n      <td>0</td>\n      <td>11</td>\n      <td>2013</td>\n      <td>14</td>\n    </tr>\n    <tr>\n      <th>2</th>\n      <td>29</td>\n      <td>87501</td>\n      <td>0</td>\n      <td>0</td>\n      <td>3</td>\n      <td>0</td>\n      <td>0</td>\n      <td>10</td>\n      <td>2012</td>\n      <td>34</td>\n    </tr>\n    <tr>\n      <th>3</th>\n      <td>91</td>\n      <td>180894</td>\n      <td>0</td>\n      <td>1</td>\n      <td>4</td>\n      <td>0</td>\n      <td>0</td>\n      <td>6</td>\n      <td>2001</td>\n      <td>36</td>\n    </tr>\n    <tr>\n      <th>4</th>\n      <td>17</td>\n      <td>104814</td>\n      <td>0</td>\n      <td>0</td>\n      <td>3</td>\n      <td>0</td>\n      <td>0</td>\n      <td>11</td>\n      <td>2000</td>\n      <td>36</td>\n    </tr>\n  </tbody>\n</table>\n</div>"
     },
     "execution_count": 3,
     "metadata": {},
     "output_type": "execute_result"
    }
   ],
   "source": [
    "test.head()"
   ],
   "metadata": {
    "collapsed": false,
    "pycharm": {
     "name": "#%%\n"
    }
   }
  },
  {
   "cell_type": "code",
   "execution_count": 4,
   "outputs": [],
   "source": [
    "Y = train[ ['target'] ].values\n",
    "X = train[ ['title', 'odometer', 'location', 'isimported', 'engine', 'transmission', 'fuel', 'paint', 'year', 'brand' ] ].values"
   ],
   "metadata": {
    "collapsed": false,
    "pycharm": {
     "name": "#%%\n"
    }
   }
  },
  {
   "cell_type": "code",
   "execution_count": 5,
   "outputs": [
    {
     "data": {
      "text/plain": "((1015, 10), (1015, 1))"
     },
     "execution_count": 5,
     "metadata": {},
     "output_type": "execute_result"
    }
   ],
   "source": [
    "X.shape, Y.shape"
   ],
   "metadata": {
    "collapsed": false,
    "pycharm": {
     "name": "#%%\n"
    }
   }
  },
  {
   "cell_type": "code",
   "execution_count": 6,
   "outputs": [],
   "source": [
    "from sklearn.preprocessing import MinMaxScaler\n",
    "\n",
    "scalerX = MinMaxScaler()\n",
    "scalerX.fit(X)\n",
    "X = scalerX.transform(X)\n",
    "\n",
    "scalerY = MinMaxScaler()\n",
    "scalerY.fit(Y)\n",
    "Y = scalerY.transform(Y)"
   ],
   "metadata": {
    "collapsed": false,
    "pycharm": {
     "name": "#%%\n"
    }
   }
  },
  {
   "cell_type": "code",
   "execution_count": 7,
   "outputs": [],
   "source": [
    "CFG = {\n",
    "    'EPOCHS':300,\n",
    "    'BATCH_SIZE':16,\n",
    "    'LEARNING_RATE' :3e-4\n",
    "}"
   ],
   "metadata": {
    "collapsed": false,
    "pycharm": {
     "name": "#%%\n"
    }
   }
  },
  {
   "cell_type": "code",
   "execution_count": 8,
   "outputs": [],
   "source": [
    "from torch import nn\n",
    "\n",
    "class Regressor(nn.Module):\n",
    "    def __init__(self):\n",
    "        super().__init__()\n",
    "        self.layer1 = nn.Sequential(\n",
    "            nn.Linear(10, 64, bias=False),\n",
    "            nn.BatchNorm1d(64, eps=1e-05, momentum=0.1),\n",
    "            nn.ReLU()\n",
    "        )\n",
    "\n",
    "        self.layer2 = nn.Sequential(\n",
    "            nn.Linear(64, 128, bias=False),\n",
    "            nn.BatchNorm1d(128, eps=1e-05, momentum=0.1),\n",
    "            nn.ReLU()\n",
    "        )\n",
    "\n",
    "        self.layer3 = nn.Sequential(\n",
    "            nn.Linear(128, 256, bias=False),\n",
    "            nn.BatchNorm1d(256, eps=1e-05, momentum=0.1),\n",
    "            nn.ReLU()\n",
    "        )\n",
    "\n",
    "        self.layer4 = nn.Linear(256, 1, bias=False)\n",
    "\n",
    "    def forward(self, x):\n",
    "        x = self.layer1(x)\n",
    "        x = self.layer2(x)\n",
    "        x = self.layer3(x)\n",
    "        x = self.layer4(x)\n",
    "\n",
    "        return x"
   ],
   "metadata": {
    "collapsed": false,
    "pycharm": {
     "name": "#%%\n"
    }
   }
  },
  {
   "cell_type": "code",
   "execution_count": 9,
   "outputs": [],
   "source": [
    "import torch\n",
    "\n",
    "loss_ = [] # loss 저장할 리스트\n",
    "val_loss_ = [] # val loss 저장할 리스트\n",
    "best_loss_ = []\n",
    "\n",
    "def train(model, optimizer, trainloader, valloader):\n",
    "    best_loss = 1000 # to save best model\n",
    "    criterion = nn.MSELoss()\n",
    "\n",
    "    for epoch in range(1, CFG[\"EPOCHS\"]+1):\n",
    "        model.train()\n",
    "        running_loss = 0.0\n",
    "\n",
    "        for i, data in enumerate(trainloader, 0):\n",
    "            inputs, values = data\n",
    "\n",
    "            optimizer.zero_grad()\n",
    "\n",
    "            outputs = model(inputs)\n",
    "            loss = criterion(outputs, values)\n",
    "\n",
    "            loss.backward()\n",
    "            optimizer.step()\n",
    "\n",
    "            running_loss += loss.item()\n",
    "\n",
    "        # print('[%d] Train loss: %.10f' %(epoch, running_loss))\n",
    "        loss_.append(running_loss)\n",
    "\n",
    "        #validation set evaluation\n",
    "        model.eval()\n",
    "        val_loss = 0.0\n",
    "\n",
    "        predictions = torch.tensor([], dtype=torch.float) # 예측값을 저장하는 텐서.\n",
    "        actual = torch.tensor([], dtype=torch.float) # 실제값을 저장하는 텐서.\n",
    "\n",
    "        with torch.no_grad(): #파라미터 업데이트 안하기 때문에 no_grad 사용\n",
    "            for i, data in enumerate(valloader, 0): # enumerate(인자, index)\n",
    "                inputs, values = data\n",
    "                outputs = model(inputs)\n",
    "                loss = criterion(outputs, values)\n",
    "\n",
    "                val_loss += loss.item()\n",
    "\n",
    "        # print('[%d] Validation loss: %.10f' %(epoch, val_loss))\n",
    "\n",
    "        if val_loss < best_loss :\n",
    "            torch.save(model.state_dict(), dirpath + \"best_model/\" + \"_best_model.pth\")\n",
    "            best_loss = val_loss\n",
    "            print('model saved')\n",
    "            print('[%d] Validation loss: %.10f' %(epoch, val_loss))\n",
    "\n",
    "        if epoch == 200:\n",
    "            best_loss_.append(best_loss)\n",
    "\n",
    "        val_loss_.append(val_loss)"
   ],
   "metadata": {
    "collapsed": false,
    "pycharm": {
     "name": "#%%\n"
    }
   }
  },
  {
   "cell_type": "code",
   "execution_count": 10,
   "outputs": [],
   "source": [
    "from torch.utils.data import Dataset\n",
    "\n",
    "class TensorData(Dataset):\n",
    "\n",
    "    def __init__(self, x_data, y_data):\n",
    "        self.x_data = torch.FloatTensor(x_data)\n",
    "        self.y_data = torch.FloatTensor(y_data)\n",
    "        self.len = self.y_data.shape[0]\n",
    "\n",
    "    def __getitem__(self, index):\n",
    "        return self.x_data[index], self.y_data[index]\n",
    "\n",
    "    def __len__(self):\n",
    "        return self.len"
   ],
   "metadata": {
    "collapsed": false,
    "pycharm": {
     "name": "#%%\n"
    }
   }
  },
  {
   "cell_type": "code",
   "execution_count": 11,
   "outputs": [
    {
     "name": "stdout",
     "output_type": "stream",
     "text": [
      "model saved\n",
      "[1] Validation loss: 0.2740427786\n",
      "model saved\n",
      "[2] Validation loss: 0.2439246126\n",
      "model saved\n",
      "[5] Validation loss: 0.2403684459\n",
      "model saved\n",
      "[10] Validation loss: 0.2111780613\n",
      "model saved\n",
      "[11] Validation loss: 0.1677690825\n",
      "model saved\n",
      "[17] Validation loss: 0.1382459853\n",
      "model saved\n",
      "[41] Validation loss: 0.1346375495\n",
      "model saved\n",
      "[46] Validation loss: 0.1238446188\n",
      "model saved\n",
      "[61] Validation loss: 0.1200668509\n",
      "model saved\n",
      "[78] Validation loss: 0.1193363082\n",
      "model saved\n",
      "[85] Validation loss: 0.1168157136\n",
      "model saved\n",
      "[88] Validation loss: 0.1112614279\n",
      "model saved\n",
      "[89] Validation loss: 0.0998763688\n",
      "model saved\n",
      "[92] Validation loss: 0.0981093806\n",
      "model saved\n",
      "[100] Validation loss: 0.0974340028\n",
      "model saved\n",
      "[107] Validation loss: 0.0920320651\n",
      "model saved\n",
      "[213] Validation loss: 0.0887620687\n",
      "1 번째, 학습데이터 크기 : 812, 검증데이터 크기 : 203\n",
      "model saved\n",
      "[1] Validation loss: 0.1788819460\n",
      "model saved\n",
      "[2] Validation loss: 0.1584822466\n",
      "model saved\n",
      "[12] Validation loss: 0.1523674848\n",
      "model saved\n",
      "[13] Validation loss: 0.1383487890\n",
      "model saved\n",
      "[15] Validation loss: 0.1260829538\n",
      "model saved\n",
      "[16] Validation loss: 0.1136019495\n",
      "model saved\n",
      "[17] Validation loss: 0.0894434720\n",
      "model saved\n",
      "[18] Validation loss: 0.0723974210\n",
      "model saved\n",
      "[51] Validation loss: 0.0649460645\n",
      "model saved\n",
      "[52] Validation loss: 0.0610225594\n",
      "model saved\n",
      "[63] Validation loss: 0.0586429551\n",
      "model saved\n",
      "[64] Validation loss: 0.0583190732\n",
      "model saved\n",
      "[86] Validation loss: 0.0542201125\n",
      "model saved\n",
      "[87] Validation loss: 0.0527127476\n",
      "model saved\n",
      "[163] Validation loss: 0.0511561197\n",
      "model saved\n",
      "[164] Validation loss: 0.0510353824\n",
      "model saved\n",
      "[188] Validation loss: 0.0461961383\n",
      "model saved\n",
      "[196] Validation loss: 0.0430626011\n",
      "model saved\n",
      "[197] Validation loss: 0.0403893089\n",
      "model saved\n",
      "[218] Validation loss: 0.0398826732\n",
      "model saved\n",
      "[248] Validation loss: 0.0394986389\n",
      "2 번째, 학습데이터 크기 : 812, 검증데이터 크기 : 203\n",
      "model saved\n",
      "[1] Validation loss: 0.2260762830\n",
      "model saved\n",
      "[12] Validation loss: 0.2130410830\n",
      "model saved\n",
      "[14] Validation loss: 0.1995401527\n",
      "model saved\n",
      "[15] Validation loss: 0.1597030156\n",
      "model saved\n",
      "[38] Validation loss: 0.1578122466\n",
      "model saved\n",
      "[39] Validation loss: 0.1401814998\n",
      "model saved\n",
      "[42] Validation loss: 0.1290293450\n",
      "model saved\n",
      "[43] Validation loss: 0.1069783422\n",
      "model saved\n",
      "[89] Validation loss: 0.1016743516\n",
      "model saved\n",
      "[90] Validation loss: 0.0992733688\n",
      "model saved\n",
      "[105] Validation loss: 0.0987912995\n",
      "model saved\n",
      "[112] Validation loss: 0.0952767995\n",
      "model saved\n",
      "[113] Validation loss: 0.0916947692\n",
      "model saved\n",
      "[127] Validation loss: 0.0899580633\n",
      "model saved\n",
      "[128] Validation loss: 0.0831067651\n",
      "model saved\n",
      "[134] Validation loss: 0.0808012988\n",
      "model saved\n",
      "[135] Validation loss: 0.0803291659\n",
      "model saved\n",
      "[150] Validation loss: 0.0788352079\n",
      "model saved\n",
      "[156] Validation loss: 0.0734660185\n",
      "model saved\n",
      "[157] Validation loss: 0.0724974068\n",
      "model saved\n",
      "[186] Validation loss: 0.0710152347\n",
      "3 번째, 학습데이터 크기 : 812, 검증데이터 크기 : 203\n",
      "model saved\n",
      "[1] Validation loss: 0.2291926462\n",
      "model saved\n",
      "[2] Validation loss: 0.1732507788\n",
      "model saved\n",
      "[12] Validation loss: 0.1424280724\n",
      "model saved\n",
      "[13] Validation loss: 0.0988027232\n",
      "model saved\n",
      "[20] Validation loss: 0.0978472846\n",
      "model saved\n",
      "[38] Validation loss: 0.0925679012\n",
      "model saved\n",
      "[62] Validation loss: 0.0883495543\n",
      "model saved\n",
      "[79] Validation loss: 0.0880808996\n",
      "model saved\n",
      "[80] Validation loss: 0.0788332402\n",
      "model saved\n",
      "[81] Validation loss: 0.0751654163\n",
      "model saved\n",
      "[90] Validation loss: 0.0676558837\n",
      "model saved\n",
      "[91] Validation loss: 0.0664110108\n",
      "model saved\n",
      "[137] Validation loss: 0.0589248392\n",
      "model saved\n",
      "[138] Validation loss: 0.0560388938\n",
      "model saved\n",
      "[217] Validation loss: 0.0555622856\n",
      "model saved\n",
      "[218] Validation loss: 0.0531597970\n",
      "model saved\n",
      "[219] Validation loss: 0.0520427799\n",
      "model saved\n",
      "[229] Validation loss: 0.0518298036\n",
      "model saved\n",
      "[230] Validation loss: 0.0493084182\n",
      "model saved\n",
      "[231] Validation loss: 0.0470748974\n",
      "4 번째, 학습데이터 크기 : 812, 검증데이터 크기 : 203\n",
      "model saved\n",
      "[1] Validation loss: 0.2826295239\n",
      "model saved\n",
      "[2] Validation loss: 0.1532560848\n",
      "model saved\n",
      "[3] Validation loss: 0.1525003072\n",
      "model saved\n",
      "[4] Validation loss: 0.1426996836\n",
      "model saved\n",
      "[14] Validation loss: 0.1273185848\n",
      "model saved\n",
      "[16] Validation loss: 0.0972743803\n",
      "model saved\n",
      "[17] Validation loss: 0.0957251284\n",
      "model saved\n",
      "[18] Validation loss: 0.0905368978\n",
      "model saved\n",
      "[19] Validation loss: 0.0871454212\n",
      "model saved\n",
      "[20] Validation loss: 0.0864263955\n",
      "model saved\n",
      "[44] Validation loss: 0.0774562308\n",
      "model saved\n",
      "[49] Validation loss: 0.0748667847\n",
      "model saved\n",
      "[50] Validation loss: 0.0625697984\n",
      "model saved\n",
      "[51] Validation loss: 0.0565210880\n",
      "model saved\n",
      "[158] Validation loss: 0.0500756804\n",
      "model saved\n",
      "[187] Validation loss: 0.0474734626\n",
      "model saved\n",
      "[188] Validation loss: 0.0421345348\n",
      "model saved\n",
      "[193] Validation loss: 0.0413229940\n",
      "model saved\n",
      "[194] Validation loss: 0.0386347855\n",
      "model saved\n",
      "[300] Validation loss: 0.0380312465\n",
      "5 번째, 학습데이터 크기 : 812, 검증데이터 크기 : 203\n"
     ]
    }
   ],
   "source": [
    "import os\n",
    "from torch import optim\n",
    "from sklearn.model_selection import KFold\n",
    "from torch.utils.data import DataLoader\n",
    "\n",
    "kf = KFold(n_splits=5, shuffle=True, random_state=42)\n",
    "n_iter = 0\n",
    "\n",
    "for train_index, val_index in kf.split(X):\n",
    "    model = Regressor()\n",
    "    optimizer = optim.Adam(model.parameters(), lr=CFG['LEARNING_RATE'], weight_decay=1e-7)\n",
    "\n",
    "    X_train, X_val = X[train_index], X[val_index]\n",
    "    Y_train, Y_val = Y[train_index], Y[val_index]\n",
    "\n",
    "    trainsets = TensorData(X_train, Y_train)\n",
    "    valsets = TensorData(X_val, Y_val)\n",
    "\n",
    "    trainloader = DataLoader(trainsets, batch_size=CFG[\"BATCH_SIZE\"])\n",
    "    valloader = DataLoader(valsets, batch_size=CFG[\"BATCH_SIZE\"])\n",
    "\n",
    "    train(model, optimizer, trainloader, valloader)\n",
    "\n",
    "    n_iter += 1\n",
    "\n",
    "    file_oldname = os.path.join(dirpath + \"best_model/\" + \"_best_model.pth\")\n",
    "    file_newname_newfile = os.path.join(dirpath + \"best_model/\" + str(n_iter) + \"_best_model.pth\")\n",
    "    os.rename(file_oldname, file_newname_newfile)\n",
    "\n",
    "    print('{} 번째, 학습데이터 크기 : {}, 검증데이터 크기 : {}'.format(n_iter, X_train.shape[0], X_val.shape[0]))"
   ],
   "metadata": {
    "collapsed": false,
    "pycharm": {
     "name": "#%%\n"
    }
   }
  },
  {
   "cell_type": "code",
   "execution_count": 12,
   "outputs": [
    {
     "data": {
      "text/plain": "<Figure size 432x288 with 1 Axes>",
      "image/png": "[encoded data removed]"
     },
     "metadata": {
      "needs_background": "light"
     },
     "output_type": "display_data"
    }
   ],
   "source": [
    "from matplotlib import pyplot as plt\n",
    "%matplotlib inline\n",
    "\n",
    "plt.clf()\n",
    "# plt.plot(loss_,'ro',label='training loss')\n",
    "plt.plot(val_loss_,'g',label='validation loss')\n",
    "plt.title('Training and validation accuracy')\n",
    "plt.xlabel('epochs')\n",
    "plt.ylabel('loss')\n",
    "plt.legend()\n",
    "plt.show()"
   ],
   "metadata": {
    "collapsed": false,
    "pycharm": {
     "name": "#%%\n"
    }
   }
  },
  {
   "cell_type": "code",
   "execution_count": 13,
   "outputs": [
    {
     "data": {
      "text/plain": "[0.092032065091189,\n 0.040389308938756585,\n 0.07101523474557325,\n 0.05603889375925064,\n 0.03863478545099497]"
     },
     "execution_count": 13,
     "metadata": {},
     "output_type": "execute_result"
    }
   ],
   "source": [
    "best_loss_"
   ],
   "metadata": {
    "collapsed": false,
    "pycharm": {
     "name": "#%%\n"
    }
   }
  }
 ],
 "metadata": {
  "kernelspec": {
   "display_name": "Python 3",
   "language": "python",
   "name": "python3"
  },
  "language_info": {
   "codemirror_mode": {
    "name": "ipython",
    "version": 2
   },
   "file_extension": ".py",
   "mimetype": "text/x-python",
   "name": "python",
   "nbconvert_exporter": "python",
   "pygments_lexer": "ipython2",
   "version": "2.7.6"
  }
 },
 "nbformat": 4,
 "nbformat_minor": 0
}