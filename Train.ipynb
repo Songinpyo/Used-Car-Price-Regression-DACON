{
 "cells": [
  {
   "cell_type": "code",
   "execution_count": 1,
   "outputs": [],
   "source": [
    "# This is file for train, prediction\n",
    "\n",
    "import pandas as pd\n",
    "\n",
    "dirpath = \"C:/Users/rihot/Desktop/Deep_learning/DACON_used_car_price/\"\n",
    "\n",
    "train = pd.read_csv('data/preprocessed_train.csv')\n",
    "test = pd.read_csv('data/preprocessed_test.csv')"
   ],
   "metadata": {
    "collapsed": false,
    "pycharm": {
     "name": "#%%\n"
    }
   }
  },
  {
   "cell_type": "code",
   "execution_count": 2,
   "outputs": [
    {
     "data": {
      "text/plain": "   title  odometer  location  isimported  engine  transmission  fuel  paint  \\\n0    152     18277         0           0       0             0     0      1   \n1     97        10         0           2       0             0     0      7   \n2    137     83091         0           0       3             0     0      1   \n3    226     91524         0           0       0             0     0     16   \n4     60     94177         0           0       3             0     0      1   \n\n   year  brand    target  \n0  2016     38  13665000  \n1  2019     38  33015000  \n2  2012      5   9915000  \n3  2007     30   3815000  \n4  2010     38   7385000  ",
      "text/html": "<div>\n<style scoped>\n    .dataframe tbody tr th:only-of-type {\n        vertical-align: middle;\n    }\n\n    .dataframe tbody tr th {\n        vertical-align: top;\n    }\n\n    .dataframe thead th {\n        text-align: right;\n    }\n</style>\n<table border=\"1\" class=\"dataframe\">\n  <thead>\n    <tr style=\"text-align: right;\">\n      <th></th>\n      <th>title</th>\n      <th>odometer</th>\n      <th>location</th>\n      <th>isimported</th>\n      <th>engine</th>\n      <th>transmission</th>\n      <th>fuel</th>\n      <th>paint</th>\n      <th>year</th>\n      <th>brand</th>\n      <th>target</th>\n    </tr>\n  </thead>\n  <tbody>\n    <tr>\n      <th>0</th>\n      <td>152</td>\n      <td>18277</td>\n      <td>0</td>\n      <td>0</td>\n      <td>0</td>\n      <td>0</td>\n      <td>0</td>\n      <td>1</td>\n      <td>2016</td>\n      <td>38</td>\n      <td>13665000</td>\n    </tr>\n    <tr>\n      <th>1</th>\n      <td>97</td>\n      <td>10</td>\n      <td>0</td>\n      <td>2</td>\n      <td>0</td>\n      <td>0</td>\n      <td>0</td>\n      <td>7</td>\n      <td>2019</td>\n      <td>38</td>\n      <td>33015000</td>\n    </tr>\n    <tr>\n      <th>2</th>\n      <td>137</td>\n      <td>83091</td>\n      <td>0</td>\n      <td>0</td>\n      <td>3</td>\n      <td>0</td>\n      <td>0</td>\n      <td>1</td>\n      <td>2012</td>\n      <td>5</td>\n      <td>9915000</td>\n    </tr>\n    <tr>\n      <th>3</th>\n      <td>226</td>\n      <td>91524</td>\n      <td>0</td>\n      <td>0</td>\n      <td>0</td>\n      <td>0</td>\n      <td>0</td>\n      <td>16</td>\n      <td>2007</td>\n      <td>30</td>\n      <td>3815000</td>\n    </tr>\n    <tr>\n      <th>4</th>\n      <td>60</td>\n      <td>94177</td>\n      <td>0</td>\n      <td>0</td>\n      <td>3</td>\n      <td>0</td>\n      <td>0</td>\n      <td>1</td>\n      <td>2010</td>\n      <td>38</td>\n      <td>7385000</td>\n    </tr>\n  </tbody>\n</table>\n</div>"
     },
     "execution_count": 2,
     "metadata": {},
     "output_type": "execute_result"
    }
   ],
   "source": [
    "train.head()"
   ],
   "metadata": {
    "collapsed": false,
    "pycharm": {
     "name": "#%%\n"
    }
   }
  },
  {
   "cell_type": "code",
   "execution_count": 3,
   "outputs": [
    {
     "data": {
      "text/plain": "   title  odometer  location  isimported  engine  transmission  fuel  paint  \\\n0    113      1234         1           2       0             0     0      2   \n1    194     29938         1           0       0             0     0      2   \n2    213     87501         0           0       0             0     0      7   \n3    230    180894         0           1       3             0     0     16   \n4     18    104814         0           0       0             0     0      2   \n\n   year  brand  \n0  2017      6  \n1  2013     25  \n2  2012      6  \n3  2001     38  \n4  2000     38  ",
      "text/html": "<div>\n<style scoped>\n    .dataframe tbody tr th:only-of-type {\n        vertical-align: middle;\n    }\n\n    .dataframe tbody tr th {\n        vertical-align: top;\n    }\n\n    .dataframe thead th {\n        text-align: right;\n    }\n</style>\n<table border=\"1\" class=\"dataframe\">\n  <thead>\n    <tr style=\"text-align: right;\">\n      <th></th>\n      <th>title</th>\n      <th>odometer</th>\n      <th>location</th>\n      <th>isimported</th>\n      <th>engine</th>\n      <th>transmission</th>\n      <th>fuel</th>\n      <th>paint</th>\n      <th>year</th>\n      <th>brand</th>\n    </tr>\n  </thead>\n  <tbody>\n    <tr>\n      <th>0</th>\n      <td>113</td>\n      <td>1234</td>\n      <td>1</td>\n      <td>2</td>\n      <td>0</td>\n      <td>0</td>\n      <td>0</td>\n      <td>2</td>\n      <td>2017</td>\n      <td>6</td>\n    </tr>\n    <tr>\n      <th>1</th>\n      <td>194</td>\n      <td>29938</td>\n      <td>1</td>\n      <td>0</td>\n      <td>0</td>\n      <td>0</td>\n      <td>0</td>\n      <td>2</td>\n      <td>2013</td>\n      <td>25</td>\n    </tr>\n    <tr>\n      <th>2</th>\n      <td>213</td>\n      <td>87501</td>\n      <td>0</td>\n      <td>0</td>\n      <td>0</td>\n      <td>0</td>\n      <td>0</td>\n      <td>7</td>\n      <td>2012</td>\n      <td>6</td>\n    </tr>\n    <tr>\n      <th>3</th>\n      <td>230</td>\n      <td>180894</td>\n      <td>0</td>\n      <td>1</td>\n      <td>3</td>\n      <td>0</td>\n      <td>0</td>\n      <td>16</td>\n      <td>2001</td>\n      <td>38</td>\n    </tr>\n    <tr>\n      <th>4</th>\n      <td>18</td>\n      <td>104814</td>\n      <td>0</td>\n      <td>0</td>\n      <td>0</td>\n      <td>0</td>\n      <td>0</td>\n      <td>2</td>\n      <td>2000</td>\n      <td>38</td>\n    </tr>\n  </tbody>\n</table>\n</div>"
     },
     "execution_count": 3,
     "metadata": {},
     "output_type": "execute_result"
    }
   ],
   "source": [
    "test.head()"
   ],
   "metadata": {
    "collapsed": false,
    "pycharm": {
     "name": "#%%\n"
    }
   }
  },
  {
   "cell_type": "code",
   "execution_count": 4,
   "outputs": [],
   "source": [
    "Y = train[ ['target'] ].values\n",
    "X = train[ [ 'title', 'odometer', 'isimported', 'engine', 'paint', 'year', 'brand' ] ].values\n",
    "# X = train[ ['title', 'odometer', 'location', 'isimported', 'engine', 'transmission', 'fuel', 'paint', 'year', 'brand' ] ].values"
   ],
   "metadata": {
    "collapsed": false,
    "pycharm": {
     "name": "#%%\n"
    }
   }
  },
  {
   "cell_type": "code",
   "execution_count": 5,
   "outputs": [
    {
     "data": {
      "text/plain": "((1015, 7), (1015, 1))"
     },
     "execution_count": 5,
     "metadata": {},
     "output_type": "execute_result"
    }
   ],
   "source": [
    "X.shape, Y.shape"
   ],
   "metadata": {
    "collapsed": false,
    "pycharm": {
     "name": "#%%\n"
    }
   }
  },
  {
   "cell_type": "code",
   "execution_count": 6,
   "outputs": [],
   "source": [
    "X1 = train[['odometer']].values\n",
    "X2 = train[['title','isimported','engine','paint','year','brand']].values"
   ],
   "metadata": {
    "collapsed": false,
    "pycharm": {
     "name": "#%%\n"
    }
   }
  },
  {
   "cell_type": "code",
   "execution_count": 7,
   "outputs": [],
   "source": [
    "from sklearn.preprocessing import MinMaxScaler\n",
    "from sklearn.preprocessing import StandardScaler\n",
    "import numpy as np\n",
    "\n",
    "scalerX1 = MinMaxScaler()\n",
    "scalerX1.fit(X1)\n",
    "X1 = scalerX1.transform(X1)\n",
    "\n",
    "scalerX2 = StandardScaler()\n",
    "scalerX2.fit(X2)\n",
    "X2 = scalerX2.transform(X2)\n",
    "\n",
    "X = np.concatenate([X1,X2], axis=1)\n",
    "\n",
    "scalerY = MinMaxScaler()\n",
    "scalerY.fit(Y)\n",
    "Y = scalerY.transform(Y)"
   ],
   "metadata": {
    "collapsed": false,
    "pycharm": {
     "name": "#%%\n"
    }
   }
  },
  {
   "cell_type": "code",
   "execution_count": 8,
   "outputs": [
    {
     "data": {
      "text/plain": "((1015, 7), (1015, 1))"
     },
     "execution_count": 8,
     "metadata": {},
     "output_type": "execute_result"
    }
   ],
   "source": [
    "X.shape, Y.shape"
   ],
   "metadata": {
    "collapsed": false,
    "pycharm": {
     "name": "#%%\n"
    }
   }
  },
  {
   "cell_type": "code",
   "execution_count": 9,
   "outputs": [],
   "source": [
    "CFG = {\n",
    "    'EPOCHS':1200,\n",
    "    'BATCH_SIZE':32,\n",
    "    'LEARNING_RATE' :3e-4\n",
    "}"
   ],
   "metadata": {
    "collapsed": false,
    "pycharm": {
     "name": "#%%\n"
    }
   }
  },
  {
   "cell_type": "code",
   "execution_count": 10,
   "outputs": [],
   "source": [
    "from torch import nn\n",
    "\n",
    "class Regressor(nn.Module):\n",
    "    def __init__(self):\n",
    "        super().__init__()\n",
    "        self.layer1 = nn.Sequential(\n",
    "            nn.Linear(7, 64, bias=False),\n",
    "            nn.BatchNorm1d(64, eps=1e-05, momentum=0.1),\n",
    "            nn.ReLU()\n",
    "        )\n",
    "\n",
    "        self.layer2 = nn.Sequential(\n",
    "            nn.Linear(64, 128, bias=False),\n",
    "            nn.BatchNorm1d(128, eps=1e-05, momentum=0.1),\n",
    "            nn.ReLU()\n",
    "        )\n",
    "\n",
    "        self.layer3 = nn.Sequential(\n",
    "            nn.Linear(128, 256, bias=False),\n",
    "            nn.BatchNorm1d(256, eps=1e-05, momentum=0.1),\n",
    "            nn.ReLU()\n",
    "        )\n",
    "\n",
    "        self.layer4 = nn.Sequential(\n",
    "            nn.Linear(256, 256, bias=False),\n",
    "            nn.BatchNorm1d(256, eps=1e-05, momentum=0.1),\n",
    "            nn.ReLU()\n",
    "        )\n",
    "\n",
    "        self.layer5 = nn.Sequential(\n",
    "            nn.Linear(256, 128, bias=False),\n",
    "            nn.BatchNorm1d(128, eps=1e-05, momentum=0.1),\n",
    "            nn.ReLU()\n",
    "        )\n",
    "\n",
    "        self.layer6 = nn.Sequential(\n",
    "            nn.Linear(128, 64, bias=False),\n",
    "            nn.BatchNorm1d(64, eps=1e-05, momentum=0.1),\n",
    "            nn.ReLU()\n",
    "        )\n",
    "\n",
    "        self.layer7 = nn.Linear(64, 1, bias=False)\n",
    "\n",
    "    def forward(self, x):\n",
    "        x = self.layer1(x)\n",
    "        x = self.layer2(x)\n",
    "        x = self.layer3(x)\n",
    "        x = self.layer4(x)\n",
    "        x = self.layer5(x)\n",
    "        x = self.layer6(x)\n",
    "        x = self.layer7(x)\n",
    "\n",
    "        return x"
   ],
   "metadata": {
    "collapsed": false,
    "pycharm": {
     "name": "#%%\n"
    }
   }
  },
  {
   "cell_type": "code",
   "execution_count": 11,
   "outputs": [],
   "source": [
    "import torch\n",
    "\n",
    "loss_ = [] # loss 저장할 리스트\n",
    "val_loss_ = [] # val loss 저장할 리스트\n",
    "best_loss_ = []\n",
    "\n",
    "def train(model, optimizer, trainloader, valloader):\n",
    "    best_loss = 1000 # to save best model\n",
    "    criterion = nn.MSELoss()\n",
    "\n",
    "    for epoch in range(1, CFG[\"EPOCHS\"]+1):\n",
    "        model.train()\n",
    "        running_loss = 0.0\n",
    "\n",
    "        for i, data in enumerate(trainloader, 0):\n",
    "            inputs, values = data\n",
    "\n",
    "            optimizer.zero_grad()\n",
    "\n",
    "            outputs = model(inputs)\n",
    "            loss = criterion(outputs, values)\n",
    "\n",
    "            loss.backward()\n",
    "            optimizer.step()\n",
    "\n",
    "            running_loss += loss.item()\n",
    "\n",
    "        # print('[%d] Train loss: %.10f' %(epoch, running_loss))\n",
    "        loss_.append(running_loss)\n",
    "\n",
    "        #validation set evaluation\n",
    "        model.eval()\n",
    "        val_loss = 0.0\n",
    "\n",
    "        predictions = torch.tensor([], dtype=torch.float) # 예측값을 저장하는 텐서.\n",
    "        actual = torch.tensor([], dtype=torch.float) # 실제값을 저장하는 텐서.\n",
    "\n",
    "        with torch.no_grad(): #파라미터 업데이트 안하기 때문에 no_grad 사용\n",
    "            for i, data in enumerate(valloader, 0): # enumerate(인자, index)\n",
    "                inputs, values = data\n",
    "                outputs = model(inputs)\n",
    "                loss = criterion(outputs, values)\n",
    "\n",
    "                val_loss += loss.item()\n",
    "\n",
    "        # print('[%d] Validation loss: %.10f' %(epoch, val_loss))\n",
    "\n",
    "        if val_loss < best_loss :\n",
    "            torch.save(model.state_dict(), dirpath + \"best_model/\" + \"_best_model.pth\")\n",
    "            best_loss = val_loss\n",
    "            print('model saved')\n",
    "            print('[%d] Validation loss: %.10f' %(epoch, val_loss))\n",
    "\n",
    "        if epoch == 150:\n",
    "            best_loss_.append(best_loss)\n",
    "\n",
    "        val_loss_.append(val_loss)"
   ],
   "metadata": {
    "collapsed": false,
    "pycharm": {
     "name": "#%%\n"
    }
   }
  },
  {
   "cell_type": "code",
   "execution_count": 12,
   "outputs": [],
   "source": [
    "from torch.utils.data import Dataset\n",
    "\n",
    "class TensorData(Dataset):\n",
    "\n",
    "    def __init__(self, x_data, y_data):\n",
    "        self.x_data = torch.FloatTensor(x_data)\n",
    "        self.y_data = torch.FloatTensor(y_data)\n",
    "        self.len = self.y_data.shape[0]\n",
    "\n",
    "    def __getitem__(self, index):\n",
    "        return self.x_data[index], self.y_data[index]\n",
    "\n",
    "    def __len__(self):\n",
    "        return self.len"
   ],
   "metadata": {
    "collapsed": false,
    "pycharm": {
     "name": "#%%\n"
    }
   }
  },
  {
   "cell_type": "code",
   "execution_count": 13,
   "outputs": [
    {
     "name": "stdout",
     "output_type": "stream",
     "text": [
      "model saved\n",
      "[1] Validation loss: 0.1041911151\n",
      "model saved\n",
      "[3] Validation loss: 0.0971756820\n",
      "model saved\n",
      "[4] Validation loss: 0.0920637625\n",
      "model saved\n",
      "[5] Validation loss: 0.0907537644\n",
      "model saved\n",
      "[12] Validation loss: 0.0837533968\n",
      "model saved\n",
      "[15] Validation loss: 0.0659634728\n",
      "model saved\n",
      "[16] Validation loss: 0.0602105791\n",
      "model saved\n",
      "[22] Validation loss: 0.0593039820\n",
      "model saved\n",
      "[38] Validation loss: 0.0567877017\n",
      "model saved\n",
      "[47] Validation loss: 0.0562972813\n",
      "model saved\n",
      "[54] Validation loss: 0.0553489935\n",
      "model saved\n",
      "[71] Validation loss: 0.0531184208\n",
      "model saved\n",
      "[85] Validation loss: 0.0519322370\n",
      "model saved\n",
      "[106] Validation loss: 0.0499794213\n",
      "model saved\n",
      "[166] Validation loss: 0.0497189782\n",
      "model saved\n",
      "[181] Validation loss: 0.0480373407\n",
      "model saved\n",
      "[209] Validation loss: 0.0477488937\n",
      "model saved\n",
      "[210] Validation loss: 0.0477327401\n",
      "model saved\n",
      "[216] Validation loss: 0.0464319469\n",
      "model saved\n",
      "[240] Validation loss: 0.0457810158\n",
      "model saved\n",
      "[241] Validation loss: 0.0445438706\n",
      "model saved\n",
      "[264] Validation loss: 0.0440754486\n",
      "model saved\n",
      "[284] Validation loss: 0.0436992630\n",
      "model saved\n",
      "[294] Validation loss: 0.0431750949\n",
      "model saved\n",
      "[371] Validation loss: 0.0429430244\n",
      "model saved\n",
      "[374] Validation loss: 0.0427705286\n",
      "model saved\n",
      "[383] Validation loss: 0.0419126499\n",
      "model saved\n",
      "[610] Validation loss: 0.0415419539\n",
      "model saved\n",
      "[762] Validation loss: 0.0411377618\n",
      "1 번째, 학습데이터 크기 : 812, 검증데이터 크기 : 203\n",
      "model saved\n",
      "[1] Validation loss: 0.1775271595\n",
      "model saved\n",
      "[2] Validation loss: 0.1151424004\n",
      "model saved\n",
      "[5] Validation loss: 0.1032872968\n",
      "model saved\n",
      "[6] Validation loss: 0.0983945923\n",
      "model saved\n",
      "[7] Validation loss: 0.0916031050\n",
      "model saved\n",
      "[13] Validation loss: 0.0876875836\n",
      "model saved\n",
      "[15] Validation loss: 0.0743314093\n",
      "model saved\n",
      "[18] Validation loss: 0.0719039694\n",
      "model saved\n",
      "[24] Validation loss: 0.0663508659\n",
      "model saved\n",
      "[33] Validation loss: 0.0607930981\n",
      "model saved\n",
      "[37] Validation loss: 0.0603784428\n",
      "model saved\n",
      "[38] Validation loss: 0.0551835455\n",
      "model saved\n",
      "[43] Validation loss: 0.0550844646\n",
      "model saved\n",
      "[48] Validation loss: 0.0545020534\n",
      "model saved\n",
      "[49] Validation loss: 0.0466740387\n",
      "model saved\n",
      "[59] Validation loss: 0.0431113294\n",
      "model saved\n",
      "[65] Validation loss: 0.0424807568\n",
      "model saved\n",
      "[69] Validation loss: 0.0422538847\n",
      "model saved\n",
      "[95] Validation loss: 0.0401707238\n",
      "model saved\n",
      "[96] Validation loss: 0.0397794724\n",
      "model saved\n",
      "[105] Validation loss: 0.0395265413\n",
      "model saved\n",
      "[106] Validation loss: 0.0383051089\n",
      "model saved\n",
      "[112] Validation loss: 0.0382917423\n",
      "model saved\n",
      "[122] Validation loss: 0.0371216177\n",
      "model saved\n",
      "[123] Validation loss: 0.0370736474\n",
      "model saved\n",
      "[140] Validation loss: 0.0369631285\n",
      "model saved\n",
      "[146] Validation loss: 0.0344748412\n",
      "model saved\n",
      "[150] Validation loss: 0.0326589269\n",
      "model saved\n",
      "[151] Validation loss: 0.0325505810\n",
      "model saved\n",
      "[168] Validation loss: 0.0312284528\n",
      "model saved\n",
      "[245] Validation loss: 0.0311814123\n",
      "model saved\n",
      "[246] Validation loss: 0.0309358377\n",
      "model saved\n",
      "[328] Validation loss: 0.0281682315\n",
      "model saved\n",
      "[432] Validation loss: 0.0278357965\n",
      "2 번째, 학습데이터 크기 : 812, 검증데이터 크기 : 203\n",
      "model saved\n",
      "[1] Validation loss: 0.0759681060\n",
      "model saved\n",
      "[7] Validation loss: 0.0655230193\n",
      "model saved\n",
      "[10] Validation loss: 0.0607104549\n",
      "model saved\n",
      "[14] Validation loss: 0.0603307022\n",
      "model saved\n",
      "[16] Validation loss: 0.0577617906\n",
      "model saved\n",
      "[17] Validation loss: 0.0572241512\n",
      "model saved\n",
      "[18] Validation loss: 0.0467489755\n",
      "model saved\n",
      "[26] Validation loss: 0.0464640007\n",
      "model saved\n",
      "[28] Validation loss: 0.0448737605\n",
      "model saved\n",
      "[31] Validation loss: 0.0433622891\n",
      "model saved\n",
      "[33] Validation loss: 0.0407442481\n",
      "model saved\n",
      "[38] Validation loss: 0.0398002403\n",
      "model saved\n",
      "[51] Validation loss: 0.0385735504\n",
      "model saved\n",
      "[56] Validation loss: 0.0382088588\n",
      "model saved\n",
      "[57] Validation loss: 0.0378535725\n",
      "model saved\n",
      "[60] Validation loss: 0.0375903281\n",
      "model saved\n",
      "[82] Validation loss: 0.0365237766\n",
      "model saved\n",
      "[87] Validation loss: 0.0360275830\n",
      "model saved\n",
      "[111] Validation loss: 0.0350333753\n",
      "model saved\n",
      "[114] Validation loss: 0.0341527979\n",
      "model saved\n",
      "[144] Validation loss: 0.0341130805\n",
      "model saved\n",
      "[150] Validation loss: 0.0341006997\n",
      "model saved\n",
      "[156] Validation loss: 0.0337807692\n",
      "model saved\n",
      "[216] Validation loss: 0.0333737474\n",
      "model saved\n",
      "[228] Validation loss: 0.0332956228\n",
      "model saved\n",
      "[232] Validation loss: 0.0329286833\n",
      "model saved\n",
      "[236] Validation loss: 0.0324312548\n",
      "model saved\n",
      "[295] Validation loss: 0.0324272497\n",
      "model saved\n",
      "[298] Validation loss: 0.0316123467\n",
      "model saved\n",
      "[300] Validation loss: 0.0314234258\n",
      "model saved\n",
      "[302] Validation loss: 0.0306810787\n",
      "model saved\n",
      "[474] Validation loss: 0.0303368570\n",
      "model saved\n",
      "[502] Validation loss: 0.0300759957\n",
      "model saved\n",
      "[596] Validation loss: 0.0298975597\n",
      "model saved\n",
      "[636] Validation loss: 0.0292586415\n",
      "model saved\n",
      "[700] Validation loss: 0.0288082966\n",
      "3 번째, 학습데이터 크기 : 812, 검증데이터 크기 : 203\n",
      "model saved\n",
      "[1] Validation loss: 0.0620539103\n",
      "model saved\n",
      "[4] Validation loss: 0.0579440007\n",
      "model saved\n",
      "[11] Validation loss: 0.0532027965\n",
      "model saved\n",
      "[14] Validation loss: 0.0480148571\n",
      "model saved\n",
      "[15] Validation loss: 0.0339951179\n",
      "model saved\n",
      "[16] Validation loss: 0.0333645167\n",
      "model saved\n",
      "[43] Validation loss: 0.0271255085\n",
      "model saved\n",
      "[60] Validation loss: 0.0263461744\n",
      "model saved\n",
      "[77] Validation loss: 0.0256251361\n",
      "model saved\n",
      "[133] Validation loss: 0.0248501436\n",
      "model saved\n",
      "[137] Validation loss: 0.0239987810\n",
      "model saved\n",
      "[138] Validation loss: 0.0224176780\n",
      "model saved\n",
      "[167] Validation loss: 0.0222786548\n",
      "model saved\n",
      "[168] Validation loss: 0.0215638876\n",
      "model saved\n",
      "[191] Validation loss: 0.0203425727\n",
      "model saved\n",
      "[235] Validation loss: 0.0200105914\n",
      "model saved\n",
      "[248] Validation loss: 0.0199639547\n",
      "model saved\n",
      "[271] Validation loss: 0.0197282216\n",
      "model saved\n",
      "[290] Validation loss: 0.0195296549\n",
      "model saved\n",
      "[291] Validation loss: 0.0191829750\n",
      "model saved\n",
      "[305] Validation loss: 0.0188213086\n",
      "model saved\n",
      "[333] Validation loss: 0.0187366648\n",
      "model saved\n",
      "[334] Validation loss: 0.0173812710\n",
      "model saved\n",
      "[705] Validation loss: 0.0170948851\n",
      "model saved\n",
      "[801] Validation loss: 0.0167049797\n",
      "model saved\n",
      "[882] Validation loss: 0.0165073863\n",
      "model saved\n",
      "[954] Validation loss: 0.0163459053\n",
      "model saved\n",
      "[1118] Validation loss: 0.0159866072\n",
      "4 번째, 학습데이터 크기 : 812, 검증데이터 크기 : 203\n",
      "model saved\n",
      "[1] Validation loss: 0.0586287801\n",
      "model saved\n",
      "[3] Validation loss: 0.0568836462\n",
      "model saved\n",
      "[4] Validation loss: 0.0524872427\n",
      "model saved\n",
      "[5] Validation loss: 0.0473193391\n",
      "model saved\n",
      "[14] Validation loss: 0.0381047828\n",
      "model saved\n",
      "[16] Validation loss: 0.0363196197\n",
      "model saved\n",
      "[19] Validation loss: 0.0354978193\n",
      "model saved\n",
      "[20] Validation loss: 0.0327249337\n",
      "model saved\n",
      "[23] Validation loss: 0.0311175636\n",
      "model saved\n",
      "[25] Validation loss: 0.0299529348\n",
      "model saved\n",
      "[28] Validation loss: 0.0286700258\n",
      "model saved\n",
      "[31] Validation loss: 0.0282089274\n",
      "model saved\n",
      "[36] Validation loss: 0.0246357651\n",
      "model saved\n",
      "[45] Validation loss: 0.0239375624\n",
      "model saved\n",
      "[60] Validation loss: 0.0221414510\n",
      "model saved\n",
      "[64] Validation loss: 0.0215307570\n",
      "model saved\n",
      "[90] Validation loss: 0.0207708129\n",
      "model saved\n",
      "[91] Validation loss: 0.0196297430\n",
      "model saved\n",
      "[102] Validation loss: 0.0184543675\n",
      "model saved\n",
      "[133] Validation loss: 0.0177603271\n",
      "model saved\n",
      "[144] Validation loss: 0.0168344307\n",
      "model saved\n",
      "[166] Validation loss: 0.0162821292\n",
      "model saved\n",
      "[168] Validation loss: 0.0141887331\n",
      "model saved\n",
      "[241] Validation loss: 0.0140827732\n",
      "model saved\n",
      "[421] Validation loss: 0.0136450289\n",
      "model saved\n",
      "[514] Validation loss: 0.0130167502\n",
      "model saved\n",
      "[517] Validation loss: 0.0126708706\n",
      "5 번째, 학습데이터 크기 : 812, 검증데이터 크기 : 203\n"
     ]
    }
   ],
   "source": [
    "import os\n",
    "from torch import optim\n",
    "from sklearn.model_selection import KFold\n",
    "from torch.utils.data import DataLoader\n",
    "\n",
    "kf = KFold(n_splits=5, shuffle=True, random_state=42)\n",
    "n_iter = 0\n",
    "\n",
    "for train_index, val_index in kf.split(X):\n",
    "    model = Regressor()\n",
    "    optimizer = optim.Adam(model.parameters(), lr=CFG['LEARNING_RATE'], weight_decay=1e-7)\n",
    "\n",
    "    X_train, X_val = X[train_index], X[val_index]\n",
    "    Y_train, Y_val = Y[train_index], Y[val_index]\n",
    "\n",
    "    trainsets = TensorData(X_train, Y_train)\n",
    "    valsets = TensorData(X_val, Y_val)\n",
    "\n",
    "    trainloader = DataLoader(trainsets, batch_size=CFG[\"BATCH_SIZE\"])\n",
    "    valloader = DataLoader(valsets, batch_size=CFG[\"BATCH_SIZE\"])\n",
    "\n",
    "    train(model, optimizer, trainloader, valloader)\n",
    "\n",
    "    n_iter += 1\n",
    "\n",
    "    file_oldname = os.path.join(dirpath + \"best_model/\" + \"_best_model.pth\")\n",
    "    file_newname_newfile = os.path.join(dirpath + \"best_model/\" + str(n_iter) + \"_best_model.pth\")\n",
    "    os.rename(file_oldname, file_newname_newfile)\n",
    "\n",
    "    print('{} 번째, 학습데이터 크기 : {}, 검증데이터 크기 : {}'.format(n_iter, X_train.shape[0], X_val.shape[0]))"
   ],
   "metadata": {
    "collapsed": false,
    "pycharm": {
     "name": "#%%\n"
    }
   }
  },
  {
   "cell_type": "code",
   "execution_count": 14,
   "outputs": [
    {
     "data": {
      "text/plain": "<Figure size 432x288 with 1 Axes>",
      "image/png": "[encoded data removed]"
     },
     "metadata": {
      "needs_background": "light"
     },
     "output_type": "display_data"
    }
   ],
   "source": [
    "from matplotlib import pyplot as plt\n",
    "%matplotlib inline\n",
    "\n",
    "plt.clf()\n",
    "# plt.plot(loss_,'ro',label='training loss')\n",
    "plt.plot(val_loss_,'g',label='validation loss')\n",
    "plt.title('Training and validation accuracy')\n",
    "plt.xlabel('epochs')\n",
    "plt.ylabel('loss')\n",
    "plt.legend()\n",
    "plt.show()"
   ],
   "metadata": {
    "collapsed": false,
    "pycharm": {
     "name": "#%%\n"
    }
   }
  },
  {
   "cell_type": "code",
   "execution_count": 15,
   "outputs": [
    {
     "data": {
      "text/plain": "[0.04997942131012678,\n 0.03265892690978944,\n 0.034100699704140425,\n 0.022417677973862737,\n 0.01683443074580282]"
     },
     "execution_count": 15,
     "metadata": {},
     "output_type": "execute_result"
    }
   ],
   "source": [
    "best_loss_"
   ],
   "metadata": {
    "collapsed": false,
    "pycharm": {
     "name": "#%%\n"
    }
   }
  },
  {
   "cell_type": "code",
   "execution_count": 16,
   "outputs": [
    {
     "data": {
      "text/plain": "0.03119823132874444"
     },
     "execution_count": 16,
     "metadata": {},
     "output_type": "execute_result"
    }
   ],
   "source": [
    "bl = 0\n",
    "\n",
    "for i in range(0, 5):\n",
    "    bl += best_loss_[i]\n",
    "\n",
    "bl = bl/5\n",
    "\n",
    "bl"
   ],
   "metadata": {
    "collapsed": false,
    "pycharm": {
     "name": "#%%\n"
    }
   }
  },
  {
   "cell_type": "code",
   "execution_count": 16,
   "outputs": [],
   "source": [],
   "metadata": {
    "collapsed": false,
    "pycharm": {
     "name": "#%%\n"
    }
   }
  }
 ],
 "metadata": {
  "kernelspec": {
   "display_name": "Python 3",
   "language": "python",
   "name": "python3"
  },
  "language_info": {
   "codemirror_mode": {
    "name": "ipython",
    "version": 2
   },
   "file_extension": ".py",
   "mimetype": "text/x-python",
   "name": "python",
   "nbconvert_exporter": "python",
   "pygments_lexer": "ipython2",
   "version": "2.7.6"
  }
 },
 "nbformat": 4,
 "nbformat_minor": 0
}