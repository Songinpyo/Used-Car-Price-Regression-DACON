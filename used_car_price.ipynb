{
 "cells": [
  {
   "cell_type": "code",
   "execution_count": 2,
   "metadata": {
    "collapsed": true,
    "pycharm": {
     "name": "#%%\n"
    }
   },
   "outputs": [
    {
     "data": {
      "text/plain": "   id                          title  odometer location    isimported  \\\n0   0                   Toyota RAV 4     18277   Lagos   Foreign Used   \n1   1            Toyota Land Cruiser        10    Lagos          New    \n2   2  Land Rover Range Rover Evoque     83091    Lagos  Foreign Used   \n3   3                   Lexus ES 350     91524    Lagos  Foreign Used   \n4   4                   Toyota Venza     94177    Lagos  Foreign Used   \n\n           engine transmission    fuel  paint  year    target  \n0  4-cylinder(I4)    automatic  petrol    Red  2016  13665000  \n1  4-cylinder(I4)    automatic  petrol  Black  2019  33015000  \n2  6-cylinder(V6)    automatic  petrol    Red  2012   9915000  \n3  4-cylinder(I4)    automatic  petrol   Gray  2007   3815000  \n4  6-cylinder(V6)    automatic  petrol    Red  2010   7385000  ",
      "text/html": "<div>\n<style scoped>\n    .dataframe tbody tr th:only-of-type {\n        vertical-align: middle;\n    }\n\n    .dataframe tbody tr th {\n        vertical-align: top;\n    }\n\n    .dataframe thead th {\n        text-align: right;\n    }\n</style>\n<table border=\"1\" class=\"dataframe\">\n  <thead>\n    <tr style=\"text-align: right;\">\n      <th></th>\n      <th>id</th>\n      <th>title</th>\n      <th>odometer</th>\n      <th>location</th>\n      <th>isimported</th>\n      <th>engine</th>\n      <th>transmission</th>\n      <th>fuel</th>\n      <th>paint</th>\n      <th>year</th>\n      <th>target</th>\n    </tr>\n  </thead>\n  <tbody>\n    <tr>\n      <th>0</th>\n      <td>0</td>\n      <td>Toyota RAV 4</td>\n      <td>18277</td>\n      <td>Lagos</td>\n      <td>Foreign Used</td>\n      <td>4-cylinder(I4)</td>\n      <td>automatic</td>\n      <td>petrol</td>\n      <td>Red</td>\n      <td>2016</td>\n      <td>13665000</td>\n    </tr>\n    <tr>\n      <th>1</th>\n      <td>1</td>\n      <td>Toyota Land Cruiser</td>\n      <td>10</td>\n      <td>Lagos</td>\n      <td>New</td>\n      <td>4-cylinder(I4)</td>\n      <td>automatic</td>\n      <td>petrol</td>\n      <td>Black</td>\n      <td>2019</td>\n      <td>33015000</td>\n    </tr>\n    <tr>\n      <th>2</th>\n      <td>2</td>\n      <td>Land Rover Range Rover Evoque</td>\n      <td>83091</td>\n      <td>Lagos</td>\n      <td>Foreign Used</td>\n      <td>6-cylinder(V6)</td>\n      <td>automatic</td>\n      <td>petrol</td>\n      <td>Red</td>\n      <td>2012</td>\n      <td>9915000</td>\n    </tr>\n    <tr>\n      <th>3</th>\n      <td>3</td>\n      <td>Lexus ES 350</td>\n      <td>91524</td>\n      <td>Lagos</td>\n      <td>Foreign Used</td>\n      <td>4-cylinder(I4)</td>\n      <td>automatic</td>\n      <td>petrol</td>\n      <td>Gray</td>\n      <td>2007</td>\n      <td>3815000</td>\n    </tr>\n    <tr>\n      <th>4</th>\n      <td>4</td>\n      <td>Toyota Venza</td>\n      <td>94177</td>\n      <td>Lagos</td>\n      <td>Foreign Used</td>\n      <td>6-cylinder(V6)</td>\n      <td>automatic</td>\n      <td>petrol</td>\n      <td>Red</td>\n      <td>2010</td>\n      <td>7385000</td>\n    </tr>\n  </tbody>\n</table>\n</div>"
     },
     "execution_count": 1,
     "metadata": {},
     "output_type": "execute_result"
    }
   ],
   "source": [
    "# This is file for data EDA\n",
    "\n",
    "import pandas as pd\n",
    "dirpath = 'C:/Users/rihot/Desktop/Deep_learning/DACON_used_car_price/'\n",
    "\n",
    "train = pd.read_csv('data/train.csv')\n",
    "test = pd.read_csv('data/test.csv')"
   ]
  },
  {
   "cell_type": "code",
   "execution_count": 3,
   "outputs": [],
   "source": [
    "train = train.drop(['id'], axis=1)\n",
    "test= test.drop(['id'], axis=1)"
   ],
   "metadata": {
    "collapsed": false,
    "pycharm": {
     "name": "#%%\n"
    }
   }
  },
  {
   "cell_type": "code",
   "execution_count": 4,
   "outputs": [],
   "source": [
    "def check_missing_col(dataframe):\n",
    "    missing_col = []\n",
    "    for col in dataframe.columns:\n",
    "        missing_values = sum(dataframe[col].isna())\n",
    "        # isna : if value is NAN, return 1\n",
    "        is_missing = True if missing_values >= 1 else False\n",
    "        if is_missing:\n",
    "            print(f'결측치가 있는 컬럼 : {col} 입니다')\n",
    "            print(f'해당 컬럼에 총 {missing_values} 개의 결측치가 존재합니다.')\n",
    "            missing_col.append([col, dataframe[col].dtype])\n",
    "    if missing_col == []:\n",
    "        print('결측치가 존재하지 않습니다')\n",
    "    return missing_col"
   ],
   "metadata": {
    "collapsed": false,
    "pycharm": {
     "name": "#%%\n"
    }
   }
  },
  {
   "cell_type": "code",
   "execution_count": 5,
   "outputs": [
    {
     "name": "stdout",
     "output_type": "stream",
     "text": [
      "결측치가 존재하지 않습니다\n"
     ]
    }
   ],
   "source": [
    "missing_col = check_missing_col(train)"
   ],
   "metadata": {
    "collapsed": false,
    "pycharm": {
     "name": "#%%\n"
    }
   }
  },
  {
   "cell_type": "code",
   "execution_count": 6,
   "outputs": [
    {
     "name": "stdout",
     "output_type": "stream",
     "text": [
      "결측치가 존재하지 않습니다\n"
     ]
    }
   ],
   "source": [
    "missing_col = check_missing_col(test)"
   ],
   "metadata": {
    "collapsed": false,
    "pycharm": {
     "name": "#%%\n"
    }
   }
  },
  {
   "cell_type": "code",
   "execution_count": 7,
   "outputs": [],
   "source": [
    "#라벨인코딩을 하기 위함 dictionary map 생성 함수\n",
    "def make_label_map(dataframe):\n",
    "    label_maps = {}\n",
    "    for col in dataframe.columns:\n",
    "        if dataframe[col].dtype=='object':\n",
    "            label_map = {'unknown':0}\n",
    "            for i, key in enumerate(dataframe[col].unique()):\n",
    "                label_map[key] = i+1  #새로 등장하는 유니크 값들에 대해 1부터 1씩 증가시켜 키값을 부여해줍니다.\n",
    "            label_maps[col] = label_map\n",
    "    print(label_maps)\n",
    "    return label_maps"
   ],
   "metadata": {
    "collapsed": false,
    "pycharm": {
     "name": "#%%\n"
    }
   }
  },
  {
   "cell_type": "code",
   "execution_count": 8,
   "outputs": [],
   "source": [
    "# 각 범주형 변수에 인코딩 값을 부여하는 함수\n",
    "def label_encoder(dataframe, label_map):\n",
    "    for col in dataframe.columns:\n",
    "        if dataframe[col].dtype=='object':\n",
    "            dataframe[col] = dataframe[col].map(label_map[col])\n",
    "            dataframe[col] = dataframe[col].fillna(label_map[col]['unknown']) #혹시 모를 결측값은 unknown의 값(0)으로 채워줍니다.\n",
    "    return dataframe"
   ],
   "metadata": {
    "collapsed": false,
    "pycharm": {
     "name": "#%%\n"
    }
   }
  },
  {
   "cell_type": "code",
   "execution_count": 9,
   "outputs": [
    {
     "name": "stdout",
     "output_type": "stream",
     "text": [
      "{'title': {'unknown': 0, 'Toyota RAV 4': 1, 'Toyota Land Cruiser': 2, 'Land Rover Range Rover Evoque': 3, 'Lexus ES 350': 4, 'Toyota Venza': 5, 'Toyota Corolla': 6, 'Land Rover Range Rover Sport': 7, 'Pontiac Vibe': 8, 'Toyota Tacoma': 9, 'Lexus RX 350': 10, 'Ford Escape': 11, 'Honda Civic': 12, 'Volvo XC90': 13, 'BMW 750': 14, 'Infiniti JX': 15, 'Honda Accord': 16, 'Mercedes-Benz ML 350': 17, 'Toyota Camry': 18, 'Hyundai Azera': 19, 'Lexus GX 460': 20, 'BMW 325': 21, 'Toyota Sienna': 22, 'Honda Fit': 23, 'Honda CR-V': 24, 'Hyundai Tucson': 25, 'Ford Transit': 26, 'Jaguar XJ8': 27, 'BMW X6': 28, 'Mercedes-Benz C 300': 29, 'Mitsubishi Galant': 30, 'Mercedes-Benz GL 450': 31, 'Lexus RX 300': 32, 'Toyota Highlander': 33, 'Mitsubishi CANTER PICK UP': 34, 'Nissan Titan': 35, 'Lexus IS 250': 36, 'Mercedes-Benz 200': 37, 'Toyota Sequoia': 38, 'Ford Explorer': 39, 'Hyundai ix35': 40, 'Mack CH613 CONVENTIONAL CAB': 41, 'Lexus CT 200h': 42, 'Lexus LX 570': 43, 'Toyota Avensis': 44, 'Toyota 4-Runner': 45, 'Mercedes-Benz GLE 350': 46, 'Mercedes-Benz E 300': 47, 'Toyota Avalon': 48, 'Chevrolet Camaro': 49, 'Mack CXN613 CAB BEHIND ENGINE': 50, 'Land Rover Range Rover': 51, 'Mazda CX-9': 52, 'Lexus RX 330': 53, 'Lincoln Mark': 54, 'Kia Optima': 55, 'Volkswagen LT': 56, 'Lexus GS 300': 57, 'Jaguar X-Type': 58, 'Mercedes-Benz 709 DB': 59, 'Nissan Altima': 60, 'Acura MDX': 61, 'DAF 95XF TRACTOR HEAD': 62, 'Man TGA 18.360': 63, 'Nissan Pathfinder': 64, 'Mercedes-Benz E 350': 65, 'Honda Crosstour': 66, 'Honda Pilot': 67, 'Lexus LS 460': 68, 'Nissan Cabstar': 69, 'Kia Sorento': 70, 'Mercedes-Benz CLA 250': 71, 'Mitsubishi Pajero': 72, 'Mercedes-Benz C 350': 73, 'Lexus GS 350': 74, 'Mercedes-Benz E 320': 75, 'Toyota Yaris': 76, 'Toyota Matrix': 77, 'Isuzu NQR': 78, 'IVM LT35': 79, 'Hyundai Elantra': 80, 'Porsche Cayenne': 81, 'Toyota Prado': 82, 'Hyundai Sonata': 83, 'MINI Cooper': 84, 'Toyota Hiace': 85, 'Mercedes-Benz 350': 86, 'Honda Odyssey': 87, 'Mercedes-Benz E 550': 88, 'Dodge Charger': 89, 'GMC Terrain': 90, 'Mercedes-Benz GLK 350': 91, 'Mercedes-Benz C 250': 92, 'Mercedes-Benz ML 430': 93, 'Mack CH613': 94, 'Honda Element': 95, 'Mercedes-Benz GLC 300': 96, 'Hyundai Santa Fe': 97, 'Kia Cerato': 98, 'Chevrolet Evanda': 99, 'Iveco TRUCK': 100, 'Acura ZDX': 101, 'Mercedes-Benz 450': 102, 'Mercedes-Benz GLA 250': 103, 'Mercedes-Benz CLS 500': 104, 'Scania P94 FLATBED': 105, 'Nissan Versa': 106, 'Ford F 150': 107, 'Mercedes-Benz GLE 43 AMG': 108, 'Volkswagen Golf': 109, 'Mercedes-Benz 320': 110, 'Honda Ridgeline': 111, 'Mercedes-Benz S 450': 112, 'Mercedes-Benz 300': 113, 'Kia Rio': 114, 'BMW 740': 115, 'Ford Edge': 116, 'Toyota Dyna': 117, 'Volvo FL6': 118, 'Toyota Coaster': 119, 'GAC Gonow Other': 120, 'IVECO EUROTECH 7.50E-16': 121, 'DAF FA 55. 180': 122, 'Scania TRACTOR HEAD': 123, 'Nissan Xterra': 124, 'Mercedes-Benz ML 320': 125, 'Mercedes-Benz ATEGO': 126, 'Ford Focus': 127, 'Mercedes-Benz 220': 128, 'Man Truck 18.44': 129, 'BMW 730': 130, 'Peugeot 607': 131, 'BMW 528': 132, 'Volvo XC60': 133, 'Mercedes-Benz E 200': 134, 'Volkswagen Passat': 135, 'Volkswagen Sharan': 136, 'Lexus GX 470': 137, 'Nissan Quest': 138, 'Nissan Maxima': 139, 'Lexus ES 300': 140, 'Mazda Tribute': 141, 'Ford Fusion': 142, 'Acura RDX': 143, 'Peugeot 206': 144, 'Mercedes-Benz G 63 AMG': 145, 'Toyota Hilux': 146, 'Kia Stinger': 147, 'Volkswagen Tiguan': 148, 'Acura TL': 149, 'Porsche Panamera': 150, 'Rolls-Royce Ghost': 151, 'BMW 745': 152, 'BMW 335': 153, 'Volkswagen Jetta': 154, 'Mack R-686ST': 155, 'Man Diesel 19.314 FILT-N': 156, 'Toyota Solara': 157, 'Kia Soul': 158, 'Mercedes-Benz C 450 AMG': 159, 'Mack CXN613': 160, 'Nissan Murano': 161, 'Chevrolet Traverse': 162, 'Volkswagen T4 Caravelle': 163, 'MAN-VOLKSWAGEN FLATBED': 164, 'Nissan Frontier': 165, 'Nissan X-Trail': 166, 'Mercedes-Benz C 180': 167, 'Infiniti M35': 168, 'Nissan Sentra': 169, 'Jeep Cherokee': 170, 'Toyota DYNA 200': 171, 'Nissan Rogue': 172, 'Land Rover Range Rover Velar': 173, 'ALPINA B3': 174, 'DAF 45': 175, 'Mazda 323': 176, 'Volkswagen T6 other': 177, 'Bentley Arnage': 178, 'Mazda 6': 179, 'Infiniti FX': 180, 'Ford Expedition': 181, 'Mercedes-Benz 814': 182, 'Kia Picanto': 183, 'Toyota Tundra': 184, 'JMC Vigus': 185, 'Infiniti QX80': 186, 'Volvo FH12': 187, 'Mercedes-Benz/52': 188, 'Volkswagen Touareg': 189, 'Porsche Macan': 190, 'Peugeot 308': 191, 'Nissan INFINITI M90.150/2': 192, 'MINI Cooper Countryman': 193, 'Lexus ES 330': 194, 'Honda Insight': 195, 'Toyota Vitz': 196, 'Audi S6': 197, 'Isuzu CABSTER': 198, 'Mercedes-Benz C 63 AMG': 199, 'Mercedes-Benz SL 400': 200, 'Volkswagen 17.22': 201, 'Man BOCKMANN': 202, 'DAF CF': 203}, 'location': {'unknown': 0, 'Lagos ': 1, 'Lagos': 2, 'Abuja': 3, 'Lagos State': 4, 'Ogun': 5, 'FCT': 6, 'Accra': 7, 'other': 8, 'Abuja ': 9, 'Abia State': 10, 'Adamawa ': 11, 'Abia': 12, 'Ogun State': 13}, 'isimported': {'unknown': 0, 'Foreign Used': 1, 'New ': 2, 'Locally used': 3}, 'engine': {'unknown': 0, '4-cylinder(I4)': 1, '6-cylinder(V6)': 2, '8-cylinder(V8)': 3, '6-cylinder(I6)': 4, '4-cylinder(H4)': 5, '5-cylinder(I5)': 6, '3-cylinder(I3)': 7, '2-cylinder(I2)': 8}, 'transmission': {'unknown': 0, 'automatic': 1, 'manual': 2}, 'fuel': {'unknown': 0, 'petrol': 1, 'diesel': 2}, 'paint': {'unknown': 0, 'Red': 1, 'Black': 2, 'Gray': 3, 'White': 4, 'Blue': 5, 'Redl': 6, 'Silver': 7, ' Black/Red': 8, 'Deep Blue': 9, 'Dark Grey': 10, 'Brown': 11, 'Grey': 12, 'Green': 13, 'Purple': 14, 'Gold': 15, 'Dark Blue': 16, 'Milk': 17, 'Midnight Black Metal': 18, 'Deep blue': 19, 'green': 20, 'Beige': 21, 'Blue ': 22, 'Silver ': 23, 'red': 24, 'white': 25, 'Dark Ash': 26, 'Black ': 27, 'orange': 28, 'Cream': 29, 'blue': 30, 'Dark gray': 31, 'Sliver': 32, 'White orchild pearl': 33, 'Dark Green': 34, 'Gold ': 35, 'Yellow': 36, 'Grey ': 37, 'Light Gold': 38, 'White ': 39, 'Wine': 40, 'white-blue': 41, 'Magnetic Gray': 42, 'WHITE': 43, 'yellow': 44, 'Gray ': 45, 'Dark silver ': 46, 'Dark blue ': 47, 'SILVER': 48, 'Black.': 49, 'WINE': 50, 'Silver/grey': 51, 'Ink blue': 52, 'Light blue': 53, 'Sky blue': 54, 'Gery': 55, 'Pale brown': 56, 'Whine ': 57, 'Cream ': 58, 'Black and silver': 59, 'DARK GREY': 60, 'Dark ash': 61, 'Light silver ': 62, 'BLACK': 63, 'GOLD': 64, 'Black sand pearl': 65, 'Off white': 66, 'Ash': 67, 'Maroon': 68, 'Navy blue': 69, 'Super White': 70, ' Black': 71, 'Ash and black': 72, 'Green ': 73, 'Magnetic Gray Metallic': 74, 'Skye blue': 75, 'Off white l': 76}}\n"
     ]
    },
    {
     "data": {
      "text/plain": "   title  odometer  location  isimported  engine  transmission  fuel  paint  \\\n0      1     18277         1           1       1             1     1      1   \n1      2        10         2           2       1             1     1      2   \n2      3     83091         2           1       2             1     1      1   \n3      4     91524         2           1       1             1     1      3   \n4      5     94177         2           1       2             1     1      1   \n\n   year    target  \n0  2016  13665000  \n1  2019  33015000  \n2  2012   9915000  \n3  2007   3815000  \n4  2010   7385000  ",
      "text/html": "<div>\n<style scoped>\n    .dataframe tbody tr th:only-of-type {\n        vertical-align: middle;\n    }\n\n    .dataframe tbody tr th {\n        vertical-align: top;\n    }\n\n    .dataframe thead th {\n        text-align: right;\n    }\n</style>\n<table border=\"1\" class=\"dataframe\">\n  <thead>\n    <tr style=\"text-align: right;\">\n      <th></th>\n      <th>title</th>\n      <th>odometer</th>\n      <th>location</th>\n      <th>isimported</th>\n      <th>engine</th>\n      <th>transmission</th>\n      <th>fuel</th>\n      <th>paint</th>\n      <th>year</th>\n      <th>target</th>\n    </tr>\n  </thead>\n  <tbody>\n    <tr>\n      <th>0</th>\n      <td>1</td>\n      <td>18277</td>\n      <td>1</td>\n      <td>1</td>\n      <td>1</td>\n      <td>1</td>\n      <td>1</td>\n      <td>1</td>\n      <td>2016</td>\n      <td>13665000</td>\n    </tr>\n    <tr>\n      <th>1</th>\n      <td>2</td>\n      <td>10</td>\n      <td>2</td>\n      <td>2</td>\n      <td>1</td>\n      <td>1</td>\n      <td>1</td>\n      <td>2</td>\n      <td>2019</td>\n      <td>33015000</td>\n    </tr>\n    <tr>\n      <th>2</th>\n      <td>3</td>\n      <td>83091</td>\n      <td>2</td>\n      <td>1</td>\n      <td>2</td>\n      <td>1</td>\n      <td>1</td>\n      <td>1</td>\n      <td>2012</td>\n      <td>9915000</td>\n    </tr>\n    <tr>\n      <th>3</th>\n      <td>4</td>\n      <td>91524</td>\n      <td>2</td>\n      <td>1</td>\n      <td>1</td>\n      <td>1</td>\n      <td>1</td>\n      <td>3</td>\n      <td>2007</td>\n      <td>3815000</td>\n    </tr>\n    <tr>\n      <th>4</th>\n      <td>5</td>\n      <td>94177</td>\n      <td>2</td>\n      <td>1</td>\n      <td>2</td>\n      <td>1</td>\n      <td>1</td>\n      <td>1</td>\n      <td>2010</td>\n      <td>7385000</td>\n    </tr>\n  </tbody>\n</table>\n</div>"
     },
     "execution_count": 9,
     "metadata": {},
     "output_type": "execute_result"
    }
   ],
   "source": [
    "le = make_label_map(train)\n",
    "train = label_encoder(train, le)\n",
    "train.head()"
   ],
   "metadata": {
    "collapsed": false,
    "pycharm": {
     "name": "#%%\n"
    }
   }
  },
  {
   "cell_type": "code",
   "execution_count": 10,
   "outputs": [
    {
     "name": "stdout",
     "output_type": "stream",
     "text": [
      "{'title': {'unknown': 0, 'Mercedes-Benz C 300': 1, 'Honda Accord': 2, 'Mercedes-Benz S 550': 3, 'Toyota Sienna': 4, 'Toyota Hiace': 5, 'Toyota Corolla': 6, 'Iveco EUROCARGO 120e18': 7, 'Mercedes-Benz GLE 350': 8, 'Toyota Highlander': 9, 'Toyota Hilux': 10, 'Toyota Camry': 11, 'Mercedes-Benz C 180': 12, 'Lexus ES 350': 13, 'Honda Fit': 14, 'Toyota Matrix': 15, 'Toyota Venza': 16, 'Lexus IS 250': 17, 'Nissan Primera': 18, 'Volkswagen Sharan': 19, 'Jeep Wrangler': 20, 'Volkswagen Golf': 21, 'Mercedes-Benz 814': 22, 'Nissan Sentra': 23, 'Volkswagen Passat': 24, 'Mercedes-Benz GLK 350': 25, 'Lexus RX 350': 26, 'Ford Mondeo': 27, 'BMW X3': 28, 'Mack CXN613 CAB BEHIND ENGINE': 29, 'Toyota RAV 4': 30, 'Land Rover Discovery': 31, 'Toyota Avalon': 32, 'Lexus GX 460': 33, 'Hyundai Santa Fe': 34, 'Peugeot 206': 35, 'Volvo FL7': 36, 'Mercedes-Benz C 320': 37, 'Hyundai Sonata': 38, 'Infiniti FX': 39, 'Honda Civic': 40, 'Mercedes-Benz CLS 500': 41, 'Mercedes-Benz GLK 300': 42, 'Acura RDX': 43, 'Mercedes-Benz G 550': 44, 'BMW 535': 45, 'Acura TL': 46, 'Nissan Xterra': 47, 'Land Rover Range Rover': 48, 'Nissan A': 49, 'Toyota 4-Runner': 50, 'Honda Pilot': 51, 'Man LE 8. 180 PLATFORM TRUCK': 52, 'Toyota Yaris': 53, 'Hyundai Elantra': 54, 'Volvo S80': 55, 'Mercedes-Benz GLA 180': 56, 'Acura TSX': 57, 'Lexus LX 570': 58, 'Mercedes-Benz Maybach': 59, 'Mercedes-Benz 300': 60, 'Acura MDX': 61, 'Nissan INFINITI M90.150/2': 62, 'Land Rover Range Rover Sport': 63, 'Nissan Altima': 64, 'Peugeot 307': 65, 'Fiat Ducato': 66, 'Mercedes-Benz C 350': 67, 'Lexus RX 330': 68, 'Ford Edge': 69, 'Honda CR-V': 70, 'Volvo FL12': 71, 'Ford Explorer': 72, 'Man 26-403': 73, 'MINI Cooper Coupé': 74, 'Iveco TRUCK': 75, 'Nissan Cabstar': 76, 'MINI Cooper': 77, 'Lexus RX 400': 78, 'Ford TRANSIT PICKUP': 79, 'Toyota Prius': 80, 'Toyota Tundra': 81, 'Honda Element': 82, 'Toyota Tacoma': 83, 'Lexus ES 300': 84, 'DAF XF TRACTOR HEAD': 85, 'Honda Odyssey': 86, 'Nissan Pathfinder': 87, 'Mazda 323': 88, 'Mercedes-Benz E 300': 89, 'Lexus GS 350': 90, 'Mercedes-Benz ML 350': 91, 'Mercedes-Benz E 350': 92, 'Porsche Cayenne': 93, 'BMW 525': 94, 'Toyota Land Cruiser': 95, 'Mack R-686ST': 96, 'Toyota C-HR': 97, 'Mitsubishi Eclipse': 98, 'Chevrolet Camaro': 99, 'Mercedes-Benz CABIN PLUS CHASSIS ONLY': 100, 'Mercedes-Benz GLE 450': 101, 'Toyota Avensis': 102, 'Ford Mustang': 103, 'Volvo FL6': 104, 'Kia Optima': 105, 'Mitsubishi Pajero': 106, 'Honda Crosstour': 107, 'Lexus RX 300': 108, 'Honda Ridgeline': 109, 'Mercedes-Benz 220': 110, 'Mitsubishi Montero': 111, 'Pontiac Vibe': 112, 'Ford F 150': 113, 'Rolls-Royce Ghost': 114, 'Ford Fusion': 115, 'Lexus GS 300': 116, 'Ford Transit': 117, 'Hyundai Azera': 118, 'Mitsubishi L200': 119, 'Mercedes-Benz DUMP TRUCK': 120, 'Mercedes-Benz WATER TANKER': 121, 'Kia Rio': 122, 'Man BOCKMANN': 123, 'Lexus GX 470': 124}, 'location': {'unknown': 0, 'Abuja': 1, 'Lagos': 2, 'Lagos ': 3, 'Ogun': 4, 'Mushin': 5, 'Lagos State': 6, 'other': 7, 'Abuja ': 8, 'Arepo ogun state ': 9, 'Ogun State': 10, 'Abia': 11}, 'isimported': {'unknown': 0, 'New ': 1, 'Foreign Used': 2, 'Locally used': 3}, 'engine': {'unknown': 0, '4-cylinder(I4)': 1, '6-cylinder(V6)': 2, '6-cylinder(I6)': 3, '8-cylinder(V8)': 4, '5-cylinder(I5)': 5, '2-cylinder(I2)': 6, '12-cylinder(V12)': 7, '3-cylinder(I3)': 8}, 'transmission': {'unknown': 0, 'automatic': 1, 'manual': 2}, 'fuel': {'unknown': 0, 'petrol': 1, 'diesel': 2}, 'paint': {'unknown': 0, 'White': 1, 'Black': 2, 'Dark Grey': 3, 'Red': 4, 'Silver': 5, 'white': 6, 'Blue': 7, 'Gray': 8, 'Grey': 9, 'Gold': 10, 'Green': 11, 'Silver ': 12, 'Sliver ': 13, 'Gold ': 14, 'Black ': 15, 'Cream': 16, 'Brown': 17, 'black': 18, 'Yellow': 19, 'Cream ': 20, 'Dark Green': 21, 'White and green': 22, 'Grey ': 23, 'Light Grey': 24, 'Maroon': 25, 'Wine': 26, 'Ash': 27, 'GOLD': 28, 'Blac': 29, 'Dark Blue': 30, 'Dark Ash': 31, 'green': 32, 'Sliver': 33, 'Golf': 34, 'BLACK': 35, 'Dark blue ': 36, 'Blue ': 37, 'blue': 38, 'Navy blue': 39, 'Indigo ink pearl': 40, '  Brown': 41, 'Grey and black': 42, 'Green ': 43, 'Classic Silver Met(1F7)': 44, 'Beige': 45, 'Mint green': 46}}\n"
     ]
    },
    {
     "data": {
      "text/plain": "   title  odometer  location  isimported  engine  transmission  fuel  paint  \\\n0      1      1234         1           1       1             1     1      1   \n1      2     29938         1           2       1             1     1      1   \n2      3     87501         2           2       1             1     1      2   \n3      4    180894         2           3       2             1     1      3   \n4      5    104814         2           2       1             1     1      1   \n\n   year  \n0  2017  \n1  2013  \n2  2012  \n3  2001  \n4  2000  ",
      "text/html": "<div>\n<style scoped>\n    .dataframe tbody tr th:only-of-type {\n        vertical-align: middle;\n    }\n\n    .dataframe tbody tr th {\n        vertical-align: top;\n    }\n\n    .dataframe thead th {\n        text-align: right;\n    }\n</style>\n<table border=\"1\" class=\"dataframe\">\n  <thead>\n    <tr style=\"text-align: right;\">\n      <th></th>\n      <th>title</th>\n      <th>odometer</th>\n      <th>location</th>\n      <th>isimported</th>\n      <th>engine</th>\n      <th>transmission</th>\n      <th>fuel</th>\n      <th>paint</th>\n      <th>year</th>\n    </tr>\n  </thead>\n  <tbody>\n    <tr>\n      <th>0</th>\n      <td>1</td>\n      <td>1234</td>\n      <td>1</td>\n      <td>1</td>\n      <td>1</td>\n      <td>1</td>\n      <td>1</td>\n      <td>1</td>\n      <td>2017</td>\n    </tr>\n    <tr>\n      <th>1</th>\n      <td>2</td>\n      <td>29938</td>\n      <td>1</td>\n      <td>2</td>\n      <td>1</td>\n      <td>1</td>\n      <td>1</td>\n      <td>1</td>\n      <td>2013</td>\n    </tr>\n    <tr>\n      <th>2</th>\n      <td>3</td>\n      <td>87501</td>\n      <td>2</td>\n      <td>2</td>\n      <td>1</td>\n      <td>1</td>\n      <td>1</td>\n      <td>2</td>\n      <td>2012</td>\n    </tr>\n    <tr>\n      <th>3</th>\n      <td>4</td>\n      <td>180894</td>\n      <td>2</td>\n      <td>3</td>\n      <td>2</td>\n      <td>1</td>\n      <td>1</td>\n      <td>3</td>\n      <td>2001</td>\n    </tr>\n    <tr>\n      <th>4</th>\n      <td>5</td>\n      <td>104814</td>\n      <td>2</td>\n      <td>2</td>\n      <td>1</td>\n      <td>1</td>\n      <td>1</td>\n      <td>1</td>\n      <td>2000</td>\n    </tr>\n  </tbody>\n</table>\n</div>"
     },
     "execution_count": 10,
     "metadata": {},
     "output_type": "execute_result"
    }
   ],
   "source": [
    "le = make_label_map(test)\n",
    "test = label_encoder(test, le)\n",
    "test.head()"
   ],
   "metadata": {
    "collapsed": false,
    "pycharm": {
     "name": "#%%\n"
    }
   }
  }
 ],
 "metadata": {
  "kernelspec": {
   "display_name": "Python 3",
   "language": "python",
   "name": "python3"
  },
  "language_info": {
   "codemirror_mode": {
    "name": "ipython",
    "version": 2
   },
   "file_extension": ".py",
   "mimetype": "text/x-python",
   "name": "python",
   "nbconvert_exporter": "python",
   "pygments_lexer": "ipython2",
   "version": "2.7.6"
  }
 },
 "nbformat": 4,
 "nbformat_minor": 0
}