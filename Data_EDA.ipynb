{
 "cells": [
  {
   "cell_type": "code",
   "execution_count": 1,
   "metadata": {
    "collapsed": true,
    "pycharm": {
     "name": "#%%\n"
    }
   },
   "outputs": [
    {
     "data": {
      "text/plain": "   id                          title  odometer location    isimported  \\\n0   0                   Toyota RAV 4     18277   Lagos   Foreign Used   \n1   1            Toyota Land Cruiser        10    Lagos          New    \n2   2  Land Rover Range Rover Evoque     83091    Lagos  Foreign Used   \n3   3                   Lexus ES 350     91524    Lagos  Foreign Used   \n4   4                   Toyota Venza     94177    Lagos  Foreign Used   \n\n           engine transmission    fuel  paint  year    target  \n0  4-cylinder(I4)    automatic  petrol    Red  2016  13665000  \n1  4-cylinder(I4)    automatic  petrol  Black  2019  33015000  \n2  6-cylinder(V6)    automatic  petrol    Red  2012   9915000  \n3  4-cylinder(I4)    automatic  petrol   Gray  2007   3815000  \n4  6-cylinder(V6)    automatic  petrol    Red  2010   7385000  ",
      "text/html": "<div>\n<style scoped>\n    .dataframe tbody tr th:only-of-type {\n        vertical-align: middle;\n    }\n\n    .dataframe tbody tr th {\n        vertical-align: top;\n    }\n\n    .dataframe thead th {\n        text-align: right;\n    }\n</style>\n<table border=\"1\" class=\"dataframe\">\n  <thead>\n    <tr style=\"text-align: right;\">\n      <th></th>\n      <th>id</th>\n      <th>title</th>\n      <th>odometer</th>\n      <th>location</th>\n      <th>isimported</th>\n      <th>engine</th>\n      <th>transmission</th>\n      <th>fuel</th>\n      <th>paint</th>\n      <th>year</th>\n      <th>target</th>\n    </tr>\n  </thead>\n  <tbody>\n    <tr>\n      <th>0</th>\n      <td>0</td>\n      <td>Toyota RAV 4</td>\n      <td>18277</td>\n      <td>Lagos</td>\n      <td>Foreign Used</td>\n      <td>4-cylinder(I4)</td>\n      <td>automatic</td>\n      <td>petrol</td>\n      <td>Red</td>\n      <td>2016</td>\n      <td>13665000</td>\n    </tr>\n    <tr>\n      <th>1</th>\n      <td>1</td>\n      <td>Toyota Land Cruiser</td>\n      <td>10</td>\n      <td>Lagos</td>\n      <td>New</td>\n      <td>4-cylinder(I4)</td>\n      <td>automatic</td>\n      <td>petrol</td>\n      <td>Black</td>\n      <td>2019</td>\n      <td>33015000</td>\n    </tr>\n    <tr>\n      <th>2</th>\n      <td>2</td>\n      <td>Land Rover Range Rover Evoque</td>\n      <td>83091</td>\n      <td>Lagos</td>\n      <td>Foreign Used</td>\n      <td>6-cylinder(V6)</td>\n      <td>automatic</td>\n      <td>petrol</td>\n      <td>Red</td>\n      <td>2012</td>\n      <td>9915000</td>\n    </tr>\n    <tr>\n      <th>3</th>\n      <td>3</td>\n      <td>Lexus ES 350</td>\n      <td>91524</td>\n      <td>Lagos</td>\n      <td>Foreign Used</td>\n      <td>4-cylinder(I4)</td>\n      <td>automatic</td>\n      <td>petrol</td>\n      <td>Gray</td>\n      <td>2007</td>\n      <td>3815000</td>\n    </tr>\n    <tr>\n      <th>4</th>\n      <td>4</td>\n      <td>Toyota Venza</td>\n      <td>94177</td>\n      <td>Lagos</td>\n      <td>Foreign Used</td>\n      <td>6-cylinder(V6)</td>\n      <td>automatic</td>\n      <td>petrol</td>\n      <td>Red</td>\n      <td>2010</td>\n      <td>7385000</td>\n    </tr>\n  </tbody>\n</table>\n</div>"
     },
     "execution_count": 1,
     "metadata": {},
     "output_type": "execute_result"
    }
   ],
   "source": [
    "# This is file for data EDA\n",
    "\n",
    "import pandas as pd\n",
    "dirpath = 'C:/Users/rihot/Desktop/Deep_learning/DACON_used_car_price/'\n",
    "\n",
    "train = pd.read_csv('data/train.csv')\n",
    "test = pd.read_csv('data/test.csv')\n",
    "\n",
    "train.head()    # check the data feature"
   ]
  },
  {
   "cell_type": "code",
   "execution_count": 3,
   "outputs": [
    {
     "name": "stdout",
     "output_type": "stream",
     "text": [
      "(1015, 11) (436, 10)\n"
     ]
    }
   ],
   "source": [
    "print(train.shape, test.shape)  # missing 1 column could be 'price'"
   ],
   "metadata": {
    "collapsed": false,
    "pycharm": {
     "name": "#%%\n"
    }
   }
  },
  {
   "cell_type": "code",
   "execution_count": null,
   "outputs": [],
   "source": [],
   "metadata": {
    "collapsed": false,
    "pycharm": {
     "name": "#%%\n"
    }
   }
  }
 ],
 "metadata": {
  "kernelspec": {
   "display_name": "Python 3",
   "language": "python",
   "name": "python3"
  },
  "language_info": {
   "codemirror_mode": {
    "name": "ipython",
    "version": 2
   },
   "file_extension": ".py",
   "mimetype": "text/x-python",
   "name": "python",
   "nbconvert_exporter": "python",
   "pygments_lexer": "ipython2",
   "version": "2.7.6"
  }
 },
 "nbformat": 4,
 "nbformat_minor": 0
}